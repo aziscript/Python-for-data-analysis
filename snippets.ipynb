{
 "cells": [
  {
   "cell_type": "markdown",
   "id": "11d9bfc3-1985-42be-8ebd-417a47020e06",
   "metadata": {},
   "source": [
    "## Saving dataset from Datacamp"
   ]
  },
  {
   "cell_type": "code",
   "execution_count": null,
   "id": "3fef21ce-4936-49e9-afce-c87b23763d37",
   "metadata": {},
   "outputs": [],
   "source": [
    "salaries.to_csv(\"salaries.csv\", index=False)"
   ]
  },
  {
   "cell_type": "code",
   "execution_count": null,
   "id": "cab04763-2787-4e24-863e-5b6853ec717b",
   "metadata": {},
   "outputs": [],
   "source": [
    "iron_2_actors.to_csv(\"iron_2_actors.csv\", index=False)"
   ]
  },
  {
   "cell_type": "code",
   "execution_count": null,
   "id": "06b9620e-e0df-4754-ac2d-80af8c990e85",
   "metadata": {},
   "outputs": [],
   "source": [
    "with open(\"iron_2_actors.csv\", \"r\") as file:\n",
    "    print(file.read())"
   ]
  },
  {
   "cell_type": "code",
   "execution_count": null,
   "id": "0d0a7312-cabb-426e-862b-e2d4dc7d63bf",
   "metadata": {},
   "outputs": [],
   "source": [
    "genres.to_csv(\"genres.csv\", index=False)"
   ]
  },
  {
   "cell_type": "code",
   "execution_count": null,
   "id": "94ebc4d1-b0af-4034-8c37-c1a7077686e8",
   "metadata": {},
   "outputs": [],
   "source": [
    "with open(\"genres.csv\", \"r\") as file:\n",
    "    print(file.read())"
   ]
  },
  {
   "cell_type": "code",
   "execution_count": null,
   "id": "16cd8f1f-2115-4e02-954a-27fe1b3f3010",
   "metadata": {},
   "outputs": [],
   "source": [
    "non_mus_tcks.to_csv(\"non_mus_tcks.csv\", index=False)"
   ]
  },
  {
   "cell_type": "code",
   "execution_count": null,
   "id": "94ece53f-74e2-48a3-8abe-fa5b37127a42",
   "metadata": {},
   "outputs": [],
   "source": [
    "with open(\"non_mus_tcks.csv\", \"r\") as file:\n",
    "    print(file.read())"
   ]
  },
  {
   "cell_type": "code",
   "execution_count": null,
   "id": "178b9f7c-46a4-4ae6-af7a-9bd7d83ca073",
   "metadata": {},
   "outputs": [],
   "source": [
    "top_invoices.to_csv(\"top_invoices.csv\", index=False)"
   ]
  },
  {
   "cell_type": "code",
   "execution_count": null,
   "id": "e775a663-a71f-49c8-843a-cb2d01fb729a",
   "metadata": {},
   "outputs": [],
   "source": [
    "with open(\"top_invoices.csv\", \"r\") as file:\n",
    "    print(file.read())"
   ]
  },
  {
   "cell_type": "markdown",
   "id": "d3c46de0-dcb5-4849-af56-ba70f2426ac6",
   "metadata": {},
   "source": [
    "## Importing packages"
   ]
  },
  {
   "cell_type": "code",
   "execution_count": 76,
   "id": "ad956ed7-96f3-45d9-9ecb-7496006ad3bb",
   "metadata": {},
   "outputs": [],
   "source": [
    "import pandas as pd\n",
    "import numpy as np\n",
    "import matplotlib.pyplot as plt\n",
    "import seaborn as sns\n",
    "from jupyter_datatables import init_datatables_mode\n",
    "from ydata_profiling import ProfileReport"
   ]
  },
  {
   "cell_type": "code",
   "execution_count": 80,
   "id": "74d8f210-8179-4dfc-9a7e-823979894496",
   "metadata": {},
   "outputs": [],
   "source": [
    "from scipy.stats import binom\n",
    "from scipy.stats import uniform\n",
    "from scipy.stats import norm\n",
    "from scipy.stats import poisson"
   ]
  },
  {
   "cell_type": "raw",
   "id": "a65581e3-46c3-410d-99e0-b7e0a8c5599f",
   "metadata": {},
   "source": [
    "profile = ProfileReport(spotify_mysterious_sample2, title=\"Data Profile\", explorative=True)\n",
    "profile.to_notebook_iframe()"
   ]
  },
  {
   "cell_type": "raw",
   "id": "2719e50d-dd12-4ea4-ab4a-74db784ba443",
   "metadata": {},
   "source": [
    "!pip show jupyter_datatables jupyter_require"
   ]
  },
  {
   "cell_type": "raw",
   "id": "bbf40e4e-8a36-43b2-828a-4ea2949ae9b9",
   "metadata": {},
   "source": [
    "from jupyter_require import require\n",
    "require.config({\n",
    "    'paths': {\n",
    "        'd3': 'https://d3js.org/d3.v5.min',\n",
    "        'd3-array': 'https://d3js.org/d3-array.v2.min'\n",
    "    }\n",
    "})"
   ]
  },
  {
   "cell_type": "markdown",
   "id": "6c4ee275-37e6-43e0-beb3-d5722b16ca89",
   "metadata": {},
   "source": [
    "## Using .select_dtypes()"
   ]
  },
  {
   "cell_type": "code",
   "execution_count": 3,
   "id": "5a0d880e-8895-4d33-a9cd-1add660c2bee",
   "metadata": {},
   "outputs": [
    {
     "name": "stdout",
     "output_type": "stream",
     "text": [
      "Full DataFrame:\n"
     ]
    },
    {
     "data": {
      "text/html": [
       "<div>\n",
       "<style scoped>\n",
       "    .dataframe tbody tr th:only-of-type {\n",
       "        vertical-align: middle;\n",
       "    }\n",
       "\n",
       "    .dataframe tbody tr th {\n",
       "        vertical-align: top;\n",
       "    }\n",
       "\n",
       "    .dataframe thead th {\n",
       "        text-align: right;\n",
       "    }\n",
       "</style>\n",
       "<table border=\"1\" class=\"dataframe\">\n",
       "  <thead>\n",
       "    <tr style=\"text-align: right;\">\n",
       "      <th></th>\n",
       "      <th>ID</th>\n",
       "      <th>Name</th>\n",
       "      <th>Age</th>\n",
       "      <th>Height</th>\n",
       "      <th>Weight</th>\n",
       "      <th>Is_Student</th>\n",
       "      <th>Gender</th>\n",
       "      <th>Enrollment_Date</th>\n",
       "      <th>Score</th>\n",
       "      <th>Remarks</th>\n",
       "    </tr>\n",
       "  </thead>\n",
       "  <tbody>\n",
       "    <tr>\n",
       "      <th>0</th>\n",
       "      <td>101</td>\n",
       "      <td>Alice</td>\n",
       "      <td>25</td>\n",
       "      <td>5.5</td>\n",
       "      <td>55.2</td>\n",
       "      <td>True</td>\n",
       "      <td>F</td>\n",
       "      <td>2023-01-01</td>\n",
       "      <td>NaN</td>\n",
       "      <td>None</td>\n",
       "    </tr>\n",
       "    <tr>\n",
       "      <th>1</th>\n",
       "      <td>102</td>\n",
       "      <td>Bob</td>\n",
       "      <td>30</td>\n",
       "      <td>6.0</td>\n",
       "      <td>78.5</td>\n",
       "      <td>False</td>\n",
       "      <td>M</td>\n",
       "      <td>2022-09-15</td>\n",
       "      <td>88.5</td>\n",
       "      <td>Excellent</td>\n",
       "    </tr>\n",
       "    <tr>\n",
       "      <th>2</th>\n",
       "      <td>103</td>\n",
       "      <td>Charlie</td>\n",
       "      <td>22</td>\n",
       "      <td>5.7</td>\n",
       "      <td>60.0</td>\n",
       "      <td>True</td>\n",
       "      <td>M</td>\n",
       "      <td>2021-06-10</td>\n",
       "      <td>92.3</td>\n",
       "      <td>Good</td>\n",
       "    </tr>\n",
       "    <tr>\n",
       "      <th>3</th>\n",
       "      <td>104</td>\n",
       "      <td>Diana</td>\n",
       "      <td>28</td>\n",
       "      <td>5.8</td>\n",
       "      <td>62.3</td>\n",
       "      <td>False</td>\n",
       "      <td>F</td>\n",
       "      <td>2020-11-20</td>\n",
       "      <td>NaN</td>\n",
       "      <td>Average</td>\n",
       "    </tr>\n",
       "    <tr>\n",
       "      <th>4</th>\n",
       "      <td>105</td>\n",
       "      <td>Ethan</td>\n",
       "      <td>35</td>\n",
       "      <td>6.1</td>\n",
       "      <td>80.1</td>\n",
       "      <td>False</td>\n",
       "      <td>M</td>\n",
       "      <td>2023-03-03</td>\n",
       "      <td>85.0</td>\n",
       "      <td>Excellent</td>\n",
       "    </tr>\n",
       "  </tbody>\n",
       "</table>\n",
       "</div>"
      ],
      "text/plain": [
       "    ID     Name  Age  Height  Weight  Is_Student Gender Enrollment_Date  \\\n",
       "0  101    Alice   25     5.5    55.2        True      F      2023-01-01   \n",
       "1  102      Bob   30     6.0    78.5       False      M      2022-09-15   \n",
       "2  103  Charlie   22     5.7    60.0        True      M      2021-06-10   \n",
       "3  104    Diana   28     5.8    62.3       False      F      2020-11-20   \n",
       "4  105    Ethan   35     6.1    80.1       False      M      2023-03-03   \n",
       "\n",
       "   Score    Remarks  \n",
       "0    NaN       None  \n",
       "1   88.5  Excellent  \n",
       "2   92.3       Good  \n",
       "3    NaN    Average  \n",
       "4   85.0  Excellent  "
      ]
     },
     "execution_count": 3,
     "metadata": {},
     "output_type": "execute_result"
    }
   ],
   "source": [
    "import pandas as pd\n",
    "import numpy as np\n",
    "\n",
    "# Create a sample DataFrame with various data types\n",
    "data = {\n",
    "    'ID': [101, 102, 103, 104, 105],\n",
    "    'Name': ['Alice', 'Bob', 'Charlie', 'Diana', 'Ethan'],\n",
    "    'Age': [25, 30, 22, 28, 35],\n",
    "    'Height': [5.5, 6.0, 5.7, 5.8, 6.1],\n",
    "    'Weight': [55.2, 78.5, 60.0, 62.3, 80.1],\n",
    "    'Is_Student': [True, False, True, False, False],\n",
    "    'Gender': ['F', 'M', 'M', 'F', 'M'],\n",
    "    'Enrollment_Date': pd.to_datetime(['2023-01-01', '2022-09-15', '2021-06-10', '2020-11-20', '2023-03-03']),\n",
    "    'Score': [np.nan, 88.5, 92.3, np.nan, 85.0],\n",
    "    'Remarks': [None, 'Excellent', 'Good', 'Average', 'Excellent']\n",
    "}\n",
    "\n",
    "df = pd.DataFrame(data)\n",
    "\n",
    "print(\"Full DataFrame:\")\n",
    "df"
   ]
  },
  {
   "cell_type": "code",
   "execution_count": 7,
   "id": "96fe289f-2822-422d-b0b1-1d0dbd70f115",
   "metadata": {},
   "outputs": [
    {
     "name": "stdout",
     "output_type": "stream",
     "text": [
      "\n",
      "Numeric Columns:\n"
     ]
    },
    {
     "data": {
      "text/html": [
       "<div>\n",
       "<style scoped>\n",
       "    .dataframe tbody tr th:only-of-type {\n",
       "        vertical-align: middle;\n",
       "    }\n",
       "\n",
       "    .dataframe tbody tr th {\n",
       "        vertical-align: top;\n",
       "    }\n",
       "\n",
       "    .dataframe thead th {\n",
       "        text-align: right;\n",
       "    }\n",
       "</style>\n",
       "<table border=\"1\" class=\"dataframe\">\n",
       "  <thead>\n",
       "    <tr style=\"text-align: right;\">\n",
       "      <th></th>\n",
       "      <th>ID</th>\n",
       "      <th>Age</th>\n",
       "      <th>Height</th>\n",
       "      <th>Weight</th>\n",
       "      <th>Score</th>\n",
       "    </tr>\n",
       "  </thead>\n",
       "  <tbody>\n",
       "    <tr>\n",
       "      <th>0</th>\n",
       "      <td>101</td>\n",
       "      <td>25</td>\n",
       "      <td>5.5</td>\n",
       "      <td>55.2</td>\n",
       "      <td>NaN</td>\n",
       "    </tr>\n",
       "    <tr>\n",
       "      <th>1</th>\n",
       "      <td>102</td>\n",
       "      <td>30</td>\n",
       "      <td>6.0</td>\n",
       "      <td>78.5</td>\n",
       "      <td>88.5</td>\n",
       "    </tr>\n",
       "    <tr>\n",
       "      <th>2</th>\n",
       "      <td>103</td>\n",
       "      <td>22</td>\n",
       "      <td>5.7</td>\n",
       "      <td>60.0</td>\n",
       "      <td>92.3</td>\n",
       "    </tr>\n",
       "    <tr>\n",
       "      <th>3</th>\n",
       "      <td>104</td>\n",
       "      <td>28</td>\n",
       "      <td>5.8</td>\n",
       "      <td>62.3</td>\n",
       "      <td>NaN</td>\n",
       "    </tr>\n",
       "    <tr>\n",
       "      <th>4</th>\n",
       "      <td>105</td>\n",
       "      <td>35</td>\n",
       "      <td>6.1</td>\n",
       "      <td>80.1</td>\n",
       "      <td>85.0</td>\n",
       "    </tr>\n",
       "  </tbody>\n",
       "</table>\n",
       "</div>"
      ],
      "text/plain": [
       "    ID  Age  Height  Weight  Score\n",
       "0  101   25     5.5    55.2    NaN\n",
       "1  102   30     6.0    78.5   88.5\n",
       "2  103   22     5.7    60.0   92.3\n",
       "3  104   28     5.8    62.3    NaN\n",
       "4  105   35     6.1    80.1   85.0"
      ]
     },
     "execution_count": 7,
     "metadata": {},
     "output_type": "execute_result"
    }
   ],
   "source": [
    "# Select only numeric columns (int and float)\n",
    "numeric_df = df.select_dtypes(include='number')\n",
    "print(\"\\nNumeric Columns:\")\n",
    "numeric_df"
   ]
  },
  {
   "cell_type": "code",
   "execution_count": 9,
   "id": "392fdd76-8ab9-449a-ae6c-7afbd8fe2adf",
   "metadata": {},
   "outputs": [
    {
     "name": "stdout",
     "output_type": "stream",
     "text": [
      "\n",
      "Object (string-like) Columns:\n"
     ]
    },
    {
     "data": {
      "text/html": [
       "<div>\n",
       "<style scoped>\n",
       "    .dataframe tbody tr th:only-of-type {\n",
       "        vertical-align: middle;\n",
       "    }\n",
       "\n",
       "    .dataframe tbody tr th {\n",
       "        vertical-align: top;\n",
       "    }\n",
       "\n",
       "    .dataframe thead th {\n",
       "        text-align: right;\n",
       "    }\n",
       "</style>\n",
       "<table border=\"1\" class=\"dataframe\">\n",
       "  <thead>\n",
       "    <tr style=\"text-align: right;\">\n",
       "      <th></th>\n",
       "      <th>Name</th>\n",
       "      <th>Gender</th>\n",
       "      <th>Remarks</th>\n",
       "    </tr>\n",
       "  </thead>\n",
       "  <tbody>\n",
       "    <tr>\n",
       "      <th>0</th>\n",
       "      <td>Alice</td>\n",
       "      <td>F</td>\n",
       "      <td>None</td>\n",
       "    </tr>\n",
       "    <tr>\n",
       "      <th>1</th>\n",
       "      <td>Bob</td>\n",
       "      <td>M</td>\n",
       "      <td>Excellent</td>\n",
       "    </tr>\n",
       "    <tr>\n",
       "      <th>2</th>\n",
       "      <td>Charlie</td>\n",
       "      <td>M</td>\n",
       "      <td>Good</td>\n",
       "    </tr>\n",
       "    <tr>\n",
       "      <th>3</th>\n",
       "      <td>Diana</td>\n",
       "      <td>F</td>\n",
       "      <td>Average</td>\n",
       "    </tr>\n",
       "    <tr>\n",
       "      <th>4</th>\n",
       "      <td>Ethan</td>\n",
       "      <td>M</td>\n",
       "      <td>Excellent</td>\n",
       "    </tr>\n",
       "  </tbody>\n",
       "</table>\n",
       "</div>"
      ],
      "text/plain": [
       "      Name Gender    Remarks\n",
       "0    Alice      F       None\n",
       "1      Bob      M  Excellent\n",
       "2  Charlie      M       Good\n",
       "3    Diana      F    Average\n",
       "4    Ethan      M  Excellent"
      ]
     },
     "execution_count": 9,
     "metadata": {},
     "output_type": "execute_result"
    }
   ],
   "source": [
    "# Select only object (string-like) columns\n",
    "object_df = df.select_dtypes(include='object')\n",
    "print(\"\\nObject (string-like) Columns:\")\n",
    "object_df"
   ]
  },
  {
   "cell_type": "code",
   "execution_count": 11,
   "id": "ab5168ff-bffb-4293-833f-aac845d42f49",
   "metadata": {},
   "outputs": [
    {
     "name": "stdout",
     "output_type": "stream",
     "text": [
      "\n",
      "Boolean Columns:\n"
     ]
    },
    {
     "data": {
      "text/html": [
       "<div>\n",
       "<style scoped>\n",
       "    .dataframe tbody tr th:only-of-type {\n",
       "        vertical-align: middle;\n",
       "    }\n",
       "\n",
       "    .dataframe tbody tr th {\n",
       "        vertical-align: top;\n",
       "    }\n",
       "\n",
       "    .dataframe thead th {\n",
       "        text-align: right;\n",
       "    }\n",
       "</style>\n",
       "<table border=\"1\" class=\"dataframe\">\n",
       "  <thead>\n",
       "    <tr style=\"text-align: right;\">\n",
       "      <th></th>\n",
       "      <th>Is_Student</th>\n",
       "    </tr>\n",
       "  </thead>\n",
       "  <tbody>\n",
       "    <tr>\n",
       "      <th>0</th>\n",
       "      <td>True</td>\n",
       "    </tr>\n",
       "    <tr>\n",
       "      <th>1</th>\n",
       "      <td>False</td>\n",
       "    </tr>\n",
       "    <tr>\n",
       "      <th>2</th>\n",
       "      <td>True</td>\n",
       "    </tr>\n",
       "    <tr>\n",
       "      <th>3</th>\n",
       "      <td>False</td>\n",
       "    </tr>\n",
       "    <tr>\n",
       "      <th>4</th>\n",
       "      <td>False</td>\n",
       "    </tr>\n",
       "  </tbody>\n",
       "</table>\n",
       "</div>"
      ],
      "text/plain": [
       "   Is_Student\n",
       "0        True\n",
       "1       False\n",
       "2        True\n",
       "3       False\n",
       "4       False"
      ]
     },
     "execution_count": 11,
     "metadata": {},
     "output_type": "execute_result"
    }
   ],
   "source": [
    "# Select boolean columns\n",
    "bool_df = df.select_dtypes(include='bool')\n",
    "print(\"\\nBoolean Columns:\")\n",
    "bool_df"
   ]
  },
  {
   "cell_type": "code",
   "execution_count": 13,
   "id": "696322be-13d8-4156-9e5d-1d16a719b933",
   "metadata": {},
   "outputs": [
    {
     "name": "stdout",
     "output_type": "stream",
     "text": [
      "\n",
      "Datetime Columns:\n"
     ]
    },
    {
     "data": {
      "text/html": [
       "<div>\n",
       "<style scoped>\n",
       "    .dataframe tbody tr th:only-of-type {\n",
       "        vertical-align: middle;\n",
       "    }\n",
       "\n",
       "    .dataframe tbody tr th {\n",
       "        vertical-align: top;\n",
       "    }\n",
       "\n",
       "    .dataframe thead th {\n",
       "        text-align: right;\n",
       "    }\n",
       "</style>\n",
       "<table border=\"1\" class=\"dataframe\">\n",
       "  <thead>\n",
       "    <tr style=\"text-align: right;\">\n",
       "      <th></th>\n",
       "      <th>Enrollment_Date</th>\n",
       "    </tr>\n",
       "  </thead>\n",
       "  <tbody>\n",
       "    <tr>\n",
       "      <th>0</th>\n",
       "      <td>2023-01-01</td>\n",
       "    </tr>\n",
       "    <tr>\n",
       "      <th>1</th>\n",
       "      <td>2022-09-15</td>\n",
       "    </tr>\n",
       "    <tr>\n",
       "      <th>2</th>\n",
       "      <td>2021-06-10</td>\n",
       "    </tr>\n",
       "    <tr>\n",
       "      <th>3</th>\n",
       "      <td>2020-11-20</td>\n",
       "    </tr>\n",
       "    <tr>\n",
       "      <th>4</th>\n",
       "      <td>2023-03-03</td>\n",
       "    </tr>\n",
       "  </tbody>\n",
       "</table>\n",
       "</div>"
      ],
      "text/plain": [
       "  Enrollment_Date\n",
       "0      2023-01-01\n",
       "1      2022-09-15\n",
       "2      2021-06-10\n",
       "3      2020-11-20\n",
       "4      2023-03-03"
      ]
     },
     "execution_count": 13,
     "metadata": {},
     "output_type": "execute_result"
    }
   ],
   "source": [
    "# Select datetime columns\n",
    "datetime_df = df.select_dtypes(include='datetime')\n",
    "print(\"\\nDatetime Columns:\")\n",
    "datetime_df"
   ]
  },
  {
   "cell_type": "code",
   "execution_count": 15,
   "id": "51dac2c1-5b79-429c-ab5e-dc13e0eabb44",
   "metadata": {},
   "outputs": [
    {
     "data": {
      "text/html": [
       "<div>\n",
       "<style scoped>\n",
       "    .dataframe tbody tr th:only-of-type {\n",
       "        vertical-align: middle;\n",
       "    }\n",
       "\n",
       "    .dataframe tbody tr th {\n",
       "        vertical-align: top;\n",
       "    }\n",
       "\n",
       "    .dataframe thead th {\n",
       "        text-align: right;\n",
       "    }\n",
       "</style>\n",
       "<table border=\"1\" class=\"dataframe\">\n",
       "  <thead>\n",
       "    <tr style=\"text-align: right;\">\n",
       "      <th></th>\n",
       "      <th>ID</th>\n",
       "      <th>Age</th>\n",
       "      <th>Height</th>\n",
       "      <th>Weight</th>\n",
       "      <th>Is_Student</th>\n",
       "      <th>Score</th>\n",
       "    </tr>\n",
       "  </thead>\n",
       "  <tbody>\n",
       "    <tr>\n",
       "      <th>0</th>\n",
       "      <td>101</td>\n",
       "      <td>25</td>\n",
       "      <td>5.5</td>\n",
       "      <td>55.2</td>\n",
       "      <td>True</td>\n",
       "      <td>NaN</td>\n",
       "    </tr>\n",
       "    <tr>\n",
       "      <th>1</th>\n",
       "      <td>102</td>\n",
       "      <td>30</td>\n",
       "      <td>6.0</td>\n",
       "      <td>78.5</td>\n",
       "      <td>False</td>\n",
       "      <td>88.5</td>\n",
       "    </tr>\n",
       "    <tr>\n",
       "      <th>2</th>\n",
       "      <td>103</td>\n",
       "      <td>22</td>\n",
       "      <td>5.7</td>\n",
       "      <td>60.0</td>\n",
       "      <td>True</td>\n",
       "      <td>92.3</td>\n",
       "    </tr>\n",
       "    <tr>\n",
       "      <th>3</th>\n",
       "      <td>104</td>\n",
       "      <td>28</td>\n",
       "      <td>5.8</td>\n",
       "      <td>62.3</td>\n",
       "      <td>False</td>\n",
       "      <td>NaN</td>\n",
       "    </tr>\n",
       "    <tr>\n",
       "      <th>4</th>\n",
       "      <td>105</td>\n",
       "      <td>35</td>\n",
       "      <td>6.1</td>\n",
       "      <td>80.1</td>\n",
       "      <td>False</td>\n",
       "      <td>85.0</td>\n",
       "    </tr>\n",
       "  </tbody>\n",
       "</table>\n",
       "</div>"
      ],
      "text/plain": [
       "    ID  Age  Height  Weight  Is_Student  Score\n",
       "0  101   25     5.5    55.2        True    NaN\n",
       "1  102   30     6.0    78.5       False   88.5\n",
       "2  103   22     5.7    60.0        True   92.3\n",
       "3  104   28     5.8    62.3       False    NaN\n",
       "4  105   35     6.1    80.1       False   85.0"
      ]
     },
     "execution_count": 15,
     "metadata": {},
     "output_type": "execute_result"
    }
   ],
   "source": [
    "selected_df = df.select_dtypes(include=['number', 'bool'])\n",
    "selected_df"
   ]
  },
  {
   "cell_type": "markdown",
   "id": "126609b8-a196-43df-93df-f1bce80f06bb",
   "metadata": {},
   "source": [
    "## Using np.select()"
   ]
  },
  {
   "cell_type": "code",
   "execution_count": 19,
   "id": "7c2202e8-89de-4a98-9b60-a580befd7aeb",
   "metadata": {},
   "outputs": [
    {
     "data": {
      "text/html": [
       "<div>\n",
       "<style scoped>\n",
       "    .dataframe tbody tr th:only-of-type {\n",
       "        vertical-align: middle;\n",
       "    }\n",
       "\n",
       "    .dataframe tbody tr th {\n",
       "        vertical-align: top;\n",
       "    }\n",
       "\n",
       "    .dataframe thead th {\n",
       "        text-align: right;\n",
       "    }\n",
       "</style>\n",
       "<table border=\"1\" class=\"dataframe\">\n",
       "  <thead>\n",
       "    <tr style=\"text-align: right;\">\n",
       "      <th></th>\n",
       "      <th>Name</th>\n",
       "      <th>Age</th>\n",
       "    </tr>\n",
       "  </thead>\n",
       "  <tbody>\n",
       "    <tr>\n",
       "      <th>0</th>\n",
       "      <td>Alice</td>\n",
       "      <td>25</td>\n",
       "    </tr>\n",
       "    <tr>\n",
       "      <th>1</th>\n",
       "      <td>Bob</td>\n",
       "      <td>17</td>\n",
       "    </tr>\n",
       "    <tr>\n",
       "      <th>2</th>\n",
       "      <td>Charlie</td>\n",
       "      <td>34</td>\n",
       "    </tr>\n",
       "    <tr>\n",
       "      <th>3</th>\n",
       "      <td>Diana</td>\n",
       "      <td>15</td>\n",
       "    </tr>\n",
       "    <tr>\n",
       "      <th>4</th>\n",
       "      <td>Ethan</td>\n",
       "      <td>45</td>\n",
       "    </tr>\n",
       "  </tbody>\n",
       "</table>\n",
       "</div>"
      ],
      "text/plain": [
       "      Name  Age\n",
       "0    Alice   25\n",
       "1      Bob   17\n",
       "2  Charlie   34\n",
       "3    Diana   15\n",
       "4    Ethan   45"
      ]
     },
     "execution_count": 19,
     "metadata": {},
     "output_type": "execute_result"
    }
   ],
   "source": [
    "import pandas as pd\n",
    "import numpy as np\n",
    "\n",
    "# Sample DataFrame\n",
    "df = pd.DataFrame({\n",
    "    'Name': ['Alice', 'Bob', 'Charlie', 'Diana', 'Ethan'],\n",
    "    'Age': [25, 17, 34, 15, 45]\n",
    "})\n",
    "\n",
    "df"
   ]
  },
  {
   "cell_type": "code",
   "execution_count": 21,
   "id": "d1ae01a9-f5ad-420a-a17a-1ab47707cb90",
   "metadata": {},
   "outputs": [
    {
     "data": {
      "text/html": [
       "<div>\n",
       "<style scoped>\n",
       "    .dataframe tbody tr th:only-of-type {\n",
       "        vertical-align: middle;\n",
       "    }\n",
       "\n",
       "    .dataframe tbody tr th {\n",
       "        vertical-align: top;\n",
       "    }\n",
       "\n",
       "    .dataframe thead th {\n",
       "        text-align: right;\n",
       "    }\n",
       "</style>\n",
       "<table border=\"1\" class=\"dataframe\">\n",
       "  <thead>\n",
       "    <tr style=\"text-align: right;\">\n",
       "      <th></th>\n",
       "      <th>Name</th>\n",
       "      <th>Age</th>\n",
       "      <th>Age_Group</th>\n",
       "    </tr>\n",
       "  </thead>\n",
       "  <tbody>\n",
       "    <tr>\n",
       "      <th>0</th>\n",
       "      <td>Alice</td>\n",
       "      <td>25</td>\n",
       "      <td>Young Adult</td>\n",
       "    </tr>\n",
       "    <tr>\n",
       "      <th>1</th>\n",
       "      <td>Bob</td>\n",
       "      <td>17</td>\n",
       "      <td>Teenager</td>\n",
       "    </tr>\n",
       "    <tr>\n",
       "      <th>2</th>\n",
       "      <td>Charlie</td>\n",
       "      <td>34</td>\n",
       "      <td>Adult</td>\n",
       "    </tr>\n",
       "    <tr>\n",
       "      <th>3</th>\n",
       "      <td>Diana</td>\n",
       "      <td>15</td>\n",
       "      <td>Teenager</td>\n",
       "    </tr>\n",
       "    <tr>\n",
       "      <th>4</th>\n",
       "      <td>Ethan</td>\n",
       "      <td>45</td>\n",
       "      <td>Adult</td>\n",
       "    </tr>\n",
       "  </tbody>\n",
       "</table>\n",
       "</div>"
      ],
      "text/plain": [
       "      Name  Age    Age_Group\n",
       "0    Alice   25  Young Adult\n",
       "1      Bob   17     Teenager\n",
       "2  Charlie   34        Adult\n",
       "3    Diana   15     Teenager\n",
       "4    Ethan   45        Adult"
      ]
     },
     "execution_count": 21,
     "metadata": {},
     "output_type": "execute_result"
    }
   ],
   "source": [
    "# Define conditions\n",
    "conditions = [\n",
    "    df['Age'] < 18,\n",
    "    (df['Age'] >= 18) & (df['Age'] < 30),\n",
    "    df['Age'] >= 30\n",
    "]\n",
    "\n",
    "# Define choices for each condition\n",
    "choices = ['Teenager', 'Young Adult', 'Adult']\n",
    "\n",
    "# Apply np.select\n",
    "df['Age_Group'] = np.select(conditions, choices, default='Unknown')\n",
    "\n",
    "df"
   ]
  },
  {
   "cell_type": "markdown",
   "id": "c3784d18-a266-4bd0-8651-fb2a0c40fc31",
   "metadata": {},
   "source": [
    "## Using np.where()"
   ]
  },
  {
   "cell_type": "code",
   "execution_count": 26,
   "id": "08f12429-4e30-44c4-ad5b-832b0b8b5763",
   "metadata": {},
   "outputs": [
    {
     "data": {
      "text/html": [
       "<div>\n",
       "<style scoped>\n",
       "    .dataframe tbody tr th:only-of-type {\n",
       "        vertical-align: middle;\n",
       "    }\n",
       "\n",
       "    .dataframe tbody tr th {\n",
       "        vertical-align: top;\n",
       "    }\n",
       "\n",
       "    .dataframe thead th {\n",
       "        text-align: right;\n",
       "    }\n",
       "</style>\n",
       "<table border=\"1\" class=\"dataframe\">\n",
       "  <thead>\n",
       "    <tr style=\"text-align: right;\">\n",
       "      <th></th>\n",
       "      <th>Name</th>\n",
       "      <th>Score</th>\n",
       "    </tr>\n",
       "  </thead>\n",
       "  <tbody>\n",
       "    <tr>\n",
       "      <th>0</th>\n",
       "      <td>Alice</td>\n",
       "      <td>85</td>\n",
       "    </tr>\n",
       "    <tr>\n",
       "      <th>1</th>\n",
       "      <td>Bob</td>\n",
       "      <td>40</td>\n",
       "    </tr>\n",
       "    <tr>\n",
       "      <th>2</th>\n",
       "      <td>Charlie</td>\n",
       "      <td>67</td>\n",
       "    </tr>\n",
       "    <tr>\n",
       "      <th>3</th>\n",
       "      <td>Diana</td>\n",
       "      <td>90</td>\n",
       "    </tr>\n",
       "    <tr>\n",
       "      <th>4</th>\n",
       "      <td>Ethan</td>\n",
       "      <td>55</td>\n",
       "    </tr>\n",
       "  </tbody>\n",
       "</table>\n",
       "</div>"
      ],
      "text/plain": [
       "      Name  Score\n",
       "0    Alice     85\n",
       "1      Bob     40\n",
       "2  Charlie     67\n",
       "3    Diana     90\n",
       "4    Ethan     55"
      ]
     },
     "execution_count": 26,
     "metadata": {},
     "output_type": "execute_result"
    }
   ],
   "source": [
    "import pandas as pd\n",
    "import numpy as np\n",
    "\n",
    "# Sample DataFrame\n",
    "df = pd.DataFrame({\n",
    "    'Name': ['Alice', 'Bob', 'Charlie', 'Diana', 'Ethan'],\n",
    "    'Score': [85, 40, 67, 90, 55]\n",
    "})\n",
    "\n",
    "df"
   ]
  },
  {
   "cell_type": "code",
   "execution_count": 28,
   "id": "eb970ada-320c-4ead-bd27-c658aee0dd2b",
   "metadata": {},
   "outputs": [
    {
     "name": "stdout",
     "output_type": "stream",
     "text": [
      "      Name  Score Result\n",
      "0    Alice     85   Pass\n",
      "1      Bob     40   Fail\n",
      "2  Charlie     67   Pass\n",
      "3    Diana     90   Pass\n",
      "4    Ethan     55   Fail\n"
     ]
    }
   ],
   "source": [
    "# Apply np.where: If score >= 60, then 'Pass', else 'Fail'\n",
    "df['Result'] = np.where(df['Score'] >= 60, 'Pass', 'Fail')\n",
    "\n",
    "print(df)"
   ]
  },
  {
   "cell_type": "markdown",
   "id": "4753ff10-7243-4b5c-a316-706e2331ada7",
   "metadata": {},
   "source": [
    "## Using .map()"
   ]
  },
  {
   "cell_type": "code",
   "execution_count": 31,
   "id": "798922d9-047f-4a91-a413-cbe4cb045b44",
   "metadata": {},
   "outputs": [
    {
     "data": {
      "text/html": [
       "<div>\n",
       "<style scoped>\n",
       "    .dataframe tbody tr th:only-of-type {\n",
       "        vertical-align: middle;\n",
       "    }\n",
       "\n",
       "    .dataframe tbody tr th {\n",
       "        vertical-align: top;\n",
       "    }\n",
       "\n",
       "    .dataframe thead th {\n",
       "        text-align: right;\n",
       "    }\n",
       "</style>\n",
       "<table border=\"1\" class=\"dataframe\">\n",
       "  <thead>\n",
       "    <tr style=\"text-align: right;\">\n",
       "      <th></th>\n",
       "      <th>Name</th>\n",
       "      <th>Gender</th>\n",
       "    </tr>\n",
       "  </thead>\n",
       "  <tbody>\n",
       "    <tr>\n",
       "      <th>0</th>\n",
       "      <td>Alice</td>\n",
       "      <td>F</td>\n",
       "    </tr>\n",
       "    <tr>\n",
       "      <th>1</th>\n",
       "      <td>Bob</td>\n",
       "      <td>M</td>\n",
       "    </tr>\n",
       "    <tr>\n",
       "      <th>2</th>\n",
       "      <td>Charlie</td>\n",
       "      <td>M</td>\n",
       "    </tr>\n",
       "    <tr>\n",
       "      <th>3</th>\n",
       "      <td>Diana</td>\n",
       "      <td>F</td>\n",
       "    </tr>\n",
       "    <tr>\n",
       "      <th>4</th>\n",
       "      <td>Ethan</td>\n",
       "      <td>M</td>\n",
       "    </tr>\n",
       "  </tbody>\n",
       "</table>\n",
       "</div>"
      ],
      "text/plain": [
       "      Name Gender\n",
       "0    Alice      F\n",
       "1      Bob      M\n",
       "2  Charlie      M\n",
       "3    Diana      F\n",
       "4    Ethan      M"
      ]
     },
     "execution_count": 31,
     "metadata": {},
     "output_type": "execute_result"
    }
   ],
   "source": [
    "import pandas as pd\n",
    "\n",
    "# Sample DataFrame\n",
    "df = pd.DataFrame({\n",
    "    'Name': ['Alice', 'Bob', 'Charlie', 'Diana', 'Ethan'],\n",
    "    'Gender': ['F', 'M', 'M', 'F', 'M']\n",
    "})\n",
    "\n",
    "df"
   ]
  },
  {
   "cell_type": "code",
   "execution_count": 33,
   "id": "9127a0d4-155e-4bc4-942b-690fd2af8314",
   "metadata": {},
   "outputs": [
    {
     "name": "stdout",
     "output_type": "stream",
     "text": [
      "      Name Gender Gender_Full\n",
      "0    Alice      F      Female\n",
      "1      Bob      M        Male\n",
      "2  Charlie      M        Male\n",
      "3    Diana      F      Female\n",
      "4    Ethan      M        Male\n"
     ]
    }
   ],
   "source": [
    "# Map shorthand gender to full form\n",
    "gender_map = {'M': 'Male', 'F': 'Female'}\n",
    "df['Gender_Full'] = df['Gender'].map(gender_map)\n",
    "\n",
    "print(df)"
   ]
  },
  {
   "cell_type": "markdown",
   "id": "255ceaaf-cb9d-44dd-9cd2-5ea3d5735a70",
   "metadata": {},
   "source": [
    "## Using .query()"
   ]
  },
  {
   "cell_type": "code",
   "execution_count": 38,
   "id": "411465bc-19a0-409e-b867-e30df9929e1f",
   "metadata": {},
   "outputs": [
    {
     "data": {
      "text/html": [
       "<div>\n",
       "<style scoped>\n",
       "    .dataframe tbody tr th:only-of-type {\n",
       "        vertical-align: middle;\n",
       "    }\n",
       "\n",
       "    .dataframe tbody tr th {\n",
       "        vertical-align: top;\n",
       "    }\n",
       "\n",
       "    .dataframe thead th {\n",
       "        text-align: right;\n",
       "    }\n",
       "</style>\n",
       "<table border=\"1\" class=\"dataframe\">\n",
       "  <thead>\n",
       "    <tr style=\"text-align: right;\">\n",
       "      <th></th>\n",
       "      <th>Name</th>\n",
       "      <th>Age</th>\n",
       "      <th>Gender</th>\n",
       "      <th>Score</th>\n",
       "    </tr>\n",
       "  </thead>\n",
       "  <tbody>\n",
       "    <tr>\n",
       "      <th>0</th>\n",
       "      <td>Alice</td>\n",
       "      <td>25</td>\n",
       "      <td>F</td>\n",
       "      <td>85</td>\n",
       "    </tr>\n",
       "    <tr>\n",
       "      <th>1</th>\n",
       "      <td>Bob</td>\n",
       "      <td>17</td>\n",
       "      <td>M</td>\n",
       "      <td>40</td>\n",
       "    </tr>\n",
       "    <tr>\n",
       "      <th>2</th>\n",
       "      <td>Charlie</td>\n",
       "      <td>34</td>\n",
       "      <td>M</td>\n",
       "      <td>67</td>\n",
       "    </tr>\n",
       "    <tr>\n",
       "      <th>3</th>\n",
       "      <td>Diana</td>\n",
       "      <td>15</td>\n",
       "      <td>F</td>\n",
       "      <td>90</td>\n",
       "    </tr>\n",
       "    <tr>\n",
       "      <th>4</th>\n",
       "      <td>Ethan</td>\n",
       "      <td>45</td>\n",
       "      <td>M</td>\n",
       "      <td>55</td>\n",
       "    </tr>\n",
       "  </tbody>\n",
       "</table>\n",
       "</div>"
      ],
      "text/plain": [
       "      Name  Age Gender  Score\n",
       "0    Alice   25      F     85\n",
       "1      Bob   17      M     40\n",
       "2  Charlie   34      M     67\n",
       "3    Diana   15      F     90\n",
       "4    Ethan   45      M     55"
      ]
     },
     "execution_count": 38,
     "metadata": {},
     "output_type": "execute_result"
    }
   ],
   "source": [
    "import pandas as pd\n",
    "\n",
    "# Sample DataFrame\n",
    "df = pd.DataFrame({\n",
    "    'Name': ['Alice', 'Bob', 'Charlie', 'Diana', 'Ethan'],\n",
    "    'Age': [25, 17, 34, 15, 45],\n",
    "    'Gender': ['F', 'M', 'M', 'F', 'M'],\n",
    "    'Score': [85, 40, 67, 90, 55]\n",
    "})\n",
    "\n",
    "df"
   ]
  },
  {
   "cell_type": "code",
   "execution_count": 40,
   "id": "0d503849-ba02-4a82-8e4f-73fc782db5bb",
   "metadata": {},
   "outputs": [
    {
     "name": "stdout",
     "output_type": "stream",
     "text": [
      "      Name  Age Gender  Score\n",
      "0    Alice   25      F     85\n",
      "2  Charlie   34      M     67\n"
     ]
    }
   ],
   "source": [
    "# Use .query() to filter rows where Age >= 18 and Score > 60\n",
    "adults_with_high_scores = df.query('Age >= 18 and Score > 60')\n",
    "\n",
    "print(adults_with_high_scores)"
   ]
  },
  {
   "cell_type": "code",
   "execution_count": 44,
   "id": "b2e28466-1936-42e4-af0b-ad6341a618db",
   "metadata": {},
   "outputs": [
    {
     "data": {
      "text/html": [
       "<div>\n",
       "<style scoped>\n",
       "    .dataframe tbody tr th:only-of-type {\n",
       "        vertical-align: middle;\n",
       "    }\n",
       "\n",
       "    .dataframe tbody tr th {\n",
       "        vertical-align: top;\n",
       "    }\n",
       "\n",
       "    .dataframe thead th {\n",
       "        text-align: right;\n",
       "    }\n",
       "</style>\n",
       "<table border=\"1\" class=\"dataframe\">\n",
       "  <thead>\n",
       "    <tr style=\"text-align: right;\">\n",
       "      <th></th>\n",
       "      <th>Name</th>\n",
       "      <th>Age</th>\n",
       "      <th>Gender</th>\n",
       "      <th>Score</th>\n",
       "    </tr>\n",
       "  </thead>\n",
       "  <tbody>\n",
       "    <tr>\n",
       "      <th>1</th>\n",
       "      <td>Bob</td>\n",
       "      <td>17</td>\n",
       "      <td>M</td>\n",
       "      <td>40</td>\n",
       "    </tr>\n",
       "  </tbody>\n",
       "</table>\n",
       "</div>"
      ],
      "text/plain": [
       "  Name  Age Gender  Score\n",
       "1  Bob   17      M     40"
      ]
     },
     "execution_count": 44,
     "metadata": {},
     "output_type": "execute_result"
    }
   ],
   "source": [
    "df.query('`Name` == \"Bob\"')"
   ]
  },
  {
   "cell_type": "markdown",
   "id": "d465e5a2-9e1a-4afb-a4cc-ba5b40ac4617",
   "metadata": {},
   "source": [
    "## .query() with in and not in "
   ]
  },
  {
   "cell_type": "code",
   "execution_count": 67,
   "id": "be870ccc-939f-4124-9504-b01d8bc8d5d2",
   "metadata": {},
   "outputs": [
    {
     "data": {
      "text/html": [
       "<div>\n",
       "<style scoped>\n",
       "    .dataframe tbody tr th:only-of-type {\n",
       "        vertical-align: middle;\n",
       "    }\n",
       "\n",
       "    .dataframe tbody tr th {\n",
       "        vertical-align: top;\n",
       "    }\n",
       "\n",
       "    .dataframe thead th {\n",
       "        text-align: right;\n",
       "    }\n",
       "</style>\n",
       "<table border=\"1\" class=\"dataframe\">\n",
       "  <thead>\n",
       "    <tr style=\"text-align: right;\">\n",
       "      <th></th>\n",
       "      <th>Name</th>\n",
       "      <th>Department</th>\n",
       "      <th>Salary</th>\n",
       "    </tr>\n",
       "  </thead>\n",
       "  <tbody>\n",
       "    <tr>\n",
       "      <th>0</th>\n",
       "      <td>Alice</td>\n",
       "      <td>HR</td>\n",
       "      <td>50000</td>\n",
       "    </tr>\n",
       "    <tr>\n",
       "      <th>1</th>\n",
       "      <td>Bob</td>\n",
       "      <td>Sales</td>\n",
       "      <td>60000</td>\n",
       "    </tr>\n",
       "    <tr>\n",
       "      <th>2</th>\n",
       "      <td>Charlie</td>\n",
       "      <td>IT</td>\n",
       "      <td>70000</td>\n",
       "    </tr>\n",
       "    <tr>\n",
       "      <th>3</th>\n",
       "      <td>Diana</td>\n",
       "      <td>HR</td>\n",
       "      <td>52000</td>\n",
       "    </tr>\n",
       "    <tr>\n",
       "      <th>4</th>\n",
       "      <td>Ethan</td>\n",
       "      <td>Finance</td>\n",
       "      <td>75000</td>\n",
       "    </tr>\n",
       "  </tbody>\n",
       "</table>\n",
       "</div>"
      ],
      "text/plain": [
       "      Name Department  Salary\n",
       "0    Alice         HR   50000\n",
       "1      Bob      Sales   60000\n",
       "2  Charlie         IT   70000\n",
       "3    Diana         HR   52000\n",
       "4    Ethan    Finance   75000"
      ]
     },
     "execution_count": 67,
     "metadata": {},
     "output_type": "execute_result"
    }
   ],
   "source": [
    "import pandas as pd\n",
    "\n",
    "# Sample DataFrame\n",
    "df = pd.DataFrame({\n",
    "    'Name': ['Alice', 'Bob', 'Charlie', 'Diana', 'Ethan'],\n",
    "    'Department': ['HR', 'Sales', 'IT', 'HR', 'Finance'],\n",
    "    'Salary': [50000, 60000, 70000, 52000, 75000]\n",
    "})\n",
    "\n",
    "df"
   ]
  },
  {
   "cell_type": "code",
   "execution_count": 69,
   "id": "6c2c364f-a5e0-44cd-a542-3194d2ec7320",
   "metadata": {},
   "outputs": [
    {
     "name": "stdout",
     "output_type": "stream",
     "text": [
      "Employees in HR or IT:\n"
     ]
    },
    {
     "data": {
      "text/html": [
       "<div>\n",
       "<style scoped>\n",
       "    .dataframe tbody tr th:only-of-type {\n",
       "        vertical-align: middle;\n",
       "    }\n",
       "\n",
       "    .dataframe tbody tr th {\n",
       "        vertical-align: top;\n",
       "    }\n",
       "\n",
       "    .dataframe thead th {\n",
       "        text-align: right;\n",
       "    }\n",
       "</style>\n",
       "<table border=\"1\" class=\"dataframe\">\n",
       "  <thead>\n",
       "    <tr style=\"text-align: right;\">\n",
       "      <th></th>\n",
       "      <th>Name</th>\n",
       "      <th>Department</th>\n",
       "      <th>Salary</th>\n",
       "    </tr>\n",
       "  </thead>\n",
       "  <tbody>\n",
       "    <tr>\n",
       "      <th>0</th>\n",
       "      <td>Alice</td>\n",
       "      <td>HR</td>\n",
       "      <td>50000</td>\n",
       "    </tr>\n",
       "    <tr>\n",
       "      <th>2</th>\n",
       "      <td>Charlie</td>\n",
       "      <td>IT</td>\n",
       "      <td>70000</td>\n",
       "    </tr>\n",
       "    <tr>\n",
       "      <th>3</th>\n",
       "      <td>Diana</td>\n",
       "      <td>HR</td>\n",
       "      <td>52000</td>\n",
       "    </tr>\n",
       "  </tbody>\n",
       "</table>\n",
       "</div>"
      ],
      "text/plain": [
       "      Name Department  Salary\n",
       "0    Alice         HR   50000\n",
       "2  Charlie         IT   70000\n",
       "3    Diana         HR   52000"
      ]
     },
     "execution_count": 69,
     "metadata": {},
     "output_type": "execute_result"
    }
   ],
   "source": [
    "# Define a list of departments\n",
    "target_departments = ['HR', 'IT']\n",
    "\n",
    "# Use query with @ to refer to external variable\n",
    "in_result = df.query('Department in @target_departments')\n",
    "not_in_result = df.query('Department not in @target_departments')\n",
    "\n",
    "print(\"Employees in HR or IT:\")\n",
    "in_result"
   ]
  },
  {
   "cell_type": "code",
   "execution_count": 71,
   "id": "ec0b705d-dbe0-4734-837d-92754ab7d33b",
   "metadata": {},
   "outputs": [
    {
     "name": "stdout",
     "output_type": "stream",
     "text": [
      "\n",
      "Employees NOT in HR or IT:\n"
     ]
    },
    {
     "data": {
      "text/html": [
       "<div>\n",
       "<style scoped>\n",
       "    .dataframe tbody tr th:only-of-type {\n",
       "        vertical-align: middle;\n",
       "    }\n",
       "\n",
       "    .dataframe tbody tr th {\n",
       "        vertical-align: top;\n",
       "    }\n",
       "\n",
       "    .dataframe thead th {\n",
       "        text-align: right;\n",
       "    }\n",
       "</style>\n",
       "<table border=\"1\" class=\"dataframe\">\n",
       "  <thead>\n",
       "    <tr style=\"text-align: right;\">\n",
       "      <th></th>\n",
       "      <th>Name</th>\n",
       "      <th>Department</th>\n",
       "      <th>Salary</th>\n",
       "    </tr>\n",
       "  </thead>\n",
       "  <tbody>\n",
       "    <tr>\n",
       "      <th>1</th>\n",
       "      <td>Bob</td>\n",
       "      <td>Sales</td>\n",
       "      <td>60000</td>\n",
       "    </tr>\n",
       "    <tr>\n",
       "      <th>4</th>\n",
       "      <td>Ethan</td>\n",
       "      <td>Finance</td>\n",
       "      <td>75000</td>\n",
       "    </tr>\n",
       "  </tbody>\n",
       "</table>\n",
       "</div>"
      ],
      "text/plain": [
       "    Name Department  Salary\n",
       "1    Bob      Sales   60000\n",
       "4  Ethan    Finance   75000"
      ]
     },
     "execution_count": 71,
     "metadata": {},
     "output_type": "execute_result"
    }
   ],
   "source": [
    "print(\"\\nEmployees NOT in HR or IT:\")\n",
    "not_in_result"
   ]
  },
  {
   "cell_type": "markdown",
   "id": "86c705ce-07a1-4685-904b-6955403681aa",
   "metadata": {},
   "source": [
    "## Using reset_index()"
   ]
  },
  {
   "cell_type": "code",
   "execution_count": 59,
   "id": "95ecfbb5-3417-4e91-8eb7-af327cb355a6",
   "metadata": {},
   "outputs": [
    {
     "data": {
      "text/html": [
       "<div>\n",
       "<style scoped>\n",
       "    .dataframe tbody tr th:only-of-type {\n",
       "        vertical-align: middle;\n",
       "    }\n",
       "\n",
       "    .dataframe tbody tr th {\n",
       "        vertical-align: top;\n",
       "    }\n",
       "\n",
       "    .dataframe thead th {\n",
       "        text-align: right;\n",
       "    }\n",
       "</style>\n",
       "<table border=\"1\" class=\"dataframe\">\n",
       "  <thead>\n",
       "    <tr style=\"text-align: right;\">\n",
       "      <th></th>\n",
       "      <th>Name</th>\n",
       "      <th>Age</th>\n",
       "    </tr>\n",
       "  </thead>\n",
       "  <tbody>\n",
       "    <tr>\n",
       "      <th>a</th>\n",
       "      <td>Alice</td>\n",
       "      <td>25</td>\n",
       "    </tr>\n",
       "    <tr>\n",
       "      <th>b</th>\n",
       "      <td>Bob</td>\n",
       "      <td>30</td>\n",
       "    </tr>\n",
       "    <tr>\n",
       "      <th>c</th>\n",
       "      <td>Charlie</td>\n",
       "      <td>22</td>\n",
       "    </tr>\n",
       "    <tr>\n",
       "      <th>d</th>\n",
       "      <td>Diana</td>\n",
       "      <td>28</td>\n",
       "    </tr>\n",
       "  </tbody>\n",
       "</table>\n",
       "</div>"
      ],
      "text/plain": [
       "      Name  Age\n",
       "a    Alice   25\n",
       "b      Bob   30\n",
       "c  Charlie   22\n",
       "d    Diana   28"
      ]
     },
     "execution_count": 59,
     "metadata": {},
     "output_type": "execute_result"
    }
   ],
   "source": [
    "import pandas as pd\n",
    "\n",
    "# Sample DataFrame with custom index\n",
    "df = pd.DataFrame({\n",
    "    'Name': ['Alice', 'Bob', 'Charlie', 'Diana'],\n",
    "    'Age': [25, 30, 22, 28]\n",
    "}, index=['a', 'b', 'c', 'd'])\n",
    "\n",
    "df"
   ]
  },
  {
   "cell_type": "code",
   "execution_count": 61,
   "id": "285b4268-8363-456e-9c4d-ed2ff7faeca3",
   "metadata": {},
   "outputs": [
    {
     "data": {
      "text/html": [
       "<div>\n",
       "<style scoped>\n",
       "    .dataframe tbody tr th:only-of-type {\n",
       "        vertical-align: middle;\n",
       "    }\n",
       "\n",
       "    .dataframe tbody tr th {\n",
       "        vertical-align: top;\n",
       "    }\n",
       "\n",
       "    .dataframe thead th {\n",
       "        text-align: right;\n",
       "    }\n",
       "</style>\n",
       "<table border=\"1\" class=\"dataframe\">\n",
       "  <thead>\n",
       "    <tr style=\"text-align: right;\">\n",
       "      <th></th>\n",
       "      <th>index</th>\n",
       "      <th>Name</th>\n",
       "      <th>Age</th>\n",
       "    </tr>\n",
       "  </thead>\n",
       "  <tbody>\n",
       "    <tr>\n",
       "      <th>0</th>\n",
       "      <td>a</td>\n",
       "      <td>Alice</td>\n",
       "      <td>25</td>\n",
       "    </tr>\n",
       "    <tr>\n",
       "      <th>1</th>\n",
       "      <td>b</td>\n",
       "      <td>Bob</td>\n",
       "      <td>30</td>\n",
       "    </tr>\n",
       "    <tr>\n",
       "      <th>2</th>\n",
       "      <td>c</td>\n",
       "      <td>Charlie</td>\n",
       "      <td>22</td>\n",
       "    </tr>\n",
       "    <tr>\n",
       "      <th>3</th>\n",
       "      <td>d</td>\n",
       "      <td>Diana</td>\n",
       "      <td>28</td>\n",
       "    </tr>\n",
       "  </tbody>\n",
       "</table>\n",
       "</div>"
      ],
      "text/plain": [
       "  index     Name  Age\n",
       "0     a    Alice   25\n",
       "1     b      Bob   30\n",
       "2     c  Charlie   22\n",
       "3     d    Diana   28"
      ]
     },
     "execution_count": 61,
     "metadata": {},
     "output_type": "execute_result"
    }
   ],
   "source": [
    "# Reset the index and rename columns\n",
    "df_reset = df.reset_index()\n",
    "df_reset"
   ]
  },
  {
   "cell_type": "code",
   "execution_count": 63,
   "id": "0fc84fdc-6d73-48ff-b4a7-2cd14febec4b",
   "metadata": {},
   "outputs": [
    {
     "name": "stdout",
     "output_type": "stream",
     "text": [
      "DataFrame after reset_index() and renaming columns:\n"
     ]
    },
    {
     "data": {
      "text/html": [
       "<div>\n",
       "<style scoped>\n",
       "    .dataframe tbody tr th:only-of-type {\n",
       "        vertical-align: middle;\n",
       "    }\n",
       "\n",
       "    .dataframe tbody tr th {\n",
       "        vertical-align: top;\n",
       "    }\n",
       "\n",
       "    .dataframe thead th {\n",
       "        text-align: right;\n",
       "    }\n",
       "</style>\n",
       "<table border=\"1\" class=\"dataframe\">\n",
       "  <thead>\n",
       "    <tr style=\"text-align: right;\">\n",
       "      <th></th>\n",
       "      <th>Custom_Index</th>\n",
       "      <th>Full_Name</th>\n",
       "      <th>Age_Years</th>\n",
       "    </tr>\n",
       "  </thead>\n",
       "  <tbody>\n",
       "    <tr>\n",
       "      <th>0</th>\n",
       "      <td>a</td>\n",
       "      <td>Alice</td>\n",
       "      <td>25</td>\n",
       "    </tr>\n",
       "    <tr>\n",
       "      <th>1</th>\n",
       "      <td>b</td>\n",
       "      <td>Bob</td>\n",
       "      <td>30</td>\n",
       "    </tr>\n",
       "    <tr>\n",
       "      <th>2</th>\n",
       "      <td>c</td>\n",
       "      <td>Charlie</td>\n",
       "      <td>22</td>\n",
       "    </tr>\n",
       "    <tr>\n",
       "      <th>3</th>\n",
       "      <td>d</td>\n",
       "      <td>Diana</td>\n",
       "      <td>28</td>\n",
       "    </tr>\n",
       "  </tbody>\n",
       "</table>\n",
       "</div>"
      ],
      "text/plain": [
       "  Custom_Index Full_Name  Age_Years\n",
       "0            a     Alice         25\n",
       "1            b       Bob         30\n",
       "2            c   Charlie         22\n",
       "3            d     Diana         28"
      ]
     },
     "execution_count": 63,
     "metadata": {},
     "output_type": "execute_result"
    }
   ],
   "source": [
    "# Rename columns after reset_index\n",
    "df_reset.rename(columns={'index': 'Custom_Index', 'Name': 'Full_Name', 'Age': 'Age_Years'}, inplace=True)\n",
    "\n",
    "print(\"DataFrame after reset_index() and renaming columns:\")\n",
    "df_reset"
   ]
  },
  {
   "cell_type": "code",
   "execution_count": 65,
   "id": "78d48d0a-4042-42c6-afbb-691473870c2c",
   "metadata": {},
   "outputs": [
    {
     "name": "stdout",
     "output_type": "stream",
     "text": [
      "\n",
      "DataFrame after reset_index(drop=True):\n"
     ]
    },
    {
     "data": {
      "text/html": [
       "<div>\n",
       "<style scoped>\n",
       "    .dataframe tbody tr th:only-of-type {\n",
       "        vertical-align: middle;\n",
       "    }\n",
       "\n",
       "    .dataframe tbody tr th {\n",
       "        vertical-align: top;\n",
       "    }\n",
       "\n",
       "    .dataframe thead th {\n",
       "        text-align: right;\n",
       "    }\n",
       "</style>\n",
       "<table border=\"1\" class=\"dataframe\">\n",
       "  <thead>\n",
       "    <tr style=\"text-align: right;\">\n",
       "      <th></th>\n",
       "      <th>Name</th>\n",
       "      <th>Age</th>\n",
       "    </tr>\n",
       "  </thead>\n",
       "  <tbody>\n",
       "    <tr>\n",
       "      <th>0</th>\n",
       "      <td>Alice</td>\n",
       "      <td>25</td>\n",
       "    </tr>\n",
       "    <tr>\n",
       "      <th>1</th>\n",
       "      <td>Bob</td>\n",
       "      <td>30</td>\n",
       "    </tr>\n",
       "    <tr>\n",
       "      <th>2</th>\n",
       "      <td>Charlie</td>\n",
       "      <td>22</td>\n",
       "    </tr>\n",
       "    <tr>\n",
       "      <th>3</th>\n",
       "      <td>Diana</td>\n",
       "      <td>28</td>\n",
       "    </tr>\n",
       "  </tbody>\n",
       "</table>\n",
       "</div>"
      ],
      "text/plain": [
       "      Name  Age\n",
       "0    Alice   25\n",
       "1      Bob   30\n",
       "2  Charlie   22\n",
       "3    Diana   28"
      ]
     },
     "execution_count": 65,
     "metadata": {},
     "output_type": "execute_result"
    }
   ],
   "source": [
    "# Reset the index and drop the old index column\n",
    "df_reset_drop = df.reset_index(drop=True)\n",
    "\n",
    "print(\"\\nDataFrame after reset_index(drop=True):\")\n",
    "df_reset_drop"
   ]
  },
  {
   "cell_type": "markdown",
   "id": "c4786899-17a1-4e7a-9860-c4ea8e45a041",
   "metadata": {},
   "source": [
    "## Using .cat_categories()"
   ]
  },
  {
   "cell_type": "code",
   "execution_count": 38,
   "id": "5b66000c-f312-4160-9fb9-57241aac2f2c",
   "metadata": {},
   "outputs": [
    {
     "data": {
      "text/html": [
       "<div>\n",
       "<style scoped>\n",
       "    .dataframe tbody tr th:only-of-type {\n",
       "        vertical-align: middle;\n",
       "    }\n",
       "\n",
       "    .dataframe tbody tr th {\n",
       "        vertical-align: top;\n",
       "    }\n",
       "\n",
       "    .dataframe thead th {\n",
       "        text-align: right;\n",
       "    }\n",
       "</style>\n",
       "<table border=\"1\" class=\"dataframe\">\n",
       "  <thead>\n",
       "    <tr style=\"text-align: right;\">\n",
       "      <th></th>\n",
       "      <th>Name</th>\n",
       "      <th>JobRole</th>\n",
       "    </tr>\n",
       "  </thead>\n",
       "  <tbody>\n",
       "    <tr>\n",
       "      <th>0</th>\n",
       "      <td>Alice</td>\n",
       "      <td>Engineer</td>\n",
       "    </tr>\n",
       "    <tr>\n",
       "      <th>1</th>\n",
       "      <td>Bob</td>\n",
       "      <td>Manager</td>\n",
       "    </tr>\n",
       "    <tr>\n",
       "      <th>2</th>\n",
       "      <td>Charlie</td>\n",
       "      <td>Engineer</td>\n",
       "    </tr>\n",
       "    <tr>\n",
       "      <th>3</th>\n",
       "      <td>David</td>\n",
       "      <td>Clerk</td>\n",
       "    </tr>\n",
       "  </tbody>\n",
       "</table>\n",
       "</div>"
      ],
      "text/plain": [
       "      Name   JobRole\n",
       "0    Alice  Engineer\n",
       "1      Bob   Manager\n",
       "2  Charlie  Engineer\n",
       "3    David     Clerk"
      ]
     },
     "execution_count": 38,
     "metadata": {},
     "output_type": "execute_result"
    }
   ],
   "source": [
    "import pandas as pd\n",
    "\n",
    "# Create a DataFrame with a categorical column\n",
    "df = pd.DataFrame({\n",
    "    'Name': ['Alice', 'Bob', 'Charlie', 'David'],\n",
    "    'JobRole': pd.Categorical(['Engineer', 'Manager', 'Engineer', 'Clerk'])\n",
    "})\n",
    "\n",
    "df"
   ]
  },
  {
   "cell_type": "code",
   "execution_count": 40,
   "id": "3610f4a3-6e33-4033-a837-d15845cf34b1",
   "metadata": {},
   "outputs": [
    {
     "data": {
      "text/plain": [
       "Index(['Clerk', 'Engineer', 'Manager'], dtype='object')"
      ]
     },
     "execution_count": 40,
     "metadata": {},
     "output_type": "execute_result"
    }
   ],
   "source": [
    "df['JobRole'].cat.categories"
   ]
  },
  {
   "cell_type": "code",
   "execution_count": 42,
   "id": "9f1613cd-9560-4f6c-a901-6b92314c1198",
   "metadata": {},
   "outputs": [
    {
     "data": {
      "text/html": [
       "<div>\n",
       "<style scoped>\n",
       "    .dataframe tbody tr th:only-of-type {\n",
       "        vertical-align: middle;\n",
       "    }\n",
       "\n",
       "    .dataframe tbody tr th {\n",
       "        vertical-align: top;\n",
       "    }\n",
       "\n",
       "    .dataframe thead th {\n",
       "        text-align: right;\n",
       "    }\n",
       "</style>\n",
       "<table border=\"1\" class=\"dataframe\">\n",
       "  <thead>\n",
       "    <tr style=\"text-align: right;\">\n",
       "      <th></th>\n",
       "      <th>Name</th>\n",
       "      <th>JobRole</th>\n",
       "    </tr>\n",
       "  </thead>\n",
       "  <tbody>\n",
       "    <tr>\n",
       "      <th>0</th>\n",
       "      <td>Alice</td>\n",
       "      <td>Engineer</td>\n",
       "    </tr>\n",
       "    <tr>\n",
       "      <th>2</th>\n",
       "      <td>Charlie</td>\n",
       "      <td>Engineer</td>\n",
       "    </tr>\n",
       "  </tbody>\n",
       "</table>\n",
       "</div>"
      ],
      "text/plain": [
       "      Name   JobRole\n",
       "0    Alice  Engineer\n",
       "2  Charlie  Engineer"
      ]
     },
     "execution_count": 42,
     "metadata": {},
     "output_type": "execute_result"
    }
   ],
   "source": [
    "filtered_df = df[df['JobRole'] == 'Engineer']\n",
    "filtered_df"
   ]
  },
  {
   "cell_type": "code",
   "execution_count": 44,
   "id": "b4fd3710-c614-4971-b7d6-f929dc82ce3d",
   "metadata": {},
   "outputs": [
    {
     "data": {
      "text/plain": [
       "Index(['Clerk', 'Engineer', 'Manager'], dtype='object')"
      ]
     },
     "execution_count": 44,
     "metadata": {},
     "output_type": "execute_result"
    }
   ],
   "source": [
    "filtered_df['JobRole'].cat.categories"
   ]
  },
  {
   "cell_type": "markdown",
   "id": "457eef80-9dc0-4453-b9b5-268c1a60dd90",
   "metadata": {},
   "source": [
    "Even though only `\"Engineer\"` is used, `\"Clerk\"` and `\"Manager\"` are still listed as categories — they're unused."
   ]
  },
  {
   "cell_type": "code",
   "execution_count": 50,
   "id": "29da6537-751d-4442-b8f2-016855923245",
   "metadata": {},
   "outputs": [
    {
     "data": {
      "text/plain": [
       "Index(['Engineer'], dtype='object')"
      ]
     },
     "execution_count": 50,
     "metadata": {},
     "output_type": "execute_result"
    }
   ],
   "source": [
    "filtered_df.loc[:,'JobRole'] = filtered_df['JobRole'].cat.remove_unused_categories().astype('object')\n",
    "filtered_df['JobRole'].cat.categories"
   ]
  },
  {
   "cell_type": "markdown",
   "id": "c61da578-b768-4b18-8c7d-e94396776b3d",
   "metadata": {},
   "source": [
    "Now the JobRole column only contains the categories that actually exist in the filtered data."
   ]
  },
  {
   "cell_type": "code",
   "execution_count": 52,
   "id": "7f9d2ba8-19a0-4755-a600-56b92e508714",
   "metadata": {},
   "outputs": [],
   "source": [
    "filtered_df = filtered_df.copy()"
   ]
  },
  {
   "cell_type": "code",
   "execution_count": 54,
   "id": "c1fe199f-367b-40e3-8ec1-9bf357188d70",
   "metadata": {},
   "outputs": [
    {
     "data": {
      "text/plain": [
       "Index(['Engineer'], dtype='object')"
      ]
     },
     "execution_count": 54,
     "metadata": {},
     "output_type": "execute_result"
    }
   ],
   "source": [
    "filtered_df.loc['JobRole'] = filtered_df['JobRole'].cat.remove_unused_categories()\n",
    "filtered_df['JobRole'].cat.categories"
   ]
  },
  {
   "cell_type": "code",
   "execution_count": 21,
   "id": "decdcb4a-622c-4ef9-acea-b2d2008af3d0",
   "metadata": {},
   "outputs": [
    {
     "data": {
      "text/html": [
       "<div>\n",
       "<style scoped>\n",
       "    .dataframe tbody tr th:only-of-type {\n",
       "        vertical-align: middle;\n",
       "    }\n",
       "\n",
       "    .dataframe tbody tr th {\n",
       "        vertical-align: top;\n",
       "    }\n",
       "\n",
       "    .dataframe thead th {\n",
       "        text-align: right;\n",
       "    }\n",
       "</style>\n",
       "<table border=\"1\" class=\"dataframe\">\n",
       "  <thead>\n",
       "    <tr style=\"text-align: right;\">\n",
       "      <th></th>\n",
       "      <th>Employee</th>\n",
       "    </tr>\n",
       "  </thead>\n",
       "  <tbody>\n",
       "    <tr>\n",
       "      <th>0</th>\n",
       "      <td>Alice</td>\n",
       "    </tr>\n",
       "    <tr>\n",
       "      <th>1</th>\n",
       "      <td>Bob</td>\n",
       "    </tr>\n",
       "    <tr>\n",
       "      <th>2</th>\n",
       "      <td>Charlie</td>\n",
       "    </tr>\n",
       "    <tr>\n",
       "      <th>3</th>\n",
       "      <td>David</td>\n",
       "    </tr>\n",
       "    <tr>\n",
       "      <th>4</th>\n",
       "      <td>Eve</td>\n",
       "    </tr>\n",
       "  </tbody>\n",
       "</table>\n",
       "</div>"
      ],
      "text/plain": [
       "  Employee\n",
       "0    Alice\n",
       "1      Bob\n",
       "2  Charlie\n",
       "3    David\n",
       "4      Eve"
      ]
     },
     "execution_count": 21,
     "metadata": {},
     "output_type": "execute_result"
    }
   ],
   "source": [
    "import pandas as pd\n",
    "\n",
    "# Original data with 5 rows\n",
    "attrition_pop = pd.DataFrame({\n",
    "    'Employee': ['Alice', 'Bob', 'Charlie', 'David', 'Eve']\n",
    "})\n",
    "\n",
    "attrition_pop"
   ]
  },
  {
   "cell_type": "code",
   "execution_count": 23,
   "id": "cd331397-b463-41c8-baf1-38d77d3b6007",
   "metadata": {},
   "outputs": [
    {
     "data": {
      "text/html": [
       "<div>\n",
       "<style scoped>\n",
       "    .dataframe tbody tr th:only-of-type {\n",
       "        vertical-align: middle;\n",
       "    }\n",
       "\n",
       "    .dataframe tbody tr th {\n",
       "        vertical-align: top;\n",
       "    }\n",
       "\n",
       "    .dataframe thead th {\n",
       "        text-align: right;\n",
       "    }\n",
       "</style>\n",
       "<table border=\"1\" class=\"dataframe\">\n",
       "  <thead>\n",
       "    <tr style=\"text-align: right;\">\n",
       "      <th></th>\n",
       "      <th>Employee</th>\n",
       "    </tr>\n",
       "  </thead>\n",
       "  <tbody>\n",
       "    <tr>\n",
       "      <th>0</th>\n",
       "      <td>Alice</td>\n",
       "    </tr>\n",
       "    <tr>\n",
       "      <th>2</th>\n",
       "      <td>Charlie</td>\n",
       "    </tr>\n",
       "    <tr>\n",
       "      <th>4</th>\n",
       "      <td>Eve</td>\n",
       "    </tr>\n",
       "    <tr>\n",
       "      <th>1</th>\n",
       "      <td>Bob</td>\n",
       "    </tr>\n",
       "    <tr>\n",
       "      <th>3</th>\n",
       "      <td>David</td>\n",
       "    </tr>\n",
       "  </tbody>\n",
       "</table>\n",
       "</div>"
      ],
      "text/plain": [
       "  Employee\n",
       "0    Alice\n",
       "2  Charlie\n",
       "4      Eve\n",
       "1      Bob\n",
       "3    David"
      ]
     },
     "execution_count": 23,
     "metadata": {},
     "output_type": "execute_result"
    }
   ],
   "source": [
    "shuffled = attrition_pop.sample(frac=1, replace=False)\n",
    "shuffled"
   ]
  },
  {
   "cell_type": "code",
   "execution_count": 25,
   "id": "9551bb48-57de-439c-9469-8e59ecca2040",
   "metadata": {},
   "outputs": [
    {
     "data": {
      "text/html": [
       "<div>\n",
       "<style scoped>\n",
       "    .dataframe tbody tr th:only-of-type {\n",
       "        vertical-align: middle;\n",
       "    }\n",
       "\n",
       "    .dataframe tbody tr th {\n",
       "        vertical-align: top;\n",
       "    }\n",
       "\n",
       "    .dataframe thead th {\n",
       "        text-align: right;\n",
       "    }\n",
       "</style>\n",
       "<table border=\"1\" class=\"dataframe\">\n",
       "  <thead>\n",
       "    <tr style=\"text-align: right;\">\n",
       "      <th></th>\n",
       "      <th>Employee</th>\n",
       "    </tr>\n",
       "  </thead>\n",
       "  <tbody>\n",
       "    <tr>\n",
       "      <th>4</th>\n",
       "      <td>Eve</td>\n",
       "    </tr>\n",
       "    <tr>\n",
       "      <th>1</th>\n",
       "      <td>Bob</td>\n",
       "    </tr>\n",
       "    <tr>\n",
       "      <th>4</th>\n",
       "      <td>Eve</td>\n",
       "    </tr>\n",
       "    <tr>\n",
       "      <th>4</th>\n",
       "      <td>Eve</td>\n",
       "    </tr>\n",
       "    <tr>\n",
       "      <th>0</th>\n",
       "      <td>Alice</td>\n",
       "    </tr>\n",
       "  </tbody>\n",
       "</table>\n",
       "</div>"
      ],
      "text/plain": [
       "  Employee\n",
       "4      Eve\n",
       "1      Bob\n",
       "4      Eve\n",
       "4      Eve\n",
       "0    Alice"
      ]
     },
     "execution_count": 25,
     "metadata": {},
     "output_type": "execute_result"
    }
   ],
   "source": [
    "resampled = attrition_pop.sample(frac=1, replace=True)\n",
    "resampled"
   ]
  },
  {
   "cell_type": "code",
   "execution_count": null,
   "id": "3e6cf292-8744-4c0e-be6e-57a7c694692c",
   "metadata": {},
   "outputs": [],
   "source": [
    "\n",
    "spotify_sample.to_csv(\"spotify_sample.csv\", index=False)\n",
    "\n",
    "with open(\"spotify_sample.csv\", \"r\") as file:\n",
    "    print(file.read())"
   ]
  },
  {
   "cell_type": "code",
   "execution_count": null,
   "id": "0e0f1230-7d2a-4709-bb53-ad389ab73645",
   "metadata": {},
   "outputs": [],
   "source": [
    "import pandas as pd\n",
    "import numpy as np\n",
    "\n",
    "# Assuming np_cont is a NumPy array of continents (as in your original code)\n",
    "# Convert it to a pandas Series\n",
    "continent_series = pd.Series(np_cont)\n",
    "\n",
    "# Create a color mapping dictionary (as in your original code)\n",
    "col_dict = {\n",
    "    'Asia': 'red',\n",
    "    'Europe': 'green',\n",
    "    'Africa': 'blue',\n",
    "    'Americas': 'yellow',\n",
    "    'Oceania': 'black'\n",
    "}\n",
    "\n",
    "# Use .map() to create the color list\n",
    "col = continent_series.map(col_dict).tolist()\n",
    "\n",
    "# Now 'col' contains the list of colors corresponding to each continent\n",
    "# You can use 'col' in your scatter plot\n"
   ]
  },
  {
   "cell_type": "markdown",
   "id": "a49d2482-d082-4791-8f7d-b1990ca947df",
   "metadata": {},
   "source": [
    "Does going to university in a different country affect your mental health? A Japanese international university surveyed its students in 2018 and published a study the following year that was approved by several ethical and regulatory boards.\n",
    "\n",
    "The study found that international students have a higher risk of mental health difficulties than the general population, and that social connectedness (belonging to a social group) and acculturative stress (stress associated with joining a new culture) are predictive of depression.\n",
    "\n",
    "Explore the students data using PostgreSQL to find out if you would come to a similar conclusion for international students and see if the length of stay is a contributing factor.\n",
    "\n",
    "Here is a data description of the columns you may find helpful."
   ]
  },
  {
   "cell_type": "markdown",
   "id": "665295cd-6c74-484a-b8ce-4e867a7a8c37",
   "metadata": {},
   "source": [
    "# Analyze the Impact of Length of Stay on Mental Health Scores\n",
    "\n",
    "Explore and analyze the students' data to see how the length of stay (`stay`) impacts the average mental health diagnostic scores of the international students present in the study.\n",
    "\n",
    "## Instructions\n",
    "\n",
    "1. **Objective**: Return a table with nine rows and five columns.\n",
    "2. **Column Aliases**:\n",
    "   - `stay`: Represents the length of stay.\n",
    "   - `count_int`: Count of international students for each length of stay.\n",
    "   - `average_phq`: Average of the `todep` (PHQ-9 test) scores, rounded to two decimal places.\n",
    "   - `average_scs`: Average of the `tosc` (SCS test) scores, rounded to two decimal places.\n",
    "   - `average_as`: Average of the `toas` (ASISS test) scores, rounded to two decimal places.\n",
    "3. **Details**:\n",
    "   - The average columns (`average_phq`, `average_scs`, `average_as`) should contain the averages of the respective columns (`todep`, `tosc`, `toas`) for each length of stay.\n",
    "   - Use the `count_int` column to store the number of international students for each length of stay.\n",
    "4. **Sorting**:\n",
    "   - Sort the table by `stay` in descending order.\n",
    "\n",
    "## Implementation Notes\n",
    "\n",
    "- Make sure to create a DataFrame that matches the above schema with the final name `df`.\n",
    "- Ensure that creating new cells in the notebook does not rename the DataFrame."
   ]
  },
  {
   "cell_type": "code",
   "execution_count": null,
   "id": "85113f43-460a-4882-b35b-79bf1fec5c8d",
   "metadata": {},
   "outputs": [],
   "source": [
    "FROM left_table\n",
    "JOIN right_table\n",
    "ON left_table.key = right_table.key"
   ]
  },
  {
   "cell_type": "code",
   "execution_count": 8,
   "id": "869077bf-3a7b-4824-972e-391aec927f8c",
   "metadata": {},
   "outputs": [
    {
     "data": {
      "text/html": [
       "<style type=\"text/css\">\n",
       "#T_d98e3_row0_col0, #T_d98e3_row1_col1, #T_d98e3_row2_col0 {\n",
       "  color: green;\n",
       "}\n",
       "#T_d98e3_row0_col1, #T_d98e3_row1_col0, #T_d98e3_row2_col1 {\n",
       "  color: red;\n",
       "}\n",
       "</style>\n",
       "<table id=\"T_d98e3\">\n",
       "  <thead>\n",
       "    <tr>\n",
       "      <th class=\"blank level0\" >&nbsp;</th>\n",
       "      <th id=\"T_d98e3_level0_col0\" class=\"col_heading level0 col0\" >A</th>\n",
       "      <th id=\"T_d98e3_level0_col1\" class=\"col_heading level0 col1\" >B</th>\n",
       "    </tr>\n",
       "  </thead>\n",
       "  <tbody>\n",
       "    <tr>\n",
       "      <th id=\"T_d98e3_level0_row0\" class=\"row_heading level0 row0\" >0</th>\n",
       "      <td id=\"T_d98e3_row0_col0\" class=\"data row0 col0\" >1</td>\n",
       "      <td id=\"T_d98e3_row0_col1\" class=\"data row0 col1\" >-2</td>\n",
       "    </tr>\n",
       "    <tr>\n",
       "      <th id=\"T_d98e3_level0_row1\" class=\"row_heading level0 row1\" >1</th>\n",
       "      <td id=\"T_d98e3_row1_col0\" class=\"data row1 col0\" >-1</td>\n",
       "      <td id=\"T_d98e3_row1_col1\" class=\"data row1 col1\" >4</td>\n",
       "    </tr>\n",
       "    <tr>\n",
       "      <th id=\"T_d98e3_level0_row2\" class=\"row_heading level0 row2\" >2</th>\n",
       "      <td id=\"T_d98e3_row2_col0\" class=\"data row2 col0\" >3</td>\n",
       "      <td id=\"T_d98e3_row2_col1\" class=\"data row2 col1\" >-6</td>\n",
       "    </tr>\n",
       "  </tbody>\n",
       "</table>\n"
      ],
      "text/plain": [
       "<pandas.io.formats.style.Styler at 0x1e3da015670>"
      ]
     },
     "execution_count": 8,
     "metadata": {},
     "output_type": "execute_result"
    }
   ],
   "source": [
    "import pandas as pd\n",
    "import numpy as np\n",
    "\n",
    "df = pd.DataFrame({\n",
    "    'A': [1, -1, 3],\n",
    "    'B': [-2, 4, -6]\n",
    "})\n",
    "\n",
    "df.style.map(lambda x: 'color: red' if x < 0 else 'color: green')"
   ]
  },
  {
   "cell_type": "code",
   "execution_count": 14,
   "id": "ef09b0eb-7d43-48a8-b8c1-90b7ed592193",
   "metadata": {},
   "outputs": [
    {
     "data": {
      "text/html": [
       "<style type=\"text/css\">\n",
       "#T_c9b93_row0_col0 {\n",
       "  background-color: #21918c;\n",
       "  color: #f1f1f1;\n",
       "}\n",
       "#T_c9b93_row0_col1 {\n",
       "  background-color: #2a788e;\n",
       "  color: #f1f1f1;\n",
       "}\n",
       "#T_c9b93_row1_col0, #T_c9b93_row2_col1 {\n",
       "  background-color: #440154;\n",
       "  color: #f1f1f1;\n",
       "}\n",
       "#T_c9b93_row1_col1, #T_c9b93_row2_col0 {\n",
       "  background-color: #fde725;\n",
       "  color: #000000;\n",
       "}\n",
       "</style>\n",
       "<table id=\"T_c9b93\">\n",
       "  <thead>\n",
       "    <tr>\n",
       "      <th class=\"blank level0\" >&nbsp;</th>\n",
       "      <th id=\"T_c9b93_level0_col0\" class=\"col_heading level0 col0\" >A</th>\n",
       "      <th id=\"T_c9b93_level0_col1\" class=\"col_heading level0 col1\" >B</th>\n",
       "    </tr>\n",
       "  </thead>\n",
       "  <tbody>\n",
       "    <tr>\n",
       "      <th id=\"T_c9b93_level0_row0\" class=\"row_heading level0 row0\" >0</th>\n",
       "      <td id=\"T_c9b93_row0_col0\" class=\"data row0 col0\" >1</td>\n",
       "      <td id=\"T_c9b93_row0_col1\" class=\"data row0 col1\" >-2</td>\n",
       "    </tr>\n",
       "    <tr>\n",
       "      <th id=\"T_c9b93_level0_row1\" class=\"row_heading level0 row1\" >1</th>\n",
       "      <td id=\"T_c9b93_row1_col0\" class=\"data row1 col0\" >-1</td>\n",
       "      <td id=\"T_c9b93_row1_col1\" class=\"data row1 col1\" >4</td>\n",
       "    </tr>\n",
       "    <tr>\n",
       "      <th id=\"T_c9b93_level0_row2\" class=\"row_heading level0 row2\" >2</th>\n",
       "      <td id=\"T_c9b93_row2_col0\" class=\"data row2 col0\" >3</td>\n",
       "      <td id=\"T_c9b93_row2_col1\" class=\"data row2 col1\" >-6</td>\n",
       "    </tr>\n",
       "  </tbody>\n",
       "</table>\n"
      ],
      "text/plain": [
       "<pandas.io.formats.style.Styler at 0x1e3dc1396a0>"
      ]
     },
     "execution_count": 14,
     "metadata": {},
     "output_type": "execute_result"
    }
   ],
   "source": [
    "df.style.background_gradient(cmap='viridis')"
   ]
  },
  {
   "cell_type": "code",
   "execution_count": 22,
   "id": "f7293124-9514-4bb0-b877-27bcbb51c330",
   "metadata": {},
   "outputs": [
    {
     "data": {
      "text/html": [
       "<style type=\"text/css\">\n",
       "#T_f21fa_row0_col0 {\n",
       "  background-color: #dddcdc;\n",
       "  color: #000000;\n",
       "}\n",
       "#T_f21fa_row0_col1 {\n",
       "  background-color: #c0d4f5;\n",
       "  color: #000000;\n",
       "}\n",
       "#T_f21fa_row1_col0, #T_f21fa_row2_col1 {\n",
       "  background-color: #3b4cc0;\n",
       "  color: #f1f1f1;\n",
       "}\n",
       "#T_f21fa_row1_col1, #T_f21fa_row2_col0 {\n",
       "  background-color: #b40426;\n",
       "  color: #f1f1f1;\n",
       "}\n",
       "</style>\n",
       "<table id=\"T_f21fa\">\n",
       "  <thead>\n",
       "    <tr>\n",
       "      <th class=\"blank level0\" >&nbsp;</th>\n",
       "      <th id=\"T_f21fa_level0_col0\" class=\"col_heading level0 col0\" >A</th>\n",
       "      <th id=\"T_f21fa_level0_col1\" class=\"col_heading level0 col1\" >B</th>\n",
       "    </tr>\n",
       "  </thead>\n",
       "  <tbody>\n",
       "    <tr>\n",
       "      <th id=\"T_f21fa_level0_row0\" class=\"row_heading level0 row0\" >0</th>\n",
       "      <td id=\"T_f21fa_row0_col0\" class=\"data row0 col0\" >1</td>\n",
       "      <td id=\"T_f21fa_row0_col1\" class=\"data row0 col1\" >-2</td>\n",
       "    </tr>\n",
       "    <tr>\n",
       "      <th id=\"T_f21fa_level0_row1\" class=\"row_heading level0 row1\" >1</th>\n",
       "      <td id=\"T_f21fa_row1_col0\" class=\"data row1 col0\" >-1</td>\n",
       "      <td id=\"T_f21fa_row1_col1\" class=\"data row1 col1\" >4</td>\n",
       "    </tr>\n",
       "    <tr>\n",
       "      <th id=\"T_f21fa_level0_row2\" class=\"row_heading level0 row2\" >2</th>\n",
       "      <td id=\"T_f21fa_row2_col0\" class=\"data row2 col0\" >3</td>\n",
       "      <td id=\"T_f21fa_row2_col1\" class=\"data row2 col1\" >-6</td>\n",
       "    </tr>\n",
       "  </tbody>\n",
       "</table>\n"
      ],
      "text/plain": [
       "<pandas.io.formats.style.Styler at 0x1e3dc215790>"
      ]
     },
     "execution_count": 22,
     "metadata": {},
     "output_type": "execute_result"
    }
   ],
   "source": [
    "df.style.background_gradient(cmap='coolwarm')"
   ]
  },
  {
   "cell_type": "code",
   "execution_count": 20,
   "id": "43763c0e-d97e-4428-b6bc-aa8d43a945ce",
   "metadata": {},
   "outputs": [
    {
     "data": {
      "text/html": [
       "<style type=\"text/css\">\n",
       "#T_e14a0_row1_col0, #T_e14a0_row2_col1 {\n",
       "  background-color: red;\n",
       "}\n",
       "#T_e14a0_row1_col1, #T_e14a0_row2_col0 {\n",
       "  background-color: green;\n",
       "}\n",
       "</style>\n",
       "<table id=\"T_e14a0\">\n",
       "  <thead>\n",
       "    <tr>\n",
       "      <th class=\"blank level0\" >&nbsp;</th>\n",
       "      <th id=\"T_e14a0_level0_col0\" class=\"col_heading level0 col0\" >A</th>\n",
       "      <th id=\"T_e14a0_level0_col1\" class=\"col_heading level0 col1\" >B</th>\n",
       "    </tr>\n",
       "  </thead>\n",
       "  <tbody>\n",
       "    <tr>\n",
       "      <th id=\"T_e14a0_level0_row0\" class=\"row_heading level0 row0\" >0</th>\n",
       "      <td id=\"T_e14a0_row0_col0\" class=\"data row0 col0\" >1</td>\n",
       "      <td id=\"T_e14a0_row0_col1\" class=\"data row0 col1\" >-2</td>\n",
       "    </tr>\n",
       "    <tr>\n",
       "      <th id=\"T_e14a0_level0_row1\" class=\"row_heading level0 row1\" >1</th>\n",
       "      <td id=\"T_e14a0_row1_col0\" class=\"data row1 col0\" >-1</td>\n",
       "      <td id=\"T_e14a0_row1_col1\" class=\"data row1 col1\" >4</td>\n",
       "    </tr>\n",
       "    <tr>\n",
       "      <th id=\"T_e14a0_level0_row2\" class=\"row_heading level0 row2\" >2</th>\n",
       "      <td id=\"T_e14a0_row2_col0\" class=\"data row2 col0\" >3</td>\n",
       "      <td id=\"T_e14a0_row2_col1\" class=\"data row2 col1\" >-6</td>\n",
       "    </tr>\n",
       "  </tbody>\n",
       "</table>\n"
      ],
      "text/plain": [
       "<pandas.io.formats.style.Styler at 0x1e3dc214590>"
      ]
     },
     "execution_count": 20,
     "metadata": {},
     "output_type": "execute_result"
    }
   ],
   "source": [
    "df.style.highlight_max(color='green').highlight_min(color='red')"
   ]
  },
  {
   "cell_type": "code",
   "execution_count": null,
   "id": "3e9988c2-7e65-4325-aa4f-a697c12f87ff",
   "metadata": {},
   "outputs": [],
   "source": []
  }
 ],
 "metadata": {
  "kernelspec": {
   "display_name": "Python [conda env:base] *",
   "language": "python",
   "name": "conda-base-py"
  },
  "language_info": {
   "codemirror_mode": {
    "name": "ipython",
    "version": 3
   },
   "file_extension": ".py",
   "mimetype": "text/x-python",
   "name": "python",
   "nbconvert_exporter": "python",
   "pygments_lexer": "ipython3",
   "version": "3.12.3"
  }
 },
 "nbformat": 4,
 "nbformat_minor": 5
}
