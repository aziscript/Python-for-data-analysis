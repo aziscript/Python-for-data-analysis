{
 "cells": [
  {
   "cell_type": "markdown",
   "id": "36c3b590-943b-4585-8311-b1d6f7602740",
   "metadata": {},
   "source": [
    "## Data merging"
   ]
  },
  {
   "cell_type": "markdown",
   "id": "ed91555d-34d6-4d2f-9d9f-0cb993d888a7",
   "metadata": {},
   "source": [
    "#### inner joins only return the rows with matching values in both tables."
   ]
  },
  {
   "cell_type": "code",
   "execution_count": 4,
   "id": "0210b1c5-4897-4489-94fe-50813a6e8945",
   "metadata": {},
   "outputs": [
    {
     "name": "stdout",
     "output_type": "stream",
     "text": [
      "   rid   vid       owner       address    zip\n",
      "0    1  V001    John Doe    123 Elm St  10001\n",
      "1    2  V002  Jane Smith    456 Oak St  10002\n",
      "2    3  V003    Ali Musa   789 Pine St  10003\n",
      "3    4  V004   Mike Chan  321 Maple St  10004\n",
      "4    5  V005  Sara Bello  654 Cedar St  10005\n"
     ]
    }
   ],
   "source": [
    "import pandas as pd\n",
    "\n",
    "# Extended taxi_owners DataFrame\n",
    "taxi_owners = pd.DataFrame({\n",
    "    'rid': [1, 2, 3, 4, 5],\n",
    "    'vid': ['V001', 'V002', 'V003', 'V004', 'V005'],  # V004 and V005 won't be in taxi_veh\n",
    "    'owner': ['John Doe', 'Jane Smith', 'Ali Musa', 'Mike Chan', 'Sara Bello'],\n",
    "    'address': ['123 Elm St', '456 Oak St', '789 Pine St', '321 Maple St', '654 Cedar St'],\n",
    "    'zip': ['10001', '10002', '10003', '10004', '10005']\n",
    "})\n",
    "print(taxi_owners)"
   ]
  },
  {
   "cell_type": "code",
   "execution_count": 5,
   "id": "c6c762d8-39ed-4690-a52f-7ff2acb4e929",
   "metadata": {},
   "outputs": [
    {
     "name": "stdout",
     "output_type": "stream",
     "text": [
      "   rid   vid       owner       address    zip\n",
      "0    1  V001    John Doe    123 Elm St  10001\n",
      "1    2  V002  Jane Smith    456 Oak St  10002\n",
      "2    3  V003    Ali Musa   789 Pine St  10003\n",
      "3    4  V004   Mike Chan  321 Maple St  10004\n",
      "4    5  V005  Sara Bello  654 Cedar St  10005\n"
     ]
    }
   ],
   "source": [
    "import pandas as pd\n",
    "\n",
    "# Extended taxi_owners DataFrame\n",
    "taxi_owners = pd.DataFrame({\n",
    "    'rid': [1, 2, 3, 4, 5],\n",
    "    'vid': ['V001', 'V002', 'V003', 'V004', 'V005'],  # V004 and V005 won't be in taxi_veh\n",
    "    'owner': ['John Doe', 'Jane Smith', 'Ali Musa', 'Mike Chan', 'Sara Bello'],\n",
    "    'address': ['123 Elm St', '456 Oak St', '789 Pine St', '321 Maple St', '654 Cedar St'],\n",
    "    'zip': ['10001', '10002', '10003', '10004', '10005']\n",
    "})\n",
    "print(taxi_owners)"
   ]
  },
  {
   "cell_type": "code",
   "execution_count": 6,
   "id": "f585dfb1-8b76-4b97-8771-7cf4699886a9",
   "metadata": {},
   "outputs": [
    {
     "name": "stdout",
     "output_type": "stream",
     "text": [
      "    vid     make    model  year fuel_type      owner\n",
      "0  V001   Toyota    Camry  2015  Gasoline    John D.\n",
      "1  V002    Honda    Civic  2018    Hybrid    Jane S.\n",
      "2  V003     Ford    Focus  2017  Gasoline     Ali M.\n",
      "3  V006  Hyundai  Elantra  2020  Electric   Tunde O.\n",
      "4  V007   Nissan   Altima  2019    Diesel  Zainab Y.\n"
     ]
    }
   ],
   "source": [
    "# Extended taxi_veh DataFrame\n",
    "taxi_veh = pd.DataFrame({\n",
    "    'vid': ['V001', 'V002', 'V003', 'V006', 'V007'],  # V006 and V007 won't be in taxi_owners\n",
    "    'make': ['Toyota', 'Honda', 'Ford', 'Hyundai', 'Nissan'],\n",
    "    'model': ['Camry', 'Civic', 'Focus', 'Elantra', 'Altima'],\n",
    "    'year': [2015, 2018, 2017, 2020, 2019],\n",
    "    'fuel_type': ['Gasoline', 'Hybrid', 'Gasoline', 'Electric', 'Diesel'],\n",
    "    'owner': ['John D.', 'Jane S.', 'Ali M.', 'Tunde O.', 'Zainab Y.']\n",
    "})\n",
    "\n",
    "print(taxi_veh)"
   ]
  },
  {
   "cell_type": "code",
   "execution_count": 7,
   "id": "2112eeeb-840c-467d-abcf-39ccdfe62ba6",
   "metadata": {},
   "outputs": [
    {
     "name": "stdout",
     "output_type": "stream",
     "text": [
      "INNER JOIN (default): only matching 'vid's from both tables\n",
      "   rid   vid     owner_x      address    zip    make  model  year fuel_type  \\\n",
      "0    1  V001    John Doe   123 Elm St  10001  Toyota  Camry  2015  Gasoline   \n",
      "1    2  V002  Jane Smith   456 Oak St  10002   Honda  Civic  2018    Hybrid   \n",
      "2    3  V003    Ali Musa  789 Pine St  10003    Ford  Focus  2017  Gasoline   \n",
      "\n",
      "   owner_y  \n",
      "0  John D.  \n",
      "1  Jane S.  \n",
      "2   Ali M.  \n",
      "\n",
      "\n"
     ]
    }
   ],
   "source": [
    "# Merge the tables using the default merge (inner join) on 'vid'\n",
    "# This keeps only rows where the 'vid' appears in both DataFrames\n",
    "taxi_own_veh_inner = taxi_owners.merge(taxi_veh, on='vid')\n",
    "\n",
    "print(\"INNER JOIN (default): only matching 'vid's from both tables\")\n",
    "print(taxi_own_veh_inner)\n",
    "print(\"\\n\")"
   ]
  },
  {
   "cell_type": "code",
   "execution_count": 8,
   "id": "c74d4620-8e51-4bc2-beaa-b5927c13b2b8",
   "metadata": {},
   "outputs": [
    {
     "name": "stdout",
     "output_type": "stream",
     "text": [
      "LEFT JOIN: all taxi_owners rows, match if 'vid' exists in taxi_veh\n",
      "   rid   vid   owner_own       address    zip    make  model    year  \\\n",
      "0    1  V001    John Doe    123 Elm St  10001  Toyota  Camry  2015.0   \n",
      "1    2  V002  Jane Smith    456 Oak St  10002   Honda  Civic  2018.0   \n",
      "2    3  V003    Ali Musa   789 Pine St  10003    Ford  Focus  2017.0   \n",
      "3    4  V004   Mike Chan  321 Maple St  10004     NaN    NaN     NaN   \n",
      "4    5  V005  Sara Bello  654 Cedar St  10005     NaN    NaN     NaN   \n",
      "\n",
      "  fuel_type owner_veh  \n",
      "0  Gasoline   John D.  \n",
      "1    Hybrid   Jane S.  \n",
      "2  Gasoline    Ali M.  \n",
      "3       NaN       NaN  \n",
      "4       NaN       NaN  \n",
      "\n",
      "\n"
     ]
    }
   ],
   "source": [
    "# Merge using a left join (all rows from taxi_owners, even if there's no match in taxi_veh)\n",
    "taxi_own_veh_left = taxi_owners.merge(taxi_veh, on='vid', how='left', suffixes=('_own', '_veh'))\n",
    "\n",
    "print(\"LEFT JOIN: all taxi_owners rows, match if 'vid' exists in taxi_veh\")\n",
    "print(taxi_own_veh_left)\n",
    "print(\"\\n\")"
   ]
  },
  {
   "cell_type": "code",
   "execution_count": 9,
   "id": "5344d2e8-1164-4314-b718-15db755083b3",
   "metadata": {},
   "outputs": [
    {
     "name": "stdout",
     "output_type": "stream",
     "text": [
      "RIGHT JOIN: all taxi_veh rows, match if 'vid' exists in taxi_owners\n",
      "   rid   vid   owner_own      address    zip     make    model  year  \\\n",
      "0  1.0  V001    John Doe   123 Elm St  10001   Toyota    Camry  2015   \n",
      "1  2.0  V002  Jane Smith   456 Oak St  10002    Honda    Civic  2018   \n",
      "2  3.0  V003    Ali Musa  789 Pine St  10003     Ford    Focus  2017   \n",
      "3  NaN  V006         NaN          NaN    NaN  Hyundai  Elantra  2020   \n",
      "4  NaN  V007         NaN          NaN    NaN   Nissan   Altima  2019   \n",
      "\n",
      "  fuel_type  owner_veh  \n",
      "0  Gasoline    John D.  \n",
      "1    Hybrid    Jane S.  \n",
      "2  Gasoline     Ali M.  \n",
      "3  Electric   Tunde O.  \n",
      "4    Diesel  Zainab Y.  \n",
      "\n",
      "\n"
     ]
    }
   ],
   "source": [
    "# Merge using a right join (all rows from taxi_veh, even if there's no match in taxi_owners)\n",
    "taxi_own_veh_right = taxi_owners.merge(taxi_veh, on='vid', how='right', suffixes=('_own', '_veh'))\n",
    "\n",
    "print(\"RIGHT JOIN: all taxi_veh rows, match if 'vid' exists in taxi_owners\")\n",
    "print(taxi_own_veh_right)\n",
    "print(\"\\n\")"
   ]
  },
  {
   "cell_type": "code",
   "execution_count": 10,
   "id": "267ff1bd-0e78-445a-a4fd-24ec9d701644",
   "metadata": {},
   "outputs": [
    {
     "name": "stdout",
     "output_type": "stream",
     "text": [
      "OUTER JOIN: all rows from both tables, matching where possible\n",
      "   rid   vid   owner_own       address    zip     make    model    year  \\\n",
      "0  1.0  V001    John Doe    123 Elm St  10001   Toyota    Camry  2015.0   \n",
      "1  2.0  V002  Jane Smith    456 Oak St  10002    Honda    Civic  2018.0   \n",
      "2  3.0  V003    Ali Musa   789 Pine St  10003     Ford    Focus  2017.0   \n",
      "3  4.0  V004   Mike Chan  321 Maple St  10004      NaN      NaN     NaN   \n",
      "4  5.0  V005  Sara Bello  654 Cedar St  10005      NaN      NaN     NaN   \n",
      "5  NaN  V006         NaN           NaN    NaN  Hyundai  Elantra  2020.0   \n",
      "6  NaN  V007         NaN           NaN    NaN   Nissan   Altima  2019.0   \n",
      "\n",
      "  fuel_type  owner_veh  \n",
      "0  Gasoline    John D.  \n",
      "1    Hybrid    Jane S.  \n",
      "2  Gasoline     Ali M.  \n",
      "3       NaN        NaN  \n",
      "4       NaN        NaN  \n",
      "5  Electric   Tunde O.  \n",
      "6    Diesel  Zainab Y.  \n",
      "\n",
      "\n"
     ]
    }
   ],
   "source": [
    "# Merge using an outer join (keeps all rows from both, fills missing data with NaN)\n",
    "taxi_own_veh_outer = taxi_owners.merge(taxi_veh, on='vid', how='outer', suffixes=('_own', '_veh'))\n",
    "\n",
    "print(\"OUTER JOIN: all rows from both tables, matching where possible\")\n",
    "print(taxi_own_veh_outer)\n",
    "print(\"\\n\")"
   ]
  },
  {
   "cell_type": "code",
   "execution_count": 11,
   "id": "5306f8e3-5440-4354-bd15-33681b8904f4",
   "metadata": {},
   "outputs": [
    {
     "name": "stdout",
     "output_type": "stream",
     "text": [
      "Most common fuel types (from INNER JOIN results):\n",
      "fuel_type\n",
      "Gasoline    2\n",
      "Hybrid      1\n",
      "Name: count, dtype: int64\n"
     ]
    }
   ],
   "source": [
    "# Finally, check most common fuel type using the INNER JOIN version\n",
    "print(\"Most common fuel types (from INNER JOIN results):\")\n",
    "print(taxi_own_veh_inner['fuel_type'].value_counts())"
   ]
  },
  {
   "cell_type": "code",
   "execution_count": 12,
   "id": "268d0d5c-e9c3-4b9b-976d-8ada38c88605",
   "metadata": {},
   "outputs": [
    {
     "name": "stdout",
     "output_type": "stream",
     "text": [
      "Index(['rid', 'vid', 'owner_x', 'address', 'zip', 'make', 'model', 'year',\n",
      "       'fuel_type', 'owner_y'],\n",
      "      dtype='object')\n"
     ]
    }
   ],
   "source": [
    "# Merge the taxi_owners and taxi_veh tables\n",
    "taxi_own_veh = taxi_owners.merge(taxi_veh, on='vid')\n",
    "\n",
    "# Print the column names of the taxi_own_veh\n",
    "print(taxi_own_veh.columns)"
   ]
  },
  {
   "cell_type": "code",
   "execution_count": 13,
   "id": "3c42dbf9-f63c-4271-9b1e-4ace2b8b3055",
   "metadata": {},
   "outputs": [
    {
     "name": "stdout",
     "output_type": "stream",
     "text": [
      "fuel_type\n",
      "Gasoline    2\n",
      "Hybrid      1\n",
      "Name: count, dtype: int64\n"
     ]
    }
   ],
   "source": [
    "# Merge the taxi_owners and taxi_veh tables setting a suffix\n",
    "taxi_own_veh = taxi_owners.merge(taxi_veh, on='vid', suffixes=('_own','_veh'))\n",
    "\n",
    "# Print the value_counts to find the most popular fuel_type\n",
    "print(taxi_own_veh['fuel_type'].value_counts())"
   ]
  },
  {
   "cell_type": "markdown",
   "id": "53c3cbd0-e54f-438b-84ea-45f74808bb4e",
   "metadata": {},
   "source": [
    "#### One-to_many relationship merge"
   ]
  },
  {
   "cell_type": "code",
   "execution_count": 20,
   "id": "d9e848ae-7223-4205-a893-b60cdd52cc29",
   "metadata": {},
   "outputs": [
    {
     "name": "stdout",
     "output_type": "stream",
     "text": [
      "    vid    make  model\n",
      "0  V001  Toyota  Camry\n",
      "1  V002   Honda  Civic\n",
      "2  V003    Ford  Focus\n"
     ]
    }
   ],
   "source": [
    "import pandas as pd\n",
    "\n",
    "# Table A: Vehicles (each vehicle listed once)\n",
    "taxi_veh = pd.DataFrame({\n",
    "    'vid': ['V001', 'V002', 'V003'],\n",
    "    'make': ['Toyota', 'Honda', 'Ford'],\n",
    "    'model': ['Camry', 'Civic', 'Focus']\n",
    "})\n",
    "print(taxi_veh)"
   ]
  },
  {
   "cell_type": "code",
   "execution_count": 22,
   "id": "2151594a-7216-49c2-beac-300818b5d9e9",
   "metadata": {},
   "outputs": [
    {
     "name": "stdout",
     "output_type": "stream",
     "text": [
      "  repair_id   vid        description        date\n",
      "0      R001  V001         Oil Change  2023-01-10\n",
      "1      R002  V001  Brake Replacement  2023-03-05\n",
      "2      R003  V002      Tire Rotation  2023-04-20\n",
      "3      R004  V001       Engine Check  2023-06-12\n"
     ]
    }
   ],
   "source": [
    "# Table B: Repairs (each vehicle may appear multiple times)\n",
    "repairs = pd.DataFrame({\n",
    "    'repair_id': ['R001', 'R002', 'R003', 'R004'],\n",
    "    'vid': ['V001', 'V001', 'V002', 'V001'],  # V001 appears multiple times\n",
    "    'description': ['Oil Change', 'Brake Replacement', 'Tire Rotation', 'Engine Check'],\n",
    "    'date': ['2023-01-10', '2023-03-05', '2023-04-20', '2023-06-12']\n",
    "})\n",
    "print(repairs)"
   ]
  },
  {
   "cell_type": "code",
   "execution_count": 24,
   "id": "f116929d-23d6-4d47-909e-5a9f253a70cf",
   "metadata": {},
   "outputs": [
    {
     "name": "stdout",
     "output_type": "stream",
     "text": [
      "Merged Table (One-to-Many Relationship):\n",
      "\n",
      "    vid    make  model repair_id        description        date\n",
      "0  V001  Toyota  Camry      R001         Oil Change  2023-01-10\n",
      "1  V001  Toyota  Camry      R002  Brake Replacement  2023-03-05\n",
      "2  V001  Toyota  Camry      R004       Engine Check  2023-06-12\n",
      "3  V002   Honda  Civic      R003      Tire Rotation  2023-04-20\n"
     ]
    }
   ],
   "source": [
    "# Merge both tables on 'vid' to reflect the one-to-many relationship\n",
    "merged_df = taxi_veh.merge(repairs, on='vid')\n",
    "\n",
    "# Display the merged DataFrame\n",
    "print(\"Merged Table (One-to-Many Relationship):\\n\")\n",
    "print(merged_df)"
   ]
  },
  {
   "cell_type": "markdown",
   "id": "8b7765bb-7773-4fdc-a52c-209d6dd4d538",
   "metadata": {},
   "source": [
    "#### One-to-one relationship merge"
   ]
  },
  {
   "cell_type": "code",
   "execution_count": 27,
   "id": "fa1cc889-b814-401b-95a5-8bc93675218d",
   "metadata": {},
   "outputs": [
    {
     "name": "stdout",
     "output_type": "stream",
     "text": [
      "   emp_id        name department\n",
      "0       1    John Doe         HR\n",
      "1       2  Jane Smith         IT\n",
      "2       3    Ali Musa      Sales\n"
     ]
    }
   ],
   "source": [
    "import pandas as pd\n",
    "\n",
    "# Table A: Employees\n",
    "employees = pd.DataFrame({\n",
    "    'emp_id': [1, 2, 3],\n",
    "    'name': ['John Doe', 'Jane Smith', 'Ali Musa'],\n",
    "    'department': ['HR', 'IT', 'Sales']\n",
    "})\n",
    "print(employees)"
   ]
  },
  {
   "cell_type": "code",
   "execution_count": 29,
   "id": "3fa5bc82-d4c4-4a48-9dac-dd9a6a36ace9",
   "metadata": {},
   "outputs": [
    {
     "name": "stdout",
     "output_type": "stream",
     "text": [
      "   emp_id         phone      address\n",
      "0       1  123-456-7890   123 Elm St\n",
      "1       2  987-654-3210   456 Oak St\n",
      "2       3  555-666-7777  789 Pine St\n"
     ]
    }
   ],
   "source": [
    "# Table B: Employee Details\n",
    "employee_details = pd.DataFrame({\n",
    "    'emp_id': [1, 2, 3],\n",
    "    'phone': ['123-456-7890', '987-654-3210', '555-666-7777'],\n",
    "    'address': ['123 Elm St', '456 Oak St', '789 Pine St']\n",
    "})\n",
    "print(employee_details)"
   ]
  },
  {
   "cell_type": "code",
   "execution_count": 31,
   "id": "4055d365-56ac-4dff-8c1b-c1a129032c34",
   "metadata": {},
   "outputs": [
    {
     "name": "stdout",
     "output_type": "stream",
     "text": [
      "Merged Table (One-to-One Relationship):\n",
      "\n",
      "   emp_id        name department         phone      address\n",
      "0       1    John Doe         HR  123-456-7890   123 Elm St\n",
      "1       2  Jane Smith         IT  987-654-3210   456 Oak St\n",
      "2       3    Ali Musa      Sales  555-666-7777  789 Pine St\n"
     ]
    }
   ],
   "source": [
    "# Merge the two tables on 'emp_id' to combine employee info with their details\n",
    "merged_df = employees.merge(employee_details, on='emp_id')\n",
    "\n",
    "# Display the merged DataFrame\n",
    "print(\"Merged Table (One-to-One Relationship):\\n\")\n",
    "print(merged_df)"
   ]
  },
  {
   "cell_type": "code",
   "execution_count": 33,
   "id": "0400469b-eef6-4f3d-854a-87c5fde8e7f5",
   "metadata": {},
   "outputs": [
    {
     "name": "stdout",
     "output_type": "stream",
     "text": [
      "   account   ward aid      business       address    zip\n",
      "0     1001  North  A1  Bakery Bliss    101 Elm St  10001\n",
      "1     1002  South  A2    Tech World    202 Oak St  10002\n",
      "2     1003   East  A3  Style Studio   303 Pine St  10003\n",
      "3     1004  North  A1    Daily Deli  404 Maple St  10004\n",
      "4     1005   West  A4   Auto Fixers  505 Cedar St  10005\n"
     ]
    }
   ],
   "source": [
    "import pandas as pd\n",
    "\n",
    "# -----------------------------\n",
    "# Create the licenses DataFrame\n",
    "# -----------------------------\n",
    "licenses = pd.DataFrame({\n",
    "    'account': [1001, 1002, 1003, 1004, 1005],\n",
    "    'ward': ['North', 'South', 'East', 'North', 'West'],\n",
    "    'aid': ['A1', 'A2', 'A3', 'A1', 'A4'],\n",
    "    'business': ['Bakery Bliss', 'Tech World', 'Style Studio', 'Daily Deli', 'Auto Fixers'],\n",
    "    'address': ['101 Elm St', '202 Oak St', '303 Pine St', '404 Maple St', '505 Cedar St'],\n",
    "    'zip': ['10001', '10002', '10003', '10004', '10005']\n",
    "})\n",
    "print(licenses)"
   ]
  },
  {
   "cell_type": "code",
   "execution_count": 35,
   "id": "e380f1b5-f0ab-473d-85ea-60c6f3007a37",
   "metadata": {},
   "outputs": [
    {
     "name": "stdout",
     "output_type": "stream",
     "text": [
      "   account first_name last_name    title\n",
      "0     1001       John       Doe      CEO\n",
      "1     1002       Jane     Smith      CTO\n",
      "2     1003        Ali      Musa      CEO\n",
      "3     1004      Grace       Lee  Manager\n",
      "4     1005       Tony     Brown      CEO\n"
     ]
    }
   ],
   "source": [
    "# -----------------------------------\n",
    "# Create the biz_owners DataFrame\n",
    "# -----------------------------------\n",
    "biz_owners = pd.DataFrame({\n",
    "    'account': [1001, 1002, 1003, 1004, 1005],\n",
    "    'first_name': ['John', 'Jane', 'Ali', 'Grace', 'Tony'],\n",
    "    'last_name': ['Doe', 'Smith', 'Musa', 'Lee', 'Brown'],\n",
    "    'title': ['CEO', 'CTO', 'CEO', 'Manager', 'CEO']\n",
    "})\n",
    "print(biz_owners)"
   ]
  },
  {
   "cell_type": "code",
   "execution_count": 37,
   "id": "d4bc84ae-c59f-4bba-a203-e73d7580ed00",
   "metadata": {},
   "outputs": [
    {
     "name": "stdout",
     "output_type": "stream",
     "text": [
      "         account\n",
      "title           \n",
      "CEO            3\n",
      "CTO            1\n",
      "Manager        1\n"
     ]
    }
   ],
   "source": [
    "# ---------------------------------------------------------------\n",
    "# Merge the licenses and biz_owners tables using the 'account' column\n",
    "# This connects each business license with its owner's details\n",
    "licenses_owners = licenses.merge(biz_owners, on='account')\n",
    "\n",
    "# ---------------------------------------------------------------\n",
    "# Group the merged DataFrame by the owner's title and count how many\n",
    "# accounts (businesses) each title is responsible for\n",
    "counted_df = licenses_owners.groupby('title').agg({'account': 'count'})\n",
    "\n",
    "# ---------------------------------------------------------------\n",
    "# Sort the result so the titles with the highest number of businesses\n",
    "# appear first (in descending order)\n",
    "sorted_df = counted_df.sort_values('account', ascending=False)\n",
    "\n",
    "# ---------------------------------------------------------------\n",
    "# Print the top rows to see which titles are most common\n",
    "print(sorted_df.head())"
   ]
  },
  {
   "cell_type": "markdown",
   "id": "9d8d0611-7948-4bf6-bfb8-b7dd6efeb122",
   "metadata": {},
   "source": [
    "Your goal is to find the total number of rides provided to passengers passing through the Wilson station (station_name == 'Wilson') when riding Chicago's public transportation system on weekdays (day_type == 'Weekday') in July (month == 7). Luckily, Chicago provides this detailed data, but it is in three different tables. You will work on merging these tables together to answer the question"
   ]
  },
  {
   "cell_type": "code",
   "execution_count": null,
   "id": "ff2a21ff-7845-432d-8391-14fbf18cfd61",
   "metadata": {},
   "outputs": [],
   "source": [
    "import pandas as pd\n",
    "\n",
    "# -------------------------------\n",
    "# Calendar Data: Date + Day Type\n",
    "# -------------------------------\n",
    "cal = pd.DataFrame({\n",
    "    'year': [2024, 2024, 2024, 2024],\n",
    "    'month': [7, 7, 7, 7],\n",
    "    'day': [1, 2, 3, 4],\n",
    "    'day_type': ['Weekday', 'Weekday', 'Weekend', 'Weekday']\n",
    "})"
   ]
  },
  {
   "cell_type": "code",
   "execution_count": null,
   "id": "d3787298-3f93-49eb-8784-fab94ca1b9ab",
   "metadata": {},
   "outputs": [],
   "source": [
    "# ---------------------------------------------\n",
    "# Ridership Data: Rides per Station per Day\n",
    "# ---------------------------------------------\n",
    "ridership = pd.DataFrame({\n",
    "    'station_id': [101, 101, 102, 101],\n",
    "    'year': [2024, 2024, 2024, 2024],\n",
    "    'month': [7, 7, 7, 7],\n",
    "    'day': [1, 2, 3, 4],\n",
    "    'rides': [1200, 1350, 800, 1400]\n",
    "})"
   ]
  },
  {
   "cell_type": "code",
   "execution_count": null,
   "id": "76255133-19fc-48dc-b8d6-992ecc196e44",
   "metadata": {},
   "outputs": [],
   "source": [
    "# -------------------------------------\n",
    "# Station Info: ID + Name + Location\n",
    "# -------------------------------------\n",
    "stations = pd.DataFrame({\n",
    "    'station_id': [101, 102],\n",
    "    'station_name': ['Wilson', 'Clark'],\n",
    "    'location': ['North Side', 'West Side']\n",
    "})"
   ]
  },
  {
   "cell_type": "code",
   "execution_count": null,
   "id": "1a97ebf5-2e70-46f0-9534-9eb72fccfbba",
   "metadata": {},
   "outputs": [
    {
     "name": "stdout",
     "output_type": "stream",
     "text": [
      "3950\n"
     ]
    }
   ],
   "source": [
    "# ------------------------------------------------------------------------\n",
    "# Step 1: Merge ridership with cal (on year, month, day), then with stations (on station_id)\n",
    "# This gives each ride record the date type and station info\n",
    "ridership_cal_stations = ridership.merge(cal, on=['year', 'month', 'day']) \\\n",
    "                                   .merge(stations, on='station_id')\n",
    "\n",
    "# ------------------------------------------------------------------------\n",
    "# Step 2: Create a filter to select data for July (month == 7), Weekdays only,\n",
    "# and only for the station named \"Wilson\"\n",
    "filter_criteria = (\n",
    "    (ridership_cal_stations['month'] == 7) &\n",
    "    (ridership_cal_stations['day_type'] == 'Weekday') &\n",
    "    (ridership_cal_stations['station_name'] == 'Wilson')\n",
    ")\n",
    "\n",
    "# ------------------------------------------------------------------------\n",
    "# Step 3: Apply the filter using .loc[] and sum the rides for that filtered set\n",
    "# This gives total weekday rides in July for Wilson station\n",
    "print(ridership_cal_stations.loc[filter_criteria, 'rides'].sum())"
   ]
  },
  {
   "cell_type": "code",
   "execution_count": 29,
   "id": "058f44c2-a976-4673-92e9-3adc66ffc371",
   "metadata": {},
   "outputs": [],
   "source": [
    "import pandas as pd\n",
    "\n",
    "# Iron Man 1 cast\n",
    "iron_1_actors = pd.DataFrame({\n",
    "    'character': ['Tony Stark', 'Pepper Potts', 'Obadiah Stane', 'James Rhodes'],\n",
    "    'id': [1, 2, 3, 4],\n",
    "    'name': ['Robert Downey Jr.', 'Gwyneth Paltrow', 'Jeff Bridges', 'Terrence Howard'] \n",
    "})\n",
    "\n",
    "# Iron Man 2 cast\n",
    "iron_2_actors = pd.DataFrame({\n",
    "    'character': ['Tony Stark', 'Pepper Potts', 'James Rhodes', 'Natasha Romanoff'],\n",
    "    'id': [1, 2, 5, 6],\n",
    "    'name': ['Robert Downey Jr.', 'Gwyneth Paltrow', 'Don Cheadle', 'Scarlett Johansson'],\n",
    "})\n"
   ]
  },
  {
   "cell_type": "code",
   "execution_count": 31,
   "id": "4eea3dfc-a0c6-4e5e-b2a2-fa70e5add2bf",
   "metadata": {},
   "outputs": [
    {
     "name": "stdout",
     "output_type": "stream",
     "text": [
      "     character_1  id           name_1       character_2              name_2\n",
      "2  Obadiah Stane   3     Jeff Bridges               NaN                 NaN\n",
      "3   James Rhodes   4  Terrence Howard               NaN                 NaN\n",
      "4            NaN   5              NaN      James Rhodes         Don Cheadle\n",
      "5            NaN   6              NaN  Natasha Romanoff  Scarlett Johansson\n"
     ]
    }
   ],
   "source": [
    "# Merge both tables on 'id' with outer join and suffixes to distinguish columns\n",
    "iron_1_and_2 = iron_1_actors.merge(iron_2_actors,\n",
    "                                   on='id',\n",
    "                                   how='outer',\n",
    "                                   suffixes=['_1', '_2'])\n",
    "\n",
    "# Filter: keep rows where the actor appears in only one of the movies\n",
    "m = (iron_1_and_2['name_1'].isnull() | iron_1_and_2['name_2'].isnull())\n",
    "\n",
    "# Show the result\n",
    "print(iron_1_and_2[m])\n"
   ]
  },
  {
   "cell_type": "code",
   "execution_count": 35,
   "id": "0bbd74be-b12b-45e1-9ef9-94b4aa3ee543",
   "metadata": {},
   "outputs": [
    {
     "name": "stdout",
     "output_type": "stream",
     "text": [
      "   id     name  manager_id\n",
      "0   1    Alice         NaN\n",
      "1   2      Bob         1.0\n",
      "2   3  Charlie         1.0\n",
      "3   4    David         2.0\n",
      "4   5      Eva         2.0\n"
     ]
    }
   ],
   "source": [
    "import pandas as pd\n",
    "\n",
    "# Employee table\n",
    "employees = pd.DataFrame({\n",
    "    'id': [1, 2, 3, 4, 5],\n",
    "    'name': ['Alice', 'Bob', 'Charlie', 'David', 'Eva'],\n",
    "    'manager_id': [None, 1, 1, 2, 2]  # manager_id refers to 'id' of another employee\n",
    "})\n",
    "print(employees)"
   ]
  },
  {
   "cell_type": "markdown",
   "id": "d8b46ef8-fa34-4945-a115-bbc9c6adc812",
   "metadata": {},
   "source": [
    "### One-to-many merge with multiple tables"
   ]
  },
  {
   "cell_type": "code",
   "execution_count": 1,
   "id": "5a80da57-30a2-4500-b7ce-b2bd476d1cc1",
   "metadata": {},
   "outputs": [
    {
     "name": "stdout",
     "output_type": "stream",
     "text": [
      "         Name  Price  Quantity\n",
      "0       Apple   0.50        10\n",
      "1      Banana   0.30        20\n",
      "2      Cherry   0.75        15\n",
      "3        Date   0.80         5\n",
      "4  Elderberry   1.50         8\n"
     ]
    }
   ],
   "source": [
    "import pandas as pd\n",
    "\n",
    "data = {\n",
    "    'Name': ['Apple', 'Banana', 'Cherry', 'Date', 'Elderberry'],\n",
    "    'Price': [0.50, 0.30, 0.75, 0.80, 1.50],\n",
    "    'Quantity': [10, 20, 15, 5, 8]\n",
    "}\n",
    "\n",
    "df = pd.DataFrame(data)\n",
    "print(df)"
   ]
  },
  {
   "cell_type": "code",
   "execution_count": 3,
   "id": "df80c6db-ce05-4c27-b014-a7778ee14c3f",
   "metadata": {},
   "outputs": [
    {
     "data": {
      "text/html": [
       "<div>\n",
       "<style scoped>\n",
       "    .dataframe tbody tr th:only-of-type {\n",
       "        vertical-align: middle;\n",
       "    }\n",
       "\n",
       "    .dataframe tbody tr th {\n",
       "        vertical-align: top;\n",
       "    }\n",
       "\n",
       "    .dataframe thead th {\n",
       "        text-align: right;\n",
       "    }\n",
       "</style>\n",
       "<table border=\"1\" class=\"dataframe\">\n",
       "  <thead>\n",
       "    <tr style=\"text-align: right;\">\n",
       "      <th></th>\n",
       "      <th>Name</th>\n",
       "      <th>Price</th>\n",
       "      <th>Quantity</th>\n",
       "    </tr>\n",
       "  </thead>\n",
       "  <tbody>\n",
       "    <tr>\n",
       "      <th>2</th>\n",
       "      <td>Cherry</td>\n",
       "      <td>0.75</td>\n",
       "      <td>15</td>\n",
       "    </tr>\n",
       "    <tr>\n",
       "      <th>3</th>\n",
       "      <td>Date</td>\n",
       "      <td>0.80</td>\n",
       "      <td>5</td>\n",
       "    </tr>\n",
       "    <tr>\n",
       "      <th>4</th>\n",
       "      <td>Elderberry</td>\n",
       "      <td>1.50</td>\n",
       "      <td>8</td>\n",
       "    </tr>\n",
       "  </tbody>\n",
       "</table>\n",
       "</div>"
      ],
      "text/plain": [
       "         Name  Price  Quantity\n",
       "2      Cherry   0.75        15\n",
       "3        Date   0.80         5\n",
       "4  Elderberry   1.50         8"
      ]
     },
     "execution_count": 3,
     "metadata": {},
     "output_type": "execute_result"
    }
   ],
   "source": [
    "df[df['Price'] > 0.60]"
   ]
  },
  {
   "cell_type": "code",
   "execution_count": 5,
   "id": "9b3b3108-70cd-42b7-b4cd-f76aee874b63",
   "metadata": {},
   "outputs": [
    {
     "data": {
      "text/plain": [
       "0    False\n",
       "1    False\n",
       "2     True\n",
       "3     True\n",
       "4     True\n",
       "Name: Price, dtype: bool"
      ]
     },
     "execution_count": 5,
     "metadata": {},
     "output_type": "execute_result"
    }
   ],
   "source": [
    "df['Price'] > 0.60"
   ]
  },
  {
   "cell_type": "code",
   "execution_count": 7,
   "id": "2fc58f3e-1424-4231-ae8d-bf7a65b1de2e",
   "metadata": {},
   "outputs": [
    {
     "data": {
      "text/html": [
       "<div>\n",
       "<style scoped>\n",
       "    .dataframe tbody tr th:only-of-type {\n",
       "        vertical-align: middle;\n",
       "    }\n",
       "\n",
       "    .dataframe tbody tr th {\n",
       "        vertical-align: top;\n",
       "    }\n",
       "\n",
       "    .dataframe thead th {\n",
       "        text-align: right;\n",
       "    }\n",
       "</style>\n",
       "<table border=\"1\" class=\"dataframe\">\n",
       "  <thead>\n",
       "    <tr style=\"text-align: right;\">\n",
       "      <th></th>\n",
       "      <th>Name</th>\n",
       "      <th>Price</th>\n",
       "      <th>Quantity</th>\n",
       "    </tr>\n",
       "  </thead>\n",
       "  <tbody>\n",
       "    <tr>\n",
       "      <th>3</th>\n",
       "      <td>Date</td>\n",
       "      <td>0.8</td>\n",
       "      <td>5</td>\n",
       "    </tr>\n",
       "    <tr>\n",
       "      <th>4</th>\n",
       "      <td>Elderberry</td>\n",
       "      <td>1.5</td>\n",
       "      <td>8</td>\n",
       "    </tr>\n",
       "  </tbody>\n",
       "</table>\n",
       "</div>"
      ],
      "text/plain": [
       "         Name  Price  Quantity\n",
       "3        Date    0.8         5\n",
       "4  Elderberry    1.5         8"
      ]
     },
     "execution_count": 7,
     "metadata": {},
     "output_type": "execute_result"
    }
   ],
   "source": [
    "df[df['Quantity'] < 10]"
   ]
  },
  {
   "cell_type": "code",
   "execution_count": 9,
   "id": "288896c5-7096-47c8-b996-3bd1896703e3",
   "metadata": {},
   "outputs": [
    {
     "data": {
      "text/html": [
       "<div>\n",
       "<style scoped>\n",
       "    .dataframe tbody tr th:only-of-type {\n",
       "        vertical-align: middle;\n",
       "    }\n",
       "\n",
       "    .dataframe tbody tr th {\n",
       "        vertical-align: top;\n",
       "    }\n",
       "\n",
       "    .dataframe thead th {\n",
       "        text-align: right;\n",
       "    }\n",
       "</style>\n",
       "<table border=\"1\" class=\"dataframe\">\n",
       "  <thead>\n",
       "    <tr style=\"text-align: right;\">\n",
       "      <th></th>\n",
       "      <th>Name</th>\n",
       "      <th>Price</th>\n",
       "      <th>Quantity</th>\n",
       "    </tr>\n",
       "  </thead>\n",
       "  <tbody>\n",
       "    <tr>\n",
       "      <th>0</th>\n",
       "      <td>Apple</td>\n",
       "      <td>0.50</td>\n",
       "      <td>10</td>\n",
       "    </tr>\n",
       "    <tr>\n",
       "      <th>2</th>\n",
       "      <td>Cherry</td>\n",
       "      <td>0.75</td>\n",
       "      <td>15</td>\n",
       "    </tr>\n",
       "    <tr>\n",
       "      <th>3</th>\n",
       "      <td>Date</td>\n",
       "      <td>0.80</td>\n",
       "      <td>5</td>\n",
       "    </tr>\n",
       "  </tbody>\n",
       "</table>\n",
       "</div>"
      ],
      "text/plain": [
       "     Name  Price  Quantity\n",
       "0   Apple   0.50        10\n",
       "2  Cherry   0.75        15\n",
       "3    Date   0.80         5"
      ]
     },
     "execution_count": 9,
     "metadata": {},
     "output_type": "execute_result"
    }
   ],
   "source": [
    "df[(df['Price'] >= 0.50) & (df['Price'] <= 1.00)]"
   ]
  },
  {
   "cell_type": "code",
   "execution_count": 11,
   "id": "53b70db8-03f4-4647-85a2-8098c8e11e93",
   "metadata": {},
   "outputs": [
    {
     "data": {
      "text/html": [
       "<div>\n",
       "<style scoped>\n",
       "    .dataframe tbody tr th:only-of-type {\n",
       "        vertical-align: middle;\n",
       "    }\n",
       "\n",
       "    .dataframe tbody tr th {\n",
       "        vertical-align: top;\n",
       "    }\n",
       "\n",
       "    .dataframe thead th {\n",
       "        text-align: right;\n",
       "    }\n",
       "</style>\n",
       "<table border=\"1\" class=\"dataframe\">\n",
       "  <thead>\n",
       "    <tr style=\"text-align: right;\">\n",
       "      <th></th>\n",
       "      <th>Name</th>\n",
       "      <th>Price</th>\n",
       "      <th>Quantity</th>\n",
       "    </tr>\n",
       "  </thead>\n",
       "  <tbody>\n",
       "    <tr>\n",
       "      <th>1</th>\n",
       "      <td>Banana</td>\n",
       "      <td>0.3</td>\n",
       "      <td>20</td>\n",
       "    </tr>\n",
       "    <tr>\n",
       "      <th>3</th>\n",
       "      <td>Date</td>\n",
       "      <td>0.8</td>\n",
       "      <td>5</td>\n",
       "    </tr>\n",
       "  </tbody>\n",
       "</table>\n",
       "</div>"
      ],
      "text/plain": [
       "     Name  Price  Quantity\n",
       "1  Banana    0.3        20\n",
       "3    Date    0.8         5"
      ]
     },
     "execution_count": 11,
     "metadata": {},
     "output_type": "execute_result"
    }
   ],
   "source": [
    "df[(df['Name'] == 'Banana') | (df['Name'] == 'Date')]"
   ]
  },
  {
   "cell_type": "code",
   "execution_count": 13,
   "id": "89576b58-4d64-4b55-911d-f2e9a8338e53",
   "metadata": {},
   "outputs": [
    {
     "data": {
      "text/html": [
       "<div>\n",
       "<style scoped>\n",
       "    .dataframe tbody tr th:only-of-type {\n",
       "        vertical-align: middle;\n",
       "    }\n",
       "\n",
       "    .dataframe tbody tr th {\n",
       "        vertical-align: top;\n",
       "    }\n",
       "\n",
       "    .dataframe thead th {\n",
       "        text-align: right;\n",
       "    }\n",
       "</style>\n",
       "<table border=\"1\" class=\"dataframe\">\n",
       "  <thead>\n",
       "    <tr style=\"text-align: right;\">\n",
       "      <th></th>\n",
       "      <th>Name</th>\n",
       "      <th>Price</th>\n",
       "    </tr>\n",
       "  </thead>\n",
       "  <tbody>\n",
       "    <tr>\n",
       "      <th>1</th>\n",
       "      <td>Banana</td>\n",
       "      <td>0.30</td>\n",
       "    </tr>\n",
       "    <tr>\n",
       "      <th>2</th>\n",
       "      <td>Cherry</td>\n",
       "      <td>0.75</td>\n",
       "    </tr>\n",
       "  </tbody>\n",
       "</table>\n",
       "</div>"
      ],
      "text/plain": [
       "     Name  Price\n",
       "1  Banana   0.30\n",
       "2  Cherry   0.75"
      ]
     },
     "execution_count": 13,
     "metadata": {},
     "output_type": "execute_result"
    }
   ],
   "source": [
    "df[df['Quantity'] > 10][['Name', 'Price']]"
   ]
  },
  {
   "cell_type": "code",
   "execution_count": 19,
   "id": "14d7a419-8b6c-48d1-8353-7d886a8e418a",
   "metadata": {},
   "outputs": [
    {
     "data": {
      "text/plain": [
       "0.9333333333333332"
      ]
     },
     "execution_count": 19,
     "metadata": {},
     "output_type": "execute_result"
    }
   ],
   "source": [
    "df[df['Quantity'] < 15]['Price'].mean()"
   ]
  },
  {
   "cell_type": "code",
   "execution_count": 21,
   "id": "2b0cd80c-234a-4283-8b0c-cc13ea31ef84",
   "metadata": {},
   "outputs": [
    {
     "name": "stdout",
     "output_type": "stream",
     "text": [
      "Total quantity for fruits under 1.00: 50\n"
     ]
    }
   ],
   "source": [
    "total_qty = df[df['Price'] < 1.00]['Quantity'].sum()\n",
    "print(\"Total quantity for fruits under 1.00:\", total_qty)"
   ]
  },
  {
   "cell_type": "code",
   "execution_count": 23,
   "id": "2199ee7d-a3dc-4f39-926b-5dbda035e3e4",
   "metadata": {},
   "outputs": [
    {
     "data": {
      "text/html": [
       "<div>\n",
       "<style scoped>\n",
       "    .dataframe tbody tr th:only-of-type {\n",
       "        vertical-align: middle;\n",
       "    }\n",
       "\n",
       "    .dataframe tbody tr th {\n",
       "        vertical-align: top;\n",
       "    }\n",
       "\n",
       "    .dataframe thead th {\n",
       "        text-align: right;\n",
       "    }\n",
       "</style>\n",
       "<table border=\"1\" class=\"dataframe\">\n",
       "  <thead>\n",
       "    <tr style=\"text-align: right;\">\n",
       "      <th></th>\n",
       "      <th>Price</th>\n",
       "      <th>Quantity</th>\n",
       "    </tr>\n",
       "  </thead>\n",
       "  <tbody>\n",
       "    <tr>\n",
       "      <th>mean</th>\n",
       "      <td>1.016667</td>\n",
       "      <td>9.333333</td>\n",
       "    </tr>\n",
       "    <tr>\n",
       "      <th>sum</th>\n",
       "      <td>3.050000</td>\n",
       "      <td>28.000000</td>\n",
       "    </tr>\n",
       "    <tr>\n",
       "      <th>max</th>\n",
       "      <td>1.500000</td>\n",
       "      <td>15.000000</td>\n",
       "    </tr>\n",
       "  </tbody>\n",
       "</table>\n",
       "</div>"
      ],
      "text/plain": [
       "         Price   Quantity\n",
       "mean  1.016667   9.333333\n",
       "sum   3.050000  28.000000\n",
       "max   1.500000  15.000000"
      ]
     },
     "execution_count": 23,
     "metadata": {},
     "output_type": "execute_result"
    }
   ],
   "source": [
    "df[df['Price'] > 0.50][['Price', 'Quantity']].agg(['mean', 'sum', 'max'])\n"
   ]
  },
  {
   "cell_type": "code",
   "execution_count": null,
   "id": "c1db915d-f298-4246-9156-6dcb56fbe8bf",
   "metadata": {},
   "outputs": [],
   "source": []
  },
  {
   "cell_type": "markdown",
   "id": "5edc5c31-f0c8-4064-92cd-0ed88dcbc93a",
   "metadata": {},
   "source": [
    "## Self join\n",
    "\n",
    "### When you do a self join, you’re pairing every row in the table with every other row that matches on a key.\n",
    "\n",
    "### For each person working on a movie (id), pair them with every other person working on the same movie.\n",
    "\n",
    "### For each person (name_dir), list every person (name_crew) they worked with\n",
    "### That includes:\n",
    "* Themselves\n",
    "* Others\n",
    "* Repeating rows"
   ]
  },
  {
   "cell_type": "code",
   "execution_count": 37,
   "id": "d9b68830-9ce6-4285-bd13-279d5b795dca",
   "metadata": {},
   "outputs": [
    {
     "name": "stdout",
     "output_type": "stream",
     "text": [
      "Original crews DataFrame:\n",
      "      id             job               name\n",
      "0  19995          Editor  Stephen E. Rivkin\n",
      "1  19995  Sound Designer  Christopher Boyes\n",
      "2  19995         Casting          Mali Finn\n",
      "3  19995        Director      James Cameron\n",
      "4  19995          Writer      James Cameron\n",
      "5  20000          Editor         Joe Walker\n",
      "6  20000        Director   Denis Villeneuve\n",
      "7  20000        Producer        Mary Parent\n"
     ]
    }
   ],
   "source": [
    "import pandas as pd\n",
    "\n",
    "# --------------------------------------\n",
    "# Step 1: Create a sample crews DataFrame\n",
    "# --------------------------------------\n",
    "crews = pd.DataFrame({\n",
    "    'id': [19995, 19995, 19995, 19995, 19995,\n",
    "           20000, 20000, 20000],\n",
    "    'job': ['Editor', 'Sound Designer', 'Casting', 'Director', 'Writer',\n",
    "            'Editor', 'Director', 'Producer'],\n",
    "    'name': ['Stephen E. Rivkin', 'Christopher Boyes', 'Mali Finn',\n",
    "             'James Cameron', 'James Cameron',\n",
    "             'Joe Walker', 'Denis Villeneuve', 'Mary Parent']\n",
    "})\n",
    "\n",
    "print(\"Original crews DataFrame:\")\n",
    "print(crews)"
   ]
  },
  {
   "cell_type": "code",
   "execution_count": 45,
   "id": "4c4cbfc5-1630-444c-a0fe-12094e3067df",
   "metadata": {},
   "outputs": [
    {
     "name": "stdout",
     "output_type": "stream",
     "text": [
      "\n",
      "For each person (name_dir), list every person (name_crew) they worked with:\n",
      "      id         job_dir           name_dir        job_crew          name_crew\n",
      "0  19995          Editor  Stephen E. Rivkin          Editor  Stephen E. Rivkin\n",
      "1  19995          Editor  Stephen E. Rivkin  Sound Designer  Christopher Boyes\n",
      "2  19995          Editor  Stephen E. Rivkin         Casting          Mali Finn\n",
      "3  19995          Editor  Stephen E. Rivkin        Director      James Cameron\n",
      "4  19995          Editor  Stephen E. Rivkin          Writer      James Cameron\n",
      "5  19995  Sound Designer  Christopher Boyes          Editor  Stephen E. Rivkin\n",
      "6  19995  Sound Designer  Christopher Boyes  Sound Designer  Christopher Boyes\n",
      "7  19995  Sound Designer  Christopher Boyes         Casting          Mali Finn\n",
      "8  19995  Sound Designer  Christopher Boyes        Director      James Cameron\n",
      "9  19995  Sound Designer  Christopher Boyes          Writer      James Cameron\n"
     ]
    }
   ],
   "source": [
    "# --------------------------------------\n",
    "# Step 2: Self-join on movie ID\n",
    "# --------------------------------------\n",
    "crews_self_merged = crews.merge(\n",
    "    crews,\n",
    "    on='id',\n",
    "    suffixes=('_dir', '_crew')  # To distinguish the two joined tables\n",
    ")\n",
    "\n",
    "print(\"\\nFor each person (name_dir), list every person (name_crew) they worked with:\")\n",
    "print(crews_self_merged.head(10))  # Just to keep the output short"
   ]
  },
  {
   "cell_type": "code",
   "execution_count": 41,
   "id": "2e0e8531-7f2a-4a6e-9583-04a814848f8c",
   "metadata": {},
   "outputs": [
    {
     "name": "stdout",
     "output_type": "stream",
     "text": [
      "       id         job_dir           name_dir        job_crew  \\\n",
      "0   19995          Editor  Stephen E. Rivkin          Editor   \n",
      "1   19995          Editor  Stephen E. Rivkin  Sound Designer   \n",
      "2   19995          Editor  Stephen E. Rivkin         Casting   \n",
      "3   19995          Editor  Stephen E. Rivkin        Director   \n",
      "4   19995          Editor  Stephen E. Rivkin          Writer   \n",
      "5   19995  Sound Designer  Christopher Boyes          Editor   \n",
      "6   19995  Sound Designer  Christopher Boyes  Sound Designer   \n",
      "7   19995  Sound Designer  Christopher Boyes         Casting   \n",
      "8   19995  Sound Designer  Christopher Boyes        Director   \n",
      "9   19995  Sound Designer  Christopher Boyes          Writer   \n",
      "10  19995         Casting          Mali Finn          Editor   \n",
      "11  19995         Casting          Mali Finn  Sound Designer   \n",
      "12  19995         Casting          Mali Finn         Casting   \n",
      "13  19995         Casting          Mali Finn        Director   \n",
      "14  19995         Casting          Mali Finn          Writer   \n",
      "15  19995        Director      James Cameron          Editor   \n",
      "16  19995        Director      James Cameron  Sound Designer   \n",
      "17  19995        Director      James Cameron         Casting   \n",
      "18  19995        Director      James Cameron        Director   \n",
      "19  19995        Director      James Cameron          Writer   \n",
      "20  19995          Writer      James Cameron          Editor   \n",
      "21  19995          Writer      James Cameron  Sound Designer   \n",
      "22  19995          Writer      James Cameron         Casting   \n",
      "23  19995          Writer      James Cameron        Director   \n",
      "24  19995          Writer      James Cameron          Writer   \n",
      "25  20000          Editor         Joe Walker          Editor   \n",
      "26  20000          Editor         Joe Walker        Director   \n",
      "27  20000          Editor         Joe Walker        Producer   \n",
      "28  20000        Director   Denis Villeneuve          Editor   \n",
      "29  20000        Director   Denis Villeneuve        Director   \n",
      "30  20000        Director   Denis Villeneuve        Producer   \n",
      "31  20000        Producer        Mary Parent          Editor   \n",
      "32  20000        Producer        Mary Parent        Director   \n",
      "33  20000        Producer        Mary Parent        Producer   \n",
      "\n",
      "            name_crew  \n",
      "0   Stephen E. Rivkin  \n",
      "1   Christopher Boyes  \n",
      "2           Mali Finn  \n",
      "3       James Cameron  \n",
      "4       James Cameron  \n",
      "5   Stephen E. Rivkin  \n",
      "6   Christopher Boyes  \n",
      "7           Mali Finn  \n",
      "8       James Cameron  \n",
      "9       James Cameron  \n",
      "10  Stephen E. Rivkin  \n",
      "11  Christopher Boyes  \n",
      "12          Mali Finn  \n",
      "13      James Cameron  \n",
      "14      James Cameron  \n",
      "15  Stephen E. Rivkin  \n",
      "16  Christopher Boyes  \n",
      "17          Mali Finn  \n",
      "18      James Cameron  \n",
      "19      James Cameron  \n",
      "20  Stephen E. Rivkin  \n",
      "21  Christopher Boyes  \n",
      "22          Mali Finn  \n",
      "23      James Cameron  \n",
      "24      James Cameron  \n",
      "25         Joe Walker  \n",
      "26   Denis Villeneuve  \n",
      "27        Mary Parent  \n",
      "28         Joe Walker  \n",
      "29   Denis Villeneuve  \n",
      "30        Mary Parent  \n",
      "31         Joe Walker  \n",
      "32   Denis Villeneuve  \n",
      "33        Mary Parent  \n"
     ]
    }
   ],
   "source": [
    "print(crews_self_merged)"
   ]
  },
  {
   "cell_type": "code",
   "execution_count": 51,
   "id": "edf0aacc-f0a7-415d-ab18-0fcc06293cdc",
   "metadata": {},
   "outputs": [],
   "source": [
    "#Create a Boolean index, named boolean_filter, that selects rows from the left table with the job of 'Director' \n",
    "#and avoids rows with the job of 'Director' in the right table.\n",
    "boolean_filter = ((crews_self_merged['job_dir'] == 'Director') & \n",
    "     (crews_self_merged['job_crew'] != 'Director'))\n",
    "direct_crews = crews_self_merged[boolean_filter]"
   ]
  },
  {
   "cell_type": "code",
   "execution_count": 53,
   "id": "20eb1f71-e712-4ce9-8034-ff1cc6936897",
   "metadata": {},
   "outputs": [
    {
     "name": "stdout",
     "output_type": "stream",
     "text": [
      "       id   job_dir          name_dir        job_crew          name_crew\n",
      "15  19995  Director     James Cameron          Editor  Stephen E. Rivkin\n",
      "16  19995  Director     James Cameron  Sound Designer  Christopher Boyes\n",
      "17  19995  Director     James Cameron         Casting          Mali Finn\n",
      "19  19995  Director     James Cameron          Writer      James Cameron\n",
      "28  20000  Director  Denis Villeneuve          Editor         Joe Walker\n",
      "30  20000  Director  Denis Villeneuve        Producer        Mary Parent\n"
     ]
    }
   ],
   "source": [
    "print(direct_crews)"
   ]
  },
  {
   "cell_type": "markdown",
   "id": "225bfb57-77ba-428b-b1a2-f4cffea91f22",
   "metadata": {},
   "source": [
    "## Anti join"
   ]
  },
  {
   "cell_type": "code",
   "execution_count": 2,
   "id": "bfcff417-16a5-4f90-bdda-a0b021fa2fb3",
   "metadata": {},
   "outputs": [
    {
     "name": "stdout",
     "output_type": "stream",
     "text": [
      "   student_id     name\n",
      "0           1      Ada\n",
      "1           2      Ben\n",
      "2           3  Cynthia\n",
      "3           4   Daniel\n"
     ]
    }
   ],
   "source": [
    "import pandas as pd\n",
    "\n",
    "# All students\n",
    "students = pd.DataFrame({\n",
    "    'student_id': [1, 2, 3, 4],\n",
    "    'name': ['Ada', 'Ben', 'Cynthia', 'Daniel']\n",
    "})\n",
    "print(students)"
   ]
  },
  {
   "cell_type": "code",
   "execution_count": 4,
   "id": "c769fada-37ce-4558-8bc2-284e36ca7c5d",
   "metadata": {},
   "outputs": [
    {
     "name": "stdout",
     "output_type": "stream",
     "text": [
      "   student_id\n",
      "0           2\n",
      "1           4\n"
     ]
    }
   ],
   "source": [
    "# Registered students\n",
    "registered = pd.DataFrame({\n",
    "    'student_id': [2, 4]\n",
    "})\n",
    "print(registered)"
   ]
  },
  {
   "cell_type": "code",
   "execution_count": 8,
   "id": "09effc1d-4231-4be3-a2b8-028ad7ef813c",
   "metadata": {},
   "outputs": [
    {
     "name": "stdout",
     "output_type": "stream",
     "text": [
      "   student_id     name     _merge\n",
      "0           1      Ada  left_only\n",
      "1           2      Ben       both\n",
      "2           3  Cynthia  left_only\n",
      "3           4   Daniel       both\n"
     ]
    }
   ],
   "source": [
    "# Use merge with indicator to perform anti join\n",
    "anti_join_df = students.merge(registered, on='student_id', how='left', indicator=True)\n",
    "print(anti_join_df)"
   ]
  },
  {
   "cell_type": "code",
   "execution_count": 10,
   "id": "fbf2dae3-a02a-47e4-89cf-b7702e81850d",
   "metadata": {},
   "outputs": [
    {
     "name": "stdout",
     "output_type": "stream",
     "text": [
      "   student_id     name     _merge\n",
      "0           1      Ada  left_only\n",
      "2           3  Cynthia  left_only\n"
     ]
    }
   ],
   "source": [
    "# Filter to keep only those not in registered\n",
    "not_registered = anti_join_df[anti_join_df['_merge'] == 'left_only']\n",
    "print(not_registered)"
   ]
  },
  {
   "cell_type": "code",
   "execution_count": 12,
   "id": "eb54866b-95bd-4192-8b6b-08c2ddb634e9",
   "metadata": {},
   "outputs": [
    {
     "name": "stdout",
     "output_type": "stream",
     "text": [
      "   student_id     name\n",
      "0           1      Ada\n",
      "2           3  Cynthia\n"
     ]
    }
   ],
   "source": [
    "# Drop the indicator column if you want\n",
    "not_registered = not_registered.drop(columns=['_merge'])\n",
    "\n",
    "print(not_registered)"
   ]
  },
  {
   "cell_type": "markdown",
   "id": "62fd993d-eded-49cc-9d55-3865ff7d96bc",
   "metadata": {},
   "source": [
    "## Semi join"
   ]
  },
  {
   "cell_type": "code",
   "execution_count": 15,
   "id": "dd421017-8e5a-4fff-8621-872f013a76d8",
   "metadata": {},
   "outputs": [
    {
     "name": "stdout",
     "output_type": "stream",
     "text": [
      "   track_id\n",
      "0         4\n",
      "1         8\n",
      "2        15\n",
      "3        16\n",
      "4        23\n"
     ]
    }
   ],
   "source": [
    "import pandas as pd\n",
    "\n",
    "# Non-musical track IDs\n",
    "non_mus_tcks = pd.DataFrame({\n",
    "    'track_id': [4, 8, 15, 16, 23],\n",
    "})\n",
    "print(non_mus_tcks)"
   ]
  },
  {
   "cell_type": "code",
   "execution_count": 17,
   "id": "446353a1-927e-420d-9951-618a36e013af",
   "metadata": {},
   "outputs": [
    {
     "name": "stdout",
     "output_type": "stream",
     "text": [
      "   track_id  genre_id  revenue\n",
      "0         4        10      500\n",
      "1         8        10      600\n",
      "2        15        12      450\n",
      "3        42         5      200\n",
      "4       100         6      100\n"
     ]
    }
   ],
   "source": [
    "# Top revenue-generating invoices (track_id + genre_id)\n",
    "top_invoices = pd.DataFrame({\n",
    "    'track_id': [4, 8, 15, 42, 100],\n",
    "    'genre_id': [10, 10, 12, 5, 6],\n",
    "    'revenue': [500, 600, 450, 200, 100]\n",
    "})\n",
    "print(top_invoices)"
   ]
  },
  {
   "cell_type": "code",
   "execution_count": 19,
   "id": "ef2b8361-7e32-437b-b90f-ba419b18d71b",
   "metadata": {},
   "outputs": [
    {
     "name": "stdout",
     "output_type": "stream",
     "text": [
      "   genre_id   genre_name\n",
      "0         5         Jazz\n",
      "1         6        Latin\n",
      "2        10     TV Shows\n",
      "3        12  Spoken Word\n"
     ]
    }
   ],
   "source": [
    "# Genre lookup table\n",
    "genres = pd.DataFrame({\n",
    "    'genre_id': [5, 6, 10, 12],\n",
    "    'genre_name': ['Jazz', 'Latin', 'TV Shows', 'Spoken Word']\n",
    "})\n",
    "print(genres)"
   ]
  },
  {
   "cell_type": "code",
   "execution_count": 21,
   "id": "986b973b-686a-411a-99d9-fb75afb5ad6f",
   "metadata": {},
   "outputs": [
    {
     "name": "stdout",
     "output_type": "stream",
     "text": [
      "   track_id  genre_id  revenue\n",
      "0         4        10      500\n",
      "1         8        10      600\n",
      "2        15        12      450\n"
     ]
    }
   ],
   "source": [
    "# Semi join: keep only top invoices that are also in non_mus_tcks\n",
    "non_mus_top = top_invoices[top_invoices['track_id'].isin(non_mus_tcks['track_id'])]\n",
    "print(non_mus_top)"
   ]
  },
  {
   "cell_type": "code",
   "execution_count": 23,
   "id": "f04c2644-0acf-463d-8f36-427ab5be2b26",
   "metadata": {},
   "outputs": [
    {
     "name": "stdout",
     "output_type": "stream",
     "text": [
      "   track_id  genre_id  revenue   genre_name\n",
      "0         4        10      500     TV Shows\n",
      "1         8        10      600     TV Shows\n",
      "2        15        12      450  Spoken Word\n"
     ]
    }
   ],
   "source": [
    "# Merge in the genre names\n",
    "non_mus_top = non_mus_top.merge(genres, on='genre_id')\n",
    "\n",
    "print(non_mus_top)"
   ]
  },
  {
   "cell_type": "markdown",
   "id": "89f1f09f-a057-4f7a-82f9-a11479295c72",
   "metadata": {},
   "source": [
    "### Which non-musical tracks generated the highest revenue, and what genres do they belong to?"
   ]
  },
  {
   "cell_type": "code",
   "execution_count": 34,
   "id": "7be89943-43e5-406d-8dac-1f9b973cea07",
   "metadata": {},
   "outputs": [
    {
     "name": "stdout",
     "output_type": "stream",
     "text": [
      "    tid           name  aid  mtid  gid  u_price\n",
      "0  1001  Opening Scene    1     1   19     1.99\n",
      "1  1002    Laugh Track    1     1   22     1.99\n",
      "2  1003   Serious Talk    1     1   21     1.99\n",
      "3  1004     Plot Twist    1     1   19     1.99\n",
      "4  1005    Cliffhanger    1     1   19     1.99\n",
      "5  1006    Funny Outro    1     1   22     1.99\n",
      "6  1007   Dramatic End    1     1   21     1.99\n"
     ]
    }
   ],
   "source": [
    "import pandas as pd\n",
    "\n",
    "# Non-musical tracks\n",
    "non_mus_tcks = pd.DataFrame({\n",
    "    'tid': [1001, 1002, 1003, 1004, 1005, 1006, 1007],\n",
    "    'name': ['Opening Scene', 'Laugh Track', 'Serious Talk', 'Plot Twist', 'Cliffhanger', 'Funny Outro', 'Dramatic End'],\n",
    "    'aid': [1]*7,\n",
    "    'mtid': [1]*7,\n",
    "    'gid': [19, 22, 21, 19, 19, 22, 21],  # 19=TV Shows, 21=Drama, 22=Comedy\n",
    "    'u_price': [1.99]*7\n",
    "})\n",
    "print(non_mus_tcks)"
   ]
  },
  {
   "cell_type": "code",
   "execution_count": 36,
   "id": "c619a6fe-f5a0-48e6-807f-7c4fb67ded46",
   "metadata": {},
   "outputs": [
    {
     "name": "stdout",
     "output_type": "stream",
     "text": [
      "   ilid  iid   tid  uprice  quantity\n",
      "0     1   10  1001    1.99         1\n",
      "1     2   10  1002    1.99         1\n",
      "2     3   11  1003    1.99         1\n",
      "3     4   11  1004    1.99         1\n",
      "4     5   12  1001    1.99         1\n",
      "5     6   13  1007    1.99         1\n",
      "6     7   14  1006    1.99         1\n"
     ]
    }
   ],
   "source": [
    "# Top revenue-generating invoices (some tid matches with non-musical tracks)\n",
    "top_invoices = pd.DataFrame({\n",
    "    'ilid': [1, 2, 3, 4, 5, 6, 7],\n",
    "    'iid': [10, 10, 11, 11, 12, 13, 14],\n",
    "    'tid': [1001, 1002, 1003, 1004, 1001, 1007, 1006],  # Matching some non-musical\n",
    "    'uprice': [1.99]*7,\n",
    "    'quantity': [1]*7\n",
    "})\n",
    "print(top_invoices)"
   ]
  },
  {
   "cell_type": "code",
   "execution_count": 52,
   "id": "8c7eb920-edf9-4a4b-abf8-8fa4e2585d6b",
   "metadata": {},
   "outputs": [
    {
     "name": "stdout",
     "output_type": "stream",
     "text": [
      "   gid      name\n",
      "0   19  TV Shows\n",
      "1   21     Drama\n",
      "2   22    Comedy\n"
     ]
    }
   ],
   "source": [
    "# Genre mapping\n",
    "genres = pd.DataFrame({\n",
    "    'gid': [19, 21, 22],\n",
    "    'name': ['TV Shows', 'Drama', 'Comedy']\n",
    "})\n",
    "print(genres)"
   ]
  },
  {
   "cell_type": "code",
   "execution_count": 54,
   "id": "3eb4361c-1eec-4c29-bdda-e80b0591a9e2",
   "metadata": {},
   "outputs": [
    {
     "name": "stdout",
     "output_type": "stream",
     "text": [
      "    tid           name  aid  mtid  gid  u_price  ilid  iid  uprice  quantity\n",
      "0  1001  Opening Scene    1     1   19     1.99     1   10    1.99         1\n",
      "1  1001  Opening Scene    1     1   19     1.99     5   12    1.99         1\n",
      "2  1002    Laugh Track    1     1   22     1.99     2   10    1.99         1\n",
      "3  1003   Serious Talk    1     1   21     1.99     3   11    1.99         1\n",
      "4  1004     Plot Twist    1     1   19     1.99     4   11    1.99         1\n",
      "5  1006    Funny Outro    1     1   22     1.99     7   14    1.99         1\n",
      "6  1007   Dramatic End    1     1   21     1.99     6   13    1.99         1\n"
     ]
    }
   ],
   "source": [
    "# Step 1: Merge on 'tid'\n",
    "#The only nnon_mus_tcks that generated revenue\n",
    "tracks_invoices = non_mus_tcks.merge(top_invoices, on='tid')\n",
    "print(tracks_invoices)"
   ]
  },
  {
   "cell_type": "code",
   "execution_count": 56,
   "id": "5f57f729-f773-4b44-b175-b1a588f4ccd1",
   "metadata": {},
   "outputs": [
    {
     "name": "stdout",
     "output_type": "stream",
     "text": [
      "    tid           name  aid  mtid  gid  u_price\n",
      "0  1001  Opening Scene    1     1   19     1.99\n",
      "1  1002    Laugh Track    1     1   22     1.99\n",
      "2  1003   Serious Talk    1     1   21     1.99\n",
      "3  1004     Plot Twist    1     1   19     1.99\n",
      "5  1006    Funny Outro    1     1   22     1.99\n",
      "6  1007   Dramatic End    1     1   21     1.99\n"
     ]
    }
   ],
   "source": [
    "# Step 2: Semi join – select rows from non_mus_tcks where tid is in top_invoices\n",
    "top_tracks = non_mus_tcks[non_mus_tcks['tid'].isin(tracks_invoices['tid'])]\n",
    "print(top_tracks)"
   ]
  },
  {
   "cell_type": "code",
   "execution_count": 60,
   "id": "5cc91346-c641-40bb-bc82-cce428e2b4bb",
   "metadata": {},
   "outputs": [
    {
     "name": "stdout",
     "output_type": "stream",
     "text": [
      "   gid  tid\n",
      "0   19    2\n",
      "1   21    2\n",
      "2   22    2\n"
     ]
    }
   ],
   "source": [
    "# Step 3: Group by genre id and count number of tracks\n",
    "# as_index=False, it keeps the grouping column as a normal column, not as an index.\n",
    "cnt_by_gid = top_tracks.groupby('gid', as_index=False).agg({'tid': 'count'})\n",
    "print(cnt_by_gid)"
   ]
  },
  {
   "cell_type": "code",
   "execution_count": 62,
   "id": "d8506905-c826-4e42-919e-b52f58e5b8b5",
   "metadata": {},
   "outputs": [],
   "source": [
    "# Step 4: Merge with genre names\n",
    "final_output = cnt_by_gid.merge(genres, on='gid')"
   ]
  },
  {
   "cell_type": "code",
   "execution_count": 64,
   "id": "3ba79b6c-e1a6-43f7-b18d-7f560635ddad",
   "metadata": {},
   "outputs": [
    {
     "name": "stdout",
     "output_type": "stream",
     "text": [
      "   gid  tid      name\n",
      "0   19    2  TV Shows\n",
      "1   21    2     Drama\n",
      "2   22    2    Comedy\n"
     ]
    }
   ],
   "source": [
    "# Display final output\n",
    "print(final_output)"
   ]
  },
  {
   "cell_type": "markdown",
   "id": "a7075990-3bb1-4442-870c-2d5b6a8b4e97",
   "metadata": {},
   "source": [
    "### Concatenation basics"
   ]
  },
  {
   "cell_type": "code",
   "execution_count": 67,
   "id": "a07ff509-c77b-4ef3-9f44-9e9cd9470afd",
   "metadata": {},
   "outputs": [
    {
     "name": "stdout",
     "output_type": "stream",
     "text": [
      "    tid               name  aid  mtid  gid             composer  u_price\n",
      "0  1853            Battery  152     1    3  J.Hetfield/L.Ulrich     0.99\n",
      "1  1854  Master Of Puppets  152     1    3            K.Hammett     0.99\n",
      "2  1857  Disposable Heroes  152     1    3  J.Hetfield/L.Ulrich     0.99\n"
     ]
    }
   ],
   "source": [
    "import pandas as pd\n",
    "\n",
    "# tracks_master\n",
    "tracks_master = pd.DataFrame({\n",
    "    'tid': [1853, 1854, 1857],\n",
    "    'name': ['Battery', 'Master Of Puppets', 'Disposable Heroes'],\n",
    "    'aid': [152, 152, 152],\n",
    "    'mtid': [1, 1, 1],\n",
    "    'gid': [3, 3, 3],\n",
    "    'composer': ['J.Hetfield/L.Ulrich', 'K.Hammett', 'J.Hetfield/L.Ulrich'],\n",
    "    'u_price': [0.99, 0.99, 0.99]\n",
    "})\n",
    "print(tracks_master)"
   ]
  },
  {
   "cell_type": "code",
   "execution_count": 69,
   "id": "f1dcb373-27d3-4469-af65-7a9937da635d",
   "metadata": {},
   "outputs": [
    {
     "name": "stdout",
     "output_type": "stream",
     "text": [
      "    tid                     name  aid  mtid  gid  u_price\n",
      "0  1874     Fight Fire With Fire  154     1    3     0.99\n",
      "1  1875       Ride The Lightning  154     1    3     0.99\n",
      "2  1876  For Whom The Bell Tolls  154     1    3     0.99\n",
      "3  1877            Fade To Black  154     1    3     0.99\n",
      "4  1878        Trapped Under Ice  154     1    3     0.99\n"
     ]
    }
   ],
   "source": [
    "# tracks_ride\n",
    "tracks_ride = pd.DataFrame({\n",
    "    'tid': [1874, 1875, 1876, 1877, 1878],\n",
    "    'name': ['Fight Fire With Fire', 'Ride The Lightning', 'For Whom The Bell Tolls', 'Fade To Black', 'Trapped Under Ice'],\n",
    "    'aid': [154]*5,\n",
    "    'mtid': [1]*5,\n",
    "    'gid': [3]*5,\n",
    "    'u_price': [0.99]*5\n",
    "})\n",
    "print(tracks_ride)"
   ]
  },
  {
   "cell_type": "code",
   "execution_count": 71,
   "id": "68cdf4e0-614d-4916-bd4b-e76a3166aa11",
   "metadata": {},
   "outputs": [
    {
     "name": "stdout",
     "output_type": "stream",
     "text": [
      "    tid                  name  aid  mtid  gid  u_price\n",
      "0  1882               Frantic  155     1    3     0.99\n",
      "1  1883             St. Anger  155     1    3     0.99\n",
      "2  1884  Some Kind Of Monster  155     1    3     0.99\n",
      "3  1885          Dirty Window  155     1    3     0.99\n",
      "4  1886         Invisible Kid  155     1    3     0.99\n"
     ]
    }
   ],
   "source": [
    "# tracks_st\n",
    "tracks_st = pd.DataFrame({\n",
    "    'tid': [1882, 1883, 1884, 1885, 1886],\n",
    "    'name': ['Frantic', 'St. Anger', 'Some Kind Of Monster', 'Dirty Window', 'Invisible Kid'],\n",
    "    'aid': [155]*5,\n",
    "    'mtid': [1]*5,\n",
    "    'gid': [3]*5,\n",
    "    'u_price': [0.99]*5\n",
    "})\n",
    "print(tracks_st)"
   ]
  },
  {
   "cell_type": "code",
   "execution_count": 73,
   "id": "c6c48c2e-795c-4561-b2f6-85fced75efe5",
   "metadata": {},
   "outputs": [
    {
     "name": "stdout",
     "output_type": "stream",
     "text": [
      "Sorted concat with original indexes:\n",
      "   aid             composer  gid  mtid                     name   tid  u_price\n",
      "0  152  J.Hetfield/L.Ulrich    3     1                  Battery  1853     0.99\n",
      "1  152            K.Hammett    3     1        Master Of Puppets  1854     0.99\n",
      "2  152  J.Hetfield/L.Ulrich    3     1        Disposable Heroes  1857     0.99\n",
      "0  154                  NaN    3     1     Fight Fire With Fire  1874     0.99\n",
      "1  154                  NaN    3     1       Ride The Lightning  1875     0.99\n",
      "2  154                  NaN    3     1  For Whom The Bell Tolls  1876     0.99\n",
      "3  154                  NaN    3     1            Fade To Black  1877     0.99\n",
      "4  154                  NaN    3     1        Trapped Under Ice  1878     0.99\n",
      "0  155                  NaN    3     1                  Frantic  1882     0.99\n",
      "1  155                  NaN    3     1                St. Anger  1883     0.99\n",
      "2  155                  NaN    3     1     Some Kind Of Monster  1884     0.99\n",
      "3  155                  NaN    3     1             Dirty Window  1885     0.99\n",
      "4  155                  NaN    3     1            Invisible Kid  1886     0.99\n"
     ]
    }
   ],
   "source": [
    "# Concatenate the three DataFrames vertically, sorting column names alphabetically\n",
    "tracks_from_albums = pd.concat([tracks_master, tracks_ride, tracks_st], sort=True)\n",
    "\n",
    "# Explanation:\n",
    "# - `sort=True`: Ensures columns are arranged in alphabetical order if they don't match exactly across all DataFrames.\n",
    "#   This is useful when columns like 'composer' exist in only one or two of the DataFrames.\n",
    "# - Columns not present in all DataFrames (like 'composer' here) will get NaN values in the missing rows.\n",
    "\n",
    "print(\"Sorted concat with original indexes:\")\n",
    "print(tracks_from_albums)"
   ]
  },
  {
   "cell_type": "code",
   "execution_count": 75,
   "id": "edc04475-5370-40ae-912c-a77a229fe2a0",
   "metadata": {},
   "outputs": [
    {
     "name": "stdout",
     "output_type": "stream",
     "text": [
      "\n",
      "Sorted concat with index reset:\n",
      "    aid             composer  gid  mtid                     name   tid  \\\n",
      "0   152  J.Hetfield/L.Ulrich    3     1                  Battery  1853   \n",
      "1   152            K.Hammett    3     1        Master Of Puppets  1854   \n",
      "2   152  J.Hetfield/L.Ulrich    3     1        Disposable Heroes  1857   \n",
      "3   154                  NaN    3     1     Fight Fire With Fire  1874   \n",
      "4   154                  NaN    3     1       Ride The Lightning  1875   \n",
      "5   154                  NaN    3     1  For Whom The Bell Tolls  1876   \n",
      "6   154                  NaN    3     1            Fade To Black  1877   \n",
      "7   154                  NaN    3     1        Trapped Under Ice  1878   \n",
      "8   155                  NaN    3     1                  Frantic  1882   \n",
      "9   155                  NaN    3     1                St. Anger  1883   \n",
      "10  155                  NaN    3     1     Some Kind Of Monster  1884   \n",
      "11  155                  NaN    3     1             Dirty Window  1885   \n",
      "12  155                  NaN    3     1            Invisible Kid  1886   \n",
      "\n",
      "    u_price  \n",
      "0      0.99  \n",
      "1      0.99  \n",
      "2      0.99  \n",
      "3      0.99  \n",
      "4      0.99  \n",
      "5      0.99  \n",
      "6      0.99  \n",
      "7      0.99  \n",
      "8      0.99  \n",
      "9      0.99  \n",
      "10     0.99  \n",
      "11     0.99  \n",
      "12     0.99  \n"
     ]
    }
   ],
   "source": [
    "# Concatenate again, but reset the index so it goes from 0 to n-1\n",
    "tracks_from_albums = pd.concat([tracks_master, tracks_ride, tracks_st], sort=True, ignore_index=True)\n",
    "\n",
    "# Explanation:\n",
    "# - `ignore_index=True`: Resets the index so it's continuous (0, 1, 2, ..., n-1) across all combined DataFrames.\n",
    "#   This is helpful when you don’t want to keep the original DataFrame row indices after concatenation.\n",
    "\n",
    "print(\"\\nSorted concat with index reset:\")\n",
    "print(tracks_from_albums)\n"
   ]
  },
  {
   "cell_type": "code",
   "execution_count": 77,
   "id": "908245c7-eae6-4b79-85d9-71448662d41f",
   "metadata": {},
   "outputs": [
    {
     "name": "stdout",
     "output_type": "stream",
     "text": [
      "\n",
      "Concat with only common columns:\n",
      "   aid  gid  mtid                     name   tid  u_price\n",
      "0  152    3     1                  Battery  1853     0.99\n",
      "1  152    3     1        Master Of Puppets  1854     0.99\n",
      "2  152    3     1        Disposable Heroes  1857     0.99\n",
      "0  154    3     1     Fight Fire With Fire  1874     0.99\n",
      "1  154    3     1       Ride The Lightning  1875     0.99\n",
      "2  154    3     1  For Whom The Bell Tolls  1876     0.99\n",
      "3  154    3     1            Fade To Black  1877     0.99\n",
      "4  154    3     1        Trapped Under Ice  1878     0.99\n",
      "0  155    3     1                  Frantic  1882     0.99\n",
      "1  155    3     1                St. Anger  1883     0.99\n",
      "2  155    3     1     Some Kind Of Monster  1884     0.99\n",
      "3  155    3     1             Dirty Window  1885     0.99\n",
      "4  155    3     1            Invisible Kid  1886     0.99\n"
     ]
    }
   ],
   "source": [
    "# Concatenate only columns that appear in *all* DataFrames\n",
    "tracks_from_albums = pd.concat([tracks_master, tracks_ride, tracks_st], join='inner', sort=True)\n",
    "\n",
    "# Explanation:\n",
    "# - `join='inner'`: Only keeps columns that are present in *all* DataFrames.\n",
    "#   In this case, the 'composer' column is dropped since it only exists in tracks_master.\n",
    "\n",
    "print(\"\\nConcat with only common columns:\")\n",
    "print(tracks_from_albums)"
   ]
  },
  {
   "cell_type": "markdown",
   "id": "73c4e9d9-0a09-44e4-8bd7-37a2e34c956e",
   "metadata": {},
   "source": [
    "### Concatenating with keys"
   ]
  },
  {
   "cell_type": "code",
   "execution_count": 80,
   "id": "0e1d1cd6-3047-425b-92f2-2e07478517e0",
   "metadata": {},
   "outputs": [
    {
     "name": "stdout",
     "output_type": "stream",
     "text": [
      "    iid  cid invoice_date  total       bill_ctry\n",
      "0    42   51   2009-07-06   1.98          Sweden\n",
      "1    43   53   2009-07-06   1.98              UK\n",
      "2    44   55   2009-07-07   3.96       Australia\n",
      "3    45   59   2009-07-08   5.94           India\n",
      "4    46    6   2009-07-11   8.91  Czech Republic\n",
      "5    47   15   2009-07-16  13.86          Canada\n",
      "6    48   29   2009-07-24   0.99          Canada\n",
      "7   126   35   2010-07-13   1.98        Portugal\n",
      "8   127   37   2010-07-13   1.98         Germany\n",
      "9   128   39   2010-07-14   3.96          France\n",
      "10  129   43   2010-07-15   5.94          France\n",
      "11  130   49   2010-07-18   8.91          Poland\n",
      "12  131   58   2010-07-23  13.86           India\n",
      "13  132   13   2010-07-31   0.99          Brazil\n",
      "14  209   18   2011-07-07   0.99             USA\n",
      "15  210   19   2011-07-20   1.98             USA\n",
      "16  211   21   2011-07-20   1.98             USA\n",
      "17  212   23   2011-07-21   3.96             USA\n",
      "18  213   27   2011-07-22   5.94             USA\n",
      "19  214   33   2011-07-25   8.91          Canada\n",
      "20  215   42   2011-07-30  13.86          France\n",
      "21  292   47   2012-07-05  13.86           Italy\n",
      "22  293    2   2012-07-13   0.99         Germany\n",
      "23  294    3   2012-07-26   1.98          Canada\n",
      "24  295    5   2012-07-26   1.98  Czech Republic\n",
      "25  296    7   2012-07-27   3.96         Austria\n",
      "26  297   11   2012-07-28   5.94          Brazil\n",
      "27  298   17   2012-07-31  10.91             USA\n",
      "28  371    8   2013-07-02   1.98         Belgium\n",
      "29  372   10   2013-07-02   1.98          Brazil\n",
      "30  373   12   2013-07-03   3.96          Brazil\n",
      "31  374   16   2013-07-04   5.94             USA\n",
      "32  375   22   2013-07-07   8.91             USA\n",
      "33  376   31   2013-07-12  13.86          Canada\n",
      "34  377   45   2013-07-20   0.99         Hungary\n"
     ]
    }
   ],
   "source": [
    "import pandas as pd\n",
    "\n",
    "# Create inv_jul DataFrame\n",
    "inv_jul = pd.DataFrame({\n",
    "    'iid': [42, 43, 44, 45, 46, 47, 48, 126, 127, 128, 129, 130, 131, 132, 209, 210, 211, 212, 213, 214, 215, 292,\n",
    "            293, 294, 295, 296, 297, 298, 371, 372, 373, 374, 375, 376, 377],\n",
    "    'cid': [51, 53, 55, 59, 6, 15, 29, 35, 37, 39, 43, 49, 58, 13, 18, 19, 21, 23, 27, 33, 42, 47, 2, 3, 5, 7, 11,\n",
    "            17, 8, 10, 12, 16, 22, 31, 45],\n",
    "    'invoice_date': ['2009-07-06', '2009-07-06', '2009-07-07', '2009-07-08', '2009-07-11', '2009-07-16',\n",
    "                     '2009-07-24', '2010-07-13', '2010-07-13', '2010-07-14', '2010-07-15', '2010-07-18',\n",
    "                     '2010-07-23', '2010-07-31', '2011-07-07', '2011-07-20', '2011-07-20', '2011-07-21',\n",
    "                     '2011-07-22', '2011-07-25', '2011-07-30', '2012-07-05', '2012-07-13', '2012-07-26',\n",
    "                     '2012-07-26', '2012-07-27', '2012-07-28', '2012-07-31', '2013-07-02', '2013-07-02',\n",
    "                     '2013-07-03', '2013-07-04', '2013-07-07', '2013-07-12', '2013-07-20'],\n",
    "    'total': [1.98, 1.98, 3.96, 5.94, 8.91, 13.86, 0.99, 1.98, 1.98, 3.96, 5.94, 8.91, 13.86, 0.99, 0.99, 1.98,\n",
    "              1.98, 3.96, 5.94, 8.91, 13.86, 13.86, 0.99, 1.98, 1.98, 3.96, 5.94, 10.91, 1.98, 1.98, 3.96, 5.94,\n",
    "              8.91, 13.86, 0.99],\n",
    "    'bill_ctry': ['Sweden', 'UK', 'Australia', 'India', 'Czech Republic', 'Canada', 'Canada', 'Portugal', 'Germany',\n",
    "                  'France', 'France', 'Poland', 'India', 'Brazil', 'USA', 'USA', 'USA', 'USA', 'USA', 'Canada',\n",
    "                  'France', 'Italy', 'Germany', 'Canada', 'Czech Republic', 'Austria', 'Brazil', 'USA', 'Belgium',\n",
    "                  'Brazil', 'Brazil', 'USA', 'USA', 'Canada', 'Hungary']\n",
    "})\n",
    "print(inv_jul)"
   ]
  },
  {
   "cell_type": "code",
   "execution_count": 82,
   "id": "0e5ce241-e2e9-414e-89c6-d2f54b574b4a",
   "metadata": {},
   "outputs": [
    {
     "name": "stdout",
     "output_type": "stream",
     "text": [
      "    iid  cid invoice_date  total       bill_ctry\n",
      "0    49   30   2009-08-06   1.98          Canada\n",
      "1    50   32   2009-08-06   1.98          Canada\n",
      "2    51   34   2009-08-07   3.96        Portugal\n",
      "3    52   38   2009-08-08   5.94         Germany\n",
      "4    53   44   2009-08-11   8.91         Finland\n",
      "5    54   53   2009-08-16  13.86              UK\n",
      "6    55    8   2009-08-24   0.99         Belgium\n",
      "7   133   14   2010-08-13   1.98          Canada\n",
      "8   134   16   2010-08-13   1.98             USA\n",
      "9   135   18   2010-08-14   3.96             USA\n",
      "10  136   22   2010-08-15   5.94             USA\n",
      "11  137   28   2010-08-18   8.91             USA\n",
      "12  138   37   2010-08-23  13.86         Germany\n",
      "13  139   51   2010-08-31   0.99          Sweden\n",
      "14  216   56   2011-08-07   0.99       Argentina\n",
      "15  217   57   2011-08-20   1.98           Chile\n",
      "16  218   59   2011-08-20   1.98           India\n",
      "17  219    2   2011-08-21   3.96         Germany\n",
      "18  220    6   2011-08-22   5.94  Czech Republic\n",
      "19  221   12   2011-08-25   8.91          Brazil\n",
      "20  222   21   2011-08-30  13.86             USA\n",
      "21  299   26   2012-08-05  23.86             USA\n",
      "22  300   40   2012-08-13   0.99          France\n",
      "23  301   41   2012-08-26   1.98          France\n",
      "24  302   43   2012-08-26   1.98          France\n",
      "25  303   45   2012-08-27   3.96         Hungary\n",
      "26  304   49   2012-08-28   5.94          Poland\n",
      "27  305   55   2012-08-31   8.91       Australia\n",
      "28  378   46   2013-08-02   1.98         Ireland\n",
      "29  379   48   2013-08-02   1.98     Netherlands\n",
      "30  380   50   2013-08-03   3.96           Spain\n",
      "31  381   54   2013-08-04   5.94              UK\n",
      "32  382    1   2013-08-07   8.91          Brazil\n",
      "33  383   10   2013-08-12  13.86          Brazil\n",
      "34  384   24   2013-08-20   0.99             USA\n"
     ]
    }
   ],
   "source": [
    "import pandas as pd\n",
    "\n",
    "inv_aug = pd.DataFrame({\n",
    "    'iid': [49, 50, 51, 52, 53, 54, 55, 133, 134, 135, 136, 137, 138, 139, 216, 217, 218, 219, 220, 221, 222, 299,\n",
    "            300, 301, 302, 303, 304, 305, 378, 379, 380, 381, 382, 383, 384],\n",
    "    'cid': [30, 32, 34, 38, 44, 53, 8, 14, 16, 18, 22, 28, 37, 51, 56, 57, 59, 2, 6, 12, 21, 26, 40, 41, 43, 45, 49,\n",
    "            55, 46, 48, 50, 54, 1, 10, 24],\n",
    "    'invoice_date': ['2009-08-06', '2009-08-06', '2009-08-07', '2009-08-08', '2009-08-11', '2009-08-16',\n",
    "                     '2009-08-24', '2010-08-13', '2010-08-13', '2010-08-14', '2010-08-15', '2010-08-18',\n",
    "                     '2010-08-23', '2010-08-31', '2011-08-07', '2011-08-20', '2011-08-20', '2011-08-21',\n",
    "                     '2011-08-22', '2011-08-25', '2011-08-30', '2012-08-05', '2012-08-13', '2012-08-26',\n",
    "                     '2012-08-26', '2012-08-27', '2012-08-28', '2012-08-31', '2013-08-02', '2013-08-02',\n",
    "                     '2013-08-03', '2013-08-04', '2013-08-07', '2013-08-12', '2013-08-20'],\n",
    "    'total': [1.98, 1.98, 3.96, 5.94, 8.91, 13.86, 0.99, 1.98, 1.98, 3.96, 5.94, 8.91, 13.86, 0.99, 0.99, 1.98,\n",
    "              1.98, 3.96, 5.94, 8.91, 13.86, 23.86, 0.99, 1.98, 1.98, 3.96, 5.94, 8.91, 1.98, 1.98, 3.96, 5.94,\n",
    "              8.91, 13.86, 0.99],\n",
    "    'bill_ctry': ['Canada', 'Canada', 'Portugal', 'Germany', 'Finland', 'UK', 'Belgium', 'Canada', 'USA', 'USA',\n",
    "                  'USA', 'USA', 'Germany', 'Sweden', 'Argentina', 'Chile', 'India', 'Germany', 'Czech Republic',\n",
    "                  'Brazil', 'USA', 'USA', 'France', 'France', 'France', 'Hungary', 'Poland', 'Australia', 'Ireland',\n",
    "                  'Netherlands', 'Spain', 'UK', 'Brazil', 'Brazil', 'USA']\n",
    "})\n",
    "print(inv_aug)"
   ]
  },
  {
   "cell_type": "code",
   "execution_count": 84,
   "id": "2fc8cba5-e6dd-444d-8300-a6eef237ab44",
   "metadata": {},
   "outputs": [
    {
     "name": "stdout",
     "output_type": "stream",
     "text": [
      "    iid  cid invoice_date  total       bill_ctry\n",
      "0    56    9   2009-09-06   1.98         Denmark\n",
      "1    57   11   2009-09-06   1.98          Brazil\n",
      "2    58   13   2009-09-07   3.96          Brazil\n",
      "3    59   17   2009-09-08   5.94             USA\n",
      "4    60   23   2009-09-11   8.91             USA\n",
      "5    61   32   2009-09-16  13.86          Canada\n",
      "6    62   46   2009-09-24   0.99         Ireland\n",
      "7   140   52   2010-09-13   1.98              UK\n",
      "8   141   54   2010-09-13   1.98              UK\n",
      "9   142   56   2010-09-14   3.96       Argentina\n",
      "10  143    1   2010-09-15   5.94          Brazil\n",
      "11  144    7   2010-09-18   8.91         Austria\n",
      "12  145   16   2010-09-23  13.86             USA\n",
      "13  223   35   2011-09-07   0.99        Portugal\n",
      "14  224   36   2011-09-20   1.98         Germany\n",
      "15  225   38   2011-09-20   1.98         Germany\n",
      "16  226   40   2011-09-21   3.96          France\n",
      "17  227   44   2011-09-22   5.94         Finland\n",
      "18  228   50   2011-09-25   8.91           Spain\n",
      "19  229   59   2011-09-30  13.86           India\n",
      "20  306    5   2012-09-05  16.86  Czech Republic\n",
      "21  307   19   2012-09-13   1.99             USA\n",
      "22  308   20   2012-09-26   3.98             USA\n",
      "23  309   22   2012-09-26   3.98             USA\n",
      "24  310   24   2012-09-27   7.96             USA\n",
      "25  311   28   2012-09-28  11.94             USA\n",
      "26  385   25   2013-09-02   1.98             USA\n",
      "27  386   27   2013-09-02   1.98             USA\n",
      "28  387   29   2013-09-03   3.96          Canada\n",
      "29  388   33   2013-09-04   5.94          Canada\n",
      "30  389   39   2013-09-07   8.91          France\n",
      "31  390   48   2013-09-12  13.86     Netherlands\n",
      "32  391    3   2013-09-20   0.99          Canada\n"
     ]
    }
   ],
   "source": [
    "import pandas as pd\n",
    "\n",
    "inv_sep = pd.DataFrame({\n",
    "    'iid': [56, 57, 58, 59, 60, 61, 62, 140, 141, 142, 143, 144, 145, 223, 224, 225, 226, 227, 228, 229, 306, 307,\n",
    "            308, 309, 310, 311, 385, 386, 387, 388, 389, 390, 391],\n",
    "    'cid': [9, 11, 13, 17, 23, 32, 46, 52, 54, 56, 1, 7, 16, 35, 36, 38, 40, 44, 50, 59, 5, 19, 20, 22, 24, 28, 25,\n",
    "            27, 29, 33, 39, 48, 3],\n",
    "    'invoice_date': ['2009-09-06', '2009-09-06', '2009-09-07', '2009-09-08', '2009-09-11', '2009-09-16',\n",
    "                     '2009-09-24', '2010-09-13', '2010-09-13', '2010-09-14', '2010-09-15', '2010-09-18',\n",
    "                     '2010-09-23', '2011-09-07', '2011-09-20', '2011-09-20', '2011-09-21', '2011-09-22',\n",
    "                     '2011-09-25', '2011-09-30', '2012-09-05', '2012-09-13', '2012-09-26', '2012-09-26',\n",
    "                     '2012-09-27', '2012-09-28', '2013-09-02', '2013-09-02', '2013-09-03', '2013-09-04',\n",
    "                     '2013-09-07', '2013-09-12', '2013-09-20'],\n",
    "    'total': [1.98, 1.98, 3.96, 5.94, 8.91, 13.86, 0.99, 1.98, 1.98, 3.96, 5.94, 8.91, 13.86, 0.99, 1.98, 1.98,\n",
    "              3.96, 5.94, 8.91, 13.86, 16.86, 1.99, 3.98, 3.98, 7.96, 11.94, 1.98, 1.98, 3.96, 5.94, 8.91, 13.86,\n",
    "              0.99],\n",
    "    'bill_ctry': ['Denmark', 'Brazil', 'Brazil', 'USA', 'USA', 'Canada', 'Ireland', 'UK', 'UK', 'Argentina',\n",
    "                  'Brazil', 'Austria', 'USA', 'Portugal', 'Germany', 'Germany', 'France', 'Finland', 'Spain',\n",
    "                  'India', 'Czech Republic', 'USA', 'USA', 'USA', 'USA', 'USA', 'USA', 'USA', 'Canada', 'Canada',\n",
    "                  'France', 'Netherlands', 'Canada']\n",
    "})\n",
    "print(inv_sep)"
   ]
  },
  {
   "cell_type": "code",
   "execution_count": 102,
   "id": "5ba4800d-09d9-44df-99e9-27f085eacbc0",
   "metadata": {},
   "outputs": [
    {
     "name": "stdout",
     "output_type": "stream",
     "text": [
      "        iid  cid invoice_date  total       bill_ctry\n",
      "7Jul 0   42   51   2009-07-06   1.98          Sweden\n",
      "     1   43   53   2009-07-06   1.98              UK\n",
      "     2   44   55   2009-07-07   3.96       Australia\n",
      "     3   45   59   2009-07-08   5.94           India\n",
      "     4   46    6   2009-07-11   8.91  Czech Republic\n"
     ]
    }
   ],
   "source": [
    "import matplotlib.pyplot as plt\n",
    "# Concatenate the tables and add keys\n",
    "#`keys=['7Jul', '8Aug', '9Sep']` - This parameter assigns a label to each DataFrame in the concatenation. \n",
    "#These labels become the outer level of a hierarchical (multi-level) index in the resulting DataFrame.\n",
    "inv_jul_thr_sep = pd.concat([inv_jul, inv_aug,inv_sep], \n",
    "                            keys=['7Jul', '8Aug', '9Sep'])\n",
    "print(inv_jul_thr_sep.head())"
   ]
  },
  {
   "cell_type": "code",
   "execution_count": 104,
   "id": "d1b6ede9-19fc-4198-9b21-9bfca12237a0",
   "metadata": {},
   "outputs": [
    {
     "name": "stdout",
     "output_type": "stream",
     "text": [
      "         iid  cid invoice_date  total    bill_ctry\n",
      "9Sep 28  387   29   2013-09-03   3.96       Canada\n",
      "     29  388   33   2013-09-04   5.94       Canada\n",
      "     30  389   39   2013-09-07   8.91       France\n",
      "     31  390   48   2013-09-12  13.86  Netherlands\n",
      "     32  391    3   2013-09-20   0.99       Canada\n"
     ]
    }
   ],
   "source": [
    "print(inv_jul_thr_sep.tail())"
   ]
  },
  {
   "cell_type": "code",
   "execution_count": 106,
   "id": "070699dc-179d-4b59-b439-74074b9fbb83",
   "metadata": {},
   "outputs": [
    {
     "data": {
      "image/png": "[encoded data removed]",
      "text/plain": [
       "<Figure size 640x480 with 1 Axes>"
      ]
     },
     "metadata": {},
     "output_type": "display_data"
    }
   ],
   "source": [
    "# Group the invoices by the index keys and find avg of the total column\n",
    "avg_inv_by_month = inv_jul_thr_sep.groupby(level=0).agg({'total':'mean'})\n",
    "\n",
    "# Bar plot of avg_inv_by_month\n",
    "avg_inv_by_month.plot(kind='bar')\n",
    "plt.show()"
   ]
  },
  {
   "cell_type": "markdown",
   "id": "bb65b9aa-d85e-4cb7-ac60-8c6b956d41d6",
   "metadata": {},
   "source": [
    "# merge_ordered()\n",
    "#### pd.merge_ordered() — a pandas function used to merge two DataFrames in order, keeping their chronological or sorted order. It's especially useful for time series or sequential data.\n",
    "\n",
    "#### Correlation between GDP and S&P500"
   ]
  },
  {
   "cell_type": "code",
   "execution_count": 21,
   "id": "bb3fed97-d502-4133-85c8-1669dcf7fdbd",
   "metadata": {},
   "outputs": [
    {
     "name": "stdout",
     "output_type": "stream",
     "text": [
      "   date  returns\n",
      "0  2008   -38.49\n",
      "1  2009    23.45\n",
      "2  2010    12.78\n",
      "3  2011     0.00\n",
      "4  2012    13.41\n",
      "5  2014    11.39\n",
      "6  2015    -0.73\n",
      "7  2016     9.54\n",
      "8  2017    19.42\n",
      "9  2013    29.60\n"
     ]
    }
   ],
   "source": [
    "import pandas as pd\n",
    "\n",
    "\n",
    "data = {'date': [2008, 2009, 2010, 2011, 2012, 2014, 2015, 2016, 2017, 2013],\n",
    "        'returns': [-38.49, 23.45, 12.78, 0.00, 13.41, 11.39, -0.73, 9.54, 19.42, 29.60]}\n",
    "sp500 = pd.DataFrame(data)\n",
    "\n",
    "\n",
    "print(sp500)"
   ]
  },
  {
   "cell_type": "code",
   "execution_count": 23,
   "id": "44de14b1-d12f-4b8c-b145-cf7717703bd6",
   "metadata": {},
   "outputs": [
    {
     "name": "stdout",
     "output_type": "stream",
     "text": [
      "  country code  year           gdp\n",
      "0          USA  2010  1.499000e+13\n",
      "1          USA  2011  1.554000e+13\n",
      "2          USA  2012  1.620000e+13\n",
      "3          USA  2012  1.620000e+13\n",
      "4          USA  2013  1.678000e+13\n",
      "5          USA  2014  1.752000e+13\n",
      "6          USA  2015  1.822000e+13\n",
      "7          USA  2016  1.871000e+13\n",
      "8          USA  2017  1.949000e+13\n",
      "9          USA  2018  2.049000e+13\n"
     ]
    }
   ],
   "source": [
    "import pandas as pd\n",
    "\n",
    "\n",
    "data = {'country code': ['USA'] * 10,\n",
    "        'year': [2010, 2011, 2012, 2012, 2013, 2014, 2015, 2016, 2017, 2018],\n",
    "        'gdp': [1.499e+13, 1.554e+13, 1.620e+13, 1.620e+13, 1.678e+13, 1.752e+13, 1.822e+13, 1.871e+13, 1.949e+13, 2.049e+13]}\n",
    "gdp = pd.DataFrame(data)\n",
    "\n",
    "\n",
    "print(gdp)"
   ]
  },
  {
   "cell_type": "code",
   "execution_count": 25,
   "id": "f858903f-2f7a-47eb-8008-1b7e1a2364eb",
   "metadata": {},
   "outputs": [
    {
     "name": "stdout",
     "output_type": "stream",
     "text": [
      "  country code  year           gdp    date  returns\n",
      "0          USA  2010  1.499000e+13  2010.0    12.78\n",
      "1          USA  2011  1.554000e+13  2011.0     0.00\n",
      "2          USA  2012  1.620000e+13  2012.0    13.41\n",
      "3          USA  2012  1.620000e+13  2012.0    13.41\n",
      "4          USA  2013  1.678000e+13  2013.0    29.60\n",
      "5          USA  2014  1.752000e+13  2014.0    11.39\n",
      "6          USA  2015  1.822000e+13  2015.0    -0.73\n",
      "7          USA  2016  1.871000e+13  2016.0     9.54\n",
      "8          USA  2017  1.949000e+13  2017.0    19.42\n",
      "9          USA  2018  2.049000e+13     NaN      NaN\n"
     ]
    }
   ],
   "source": [
    "# Use merge_ordered() to merge gdp and sp500 on year and date\n",
    "gdp_sp500 = pd.merge_ordered(gdp, sp500, left_on='year', right_on='date', \n",
    "                             how='left')\n",
    "\n",
    "# Print gdp_sp500\n",
    "print(gdp_sp500)"
   ]
  },
  {
   "cell_type": "code",
   "execution_count": 29,
   "id": "c375ff56-84c9-46cb-8bb7-f793ccab7d2b",
   "metadata": {},
   "outputs": [
    {
     "name": "stdout",
     "output_type": "stream",
     "text": [
      "  country code  year           gdp  date  returns\n",
      "0          USA  2010  1.499000e+13  2010    12.78\n",
      "1          USA  2011  1.554000e+13  2011     0.00\n",
      "2          USA  2012  1.620000e+13  2012    13.41\n",
      "3          USA  2012  1.620000e+13  2012    13.41\n",
      "4          USA  2013  1.678000e+13  2013    29.60\n",
      "5          USA  2014  1.752000e+13  2014    11.39\n",
      "6          USA  2015  1.822000e+13  2015    -0.73\n",
      "7          USA  2016  1.871000e+13  2016     9.54\n",
      "8          USA  2017  1.949000e+13  2017    19.42\n",
      "9          USA  2018  2.049000e+13  2017    19.42\n"
     ]
    }
   ],
   "source": [
    "# Use merge_ordered() to merge gdp and sp500, and forward fill missing values\n",
    "#`fill_method='ffill'` - This parameter tells the function to forward-fill any missing values after the merge. \n",
    "#This means if there are missing values in the merged result, they'll be filled with the last valid observation carried forward.\n",
    "gdp_sp500 = pd.merge_ordered(gdp, sp500, left_on='year', right_on='date', how='left', fill_method='ffill')\n",
    "\n",
    "\n",
    "# Print gdp_sp500\n",
    "print (gdp_sp500)"
   ]
  },
  {
   "cell_type": "code",
   "execution_count": 35,
   "id": "e71a2a34-847c-4271-872a-dd8dbb5765ae",
   "metadata": {},
   "outputs": [
    {
     "name": "stdout",
     "output_type": "stream",
     "text": [
      "            gdp  returns\n",
      "0  1.499000e+13    12.78\n",
      "1  1.554000e+13     0.00\n",
      "2  1.620000e+13    13.41\n",
      "3  1.620000e+13    13.41\n",
      "4  1.678000e+13    29.60\n",
      "5  1.752000e+13    11.39\n",
      "6  1.822000e+13    -0.73\n",
      "7  1.871000e+13     9.54\n",
      "8  1.949000e+13    19.42\n",
      "9  2.049000e+13    19.42\n"
     ]
    }
   ],
   "source": [
    "# Use merge_ordered() to merge gdp and sp500, and forward fill missing values\n",
    "gdp_sp500 = pd.merge_ordered(gdp, sp500, left_on='year', right_on='date', \n",
    "                             how='left',  fill_method='ffill')\n",
    "\n",
    "# Subset the gdp and returns columns\n",
    "gdp_returns = gdp_sp500[['gdp', 'returns']]\n",
    "print(gdp_returns)"
   ]
  },
  {
   "cell_type": "code",
   "execution_count": 37,
   "id": "358e8a30-fe9d-49d9-817b-b4b292deff91",
   "metadata": {},
   "outputs": [
    {
     "name": "stdout",
     "output_type": "stream",
     "text": [
      "              gdp   returns\n",
      "gdp      1.000000  0.211734\n",
      "returns  0.211734  1.000000\n"
     ]
    }
   ],
   "source": [
    "# Print gdp_returns correlation\n",
    "print (gdp_returns.corr())"
   ]
  },
  {
   "cell_type": "raw",
   "id": "b2080489-2b72-4c1f-adea-5131642c2121",
   "metadata": {},
   "source": [
    "The correlation of 0.21 between the GDP and S&P500 is low to moderate at best. You may want to find another predictor if you plan to play in the stock market."
   ]
  },
  {
   "cell_type": "markdown",
   "id": "9fb98eac-4a28-4764-b4cc-923dc74f832c",
   "metadata": {},
   "source": [
    "### Correlation result explained \n",
    "The output shows the correlation matrix between two variables: `gdp` and `returns`. Here's what the values mean:\n",
    "\n",
    "1. The diagonal values (1.000000) represent the correlation of each variable with itself, which is always 1.\n",
    "\n",
    "2. The off-diagonal value (0.211734) represents the correlation coefficient between `gdp` and `returns`. \n",
    "\n",
    "3. This correlation coefficient of approximately 0.212 indicates a weak positive correlation between the two variables. This means that when GDP increases, returns tend to increase slightly as well, but the relationship is not very strong.\n",
    "\n",
    "4. Since correlation coefficients range from -1 to 1, a value of 0.212 suggests that while there is some relationship between GDP and returns, other factors likely have more significant influence on returns."
   ]
  },
  {
   "cell_type": "markdown",
   "id": "99740d84-c87a-406c-8389-43797f5852e6",
   "metadata": {},
   "source": [
    "### Phillips curve(correlation between inflation and unemployment) using merge_ordered()\n"
   ]
  },
  {
   "cell_type": "code",
   "execution_count": 42,
   "id": "d4676296-6563-4604-8d93-5e304cb46ecc",
   "metadata": {},
   "outputs": [
    {
     "name": "stdout",
     "output_type": "stream",
     "text": [
      "          date  unemployment_rate\n",
      "0   2013-06-01                7.5\n",
      "1   2014-01-01                6.7\n",
      "2   2014-06-01                6.1\n",
      "3   2015-01-01                5.6\n",
      "4   2015-06-01                5.3\n",
      "5   2016-01-01                5.0\n",
      "6   2016-06-01                4.9\n",
      "7   2017-01-01                4.7\n",
      "8   2017-06-01                4.3\n",
      "9   2018-01-01                4.1\n",
      "10  2018-06-01                4.0\n",
      "11  2019-01-01                3.9\n",
      "12  2019-06-01                3.7\n",
      "13  2020-01-01                3.5\n"
     ]
    }
   ],
   "source": [
    "import pandas as pd\n",
    "\n",
    "# Create the unemployment DataFrame\n",
    "unemployment = pd.DataFrame({\n",
    "    'date': [\n",
    "        '2013-06-01', '2014-01-01', '2014-06-01', '2015-01-01', '2015-06-01',\n",
    "        '2016-01-01', '2016-06-01', '2017-01-01', '2017-06-01', '2018-01-01',\n",
    "        '2018-06-01', '2019-01-01', '2019-06-01', '2020-01-01'\n",
    "    ],\n",
    "    'unemployment_rate': [\n",
    "        7.5, 6.7, 6.1, 5.6, 5.3,\n",
    "        5.0, 4.9, 4.7, 4.3, 4.1,\n",
    "        4.0, 3.9, 3.7, 3.5\n",
    "    ]\n",
    "})\n",
    "\n",
    "# Display the DataFrame\n",
    "print(unemployment)"
   ]
  },
  {
   "cell_type": "code",
   "execution_count": 48,
   "id": "4db9792c-8afb-452d-9c50-24cccd6bfe2a",
   "metadata": {},
   "outputs": [
    {
     "name": "stdout",
     "output_type": "stream",
     "text": [
      "         date      cpi     seriesid                  data_type\n",
      "0  2014-01-01  235.288  CUSR0000SA0  SEASONALLY ADJUSTED INDEX\n",
      "1  2014-02-01  235.547  CUSR0000SA0  SEASONALLY ADJUSTED INDEX\n",
      "2  2014-03-01  236.028  CUSR0000SA0  SEASONALLY ADJUSTED INDEX\n",
      "3  2014-04-01  236.468  CUSR0000SA0  SEASONALLY ADJUSTED INDEX\n",
      "4  2014-05-01  236.918  CUSR0000SA0  SEASONALLY ADJUSTED INDEX\n"
     ]
    }
   ],
   "source": [
    "import pandas as pd\n",
    "# Create the inflation DataFrame\n",
    "inflation = pd.DataFrame({\n",
    "    'date': [\n",
    "        '2014-01-01', '2014-02-01', '2014-03-01', '2014-04-01', '2014-05-01',\n",
    "        '2014-06-01', '2014-07-01', '2014-08-01', '2014-09-01', '2014-10-01',\n",
    "        '2014-11-01', '2014-12-01', '2015-01-01', '2015-02-01', '2015-03-01',\n",
    "        '2015-04-01', '2015-05-01', '2015-06-01', '2015-07-01', '2015-08-01',\n",
    "        '2015-09-01', '2015-10-01', '2015-11-01', '2015-12-01', '2016-01-01',\n",
    "        '2016-02-01', '2016-03-01', '2016-04-01', '2016-05-01', '2016-06-01',\n",
    "        '2016-07-01', '2016-08-01', '2016-09-01', '2016-10-01', '2016-11-01',\n",
    "        '2016-12-01', '2017-01-01', '2017-02-01', '2017-03-01', '2017-04-01',\n",
    "        '2017-05-01', '2017-06-01', '2017-07-01', '2017-08-01', '2017-09-01',\n",
    "        '2017-10-01', '2017-11-01', '2017-12-01', '2018-01-01', '2018-02-01',\n",
    "        '2018-03-01', '2018-04-01', '2018-05-01', '2018-06-01', '2018-07-01',\n",
    "        '2018-08-01', '2018-09-01', '2018-10-01', '2018-11-01', '2018-12-01'\n",
    "    ],\n",
    "    'cpi': [\n",
    "        235.288, 235.547, 236.028, 236.468, 236.918,\n",
    "        237.231, 237.498, 237.460, 237.477, 237.430,\n",
    "        236.983, 236.252, 234.718, 235.236, 236.005,\n",
    "        236.156, 236.974, 237.684, 238.053, 238.028,\n",
    "        237.506, 237.781, 238.016, 237.817, 237.833,\n",
    "        237.469, 238.038, 238.827, 239.464, 240.167,\n",
    "        240.150, 240.602, 241.051, 241.691, 242.029,\n",
    "        242.772, 243.780, 243.961, 243.749, 244.051,\n",
    "        243.962, 244.182, 244.390, 245.297, 246.418,\n",
    "        246.587, 247.332, 247.901, 248.884, 249.369,\n",
    "        249.498, 249.956, 250.646, 251.134, 251.597,\n",
    "        251.879, 252.010, 252.794, 252.760, 252.723\n",
    "    ],\n",
    "    'seriesid': ['CUSR0000SA0'] * 60,\n",
    "    'data_type': ['SEASONALLY ADJUSTED INDEX'] * 60\n",
    "})\n",
    "\n",
    "# Display the first few rows\n",
    "print(inflation.head())"
   ]
  },
  {
   "cell_type": "code",
   "execution_count": 52,
   "id": "6d66dc22-f3ab-4351-853f-8f72683d9015",
   "metadata": {},
   "outputs": [
    {
     "name": "stdout",
     "output_type": "stream",
     "text": [
      "(60, 4)\n"
     ]
    }
   ],
   "source": [
    "print(inflation.shape)"
   ]
  },
  {
   "cell_type": "code",
   "execution_count": 58,
   "id": "1548d99f-53de-4760-8694-dbbb7fca6d1f",
   "metadata": {},
   "outputs": [
    {
     "name": "stdout",
     "output_type": "stream",
     "text": [
      "         date      cpi     seriesid                  data_type  \\\n",
      "0  2014-01-01  235.288  CUSR0000SA0  SEASONALLY ADJUSTED INDEX   \n",
      "1  2014-06-01  237.231  CUSR0000SA0  SEASONALLY ADJUSTED INDEX   \n",
      "2  2015-01-01  234.718  CUSR0000SA0  SEASONALLY ADJUSTED INDEX   \n",
      "3  2015-06-01  237.684  CUSR0000SA0  SEASONALLY ADJUSTED INDEX   \n",
      "4  2016-01-01  237.833  CUSR0000SA0  SEASONALLY ADJUSTED INDEX   \n",
      "5  2016-06-01  240.167  CUSR0000SA0  SEASONALLY ADJUSTED INDEX   \n",
      "6  2017-01-01  243.780  CUSR0000SA0  SEASONALLY ADJUSTED INDEX   \n",
      "7  2017-06-01  244.182  CUSR0000SA0  SEASONALLY ADJUSTED INDEX   \n",
      "8  2018-01-01  248.884  CUSR0000SA0  SEASONALLY ADJUSTED INDEX   \n",
      "9  2018-06-01  251.134  CUSR0000SA0  SEASONALLY ADJUSTED INDEX   \n",
      "\n",
      "   unemployment_rate  \n",
      "0                6.7  \n",
      "1                6.1  \n",
      "2                5.6  \n",
      "3                5.3  \n",
      "4                5.0  \n",
      "5                4.9  \n",
      "6                4.7  \n",
      "7                4.3  \n",
      "8                4.1  \n",
      "9                4.0  \n"
     ]
    }
   ],
   "source": [
    "import matplotlib.pyplot as plt\n",
    "# Use merge_ordered() to merge inflation, unemployment with inner join\n",
    "inflation_unemploy = pd.merge_ordered(inflation, unemployment, how='inner',on='date')\n",
    "\n",
    "# Print inflation_unemploy \n",
    "print(inflation_unemploy)"
   ]
  },
  {
   "cell_type": "code",
   "execution_count": 60,
   "id": "4fbb4f19-805f-4ba0-91da-afd39996f63e",
   "metadata": {},
   "outputs": [
    {
     "data": {
      "image/png": "[encoded data removed]",
      "text/plain": [
       "<Figure size 640x480 with 1 Axes>"
      ]
     },
     "metadata": {},
     "output_type": "display_data"
    }
   ],
   "source": [
    "# Plot a scatter plot of unemployment_rate vs cpi of inflation_unemploy\n",
    "inflation_unemploy.plot(kind='scatter', x='unemployment_rate', y='cpi')\n",
    "plt.show()"
   ]
  },
  {
   "cell_type": "markdown",
   "id": "08249f9c-43e5-4eaf-be12-be28b9cb3d91",
   "metadata": {},
   "source": [
    "The image is a scatter plot showing the relationship between the Consumer Price Index (CPI) and the unemployment rate.  \n",
    "The plot shows a generally inverse relationship; as the unemployment rate increases, the CPI tends to decrease.  \n",
    "However, the relationship is not perfectly linear and there's some scatter in the data points."
   ]
  },
  {
   "cell_type": "markdown",
   "id": "9232c288-c388-404e-9468-69b72923f73a",
   "metadata": {},
   "source": [
    "### merge_ordered() caution, multiple columns"
   ]
  },
  {
   "cell_type": "code",
   "execution_count": 31,
   "id": "ad52c3d8-73f5-40f6-86a8-e532499602a6",
   "metadata": {},
   "outputs": [
    {
     "name": "stdout",
     "output_type": "stream",
     "text": [
      "         date    country         gdp    series_code\n",
      "0  1990-01-01  Australia  158051.132  NYGDPMKTPSAKD\n",
      "1  1990-04-01  Australia  158263.582  NYGDPMKTPSAKD\n",
      "2  1990-07-01  Australia  157329.279  NYGDPMKTPSAKD\n",
      "3  1990-09-01  Australia  158240.678  NYGDPMKTPSAKD\n",
      "4  1991-01-01  Australia  156195.954  NYGDPMKTPSAKD\n",
      "5  1991-04-01  Australia  155989.033  NYGDPMKTPSAKD\n",
      "6  1991-07-01  Australia  156635.858  NYGDPMKTPSAKD\n",
      "7  1991-09-01  Australia  156744.057  NYGDPMKTPSAKD\n",
      "8  1992-01-01  Australia  157916.081  NYGDPMKTPSAKD\n",
      "9  1992-04-01  Australia  159047.827  NYGDPMKTPSAKD\n",
      "10 1992-07-01  Australia  160658.176  NYGDPMKTPSAKD\n",
      "11 1992-09-01  Australia  163960.221  NYGDPMKTPSAKD\n",
      "12 1993-01-01  Australia  165097.495  NYGDPMKTPSAKD\n",
      "13 1993-04-01  Australia  166027.059  NYGDPMKTPSAKD\n",
      "14 1993-07-01  Australia  166203.179  NYGDPMKTPSAKD\n",
      "15 1993-09-01  Australia  169279.348  NYGDPMKTPSAKD\n",
      "16 1990-01-01     Sweden   79837.846  NYGDPMKTPSAKD\n",
      "17 1990-04-01     Sweden   80582.286  NYGDPMKTPSAKD\n",
      "18 1990-07-01     Sweden   79974.360  NYGDPMKTPSAKD\n",
      "19 1990-09-01     Sweden   80106.497  NYGDPMKTPSAKD\n",
      "20 1991-01-01     Sweden   79524.242  NYGDPMKTPSAKD\n",
      "21 1991-04-01     Sweden   79073.059  NYGDPMKTPSAKD\n",
      "22 1991-07-01     Sweden   79084.770  NYGDPMKTPSAKD\n",
      "23 1991-09-01     Sweden   79740.606  NYGDPMKTPSAKD\n",
      "24 1992-01-01     Sweden   79390.922  NYGDPMKTPSAKD\n",
      "25 1992-04-01     Sweden   79060.283  NYGDPMKTPSAKD\n",
      "26 1992-07-01     Sweden   78904.605  NYGDPMKTPSAKD\n",
      "27 1992-09-01     Sweden   76996.837  NYGDPMKTPSAKD\n",
      "28 1993-01-01     Sweden   75783.588  NYGDPMKTPSAKD\n",
      "29 1993-04-01     Sweden   76708.548  NYGDPMKTPSAKD\n",
      "30 1993-07-01     Sweden   77662.018  NYGDPMKTPSAKD\n",
      "31 1993-09-01     Sweden   77703.304  NYGDPMKTPSAKD\n"
     ]
    }
   ],
   "source": [
    "import pandas as pd\n",
    "\n",
    "gdp = pd.DataFrame({\n",
    "    'date': [\n",
    "        '1990-01-01', '1990-04-01', '1990-07-01', '1990-09-01',\n",
    "        '1991-01-01', '1991-04-01', '1991-07-01', '1991-09-01',\n",
    "        '1992-01-01', '1992-04-01', '1992-07-01', '1992-09-01',\n",
    "        '1993-01-01', '1993-04-01', '1993-07-01', '1993-09-01',\n",
    "        '1990-01-01', '1990-04-01', '1990-07-01', '1990-09-01',\n",
    "        '1991-01-01', '1991-04-01', '1991-07-01', '1991-09-01',\n",
    "        '1992-01-01', '1992-04-01', '1992-07-01', '1992-09-01',\n",
    "        '1993-01-01', '1993-04-01', '1993-07-01', '1993-09-01'\n",
    "    ],\n",
    "    'country': [\n",
    "        'Australia', 'Australia', 'Australia', 'Australia',\n",
    "        'Australia', 'Australia', 'Australia', 'Australia',\n",
    "        'Australia', 'Australia', 'Australia', 'Australia',\n",
    "        'Australia', 'Australia', 'Australia', 'Australia',\n",
    "        'Sweden', 'Sweden', 'Sweden', 'Sweden',\n",
    "        'Sweden', 'Sweden', 'Sweden', 'Sweden',\n",
    "        'Sweden', 'Sweden', 'Sweden', 'Sweden',\n",
    "        'Sweden', 'Sweden', 'Sweden', 'Sweden'\n",
    "    ],\n",
    "    'gdp': [\n",
    "        158051.132, 158263.582, 157329.279, 158240.678,\n",
    "        156195.954, 155989.033, 156635.858, 156744.057,\n",
    "        157916.081, 159047.827, 160658.176, 163960.221,\n",
    "        165097.495, 166027.059, 166203.179, 169279.348,\n",
    "        79837.846, 80582.286, 79974.360, 80106.497,\n",
    "        79524.242, 79073.059, 79084.770, 79740.606,\n",
    "        79390.922, 79060.283, 78904.605, 76996.837,\n",
    "        75783.588, 76708.548, 77662.018, 77703.304\n",
    "    ],\n",
    "    'series_code': ['NYGDPMKTPSAKD'] * 32\n",
    "})\n",
    "\n",
    "# Convert date column to datetime\n",
    "gdp['date'] = pd.to_datetime(gdp['date'])\n",
    "\n",
    "# Display the first few rows\n",
    "print(gdp)"
   ]
  },
  {
   "cell_type": "code",
   "execution_count": 33,
   "id": "ae5fd16e-3b38-4d98-96c4-a3deb80b89bf",
   "metadata": {},
   "outputs": [
    {
     "name": "stdout",
     "output_type": "stream",
     "text": [
      "        date    country       pop  series_code\n",
      "0 1990-01-01  Australia  17065100  SP.POP.TOTL\n",
      "1 1991-01-01  Australia  17284000  SP.POP.TOTL\n",
      "2 1992-01-01  Australia  17495000  SP.POP.TOTL\n",
      "3 1993-01-01  Australia  17667000  SP.POP.TOTL\n",
      "4 1990-01-01     Sweden   8558835  SP.POP.TOTL\n",
      "5 1991-01-01     Sweden   8617375  SP.POP.TOTL\n",
      "6 1992-01-01     Sweden   8668067  SP.POP.TOTL\n",
      "7 1993-01-01     Sweden   8718561  SP.POP.TOTL\n"
     ]
    }
   ],
   "source": [
    "import pandas as pd\n",
    "\n",
    "pop = pd.DataFrame({\n",
    "    'date': [\n",
    "        '1990-01-01', '1991-01-01', '1992-01-01', '1993-01-01',\n",
    "        '1990-01-01', '1991-01-01', '1992-01-01', '1993-01-01'\n",
    "    ],\n",
    "    'country': [\n",
    "        'Australia', 'Australia', 'Australia', 'Australia',\n",
    "        'Sweden', 'Sweden', 'Sweden', 'Sweden'\n",
    "    ],\n",
    "    'pop': [\n",
    "        17065100, 17284000, 17495000, 17667000,\n",
    "        8558835, 8617375, 8668067, 8718561\n",
    "    ],\n",
    "    'series_code': ['SP.POP.TOTL'] * 8\n",
    "})\n",
    "\n",
    "# Convert date column to datetime\n",
    "pop['date'] = pd.to_datetime(pop['date'])\n",
    "\n",
    "# Display the first few rows\n",
    "print(pop)"
   ]
  },
  {
   "cell_type": "code",
   "execution_count": 72,
   "id": "ac0fd81f-7feb-4b18-833c-c44eef1cba1f",
   "metadata": {},
   "outputs": [
    {
     "name": "stdout",
     "output_type": "stream",
     "text": [
      "         date    country         gdp  series_code_x       pop series_code_y\n",
      "0  1990-01-01  Australia  158051.132  NYGDPMKTPSAKD  17065100   SP.POP.TOTL\n",
      "1  1990-01-01     Sweden   79837.846  NYGDPMKTPSAKD   8558835   SP.POP.TOTL\n",
      "2  1990-04-01  Australia  158263.582  NYGDPMKTPSAKD   8558835   SP.POP.TOTL\n",
      "3  1990-04-01     Sweden   80582.286  NYGDPMKTPSAKD   8558835   SP.POP.TOTL\n",
      "4  1990-07-01  Australia  157329.279  NYGDPMKTPSAKD   8558835   SP.POP.TOTL\n",
      "5  1990-07-01     Sweden   79974.360  NYGDPMKTPSAKD   8558835   SP.POP.TOTL\n",
      "6  1990-09-01  Australia  158240.678  NYGDPMKTPSAKD   8558835   SP.POP.TOTL\n",
      "7  1990-09-01     Sweden   80106.497  NYGDPMKTPSAKD   8558835   SP.POP.TOTL\n",
      "8  1991-01-01  Australia  156195.954  NYGDPMKTPSAKD  17284000   SP.POP.TOTL\n",
      "9  1991-01-01     Sweden   79524.242  NYGDPMKTPSAKD   8617375   SP.POP.TOTL\n",
      "10 1991-04-01  Australia  155989.033  NYGDPMKTPSAKD   8617375   SP.POP.TOTL\n",
      "11 1991-04-01     Sweden   79073.059  NYGDPMKTPSAKD   8617375   SP.POP.TOTL\n",
      "12 1991-07-01  Australia  156635.858  NYGDPMKTPSAKD   8617375   SP.POP.TOTL\n",
      "13 1991-07-01     Sweden   79084.770  NYGDPMKTPSAKD   8617375   SP.POP.TOTL\n",
      "14 1991-09-01  Australia  156744.057  NYGDPMKTPSAKD   8617375   SP.POP.TOTL\n",
      "15 1991-09-01     Sweden   79740.606  NYGDPMKTPSAKD   8617375   SP.POP.TOTL\n",
      "16 1992-01-01  Australia  157916.081  NYGDPMKTPSAKD  17495000   SP.POP.TOTL\n",
      "17 1992-01-01     Sweden   79390.922  NYGDPMKTPSAKD   8668067   SP.POP.TOTL\n",
      "18 1992-04-01  Australia  159047.827  NYGDPMKTPSAKD   8668067   SP.POP.TOTL\n",
      "19 1992-04-01     Sweden   79060.283  NYGDPMKTPSAKD   8668067   SP.POP.TOTL\n",
      "20 1992-07-01  Australia  160658.176  NYGDPMKTPSAKD   8668067   SP.POP.TOTL\n",
      "21 1992-07-01     Sweden   78904.605  NYGDPMKTPSAKD   8668067   SP.POP.TOTL\n",
      "22 1992-09-01  Australia  163960.221  NYGDPMKTPSAKD   8668067   SP.POP.TOTL\n",
      "23 1992-09-01     Sweden   76996.837  NYGDPMKTPSAKD   8668067   SP.POP.TOTL\n",
      "24 1993-01-01  Australia  165097.495  NYGDPMKTPSAKD  17667000   SP.POP.TOTL\n",
      "25 1993-01-01     Sweden   75783.588  NYGDPMKTPSAKD   8718561   SP.POP.TOTL\n",
      "26 1993-04-01  Australia  166027.059  NYGDPMKTPSAKD   8718561   SP.POP.TOTL\n",
      "27 1993-04-01     Sweden   76708.548  NYGDPMKTPSAKD   8718561   SP.POP.TOTL\n",
      "28 1993-07-01  Australia  166203.179  NYGDPMKTPSAKD   8718561   SP.POP.TOTL\n",
      "29 1993-07-01     Sweden   77662.018  NYGDPMKTPSAKD   8718561   SP.POP.TOTL\n",
      "30 1993-09-01  Australia  169279.348  NYGDPMKTPSAKD   8718561   SP.POP.TOTL\n",
      "31 1993-09-01     Sweden   77703.304  NYGDPMKTPSAKD   8718561   SP.POP.TOTL\n"
     ]
    }
   ],
   "source": [
    "# Merge gdp and pop on date and country with fill and notice rows 2 and 3\n",
    "ctry_date = pd.merge_ordered(gdp, pop, on=['date', 'country'], \n",
    "                             fill_method='ffill')\n",
    "\n",
    "# Print ctry_date\n",
    "print(ctry_date)"
   ]
  },
  {
   "cell_type": "code",
   "execution_count": 74,
   "id": "3e1347f8-6462-483c-a485-62709fddf2f8",
   "metadata": {},
   "outputs": [
    {
     "name": "stdout",
     "output_type": "stream",
     "text": [
      "         date    country         gdp  series_code_x       pop series_code_y\n",
      "0  1990-01-01  Australia  158051.132  NYGDPMKTPSAKD  17065100   SP.POP.TOTL\n",
      "1  1990-04-01  Australia  158263.582  NYGDPMKTPSAKD  17065100   SP.POP.TOTL\n",
      "2  1990-07-01  Australia  157329.279  NYGDPMKTPSAKD  17065100   SP.POP.TOTL\n",
      "3  1990-09-01  Australia  158240.678  NYGDPMKTPSAKD  17065100   SP.POP.TOTL\n",
      "4  1991-01-01  Australia  156195.954  NYGDPMKTPSAKD  17284000   SP.POP.TOTL\n",
      "5  1991-04-01  Australia  155989.033  NYGDPMKTPSAKD  17284000   SP.POP.TOTL\n",
      "6  1991-07-01  Australia  156635.858  NYGDPMKTPSAKD  17284000   SP.POP.TOTL\n",
      "7  1991-09-01  Australia  156744.057  NYGDPMKTPSAKD  17284000   SP.POP.TOTL\n",
      "8  1992-01-01  Australia  157916.081  NYGDPMKTPSAKD  17495000   SP.POP.TOTL\n",
      "9  1992-04-01  Australia  159047.827  NYGDPMKTPSAKD  17495000   SP.POP.TOTL\n",
      "10 1992-07-01  Australia  160658.176  NYGDPMKTPSAKD  17495000   SP.POP.TOTL\n",
      "11 1992-09-01  Australia  163960.221  NYGDPMKTPSAKD  17495000   SP.POP.TOTL\n",
      "12 1993-01-01  Australia  165097.495  NYGDPMKTPSAKD  17667000   SP.POP.TOTL\n",
      "13 1993-04-01  Australia  166027.059  NYGDPMKTPSAKD  17667000   SP.POP.TOTL\n",
      "14 1993-07-01  Australia  166203.179  NYGDPMKTPSAKD  17667000   SP.POP.TOTL\n",
      "15 1993-09-01  Australia  169279.348  NYGDPMKTPSAKD  17667000   SP.POP.TOTL\n",
      "16 1990-01-01     Sweden   79837.846  NYGDPMKTPSAKD   8558835   SP.POP.TOTL\n",
      "17 1990-04-01     Sweden   80582.286  NYGDPMKTPSAKD   8558835   SP.POP.TOTL\n",
      "18 1990-07-01     Sweden   79974.360  NYGDPMKTPSAKD   8558835   SP.POP.TOTL\n",
      "19 1990-09-01     Sweden   80106.497  NYGDPMKTPSAKD   8558835   SP.POP.TOTL\n",
      "20 1991-01-01     Sweden   79524.242  NYGDPMKTPSAKD   8617375   SP.POP.TOTL\n",
      "21 1991-04-01     Sweden   79073.059  NYGDPMKTPSAKD   8617375   SP.POP.TOTL\n",
      "22 1991-07-01     Sweden   79084.770  NYGDPMKTPSAKD   8617375   SP.POP.TOTL\n",
      "23 1991-09-01     Sweden   79740.606  NYGDPMKTPSAKD   8617375   SP.POP.TOTL\n",
      "24 1992-01-01     Sweden   79390.922  NYGDPMKTPSAKD   8668067   SP.POP.TOTL\n",
      "25 1992-04-01     Sweden   79060.283  NYGDPMKTPSAKD   8668067   SP.POP.TOTL\n",
      "26 1992-07-01     Sweden   78904.605  NYGDPMKTPSAKD   8668067   SP.POP.TOTL\n",
      "27 1992-09-01     Sweden   76996.837  NYGDPMKTPSAKD   8668067   SP.POP.TOTL\n",
      "28 1993-01-01     Sweden   75783.588  NYGDPMKTPSAKD   8718561   SP.POP.TOTL\n",
      "29 1993-04-01     Sweden   76708.548  NYGDPMKTPSAKD   8718561   SP.POP.TOTL\n",
      "30 1993-07-01     Sweden   77662.018  NYGDPMKTPSAKD   8718561   SP.POP.TOTL\n",
      "31 1993-09-01     Sweden   77703.304  NYGDPMKTPSAKD   8718561   SP.POP.TOTL\n"
     ]
    }
   ],
   "source": [
    "# Merge gdp and pop on country and date with fill\n",
    "date_ctry = pd.merge_ordered(gdp, pop, on=['country', 'date'], fill_method = 'ffill')\n",
    "\n",
    "# Print date_ctry\n",
    "print(date_ctry)"
   ]
  },
  {
   "cell_type": "raw",
   "id": "ce21d043-b461-4398-ae12-3fbee5964262",
   "metadata": {},
   "source": [
    "When you merge on date first, the table is sorted by date then country. \n",
    "When forward fill is applied, Sweden's population value in January is used to fill in the missing values \n",
    "for both Australia and Sweden for the remainder of the year. \n",
    "This is not what you want. The fill forward is using unintended data to fill in the missing values. \n",
    "However, when you merge on country first, the table is sorted by country then date, \n",
    "so the forward fill is applied appropriately in this situation."
   ]
  },
  {
   "cell_type": "markdown",
   "id": "ee6de688-fec3-45a3-88d3-ca959aa8495a",
   "metadata": {},
   "source": [
    "### Using merge_asof() to study stocks\n",
    "\n",
    "`merge_asof()` is like a `\"nearest in time\"` version of a SQL JOIN.\n",
    "\n",
    "It merges two tables based on time, but not exact matches. Instead, it finds the closest earlier or same time from the right table to each row in the left table.\n",
    "\n",
    "* `merge_asof()` = smart time-based join (nearest previous match)\n",
    "\n",
    "* Used when timestamps don’t align perfectly\n",
    "\n",
    "* Sorting is required so it knows how to find the closest earlier time\n",
    "\n",
    "* Suffixes help separate overlapping column names like `close`\n",
    "\n",
    "Find the price change of **Wells Fargo(wells)** and **Bank of America(bac)** compare to **JP Morgan(jpm)**. "
   ]
  },
  {
   "cell_type": "code",
   "execution_count": 25,
   "id": "43cce8fc-7d4f-45f5-82f6-45f51bd98b2e",
   "metadata": {},
   "outputs": [
    {
     "name": "stdout",
     "output_type": "stream",
     "text": [
      "             date_time   close\n",
      "0  2017-11-17 15:35:17  98.120\n",
      "1  2017-11-17 15:40:04  98.180\n",
      "2  2017-11-17 15:45:01  97.731\n",
      "3  2017-11-17 15:50:55  97.740\n",
      "4  2017-11-17 15:55:00  97.815\n",
      "5  2017-11-17 16:00:30  98.020\n",
      "6  2017-11-17 16:05:07  97.800\n",
      "7  2017-11-17 16:10:08  97.840\n",
      "8  2017-11-17 16:15:11  97.710\n",
      "9  2017-11-17 16:20:29  97.760\n",
      "10 2017-11-17 16:25:25  97.820\n",
      "11 2017-11-17 16:30:53  97.950\n",
      "12 2017-11-17 16:35:11  97.990\n",
      "13 2017-11-17 16:40:44  98.060\n",
      "14 2017-11-17 16:45:52  98.050\n",
      "15 2017-11-17 16:50:37  98.110\n",
      "16 2017-11-17 16:55:02  98.180\n"
     ]
    }
   ],
   "source": [
    "import pandas as pd\n",
    "\n",
    "jpm = pd.DataFrame({\n",
    "    'date_time': [\n",
    "        '2017-11-17 15:35:17', '2017-11-17 15:40:04', '2017-11-17 15:45:01',\n",
    "        '2017-11-17 15:50:55', '2017-11-17 15:55:00', '2017-11-17 16:00:30',\n",
    "        '2017-11-17 16:05:07', '2017-11-17 16:10:08', '2017-11-17 16:15:11',\n",
    "        '2017-11-17 16:20:29', '2017-11-17 16:25:25', '2017-11-17 16:30:53',\n",
    "        '2017-11-17 16:35:11', '2017-11-17 16:40:44', '2017-11-17 16:45:52',\n",
    "        '2017-11-17 16:50:37', '2017-11-17 16:55:02'\n",
    "    ],\n",
    "    'close': [\n",
    "        98.120, 98.180, 97.731, 97.740, 97.815, 98.020,\n",
    "        97.800, 97.840, 97.710, 97.760, 97.820, 97.950,\n",
    "        97.990, 98.060, 98.050, 98.110, 98.180\n",
    "    ]\n",
    "})\n",
    "\n",
    "# Convert date_time column to datetime format\n",
    "jpm['date_time'] = pd.to_datetime(jpm['date_time'])\n",
    "\n",
    "# Display the first few rows\n",
    "print(jpm)"
   ]
  },
  {
   "cell_type": "code",
   "execution_count": 27,
   "id": "5f8cd3b2-c5b1-4631-b77c-4a5678b8846d",
   "metadata": {},
   "outputs": [
    {
     "name": "stdout",
     "output_type": "stream",
     "text": [
      "             date_time   close\n",
      "0  2017-11-17 15:35:08  54.323\n",
      "1  2017-11-17 15:40:00  54.320\n",
      "2  2017-11-17 15:45:32  54.190\n",
      "3  2017-11-17 15:50:07  54.170\n",
      "4  2017-11-17 15:55:00  54.184\n",
      "5  2017-11-17 16:00:30  54.265\n",
      "6  2017-11-17 16:05:52  54.200\n",
      "7  2017-11-17 16:10:22  54.155\n",
      "8  2017-11-17 16:15:43  54.190\n",
      "9  2017-11-17 16:20:07  54.205\n",
      "10 2017-11-17 16:25:13  54.230\n",
      "11 2017-11-17 16:30:04  54.220\n",
      "12 2017-11-17 16:35:32  54.220\n",
      "13 2017-11-17 16:40:09  54.280\n",
      "14 2017-11-17 16:45:24  54.240\n",
      "15 2017-11-17 16:50:28  54.170\n",
      "16 2017-11-17 16:55:42  54.180\n"
     ]
    }
   ],
   "source": [
    "import pandas as pd\n",
    "\n",
    "wells = pd.DataFrame({\n",
    "    'date_time': [\n",
    "        '2017-11-17 15:35:08', '2017-11-17 15:40:00', '2017-11-17 15:45:32',\n",
    "        '2017-11-17 15:50:07', '2017-11-17 15:55:00', '2017-11-17 16:00:30',\n",
    "        '2017-11-17 16:05:52', '2017-11-17 16:10:22', '2017-11-17 16:15:43',\n",
    "        '2017-11-17 16:20:07', '2017-11-17 16:25:13', '2017-11-17 16:30:04',\n",
    "        '2017-11-17 16:35:32', '2017-11-17 16:40:09', '2017-11-17 16:45:24',\n",
    "        '2017-11-17 16:50:28', '2017-11-17 16:55:42'\n",
    "    ],\n",
    "    'close': [\n",
    "        54.323, 54.320, 54.190, 54.170, 54.184, 54.265,\n",
    "        54.200, 54.155, 54.190, 54.205, 54.230, 54.220,\n",
    "        54.220, 54.280, 54.240, 54.170, 54.180\n",
    "    ]\n",
    "})\n",
    "\n",
    "# Convert date_time column to datetime format\n",
    "wells['date_time'] = pd.to_datetime(wells['date_time'])\n",
    "\n",
    "# Show the first few rows\n",
    "print(wells)"
   ]
  },
  {
   "cell_type": "code",
   "execution_count": 29,
   "id": "f6d60c6b-eecc-4065-b9f9-a97343f4ed5e",
   "metadata": {},
   "outputs": [
    {
     "name": "stdout",
     "output_type": "stream",
     "text": [
      "             date_time   close\n",
      "0  2017-11-17 15:35:17  26.552\n",
      "1  2017-11-17 15:40:06  26.552\n",
      "2  2017-11-17 15:45:05  26.388\n",
      "3  2017-11-17 15:50:34  26.378\n",
      "4  2017-11-17 15:55:06  26.383\n",
      "5  2017-11-17 16:00:18  26.452\n",
      "6  2017-11-17 16:05:20  26.373\n",
      "7  2017-11-17 16:10:05  26.388\n",
      "8  2017-11-17 16:15:07  26.369\n",
      "9  2017-11-17 16:20:29  26.388\n",
      "10 2017-11-17 16:25:00  26.467\n",
      "11 2017-11-17 16:30:18  26.482\n",
      "12 2017-11-17 16:35:08  26.492\n",
      "13 2017-11-17 16:40:46  26.527\n",
      "14 2017-11-17 16:45:55  26.522\n",
      "15 2017-11-17 16:50:05  26.547\n",
      "16 2017-11-17 16:55:02  26.567\n"
     ]
    }
   ],
   "source": [
    "import pandas as pd\n",
    "\n",
    "bac = pd.DataFrame({\n",
    "    'date_time': [\n",
    "        '2017-11-17 15:35:17', '2017-11-17 15:40:06', '2017-11-17 15:45:05',\n",
    "        '2017-11-17 15:50:34', '2017-11-17 15:55:06', '2017-11-17 16:00:18',\n",
    "        '2017-11-17 16:05:20', '2017-11-17 16:10:05', '2017-11-17 16:15:07',\n",
    "        '2017-11-17 16:20:29', '2017-11-17 16:25:00', '2017-11-17 16:30:18',\n",
    "        '2017-11-17 16:35:08', '2017-11-17 16:40:46', '2017-11-17 16:45:55',\n",
    "        '2017-11-17 16:50:05', '2017-11-17 16:55:02'\n",
    "    ],\n",
    "    'close': [\n",
    "        26.552, 26.552, 26.388, 26.378, 26.383, 26.452,\n",
    "        26.373, 26.388, 26.369, 26.388, 26.467, 26.482,\n",
    "        26.492, 26.527, 26.522, 26.547, 26.567\n",
    "    ]\n",
    "})\n",
    "\n",
    "# Convert date_time to datetime format\n",
    "bac['date_time'] = pd.to_datetime(bac['date_time'])\n",
    "\n",
    "# Show the first few rows\n",
    "print(bac)"
   ]
  },
  {
   "cell_type": "code",
   "execution_count": 15,
   "id": "c0238f17-417f-4a7f-9f8c-25e8a4cde7be",
   "metadata": {},
   "outputs": [
    {
     "name": "stdout",
     "output_type": "stream",
     "text": [
      "             date_time   close  close_wells\n",
      "0  2017-11-17 15:35:17  98.120       54.323\n",
      "1  2017-11-17 15:40:04  98.180       54.320\n",
      "2  2017-11-17 15:45:01  97.731       54.190\n",
      "3  2017-11-17 15:50:55  97.740       54.170\n",
      "4  2017-11-17 15:55:00  97.815       54.184\n",
      "5  2017-11-17 16:00:30  98.020       54.265\n",
      "6  2017-11-17 16:05:07  97.800       54.200\n",
      "7  2017-11-17 16:10:08  97.840       54.155\n",
      "8  2017-11-17 16:15:11  97.710       54.190\n",
      "9  2017-11-17 16:20:29  97.760       54.205\n",
      "10 2017-11-17 16:25:25  97.820       54.230\n",
      "11 2017-11-17 16:30:53  97.950       54.220\n",
      "12 2017-11-17 16:35:11  97.990       54.220\n",
      "13 2017-11-17 16:40:44  98.060       54.280\n",
      "14 2017-11-17 16:45:52  98.050       54.240\n",
      "15 2017-11-17 16:50:37  98.110       54.170\n",
      "16 2017-11-17 16:55:02  98.180       54.180\n"
     ]
    }
   ],
   "source": [
    "# Use merge_asof() to merge jpm and wells\n",
    "jpm_wells = pd.merge_asof(\n",
    "    jpm.sort_values('date_time'),\n",
    "    wells.sort_values('date_time'),\n",
    "    on='date_time',\n",
    "    suffixes=('', '_wells'),\n",
    "    direction='nearest' \n",
    ")\n",
    "print(jpm_wells)"
   ]
  },
  {
   "cell_type": "code",
   "execution_count": 17,
   "id": "11c0d55b-28e3-402b-84dd-9598fe111fa8",
   "metadata": {},
   "outputs": [
    {
     "name": "stdout",
     "output_type": "stream",
     "text": [
      "             date_time  close_jpm  close_wells  close_bac\n",
      "0  2017-11-17 15:35:17     98.120       54.323     26.552\n",
      "1  2017-11-17 15:40:04     98.180       54.320     26.552\n",
      "2  2017-11-17 15:45:01     97.731       54.190     26.388\n",
      "3  2017-11-17 15:50:55     97.740       54.170     26.378\n",
      "4  2017-11-17 15:55:00     97.815       54.184     26.383\n",
      "5  2017-11-17 16:00:30     98.020       54.265     26.452\n",
      "6  2017-11-17 16:05:07     97.800       54.200     26.373\n",
      "7  2017-11-17 16:10:08     97.840       54.155     26.388\n",
      "8  2017-11-17 16:15:11     97.710       54.190     26.369\n",
      "9  2017-11-17 16:20:29     97.760       54.205     26.388\n",
      "10 2017-11-17 16:25:25     97.820       54.230     26.467\n",
      "11 2017-11-17 16:30:53     97.950       54.220     26.482\n",
      "12 2017-11-17 16:35:11     97.990       54.220     26.492\n",
      "13 2017-11-17 16:40:44     98.060       54.280     26.527\n",
      "14 2017-11-17 16:45:52     98.050       54.240     26.522\n",
      "15 2017-11-17 16:50:37     98.110       54.170     26.547\n",
      "16 2017-11-17 16:55:02     98.180       54.180     26.567\n"
     ]
    }
   ],
   "source": [
    "# Use merge_asof() to merge jpm_wells and bac\n",
    "jpm_wells_bac = pd.merge_asof(\n",
    "    jpm_wells.sort_values('date_time'),\n",
    "    bac.sort_values('date_time'),\n",
    "    on='date_time',\n",
    "    suffixes=('_jpm', '_bac'),\n",
    "    direction='nearest'\n",
    ")\n",
    "print(jpm_wells_bac)"
   ]
  },
  {
   "cell_type": "code",
   "execution_count": 19,
   "id": "f4c38889-74de-41e6-9388-aa053d3359e9",
   "metadata": {},
   "outputs": [
    {
     "name": "stdout",
     "output_type": "stream",
     "text": [
      "         date_time  close_jpm  close_wells  close_bac\n",
      "0              NaT        NaN          NaN        NaN\n",
      "1  0 days 00:04:47      0.060       -0.003      0.000\n",
      "2  0 days 00:04:57     -0.449       -0.130     -0.164\n",
      "3  0 days 00:05:54      0.009       -0.020     -0.010\n",
      "4  0 days 00:04:05      0.075        0.014      0.005\n",
      "5  0 days 00:05:30      0.205        0.081      0.069\n",
      "6  0 days 00:04:37     -0.220       -0.065     -0.079\n",
      "7  0 days 00:05:01      0.040       -0.045      0.015\n",
      "8  0 days 00:05:03     -0.130        0.035     -0.019\n",
      "9  0 days 00:05:18      0.050        0.015      0.019\n",
      "10 0 days 00:04:56      0.060        0.025      0.079\n",
      "11 0 days 00:05:28      0.130       -0.010      0.015\n",
      "12 0 days 00:04:18      0.040        0.000      0.010\n",
      "13 0 days 00:05:33      0.070        0.060      0.035\n",
      "14 0 days 00:05:08     -0.010       -0.040     -0.005\n",
      "15 0 days 00:04:45      0.060       -0.070      0.025\n",
      "16 0 days 00:04:25      0.070        0.010      0.020\n"
     ]
    }
   ],
   "source": [
    "# Compute price diff\n",
    "price_diffs = jpm_wells_bac.diff()\n",
    "print(price_diffs)"
   ]
  },
  {
   "cell_type": "code",
   "execution_count": 23,
   "id": "e4899464-d241-4453-ba9c-8e2d8b82b68c",
   "metadata": {},
   "outputs": [
    {
     "data": {
      "image/png": "[encoded data removed]",
      "text/plain": [
       "<Figure size 640x480 with 1 Axes>"
      ]
     },
     "metadata": {},
     "output_type": "display_data"
    }
   ],
   "source": [
    "import matplotlib.pyplot as plt\n",
    "# Plot the price diff of the close of jpm, wells and bac only\n",
    "price_diffs.plot(y=['close_jpm', 'close_wells', 'close_bac'])\n",
    "plt.show()"
   ]
  },
  {
   "cell_type": "markdown",
   "id": "ac93fcc2-2fb9-4aa5-84f3-980281680124",
   "metadata": {},
   "source": [
    "### Using merge_asof() to create datasetabs\n",
    "You have been given gdp, which is a table of quarterly GDP values of the US during the 1980s. Additionally, the table recession has been given to you. It holds the starting date of every US recession since 1980, and the date when the recession was declared to be over. Use merge_asof() to merge the tables and create a status flag if a quarter was during a recession. Finally, to check your work, plot the data in a bar chart.\n",
    "\n",
    "* Using `merge_asof()`, merge `gdp` and `recession` on `date`, with `gdp` as the left table. Save to the variable `gdp_recession`.\n",
    "* Create a `list` using a list comprehension and a conditional expression, named `is_recession`, where for each row if the `gdp_recession['econ_status']` value is equal to `'recession'` then enter `'r'` else `'g'`.\n",
    "* Using `gdp_recession`, plot a bar chart of `gdp` versus `date`, setting the `color` argument equal to `is_recession`."
   ]
  },
  {
   "cell_type": "code",
   "execution_count": 39,
   "id": "c9fb17e4-ecc5-4d8a-8681-82249b816e1d",
   "metadata": {},
   "outputs": [
    {
     "name": "stdout",
     "output_type": "stream",
     "text": [
      "         date       gdp\n",
      "0  1979-01-01  2526.610\n",
      "1  1979-04-01  2591.247\n",
      "2  1979-07-01  2667.565\n",
      "3  1979-10-01  2723.883\n",
      "4  1980-01-01  2789.842\n",
      "5  1980-04-01  2797.352\n",
      "6  1980-07-01  2856.483\n",
      "7  1980-10-01  2985.557\n",
      "8  1981-01-01  3124.206\n",
      "9  1981-04-01  3162.532\n",
      "10 1981-07-01  3260.609\n",
      "11 1981-10-01  3280.818\n",
      "12 1982-01-01  3274.302\n",
      "13 1982-04-01  3331.972\n",
      "14 1982-07-01  3366.322\n",
      "15 1982-10-01  3402.561\n",
      "16 1983-01-01  3473.413\n",
      "17 1983-04-01  3578.848\n",
      "18 1983-07-01  3689.179\n",
      "19 1983-10-01  3794.706\n",
      "20 1984-01-01  3908.054\n",
      "21 1984-04-01  4009.601\n",
      "22 1984-07-01  4084.250\n",
      "23 1984-10-01  4148.551\n"
     ]
    }
   ],
   "source": [
    "import pandas as pd\n",
    "\n",
    "# Creating the GDP DataFrame\n",
    "gdp_data = {\n",
    "    'date': [\n",
    "        '1979-01-01', '1979-04-01', '1979-07-01', '1979-10-01', '1980-01-01', '1980-04-01', '1980-07-01', '1980-10-01',\n",
    "        '1981-01-01', '1981-04-01', '1981-07-01', '1981-10-01', '1982-01-01', '1982-04-01', '1982-07-01', '1982-10-01',\n",
    "        '1983-01-01', '1983-04-01', '1983-07-01', '1983-10-01', '1984-01-01', '1984-04-01', '1984-07-01', '1984-10-01'\n",
    "    ],\n",
    "    'gdp': [\n",
    "        2526.610, 2591.247, 2667.565, 2723.883, 2789.842, 2797.352, 2856.483, 2985.557, 3124.206, 3162.532, 3260.609,\n",
    "        3280.818, 3274.302, 3331.972, 3366.322, 3402.561, 3473.413, 3578.848, 3689.179, 3794.706, 3908.054, 4009.601,\n",
    "        4084.250, 4148.551\n",
    "    ]\n",
    "}\n",
    "gdp = pd.DataFrame(gdp_data)\n",
    "\n",
    "# Convert the 'date' column in DataFrames to datetime format\n",
    "gdp['date'] = pd.to_datetime(gdp['date'])\n",
    "\n",
    "# Display the DataFrames\n",
    "print(gdp)"
   ]
  },
  {
   "cell_type": "code",
   "execution_count": 41,
   "id": "f2fa3897-c45b-47c6-bfeb-d54b89f3ed84",
   "metadata": {},
   "outputs": [
    {
     "name": "stdout",
     "output_type": "stream",
     "text": [
      "        date econ_status\n",
      "0 1980-01-01   recession\n",
      "1 1980-08-01      normal\n",
      "2 1981-07-01   recession\n",
      "3 1982-12-01      normal\n",
      "4 1990-07-01   recession\n",
      "5 1991-04-01      normal\n",
      "6 2001-03-01   recession\n",
      "7 2001-12-01      normal\n",
      "8 2007-12-01   recession\n",
      "9 2009-07-01      normal\n"
     ]
    }
   ],
   "source": [
    "# Creating the recession DataFrame\n",
    "recession_data = {\n",
    "    'date': [\n",
    "        '1980-01-01', '1980-08-01', '1981-07-01', '1982-12-01', '1990-07-01', '1991-04-01', '2001-03-01', '2001-12-01',\n",
    "        '2007-12-01', '2009-07-01'\n",
    "    ],\n",
    "    'econ_status': [\n",
    "        'recession', 'normal', 'recession', 'normal', 'recession', 'normal', 'recession', 'normal', 'recession', 'normal'\n",
    "    ]\n",
    "}\n",
    "recession = pd.DataFrame(recession_data)\n",
    "\n",
    "# Convert the 'date' column in DataFrame to datetime format\n",
    "recession['date'] = pd.to_datetime(recession['date'])\n",
    "\n",
    "# Display the DataFrames\n",
    "print(recession)"
   ]
  },
  {
   "cell_type": "code",
   "execution_count": 43,
   "id": "e58d5438-6099-4ac3-a620-88811fa16ce9",
   "metadata": {
    "scrolled": true
   },
   "outputs": [
    {
     "name": "stdout",
     "output_type": "stream",
     "text": [
      "         date       gdp econ_status\n",
      "0  1979-01-01  2526.610         NaN\n",
      "1  1979-04-01  2591.247         NaN\n",
      "2  1979-07-01  2667.565         NaN\n",
      "3  1979-10-01  2723.883         NaN\n",
      "4  1980-01-01  2789.842   recession\n",
      "5  1980-04-01  2797.352   recession\n",
      "6  1980-07-01  2856.483   recession\n",
      "7  1980-10-01  2985.557      normal\n",
      "8  1981-01-01  3124.206      normal\n",
      "9  1981-04-01  3162.532      normal\n",
      "10 1981-07-01  3260.609   recession\n",
      "11 1981-10-01  3280.818   recession\n",
      "12 1982-01-01  3274.302   recession\n",
      "13 1982-04-01  3331.972   recession\n",
      "14 1982-07-01  3366.322   recession\n",
      "15 1982-10-01  3402.561   recession\n",
      "16 1983-01-01  3473.413      normal\n",
      "17 1983-04-01  3578.848      normal\n",
      "18 1983-07-01  3689.179      normal\n",
      "19 1983-10-01  3794.706      normal\n",
      "20 1984-01-01  3908.054      normal\n",
      "21 1984-04-01  4009.601      normal\n",
      "22 1984-07-01  4084.250      normal\n",
      "23 1984-10-01  4148.551      normal\n"
     ]
    }
   ],
   "source": [
    "# Merge the gdp and recession DataFrames by date, matching each GDP date to the most recent recession status before or on that date\n",
    "gdp_recession = pd.merge_asof(\n",
    "    gdp.sort_values('date'),            # Sort the GDP data by date\n",
    "    recession.sort_values('date'),      # Sort the recession data by date\n",
    "    on='date')                          # Merge based on the 'date' column\n",
    "print(gdp_recession)"
   ]
  },
  {
   "cell_type": "raw",
   "id": "e59f1f6a-7588-49e7-a9a5-c2ca1520da15",
   "metadata": {},
   "source": [
    "# Create a list of colors based on whether the economy was in a recession ('r' for red) or not ('g' for green)\n",
    "is_recession = ['r' if s == 'recession' else 'g' for s in gdp_recession['econ_status']]\n",
    "\n",
    "# Plot a bar chart using the GDP data, coloring each bar red if it was during a recession, green otherwise\n",
    "gdp_recession.plot(kind='bar', y='gdp', x='date', color=is_recession, rot=90)\n",
    "\n",
    "# Display the chart on the screen\n",
    "plt.show()"
   ]
  },
  {
   "cell_type": "code",
   "execution_count": 69,
   "id": "93ce6d3f-1f4e-495c-bd58-332f74345f5a",
   "metadata": {},
   "outputs": [
    {
     "name": "stdout",
     "output_type": "stream",
     "text": [
      "['g', 'g', 'g', 'g', 'r', 'r', 'r', 'g', 'g', 'g', 'r', 'r', 'r', 'r', 'r', 'r', 'g', 'g', 'g', 'g', 'g', 'g', 'g', 'g']\n"
     ]
    }
   ],
   "source": [
    "# Create a list of colors based on whether the economy was in a recession ('r' for red) or not ('g' for green)\n",
    "is_recession = []\n",
    "for s in gdp_recession['econ_status']:\n",
    "    if s == 'recession':\n",
    "        is_recession.append('r')  # Add 'r' to the list if it's a recession\n",
    "    else:\n",
    "        is_recession.append('g')  # Add 'g' otherwise (normal period)\n",
    "print(is_recess)"
   ]
  },
  {
   "cell_type": "code",
   "execution_count": 71,
   "id": "9ff1f57f-c6ef-4858-b1fa-f25dc9bb9a0c",
   "metadata": {},
   "outputs": [
    {
     "data": {
      "image/png": "[encoded data removed]",
      "text/plain": [
       "<Figure size 640x480 with 1 Axes>"
      ]
     },
     "metadata": {},
     "output_type": "display_data"
    }
   ],
   "source": [
    "# Plot a bar chart using the GDP data, coloring each bar red if it was during a recession, green otherwise\n",
    "gdp_recession.plot(kind='bar', y='gdp', x='date', color=is_recess, rot=90)\n",
    "\n",
    "# Display the chart on the screen\n",
    "plt.show()"
   ]
  },
  {
   "cell_type": "code",
   "execution_count": 53,
   "id": "639b9461-60c6-4ca3-a3a8-2fadc42dbf84",
   "metadata": {},
   "outputs": [
    {
     "name": "stdout",
     "output_type": "stream",
     "text": [
      "<class 'pandas.core.series.Series'>\n"
     ]
    }
   ],
   "source": [
    "print(type(gdp_recession['econ_status'])"
   ]
  },
  {
   "cell_type": "raw",
   "id": "26d8a701-26ea-4a68-9cb0-cdf7da119a3f",
   "metadata": {},
   "source": [
    "print(gdp_recession['econ_status'])"
   ]
  },
  {
   "cell_type": "markdown",
   "id": "b03580a0-7d62-4b35-83e0-5440e665c43d",
   "metadata": {},
   "source": [
    "### Explore financials with .query()\n",
    "The `.query()` method in pandas lets you filter a DataFrame using a string expression, which can often be more readable than traditional Boolean indexing."
   ]
  },
  {
   "cell_type": "code",
   "execution_count": 2,
   "id": "a3dff318-35c0-4c80-a437-454fd800c2f9",
   "metadata": {},
   "outputs": [
    {
     "name": "stdout",
     "output_type": "stream",
     "text": [
      "             financial   company  year     value\n",
      "0        total_revenue   twitter  2019   3459329\n",
      "1      cost_of_revenue   twitter  2019   1137041\n",
      "2         gross_profit   twitter  2019   2322288\n",
      "3   operating_expenses   twitter  2019   1955915\n",
      "4           net_income   twitter  2019   1465659\n",
      "5        total_revenue  facebook  2019  70697000\n",
      "6      cost_of_revenue  facebook  2019  12770000\n",
      "7         gross_profit  facebook  2019  57927000\n",
      "8   operating_expenses  facebook  2019  33941000\n",
      "9           net_income  facebook  2019  18485000\n",
      "10       total_revenue      snap  2019   1715534\n",
      "11     cost_of_revenue      snap  2019    895838\n",
      "12        gross_profit      snap  2019    819696\n",
      "13  operating_expenses      snap  2019   1923024\n",
      "14          net_income      snap  2019  -1033660\n",
      "15       total_revenue   twitter  2018   3042359\n",
      "16     cost_of_revenue   twitter  2018    964997\n",
      "17        gross_profit   twitter  2018   2077362\n",
      "18  operating_expenses   twitter  2018   1624037\n",
      "19          net_income   twitter  2018   1205596\n",
      "20       total_revenue  facebook  2018  55838000\n",
      "21     cost_of_revenue  facebook  2018   9355000\n",
      "22        gross_profit  facebook  2018  46483000\n",
      "23  operating_expenses  facebook  2018  21570000\n",
      "24          net_income  facebook  2018  22112000\n",
      "25       total_revenue      snap  2018   1180446\n",
      "26     cost_of_revenue      snap  2018    798865\n",
      "27        gross_profit      snap  2018    381581\n",
      "28  operating_expenses      snap  2018   1650031\n",
      "29          net_income      snap  2018  -1255911\n",
      "30       total_revenue   twitter  2017   2443299\n",
      "31     cost_of_revenue   twitter  2017    861242\n",
      "32        gross_profit   twitter  2017   1582057\n",
      "33  operating_expenses   twitter  2017   1543317\n",
      "34          net_income   twitter  2017   -108063\n",
      "35       total_revenue  facebook  2017  40653000\n",
      "36     cost_of_revenue  facebook  2017   5454000\n",
      "37        gross_profit  facebook  2017  35199000\n",
      "38  operating_expenses  facebook  2017  14996000\n",
      "39          net_income  facebook  2017  15934000\n",
      "40       total_revenue      snap  2017    824949\n",
      "41     cost_of_revenue      snap  2017    717462\n",
      "42        gross_profit      snap  2017    107487\n",
      "43  operating_expenses      snap  2017   3593063\n",
      "44          net_income      snap  2017  -3445066\n",
      "45       total_revenue   twitter  2016   2529619\n",
      "46     cost_of_revenue   twitter  2016    932240\n",
      "47        gross_profit   twitter  2016   1597379\n",
      "48  operating_expenses   twitter  2016   1964587\n",
      "49          net_income   twitter  2016   -456873\n",
      "50       total_revenue  facebook  2016  27638000\n",
      "51     cost_of_revenue  facebook  2016   3789000\n",
      "52        gross_profit  facebook  2016  23849000\n",
      "53  operating_expenses  facebook  2016  11422000\n",
      "54          net_income  facebook  2016  10217000\n",
      "55       total_revenue      snap  2016    404482\n",
      "56     cost_of_revenue      snap  2016    451660\n",
      "57        gross_profit      snap  2016    -47178\n",
      "58  operating_expenses      snap  2016    473207\n",
      "59          net_income      snap  2016   -514643\n"
     ]
    }
   ],
   "source": [
    "import pandas as pd\n",
    "\n",
    "data = {\n",
    "    'financial': [\n",
    "        'total_revenue', 'cost_of_revenue', 'gross_profit', 'operating_expenses', 'net_income',\n",
    "        'total_revenue', 'cost_of_revenue', 'gross_profit', 'operating_expenses', 'net_income',\n",
    "        'total_revenue', 'cost_of_revenue', 'gross_profit', 'operating_expenses', 'net_income',\n",
    "        'total_revenue', 'cost_of_revenue', 'gross_profit', 'operating_expenses', 'net_income',\n",
    "        'total_revenue', 'cost_of_revenue', 'gross_profit', 'operating_expenses', 'net_income',\n",
    "        'total_revenue', 'cost_of_revenue', 'gross_profit', 'operating_expenses', 'net_income',\n",
    "        'total_revenue', 'cost_of_revenue', 'gross_profit', 'operating_expenses', 'net_income',\n",
    "        'total_revenue', 'cost_of_revenue', 'gross_profit', 'operating_expenses', 'net_income',\n",
    "        'total_revenue', 'cost_of_revenue', 'gross_profit', 'operating_expenses', 'net_income',\n",
    "        'total_revenue', 'cost_of_revenue', 'gross_profit', 'operating_expenses', 'net_income',\n",
    "        'total_revenue', 'cost_of_revenue', 'gross_profit', 'operating_expenses', 'net_income',\n",
    "        'total_revenue', 'cost_of_revenue', 'gross_profit', 'operating_expenses', 'net_income'\n",
    "    ],\n",
    "    'company': [\n",
    "        'twitter'] * 5 + ['facebook'] * 5 + ['snap'] * 5 +\n",
    "        ['twitter'] * 5 + ['facebook'] * 5 + ['snap'] * 5 +\n",
    "        ['twitter'] * 5 + ['facebook'] * 5 + ['snap'] * 5 +\n",
    "        ['twitter'] * 5 + ['facebook'] * 5 + ['snap'] * 5,\n",
    "    'year': [\n",
    "        2019]*15 + [2018]*15 + [2017]*15 + [2016]*15,\n",
    "    'value': [\n",
    "        3459329, 1137041, 2322288, 1955915, 1465659,\n",
    "        70697000, 12770000, 57927000, 33941000, 18485000,\n",
    "        1715534, 895838, 819696, 1923024, -1033660,\n",
    "        3042359, 964997, 2077362, 1624037, 1205596,\n",
    "        55838000, 9355000, 46483000, 21570000, 22112000,\n",
    "        1180446, 798865, 381581, 1650031, -1255911,\n",
    "        2443299, 861242, 1582057, 1543317, -108063,\n",
    "        40653000, 5454000, 35199000, 14996000, 15934000,\n",
    "        824949, 717462, 107487, 3593063, -3445066,\n",
    "        2529619, 932240, 1597379, 1964587, -456873,\n",
    "        27638000, 3789000, 23849000, 11422000, 10217000,\n",
    "        404482, 451660, -47178, 473207, -514643\n",
    "    ]\n",
    "}\n",
    "\n",
    "social_fin = pd.DataFrame(data)\n",
    "print(social_fin)"
   ]
  },
  {
   "cell_type": "code",
   "execution_count": 12,
   "id": "8cf2aeaa-8791-4071-9626-bae93ea2d6ce",
   "metadata": {},
   "outputs": [
    {
     "data": {
      "text/html": [
       "<div>\n",
       "<style scoped>\n",
       "    .dataframe tbody tr th:only-of-type {\n",
       "        vertical-align: middle;\n",
       "    }\n",
       "\n",
       "    .dataframe tbody tr th {\n",
       "        vertical-align: top;\n",
       "    }\n",
       "\n",
       "    .dataframe thead th {\n",
       "        text-align: right;\n",
       "    }\n",
       "</style>\n",
       "<table border=\"1\" class=\"dataframe\">\n",
       "  <thead>\n",
       "    <tr style=\"text-align: right;\">\n",
       "      <th></th>\n",
       "      <th>financial</th>\n",
       "      <th>company</th>\n",
       "      <th>year</th>\n",
       "      <th>value</th>\n",
       "    </tr>\n",
       "  </thead>\n",
       "  <tbody>\n",
       "    <tr>\n",
       "      <th>5</th>\n",
       "      <td>total_revenue</td>\n",
       "      <td>facebook</td>\n",
       "      <td>2019</td>\n",
       "      <td>70697000</td>\n",
       "    </tr>\n",
       "    <tr>\n",
       "      <th>7</th>\n",
       "      <td>gross_profit</td>\n",
       "      <td>facebook</td>\n",
       "      <td>2019</td>\n",
       "      <td>57927000</td>\n",
       "    </tr>\n",
       "    <tr>\n",
       "      <th>20</th>\n",
       "      <td>total_revenue</td>\n",
       "      <td>facebook</td>\n",
       "      <td>2018</td>\n",
       "      <td>55838000</td>\n",
       "    </tr>\n",
       "  </tbody>\n",
       "</table>\n",
       "</div>"
      ],
      "text/plain": [
       "        financial   company  year     value\n",
       "5   total_revenue  facebook  2019  70697000\n",
       "7    gross_profit  facebook  2019  57927000\n",
       "20  total_revenue  facebook  2018  55838000"
      ]
     },
     "execution_count": 12,
     "metadata": {},
     "output_type": "execute_result"
    }
   ],
   "source": [
    "# There are 2 rows where the value is greater than $50,000,000K\n",
    "social_fin.query(\"value > 50000000\")"
   ]
  },
  {
   "cell_type": "code",
   "execution_count": 14,
   "id": "c1c03f01-723a-4643-a1bd-e2665175c188",
   "metadata": {},
   "outputs": [
    {
     "data": {
      "text/html": [
       "<div>\n",
       "<style scoped>\n",
       "    .dataframe tbody tr th:only-of-type {\n",
       "        vertical-align: middle;\n",
       "    }\n",
       "\n",
       "    .dataframe tbody tr th {\n",
       "        vertical-align: top;\n",
       "    }\n",
       "\n",
       "    .dataframe thead th {\n",
       "        text-align: right;\n",
       "    }\n",
       "</style>\n",
       "<table border=\"1\" class=\"dataframe\">\n",
       "  <thead>\n",
       "    <tr style=\"text-align: right;\">\n",
       "      <th></th>\n",
       "      <th>financial</th>\n",
       "      <th>company</th>\n",
       "      <th>year</th>\n",
       "      <th>value</th>\n",
       "    </tr>\n",
       "  </thead>\n",
       "  <tbody>\n",
       "    <tr>\n",
       "      <th>5</th>\n",
       "      <td>total_revenue</td>\n",
       "      <td>facebook</td>\n",
       "      <td>2019</td>\n",
       "      <td>70697000</td>\n",
       "    </tr>\n",
       "    <tr>\n",
       "      <th>20</th>\n",
       "      <td>total_revenue</td>\n",
       "      <td>facebook</td>\n",
       "      <td>2018</td>\n",
       "      <td>55838000</td>\n",
       "    </tr>\n",
       "    <tr>\n",
       "      <th>35</th>\n",
       "      <td>total_revenue</td>\n",
       "      <td>facebook</td>\n",
       "      <td>2017</td>\n",
       "      <td>40653000</td>\n",
       "    </tr>\n",
       "    <tr>\n",
       "      <th>50</th>\n",
       "      <td>total_revenue</td>\n",
       "      <td>facebook</td>\n",
       "      <td>2016</td>\n",
       "      <td>27638000</td>\n",
       "    </tr>\n",
       "  </tbody>\n",
       "</table>\n",
       "</div>"
      ],
      "text/plain": [
       "        financial   company  year     value\n",
       "5   total_revenue  facebook  2019  70697000\n",
       "20  total_revenue  facebook  2018  55838000\n",
       "35  total_revenue  facebook  2017  40653000\n",
       "50  total_revenue  facebook  2016  27638000"
      ]
     },
     "execution_count": 14,
     "metadata": {},
     "output_type": "execute_result"
    }
   ],
   "source": [
    "#There are 3 rows for total revenue for Facebook\n",
    "social_fin.query(\"financial == 'total_revenue' and company == 'facebook'\")"
   ]
  },
  {
   "cell_type": "code",
   "execution_count": 16,
   "id": "eb6d3f5b-d3d2-4060-be09-1096d9ec6d1f",
   "metadata": {},
   "outputs": [
    {
     "data": {
      "text/html": [
       "<div>\n",
       "<style scoped>\n",
       "    .dataframe tbody tr th:only-of-type {\n",
       "        vertical-align: middle;\n",
       "    }\n",
       "\n",
       "    .dataframe tbody tr th {\n",
       "        vertical-align: top;\n",
       "    }\n",
       "\n",
       "    .dataframe thead th {\n",
       "        text-align: right;\n",
       "    }\n",
       "</style>\n",
       "<table border=\"1\" class=\"dataframe\">\n",
       "  <thead>\n",
       "    <tr style=\"text-align: right;\">\n",
       "      <th></th>\n",
       "      <th>financial</th>\n",
       "      <th>company</th>\n",
       "      <th>year</th>\n",
       "      <th>value</th>\n",
       "    </tr>\n",
       "  </thead>\n",
       "  <tbody>\n",
       "    <tr>\n",
       "      <th>14</th>\n",
       "      <td>net_income</td>\n",
       "      <td>snap</td>\n",
       "      <td>2019</td>\n",
       "      <td>-1033660</td>\n",
       "    </tr>\n",
       "    <tr>\n",
       "      <th>29</th>\n",
       "      <td>net_income</td>\n",
       "      <td>snap</td>\n",
       "      <td>2018</td>\n",
       "      <td>-1255911</td>\n",
       "    </tr>\n",
       "    <tr>\n",
       "      <th>34</th>\n",
       "      <td>net_income</td>\n",
       "      <td>twitter</td>\n",
       "      <td>2017</td>\n",
       "      <td>-108063</td>\n",
       "    </tr>\n",
       "    <tr>\n",
       "      <th>44</th>\n",
       "      <td>net_income</td>\n",
       "      <td>snap</td>\n",
       "      <td>2017</td>\n",
       "      <td>-3445066</td>\n",
       "    </tr>\n",
       "    <tr>\n",
       "      <th>49</th>\n",
       "      <td>net_income</td>\n",
       "      <td>twitter</td>\n",
       "      <td>2016</td>\n",
       "      <td>-456873</td>\n",
       "    </tr>\n",
       "    <tr>\n",
       "      <th>59</th>\n",
       "      <td>net_income</td>\n",
       "      <td>snap</td>\n",
       "      <td>2016</td>\n",
       "      <td>-514643</td>\n",
       "    </tr>\n",
       "  </tbody>\n",
       "</table>\n",
       "</div>"
      ],
      "text/plain": [
       "     financial  company  year    value\n",
       "14  net_income     snap  2019 -1033660\n",
       "29  net_income     snap  2018 -1255911\n",
       "34  net_income  twitter  2017  -108063\n",
       "44  net_income     snap  2017 -3445066\n",
       "49  net_income  twitter  2016  -456873\n",
       "59  net_income     snap  2016  -514643"
      ]
     },
     "execution_count": 16,
     "metadata": {},
     "output_type": "execute_result"
    }
   ],
   "source": [
    "# There are 6 rows where the net income has a negative value.\n",
    "social_fin.query(\"financial == 'net_income' and value < 0\")"
   ]
  },
  {
   "cell_type": "code",
   "execution_count": 18,
   "id": "aafe0cb2-cd1f-4ccc-a519-ecb8d3e6631d",
   "metadata": {},
   "outputs": [
    {
     "data": {
      "text/html": [
       "<div>\n",
       "<style scoped>\n",
       "    .dataframe tbody tr th:only-of-type {\n",
       "        vertical-align: middle;\n",
       "    }\n",
       "\n",
       "    .dataframe tbody tr th {\n",
       "        vertical-align: top;\n",
       "    }\n",
       "\n",
       "    .dataframe thead th {\n",
       "        text-align: right;\n",
       "    }\n",
       "</style>\n",
       "<table border=\"1\" class=\"dataframe\">\n",
       "  <thead>\n",
       "    <tr style=\"text-align: right;\">\n",
       "      <th></th>\n",
       "      <th>financial</th>\n",
       "      <th>company</th>\n",
       "      <th>year</th>\n",
       "      <th>value</th>\n",
       "    </tr>\n",
       "  </thead>\n",
       "  <tbody>\n",
       "    <tr>\n",
       "      <th>2</th>\n",
       "      <td>gross_profit</td>\n",
       "      <td>twitter</td>\n",
       "      <td>2019</td>\n",
       "      <td>2322288</td>\n",
       "    </tr>\n",
       "    <tr>\n",
       "      <th>7</th>\n",
       "      <td>gross_profit</td>\n",
       "      <td>facebook</td>\n",
       "      <td>2019</td>\n",
       "      <td>57927000</td>\n",
       "    </tr>\n",
       "    <tr>\n",
       "      <th>12</th>\n",
       "      <td>gross_profit</td>\n",
       "      <td>snap</td>\n",
       "      <td>2019</td>\n",
       "      <td>819696</td>\n",
       "    </tr>\n",
       "    <tr>\n",
       "      <th>17</th>\n",
       "      <td>gross_profit</td>\n",
       "      <td>twitter</td>\n",
       "      <td>2018</td>\n",
       "      <td>2077362</td>\n",
       "    </tr>\n",
       "    <tr>\n",
       "      <th>22</th>\n",
       "      <td>gross_profit</td>\n",
       "      <td>facebook</td>\n",
       "      <td>2018</td>\n",
       "      <td>46483000</td>\n",
       "    </tr>\n",
       "    <tr>\n",
       "      <th>27</th>\n",
       "      <td>gross_profit</td>\n",
       "      <td>snap</td>\n",
       "      <td>2018</td>\n",
       "      <td>381581</td>\n",
       "    </tr>\n",
       "    <tr>\n",
       "      <th>32</th>\n",
       "      <td>gross_profit</td>\n",
       "      <td>twitter</td>\n",
       "      <td>2017</td>\n",
       "      <td>1582057</td>\n",
       "    </tr>\n",
       "    <tr>\n",
       "      <th>37</th>\n",
       "      <td>gross_profit</td>\n",
       "      <td>facebook</td>\n",
       "      <td>2017</td>\n",
       "      <td>35199000</td>\n",
       "    </tr>\n",
       "    <tr>\n",
       "      <th>42</th>\n",
       "      <td>gross_profit</td>\n",
       "      <td>snap</td>\n",
       "      <td>2017</td>\n",
       "      <td>107487</td>\n",
       "    </tr>\n",
       "    <tr>\n",
       "      <th>47</th>\n",
       "      <td>gross_profit</td>\n",
       "      <td>twitter</td>\n",
       "      <td>2016</td>\n",
       "      <td>1597379</td>\n",
       "    </tr>\n",
       "    <tr>\n",
       "      <th>52</th>\n",
       "      <td>gross_profit</td>\n",
       "      <td>facebook</td>\n",
       "      <td>2016</td>\n",
       "      <td>23849000</td>\n",
       "    </tr>\n",
       "  </tbody>\n",
       "</table>\n",
       "</div>"
      ],
      "text/plain": [
       "       financial   company  year     value\n",
       "2   gross_profit   twitter  2019   2322288\n",
       "7   gross_profit  facebook  2019  57927000\n",
       "12  gross_profit      snap  2019    819696\n",
       "17  gross_profit   twitter  2018   2077362\n",
       "22  gross_profit  facebook  2018  46483000\n",
       "27  gross_profit      snap  2018    381581\n",
       "32  gross_profit   twitter  2017   1582057\n",
       "37  gross_profit  facebook  2017  35199000\n",
       "42  gross_profit      snap  2017    107487\n",
       "47  gross_profit   twitter  2016   1597379\n",
       "52  gross_profit  facebook  2016  23849000"
      ]
     },
     "execution_count": 18,
     "metadata": {},
     "output_type": "execute_result"
    }
   ],
   "source": [
    "# There are 45 rows, where the gross profit is greater than $100K\n",
    "social_fin.query(\"financial == 'gross_profit' and value > 100000\")"
   ]
  },
  {
   "cell_type": "markdown",
   "id": "c61e2e62-37a0-4692-83e6-dad542340f5c",
   "metadata": {},
   "source": [
    "### Subsetting rows with .query()"
   ]
  },
  {
   "cell_type": "code",
   "execution_count": 21,
   "id": "d66c97da-fd66-4708-a848-fd427a7b45b2",
   "metadata": {},
   "outputs": [
    {
     "name": "stdout",
     "output_type": "stream",
     "text": [
      "          date    country         gdp    series_code\n",
      "0   1990-01-01  Australia  158051.132  NYGDPMKTPSAKD\n",
      "1   1990-04-01  Australia  158263.582  NYGDPMKTPSAKD\n",
      "2   1990-07-01  Australia  157329.279  NYGDPMKTPSAKD\n",
      "3   1990-09-01  Australia  158240.678  NYGDPMKTPSAKD\n",
      "4   1991-01-01  Australia  156195.954  NYGDPMKTPSAKD\n",
      "5   1991-04-01  Australia  155989.033  NYGDPMKTPSAKD\n",
      "6   1991-07-01  Australia  156635.858  NYGDPMKTPSAKD\n",
      "7   1991-09-01  Australia  156744.057  NYGDPMKTPSAKD\n",
      "8   1992-01-01  Australia  157916.081  NYGDPMKTPSAKD\n",
      "9   1992-04-01  Australia  159047.827  NYGDPMKTPSAKD\n",
      "10  1992-07-01  Australia  160658.176  NYGDPMKTPSAKD\n",
      "11  1992-09-01  Australia  163960.221  NYGDPMKTPSAKD\n",
      "12  1993-01-01  Australia  165097.495  NYGDPMKTPSAKD\n",
      "13  1993-04-01  Australia  166027.059  NYGDPMKTPSAKD\n",
      "14  1993-07-01  Australia  166203.179  NYGDPMKTPSAKD\n",
      "15  1993-09-01  Australia  169279.348  NYGDPMKTPSAKD\n",
      "16  1990-01-01     Sweden   79837.846  NYGDPMKTPSAKD\n",
      "17  1990-04-01     Sweden   80582.286  NYGDPMKTPSAKD\n",
      "18  1990-07-01     Sweden   79974.360  NYGDPMKTPSAKD\n",
      "19  1990-09-01     Sweden   80106.497  NYGDPMKTPSAKD\n",
      "20  1991-01-01     Sweden   79524.242  NYGDPMKTPSAKD\n",
      "21  1991-04-01     Sweden   79073.059  NYGDPMKTPSAKD\n",
      "22  1991-07-01     Sweden   79084.770  NYGDPMKTPSAKD\n",
      "23  1991-09-01     Sweden   79740.606  NYGDPMKTPSAKD\n",
      "24  1992-01-01     Sweden   79390.922  NYGDPMKTPSAKD\n",
      "25  1992-04-01     Sweden   79060.283  NYGDPMKTPSAKD\n",
      "26  1992-07-01     Sweden   78904.605  NYGDPMKTPSAKD\n",
      "27  1992-09-01     Sweden   76996.837  NYGDPMKTPSAKD\n",
      "28  1993-01-01     Sweden   75783.588  NYGDPMKTPSAKD\n",
      "29  1993-04-01     Sweden   76708.548  NYGDPMKTPSAKD\n",
      "30  1993-07-01     Sweden   77662.018  NYGDPMKTPSAKD\n",
      "31  1993-09-01     Sweden   77703.304  NYGDPMKTPSAKD\n"
     ]
    }
   ],
   "source": [
    "import pandas as pd\n",
    "\n",
    "# GDP DataFrame\n",
    "gdp = pd.DataFrame({\n",
    "    \"date\": [\n",
    "        \"1990-01-01\", \"1990-04-01\", \"1990-07-01\", \"1990-09-01\", \"1991-01-01\", \"1991-04-01\", \"1991-07-01\", \"1991-09-01\",\n",
    "        \"1992-01-01\", \"1992-04-01\", \"1992-07-01\", \"1992-09-01\", \"1993-01-01\", \"1993-04-01\", \"1993-07-01\", \"1993-09-01\",\n",
    "        \"1990-01-01\", \"1990-04-01\", \"1990-07-01\", \"1990-09-01\", \"1991-01-01\", \"1991-04-01\", \"1991-07-01\", \"1991-09-01\",\n",
    "        \"1992-01-01\", \"1992-04-01\", \"1992-07-01\", \"1992-09-01\", \"1993-01-01\", \"1993-04-01\", \"1993-07-01\", \"1993-09-01\"\n",
    "    ],\n",
    "    \"country\": [\n",
    "        \"Australia\"] * 16 + [\"Sweden\"] * 16,\n",
    "    \"gdp\": [\n",
    "        158051.132, 158263.582, 157329.279, 158240.678,\n",
    "        156195.954, 155989.033, 156635.858, 156744.057,\n",
    "        157916.081, 159047.827, 160658.176, 163960.221,\n",
    "        165097.495, 166027.059, 166203.179, 169279.348,\n",
    "        79837.846, 80582.286, 79974.360, 80106.497,\n",
    "        79524.242, 79073.059, 79084.770, 79740.606,\n",
    "        79390.922, 79060.283, 78904.605, 76996.837,\n",
    "        75783.588, 76708.548, 77662.018, 77703.304\n",
    "    ],\n",
    "    \"series_code\": [\"NYGDPMKTPSAKD\"] * 32\n",
    "})\n",
    "print(gdp)"
   ]
  },
  {
   "cell_type": "code",
   "execution_count": 23,
   "id": "892b10a6-1fa7-455f-a718-4bbaa6a062b3",
   "metadata": {},
   "outputs": [
    {
     "name": "stdout",
     "output_type": "stream",
     "text": [
      "         date    country       pop  series_code\n",
      "0  1990-01-01  Australia  17065100  SP.POP.TOTL\n",
      "1  1991-01-01  Australia  17284000  SP.POP.TOTL\n",
      "2  1992-01-01  Australia  17495000  SP.POP.TOTL\n",
      "3  1993-01-01  Australia  17667000  SP.POP.TOTL\n",
      "4  1990-01-01     Sweden   8558835  SP.POP.TOTL\n",
      "5  1991-01-01     Sweden   8617375  SP.POP.TOTL\n",
      "6  1992-01-01     Sweden   8668067  SP.POP.TOTL\n",
      "7  1993-01-01     Sweden   8718561  SP.POP.TOTL\n"
     ]
    }
   ],
   "source": [
    "# Population DataFrame\n",
    "pop = pd.DataFrame({\n",
    "    \"date\": [\n",
    "        \"1990-01-01\", \"1991-01-01\", \"1992-01-01\", \"1993-01-01\",\n",
    "        \"1990-01-01\", \"1991-01-01\", \"1992-01-01\", \"1993-01-01\"\n",
    "    ],\n",
    "    \"country\": [\n",
    "        \"Australia\", \"Australia\", \"Australia\", \"Australia\",\n",
    "        \"Sweden\", \"Sweden\", \"Sweden\", \"Sweden\"\n",
    "    ],\n",
    "    \"pop\": [\n",
    "        17065100, 17284000, 17495000, 17667000,\n",
    "        8558835, 8617375, 8668067, 8718561\n",
    "    ],\n",
    "    \"series_code\": [\"SP.POP.TOTL\"] * 8\n",
    "})\n",
    "print(pop)"
   ]
  },
  {
   "cell_type": "code",
   "execution_count": 25,
   "id": "864f8a61-4b0b-40ea-a35e-d8e7e859b12e",
   "metadata": {},
   "outputs": [
    {
     "name": "stdout",
     "output_type": "stream",
     "text": [
      "          date    country         gdp  series_code_x       pop series_code_y\n",
      "0   1990-01-01  Australia  158051.132  NYGDPMKTPSAKD  17065100   SP.POP.TOTL\n",
      "1   1990-04-01  Australia  158263.582  NYGDPMKTPSAKD  17065100   SP.POP.TOTL\n",
      "2   1990-07-01  Australia  157329.279  NYGDPMKTPSAKD  17065100   SP.POP.TOTL\n",
      "3   1990-09-01  Australia  158240.678  NYGDPMKTPSAKD  17065100   SP.POP.TOTL\n",
      "4   1991-01-01  Australia  156195.954  NYGDPMKTPSAKD  17284000   SP.POP.TOTL\n",
      "5   1991-04-01  Australia  155989.033  NYGDPMKTPSAKD  17284000   SP.POP.TOTL\n",
      "6   1991-07-01  Australia  156635.858  NYGDPMKTPSAKD  17284000   SP.POP.TOTL\n",
      "7   1991-09-01  Australia  156744.057  NYGDPMKTPSAKD  17284000   SP.POP.TOTL\n",
      "8   1992-01-01  Australia  157916.081  NYGDPMKTPSAKD  17495000   SP.POP.TOTL\n",
      "9   1992-04-01  Australia  159047.827  NYGDPMKTPSAKD  17495000   SP.POP.TOTL\n",
      "10  1992-07-01  Australia  160658.176  NYGDPMKTPSAKD  17495000   SP.POP.TOTL\n",
      "11  1992-09-01  Australia  163960.221  NYGDPMKTPSAKD  17495000   SP.POP.TOTL\n",
      "12  1993-01-01  Australia  165097.495  NYGDPMKTPSAKD  17667000   SP.POP.TOTL\n",
      "13  1993-04-01  Australia  166027.059  NYGDPMKTPSAKD  17667000   SP.POP.TOTL\n",
      "14  1993-07-01  Australia  166203.179  NYGDPMKTPSAKD  17667000   SP.POP.TOTL\n",
      "15  1993-09-01  Australia  169279.348  NYGDPMKTPSAKD  17667000   SP.POP.TOTL\n",
      "16  1990-01-01     Sweden   79837.846  NYGDPMKTPSAKD   8558835   SP.POP.TOTL\n",
      "17  1990-04-01     Sweden   80582.286  NYGDPMKTPSAKD   8558835   SP.POP.TOTL\n",
      "18  1990-07-01     Sweden   79974.360  NYGDPMKTPSAKD   8558835   SP.POP.TOTL\n",
      "19  1990-09-01     Sweden   80106.497  NYGDPMKTPSAKD   8558835   SP.POP.TOTL\n",
      "20  1991-01-01     Sweden   79524.242  NYGDPMKTPSAKD   8617375   SP.POP.TOTL\n",
      "21  1991-04-01     Sweden   79073.059  NYGDPMKTPSAKD   8617375   SP.POP.TOTL\n",
      "22  1991-07-01     Sweden   79084.770  NYGDPMKTPSAKD   8617375   SP.POP.TOTL\n",
      "23  1991-09-01     Sweden   79740.606  NYGDPMKTPSAKD   8617375   SP.POP.TOTL\n",
      "24  1992-01-01     Sweden   79390.922  NYGDPMKTPSAKD   8668067   SP.POP.TOTL\n",
      "25  1992-04-01     Sweden   79060.283  NYGDPMKTPSAKD   8668067   SP.POP.TOTL\n",
      "26  1992-07-01     Sweden   78904.605  NYGDPMKTPSAKD   8668067   SP.POP.TOTL\n",
      "27  1992-09-01     Sweden   76996.837  NYGDPMKTPSAKD   8668067   SP.POP.TOTL\n",
      "28  1993-01-01     Sweden   75783.588  NYGDPMKTPSAKD   8718561   SP.POP.TOTL\n",
      "29  1993-04-01     Sweden   76708.548  NYGDPMKTPSAKD   8718561   SP.POP.TOTL\n",
      "30  1993-07-01     Sweden   77662.018  NYGDPMKTPSAKD   8718561   SP.POP.TOTL\n",
      "31  1993-09-01     Sweden   77703.304  NYGDPMKTPSAKD   8718561   SP.POP.TOTL\n"
     ]
    }
   ],
   "source": [
    "# Merge gdp and pop on date and country with fill\n",
    "gdp_pop = pd.merge_ordered(gdp, pop, \n",
    "                           on=['country','date'], \n",
    "                           fill_method='ffill')\n",
    "\n",
    "print(gdp_pop)  "
   ]
  },
  {
   "cell_type": "code",
   "execution_count": 37,
   "id": "bee15fa1-c055-4252-9f7c-d194203c4072",
   "metadata": {},
   "outputs": [
    {
     "name": "stdout",
     "output_type": "stream",
     "text": [
      "          date    country         gdp  series_code_x       pop series_code_y  \\\n",
      "0   1990-01-01  Australia  158051.132  NYGDPMKTPSAKD  17065100   SP.POP.TOTL   \n",
      "1   1990-04-01  Australia  158263.582  NYGDPMKTPSAKD  17065100   SP.POP.TOTL   \n",
      "2   1990-07-01  Australia  157329.279  NYGDPMKTPSAKD  17065100   SP.POP.TOTL   \n",
      "3   1990-09-01  Australia  158240.678  NYGDPMKTPSAKD  17065100   SP.POP.TOTL   \n",
      "4   1991-01-01  Australia  156195.954  NYGDPMKTPSAKD  17284000   SP.POP.TOTL   \n",
      "5   1991-04-01  Australia  155989.033  NYGDPMKTPSAKD  17284000   SP.POP.TOTL   \n",
      "6   1991-07-01  Australia  156635.858  NYGDPMKTPSAKD  17284000   SP.POP.TOTL   \n",
      "7   1991-09-01  Australia  156744.057  NYGDPMKTPSAKD  17284000   SP.POP.TOTL   \n",
      "8   1992-01-01  Australia  157916.081  NYGDPMKTPSAKD  17495000   SP.POP.TOTL   \n",
      "9   1992-04-01  Australia  159047.827  NYGDPMKTPSAKD  17495000   SP.POP.TOTL   \n",
      "10  1992-07-01  Australia  160658.176  NYGDPMKTPSAKD  17495000   SP.POP.TOTL   \n",
      "11  1992-09-01  Australia  163960.221  NYGDPMKTPSAKD  17495000   SP.POP.TOTL   \n",
      "12  1993-01-01  Australia  165097.495  NYGDPMKTPSAKD  17667000   SP.POP.TOTL   \n",
      "13  1993-04-01  Australia  166027.059  NYGDPMKTPSAKD  17667000   SP.POP.TOTL   \n",
      "14  1993-07-01  Australia  166203.179  NYGDPMKTPSAKD  17667000   SP.POP.TOTL   \n",
      "15  1993-09-01  Australia  169279.348  NYGDPMKTPSAKD  17667000   SP.POP.TOTL   \n",
      "16  1990-01-01     Sweden   79837.846  NYGDPMKTPSAKD   8558835   SP.POP.TOTL   \n",
      "17  1990-04-01     Sweden   80582.286  NYGDPMKTPSAKD   8558835   SP.POP.TOTL   \n",
      "18  1990-07-01     Sweden   79974.360  NYGDPMKTPSAKD   8558835   SP.POP.TOTL   \n",
      "19  1990-09-01     Sweden   80106.497  NYGDPMKTPSAKD   8558835   SP.POP.TOTL   \n",
      "20  1991-01-01     Sweden   79524.242  NYGDPMKTPSAKD   8617375   SP.POP.TOTL   \n",
      "21  1991-04-01     Sweden   79073.059  NYGDPMKTPSAKD   8617375   SP.POP.TOTL   \n",
      "22  1991-07-01     Sweden   79084.770  NYGDPMKTPSAKD   8617375   SP.POP.TOTL   \n",
      "23  1991-09-01     Sweden   79740.606  NYGDPMKTPSAKD   8617375   SP.POP.TOTL   \n",
      "24  1992-01-01     Sweden   79390.922  NYGDPMKTPSAKD   8668067   SP.POP.TOTL   \n",
      "25  1992-04-01     Sweden   79060.283  NYGDPMKTPSAKD   8668067   SP.POP.TOTL   \n",
      "26  1992-07-01     Sweden   78904.605  NYGDPMKTPSAKD   8668067   SP.POP.TOTL   \n",
      "27  1992-09-01     Sweden   76996.837  NYGDPMKTPSAKD   8668067   SP.POP.TOTL   \n",
      "28  1993-01-01     Sweden   75783.588  NYGDPMKTPSAKD   8718561   SP.POP.TOTL   \n",
      "29  1993-04-01     Sweden   76708.548  NYGDPMKTPSAKD   8718561   SP.POP.TOTL   \n",
      "30  1993-07-01     Sweden   77662.018  NYGDPMKTPSAKD   8718561   SP.POP.TOTL   \n",
      "31  1993-09-01     Sweden   77703.304  NYGDPMKTPSAKD   8718561   SP.POP.TOTL   \n",
      "\n",
      "    gdp_per_capita  \n",
      "0         0.009262  \n",
      "1         0.009274  \n",
      "2         0.009219  \n",
      "3         0.009273  \n",
      "4         0.009037  \n",
      "5         0.009025  \n",
      "6         0.009062  \n",
      "7         0.009069  \n",
      "8         0.009026  \n",
      "9         0.009091  \n",
      "10        0.009183  \n",
      "11        0.009372  \n",
      "12        0.009345  \n",
      "13        0.009398  \n",
      "14        0.009408  \n",
      "15        0.009582  \n",
      "16        0.009328  \n",
      "17        0.009415  \n",
      "18        0.009344  \n",
      "19        0.009360  \n",
      "20        0.009228  \n",
      "21        0.009176  \n",
      "22        0.009177  \n",
      "23        0.009253  \n",
      "24        0.009159  \n",
      "25        0.009121  \n",
      "26        0.009103  \n",
      "27        0.008883  \n",
      "28        0.008692  \n",
      "29        0.008798  \n",
      "30        0.008908  \n",
      "31        0.008912  \n"
     ]
    }
   ],
   "source": [
    "# Add a column named gdp_per_capita to gdp_pop that divides the gdp by pop\n",
    "gdp_pop['gdp_per_capita'] = gdp_pop['gdp'] / gdp_pop['pop']\n",
    "print(gdp_pop)"
   ]
  },
  {
   "cell_type": "code",
   "execution_count": 42,
   "id": "612a4fd6-4082-4006-a1cc-1cd773d56b55",
   "metadata": {},
   "outputs": [
    {
     "name": "stdout",
     "output_type": "stream",
     "text": [
      "country     Australia    Sweden\n",
      "date                           \n",
      "1990-01-01   0.009262  0.009328\n",
      "1990-04-01   0.009274  0.009415\n",
      "1990-07-01   0.009219  0.009344\n",
      "1990-09-01   0.009273  0.009360\n",
      "1991-01-01   0.009037  0.009228\n",
      "1991-04-01   0.009025  0.009176\n",
      "1991-07-01   0.009062  0.009177\n",
      "1991-09-01   0.009069  0.009253\n",
      "1992-01-01   0.009026  0.009159\n",
      "1992-04-01   0.009091  0.009121\n",
      "1992-07-01   0.009183  0.009103\n",
      "1992-09-01   0.009372  0.008883\n",
      "1993-01-01   0.009345  0.008692\n",
      "1993-04-01   0.009398  0.008798\n",
      "1993-07-01   0.009408  0.008908\n",
      "1993-09-01   0.009582  0.008912\n"
     ]
    }
   ],
   "source": [
    "# Pivot table of gdp_per_capita, where index is date and columns is country\n",
    "gdp_pivot = gdp_pop.pivot_table('gdp_per_capita', index='date', columns='country')\n",
    "print(gdp_pivot)"
   ]
  },
  {
   "cell_type": "code",
   "execution_count": 46,
   "id": "8fcd7e05-81ac-4ff2-9128-d96ac139615f",
   "metadata": {},
   "outputs": [
    {
     "data": {
      "image/png": "[encoded data removed]",
      "text/plain": [
       "<Figure size 640x480 with 1 Axes>"
      ]
     },
     "metadata": {},
     "output_type": "display_data"
    }
   ],
   "source": [
    "import matplotlib.pyplot as plt\n",
    "# Select dates equal to or greater than 1991-01-01\n",
    "recent_gdp_pop = gdp_pivot.query('date >= \"1991-01-01\"')\n",
    "\n",
    "# Plot recent_gdp_pop\n",
    "recent_gdp_pop.plot(rot=90)\n",
    "plt.show()"
   ]
  },
  {
   "cell_type": "raw",
   "id": "0fe6c8ba-fa54-4217-8027-98dc5c902ebc",
   "metadata": {},
   "source": [
    "You can see from the plot that the per capita GDP of Australia passed Sweden in 1992. By using the .query() method, you were able to select the appropriate rows easily. The .query() method is easy to read and straightforward."
   ]
  },
  {
   "cell_type": "markdown",
   "id": "18d66713-5cb6-4e75-8e2b-596ba7af21ec",
   "metadata": {},
   "source": [
    "### .melt() method\n",
    "DataFrame.melt(id_vars=None, value_vars=None, var_name=None, value_name='value', ...)\n",
    " Parameters:\n",
    "* `id_vars`: Columns to keep as identifiers (not melted).\n",
    "* `value_vars`: Columns to melt (default: all columns not in id_vars).\n",
    "* `var_name`: Name of the new column that will hold the former column names.\n",
    "* `value_name`: Name of the new column that will hold the values."
   ]
  },
  {
   "cell_type": "code",
   "execution_count": 64,
   "id": "21d0e3b5-0667-4afc-a9fc-c53bf50806f7",
   "metadata": {},
   "outputs": [
    {
     "name": "stdout",
     "output_type": "stream",
     "text": [
      "  country    indicator  2017  2018  2019\n",
      "0  Brazil  Inflation %  3.45  3.66  3.73\n",
      "1  Canada  Inflation %  1.60  2.27  1.95\n",
      "2  France  Inflation %  1.03  1.85  1.11\n",
      "3   India  Inflation %  2.49  4.86  7.66\n"
     ]
    }
   ],
   "source": [
    "import pandas as pd\n",
    "\n",
    "data = {\n",
    "    'country': ['Brazil', 'Canada', 'France', 'India'],\n",
    "    'indicator': ['Inflation %'] * 4,\n",
    "    '2017': [3.45, 1.60, 1.03, 2.49],\n",
    "    '2018': [3.66, 2.27, 1.85, 4.86],\n",
    "    '2019': [3.73, 1.95, 1.11, 7.66]\n",
    "}\n",
    "\n",
    "inflation = pd.DataFrame(data)\n",
    "print(inflation)"
   ]
  },
  {
   "cell_type": "code",
   "execution_count": 66,
   "id": "e117d51d-9e2f-4f13-995d-c31228144f57",
   "metadata": {},
   "outputs": [
    {
     "data": {
      "text/html": [
       "<div>\n",
       "<style scoped>\n",
       "    .dataframe tbody tr th:only-of-type {\n",
       "        vertical-align: middle;\n",
       "    }\n",
       "\n",
       "    .dataframe tbody tr th {\n",
       "        vertical-align: top;\n",
       "    }\n",
       "\n",
       "    .dataframe thead th {\n",
       "        text-align: right;\n",
       "    }\n",
       "</style>\n",
       "<table border=\"1\" class=\"dataframe\">\n",
       "  <thead>\n",
       "    <tr style=\"text-align: right;\">\n",
       "      <th></th>\n",
       "      <th>country</th>\n",
       "      <th>indicator</th>\n",
       "      <th>year</th>\n",
       "      <th>annual</th>\n",
       "    </tr>\n",
       "  </thead>\n",
       "  <tbody>\n",
       "    <tr>\n",
       "      <th>0</th>\n",
       "      <td>Brazil</td>\n",
       "      <td>Inflation %</td>\n",
       "      <td>2017</td>\n",
       "      <td>3.45</td>\n",
       "    </tr>\n",
       "    <tr>\n",
       "      <th>1</th>\n",
       "      <td>Canada</td>\n",
       "      <td>Inflation %</td>\n",
       "      <td>2017</td>\n",
       "      <td>1.60</td>\n",
       "    </tr>\n",
       "    <tr>\n",
       "      <th>2</th>\n",
       "      <td>France</td>\n",
       "      <td>Inflation %</td>\n",
       "      <td>2017</td>\n",
       "      <td>1.03</td>\n",
       "    </tr>\n",
       "    <tr>\n",
       "      <th>3</th>\n",
       "      <td>India</td>\n",
       "      <td>Inflation %</td>\n",
       "      <td>2017</td>\n",
       "      <td>2.49</td>\n",
       "    </tr>\n",
       "    <tr>\n",
       "      <th>4</th>\n",
       "      <td>Brazil</td>\n",
       "      <td>Inflation %</td>\n",
       "      <td>2018</td>\n",
       "      <td>3.66</td>\n",
       "    </tr>\n",
       "    <tr>\n",
       "      <th>5</th>\n",
       "      <td>Canada</td>\n",
       "      <td>Inflation %</td>\n",
       "      <td>2018</td>\n",
       "      <td>2.27</td>\n",
       "    </tr>\n",
       "    <tr>\n",
       "      <th>6</th>\n",
       "      <td>France</td>\n",
       "      <td>Inflation %</td>\n",
       "      <td>2018</td>\n",
       "      <td>1.85</td>\n",
       "    </tr>\n",
       "    <tr>\n",
       "      <th>7</th>\n",
       "      <td>India</td>\n",
       "      <td>Inflation %</td>\n",
       "      <td>2018</td>\n",
       "      <td>4.86</td>\n",
       "    </tr>\n",
       "    <tr>\n",
       "      <th>8</th>\n",
       "      <td>Brazil</td>\n",
       "      <td>Inflation %</td>\n",
       "      <td>2019</td>\n",
       "      <td>3.73</td>\n",
       "    </tr>\n",
       "    <tr>\n",
       "      <th>9</th>\n",
       "      <td>Canada</td>\n",
       "      <td>Inflation %</td>\n",
       "      <td>2019</td>\n",
       "      <td>1.95</td>\n",
       "    </tr>\n",
       "    <tr>\n",
       "      <th>10</th>\n",
       "      <td>France</td>\n",
       "      <td>Inflation %</td>\n",
       "      <td>2019</td>\n",
       "      <td>1.11</td>\n",
       "    </tr>\n",
       "    <tr>\n",
       "      <th>11</th>\n",
       "      <td>India</td>\n",
       "      <td>Inflation %</td>\n",
       "      <td>2019</td>\n",
       "      <td>7.66</td>\n",
       "    </tr>\n",
       "  </tbody>\n",
       "</table>\n",
       "</div>"
      ],
      "text/plain": [
       "   country    indicator  year  annual\n",
       "0   Brazil  Inflation %  2017    3.45\n",
       "1   Canada  Inflation %  2017    1.60\n",
       "2   France  Inflation %  2017    1.03\n",
       "3    India  Inflation %  2017    2.49\n",
       "4   Brazil  Inflation %  2018    3.66\n",
       "5   Canada  Inflation %  2018    2.27\n",
       "6   France  Inflation %  2018    1.85\n",
       "7    India  Inflation %  2018    4.86\n",
       "8   Brazil  Inflation %  2019    3.73\n",
       "9   Canada  Inflation %  2019    1.95\n",
       "10  France  Inflation %  2019    1.11\n",
       "11   India  Inflation %  2019    7.66"
      ]
     },
     "execution_count": 66,
     "metadata": {},
     "output_type": "execute_result"
    }
   ],
   "source": [
    "inflation.melt(id_vars=['country','indicator'], var_name='year', value_name='annual')"
   ]
  },
  {
   "cell_type": "markdown",
   "id": "0e3d0751-7f45-4469-8548-0e6ce1a0c2f4",
   "metadata": {},
   "source": [
    "### Using .melt() to reshape government data"
   ]
  },
  {
   "cell_type": "code",
   "execution_count": 79,
   "id": "44f9908f-fc40-4ce0-bed7-5def4123a1b0",
   "metadata": {},
   "outputs": [
    {
     "name": "stdout",
     "output_type": "stream",
     "text": [
      "    year  jan  feb  mar  apr  may  jun  jul  aug  sep  oct  nov  dec\n",
      "0   2010  9.8  9.8  9.9  9.9  9.6  9.4  9.4  9.5  9.5  9.4  9.8  9.3\n",
      "1   2011  9.1  9.0  9.0  9.1  9.0  9.1  9.0  9.0  9.0  8.8  8.6  8.5\n",
      "2   2012  8.3  8.3  8.2  8.2  8.2  8.2  8.2  8.1  7.8  7.8  7.7  7.9\n",
      "3   2013  8.0  7.7  7.5  7.6  7.5  7.5  7.3  7.2  7.2  7.2  6.9  6.7\n",
      "4   2014  6.6  6.7  6.7  6.2  6.3  6.1  6.2  6.1  5.9  5.7  5.8  5.6\n",
      "5   2015  5.7  5.5  5.4  5.4  5.6  5.3  5.2  5.1  5.0  5.0  5.1  5.0\n",
      "6   2016  4.9  4.9  5.0  5.0  4.8  4.9  4.8  4.9  5.0  4.9  4.7  4.7\n",
      "7   2017  4.7  4.6  4.4  4.4  4.4  4.3  4.3  4.4  4.2  4.1  4.2  4.1\n",
      "8   2018  4.1  4.1  4.0  4.0  3.8  4.0  3.8  3.8  3.7  3.8  3.7  3.9\n",
      "9   2019  4.0  3.8  3.8  3.6  3.6  3.7  3.7  3.7  3.5  3.6  3.5  3.5\n",
      "10  2020  3.6  3.5  4.4  NaN  NaN  NaN  NaN  NaN  NaN  NaN  NaN  NaN\n"
     ]
    }
   ],
   "source": [
    "import pandas as pd\n",
    "import numpy as np\n",
    "\n",
    "ur_wide = pd.DataFrame({\n",
    "    'year': [2010, 2011, 2012, 2013, 2014, 2015, 2016, 2017, 2018, 2019, 2020],\n",
    "    'jan': [9.8, 9.1, 8.3, 8.0, 6.6, 5.7, 4.9, 4.7, 4.1, 4.0, 3.6],\n",
    "    'feb': [9.8, 9.0, 8.3, 7.7, 6.7, 5.5, 4.9, 4.6, 4.1, 3.8, 3.5],\n",
    "    'mar': [9.9, 9.0, 8.2, 7.5, 6.7, 5.4, 5.0, 4.4, 4.0, 3.8, 4.4],\n",
    "    'apr': [9.9, 9.1, 8.2, 7.6, 6.2, 5.4, 5.0, 4.4, 4.0, 3.6, np.nan],\n",
    "    'may': [9.6, 9.0, 8.2, 7.5, 6.3, 5.6, 4.8, 4.4, 3.8, 3.6, np.nan],\n",
    "    'jun': [9.4, 9.1, 8.2, 7.5, 6.1, 5.3, 4.9, 4.3, 4.0, 3.7, np.nan],\n",
    "    'jul': [9.4, 9.0, 8.2, 7.3, 6.2, 5.2, 4.8, 4.3, 3.8, 3.7, np.nan],\n",
    "    'aug': [9.5, 9.0, 8.1, 7.2, 6.1, 5.1, 4.9, 4.4, 3.8, 3.7, np.nan],\n",
    "    'sep': [9.5, 9.0, 7.8, 7.2, 5.9, 5.0, 5.0, 4.2, 3.7, 3.5, np.nan],\n",
    "    'oct': [9.4, 8.8, 7.8, 7.2, 5.7, 5.0, 4.9, 4.1, 3.8, 3.6, np.nan],\n",
    "    'nov': [9.8, 8.6, 7.7, 6.9, 5.8, 5.1, 4.7, 4.2, 3.7, 3.5, np.nan],\n",
    "    'dec': [9.3, 8.5, 7.9, 6.7, 5.6, 5.0, 4.7, 4.1, 3.9, 3.5, np.nan]\n",
    "})\n",
    "\n",
    "print(ur_wide)"
   ]
  },
  {
   "cell_type": "code",
   "execution_count": 81,
   "id": "706bb49c-232c-498d-ada3-00ddf4eef07e",
   "metadata": {},
   "outputs": [
    {
     "name": "stdout",
     "output_type": "stream",
     "text": [
      "    year month  unempl_rate\n",
      "0   2010   jan          9.8\n",
      "1   2011   jan          9.1\n",
      "2   2012   jan          8.3\n",
      "3   2013   jan          8.0\n",
      "4   2014   jan          6.6\n",
      "5   2015   jan          5.7\n",
      "6   2016   jan          4.9\n",
      "7   2017   jan          4.7\n",
      "8   2018   jan          4.1\n",
      "9   2019   jan          4.0\n",
      "10  2020   jan          3.6\n",
      "11  2010   feb          9.8\n",
      "12  2011   feb          9.0\n",
      "13  2012   feb          8.3\n",
      "14  2013   feb          7.7\n",
      "15  2014   feb          6.7\n",
      "16  2015   feb          5.5\n",
      "17  2016   feb          4.9\n",
      "18  2017   feb          4.6\n",
      "19  2018   feb          4.1\n"
     ]
    }
   ],
   "source": [
    "# unpivot everything besides the year column\n",
    "ur_tall = ur_wide.melt(id_vars='year', var_name='month', value_name='unempl_rate')\n",
    "print(ur_tall.head(20))"
   ]
  },
  {
   "cell_type": "code",
   "execution_count": 87,
   "id": "30f0ca42-2922-4eb8-a1f7-2f645030028b",
   "metadata": {},
   "outputs": [
    {
     "name": "stdout",
     "output_type": "stream",
     "text": [
      "    year month  unempl_rate       date\n",
      "0   2010   jan          9.8 2010-01-01\n",
      "11  2010   feb          9.8 2010-02-01\n",
      "22  2010   mar          9.9 2010-03-01\n",
      "33  2010   apr          9.9 2010-04-01\n",
      "44  2010   may          9.6 2010-05-01\n",
      "55  2010   jun          9.4 2010-06-01\n",
      "66  2010   jul          9.4 2010-07-01\n",
      "77  2010   aug          9.5 2010-08-01\n",
      "88  2010   sep          9.5 2010-09-01\n",
      "99  2010   oct          9.4 2010-10-01\n"
     ]
    },
    {
     "name": "stderr",
     "output_type": "stream",
     "text": [
      "C:\\Users\\NAS\\AppData\\Local\\Temp\\ipykernel_644\\387646313.py:2: UserWarning: Could not infer format, so each element will be parsed individually, falling back to `dateutil`. To ensure parsing is consistent and as-expected, please specify a format.\n",
      "  ur_tall['date'] = pd.to_datetime(ur_tall['month'].astype(str) + '-' + ur_tall['year'].astype(str))\n"
     ]
    }
   ],
   "source": [
    "# Convert month and year columns to strings before concatenation\n",
    "ur_tall['date'] = pd.to_datetime(ur_tall['month'].astype(str) + '-' + ur_tall['year'].astype(str))\n",
    "\n",
    "# Sort ur_tall by date in ascending order\n",
    "ur_sorted = ur_tall.sort_values('date')\n",
    "print(ur_sorted.head(10))"
   ]
  },
  {
   "cell_type": "code",
   "execution_count": 91,
   "id": "bdff48fd-f2ff-4375-9779-f0db23313919",
   "metadata": {},
   "outputs": [
    {
     "data": {
      "image/png": "[encoded data removed]",
      "text/plain": [
       "<Figure size 640x480 with 1 Axes>"
      ]
     },
     "metadata": {},
     "output_type": "display_data"
    }
   ],
   "source": [
    "# Plot the unempl_rate by date\n",
    "ur_sorted.plot(x='date', y='unempl_rate')\n",
    "plt.show()"
   ]
  },
  {
   "cell_type": "raw",
   "id": "30518eef-5e26-45af-bc72-fe3a1a08c42a",
   "metadata": {},
   "source": [
    "The plot shows a steady decrease in the unemployment rate with an increase near the end. This increase is likely the effect of the COVID-19 pandemic and its impact on shutting down most of the US economy. In general, data is often provided (_especially by governments_) in a format that is easily read by people but not by machines. The .melt() method is a handy tool for reshaping data into a useful form."
   ]
  },
  {
   "cell_type": "markdown",
   "id": "99f95d45-bb24-409e-b5b4-cf6dc827db49",
   "metadata": {},
   "source": [
    "### Using .melt() for stocks vs bond performance\n",
    "Check if the price of bonds is inversely related to the price of stocks."
   ]
  },
  {
   "cell_type": "code",
   "execution_count": 105,
   "id": "2a4b6e5e-c47d-4f4b-9e48-c6b970b70daa",
   "metadata": {},
   "outputs": [
    {
     "name": "stdout",
     "output_type": "stream",
     "text": [
      "(4, 36)\n"
     ]
    }
   ],
   "source": [
    "import pandas as pd\n",
    "\n",
    "ten_yr = pd.DataFrame({\n",
    "    'metric': ['open', 'high', 'low', 'close'],\n",
    "    '2007-02-01': [0.033, -0.007, -0.016, -0.057],\n",
    "    '2007-03-01': [-0.060, -0.041, -0.008, 0.022],\n",
    "    '2007-04-01': [0.025, 0.022, 0.031, -0.004],\n",
    "    '2007-05-01': [-0.004, 0.031, -0.002, 0.056],\n",
    "    '2007-06-01': [0.061, 0.080, 0.059, 0.029],\n",
    "    '2007-07-01': [0.027, -0.022, -0.027, -0.052],\n",
    "    '2007-08-01': [-0.059, -0.060, -0.052, -0.049],\n",
    "    '2007-09-01': [-0.046, -0.038, -0.043, 0.009],\n",
    "    '2007-10-01': [0.014, 0.004, 0.003, -0.023],\n",
    "    '2007-11-01': [-0.027, -0.056, -0.108, -0.112],\n",
    "    '2007-12-01': [-0.115, -0.039, -0.001, 0.016],\n",
    "    '2008-01-01': [0.023, -0.053, -0.146, -0.098],\n",
    "    '2008-02-01': [-0.094, -0.023, 0.075, -0.029],\n",
    "    '2008-03-01': [-0.025, -0.065, -0.067, -0.029],\n",
    "    '2008-04-01': [-0.021, 0.050, 0.043, 0.095],\n",
    "    '2008-05-01': [0.076, 0.065, 0.073, 0.076],\n",
    "    '2008-06-01': [0.073, 0.045, 0.047, -0.017],\n",
    "    '2008-07-01': [-0.021, -0.035, -0.023, 0.000],\n",
    "    '2008-08-01': [0.000, -0.020, -0.002, -0.042],\n",
    "    '2008-09-01': [-0.024, -0.045, -0.136, 0.004],\n",
    "    '2008-10-01': [-0.026, 0.052, 0.046, 0.037],\n",
    "    '2008-11-01': [0.050, -0.035, -0.138, -0.255],\n",
    "    '2008-12-01': [-0.268, -0.272, -0.304, -0.241],\n",
    "    '2009-01-01': [-0.236, -0.011, 0.059, 0.267],\n",
    "    '2009-02-01': [0.286, 0.069, 0.217, 0.069],\n",
    "    '2009-03-01': [0.046, -0.004, -0.062, -0.117],\n",
    "    '2009-04-01': [-0.103, 0.041, 0.069, 0.164],\n",
    "    '2009-05-01': [0.191, 0.187, 0.168, 0.109],\n",
    "    '2009-06-01': [0.107, 0.068, 0.123, 0.017],\n",
    "    '2009-07-01': [0.024, -0.062, -0.055, -0.006],\n",
    "    '2009-08-01': [-0.007, 0.032, 0.040, -0.029],\n",
    "    '2009-09-01': [-0.047, -0.090, -0.036, -0.028],\n",
    "    '2009-10-01': [-0.032, 0.012, -0.051, 0.026],\n",
    "    '2009-11-01': [0.034, -0.004, 0.030, -0.056],\n",
    "    '2009-12-01': [-0.051, 0.099, 0.007, 0.201]\n",
    "})\n",
    "\n",
    "print(ten_yr.shape)"
   ]
  },
  {
   "cell_type": "code",
   "execution_count": 107,
   "id": "690678e8-2969-46cc-813c-df228048c05a",
   "metadata": {},
   "outputs": [
    {
     "name": "stdout",
     "output_type": "stream",
     "text": [
      "  metric  2007-02-01  2007-03-01  2007-04-01  2007-05-01  2007-06-01  \\\n",
      "0   open       0.033      -0.060       0.025      -0.004       0.061   \n",
      "1   high      -0.007      -0.041       0.022       0.031       0.080   \n",
      "2    low      -0.016      -0.008       0.031      -0.002       0.059   \n",
      "3  close      -0.057       0.022      -0.004       0.056       0.029   \n",
      "\n",
      "   2007-07-01  2007-08-01  2007-09-01  2007-10-01  ...  2009-03-01  \\\n",
      "0       0.027      -0.059      -0.046       0.014  ...       0.046   \n",
      "1      -0.022      -0.060      -0.038       0.004  ...      -0.004   \n",
      "2      -0.027      -0.052      -0.043       0.003  ...      -0.062   \n",
      "3      -0.052      -0.049       0.009      -0.023  ...      -0.117   \n",
      "\n",
      "   2009-04-01  2009-05-01  2009-06-01  2009-07-01  2009-08-01  2009-09-01  \\\n",
      "0      -0.103       0.191       0.107       0.024      -0.007      -0.047   \n",
      "1       0.041       0.187       0.068      -0.062       0.032      -0.090   \n",
      "2       0.069       0.168       0.123      -0.055       0.040      -0.036   \n",
      "3       0.164       0.109       0.017      -0.006      -0.029      -0.028   \n",
      "\n",
      "   2009-10-01  2009-11-01  2009-12-01  \n",
      "0      -0.032       0.034      -0.051  \n",
      "1       0.012      -0.004       0.099  \n",
      "2      -0.051       0.030       0.007  \n",
      "3       0.026      -0.056       0.201  \n",
      "\n",
      "[4 rows x 36 columns]\n"
     ]
    }
   ],
   "source": [
    "print(ten_yr.head())"
   ]
  },
  {
   "cell_type": "code",
   "execution_count": 101,
   "id": "b783423a-21c8-4e90-9e38-34b55266a3cb",
   "metadata": {},
   "outputs": [
    {
     "name": "stdout",
     "output_type": "stream",
     "text": [
      "(159, 2)\n"
     ]
    }
   ],
   "source": [
    "import pandas as pd\n",
    "import numpy as np\n",
    "\n",
    "data = [\n",
    "    ['2007-02-01', 0.005094385],\n",
    "    ['2007-03-01', -0.02613902],\n",
    "    ['2007-04-01', 0.04852522],\n",
    "    ['2007-05-01', 0.052007442],\n",
    "    ['2007-06-01', -0.016070328],\n",
    "    ['2007-07-01', 0.038005504],\n",
    "    ['2007-08-01', -0.063894742],\n",
    "    ['2007-09-01', 0.066521287],\n",
    "    ['2007-10-01', 0.002475632],\n",
    "    ['2007-11-01', -0.024041665],\n",
    "    ['2007-12-01', -0.01062883],\n",
    "    ['2008-01-01', -0.059491713],\n",
    "    ['2008-02-01', -0.035595773],\n",
    "    ['2008-03-01', 0.013213023],\n",
    "    ['2008-04-01', 0.020871592],\n",
    "    ['2008-05-01', -0.00143428],\n",
    "    ['2008-06-01', -0.042702328],\n",
    "    ['2008-07-01', -0.057398135],\n",
    "    ['2008-08-01', 0.025433807],\n",
    "    ['2008-09-01', -0.069100093],\n",
    "    ['2008-10-01', -0.154180846],\n",
    "    ['2008-11-01', -0.080309949],\n",
    "    ['2008-12-01', 0.058127134],\n",
    "    ['2009-01-01', -0.037496448],\n",
    "    ['2009-02-01', -0.164794743],\n",
    "    ['2009-03-01', 0.042397188],\n",
    "    ['2009-04-01', 0.064512765],\n",
    "    ['2009-05-01', 0.05677603],\n",
    "    ['2009-06-01', 0.038969204],\n",
    "    ['2009-07-01', -0.047834178],\n",
    "    ['2009-08-01', 0.11097163],\n",
    "    ['2009-09-01', 0.05759352],\n",
    "    ['2009-10-01', -0.007827874],\n",
    "    ['2009-11-01', 0.077390176],\n",
    "    ['2009-12-01', -0.003478498],\n",
    "    ['2010-01-01', -0.022410836],\n",
    "    ['2010-02-01', 0.012850319],\n",
    "    ['2010-03-01', 0.050855723],\n",
    "    ['2010-04-01', 0.01551093],\n",
    "    ['2010-05-01', -0.080054868],\n",
    "    ['2010-06-01', -0.035769399],\n",
    "    ['2010-07-01', 0.078133736],\n",
    "    ['2010-08-01', -0.034476195],\n",
    "    ['2010-09-01', 0.067414235],\n",
    "    ['2010-10-01', 0.023774684],\n",
    "    ['2010-11-01', -0.002383415],\n",
    "    ['2010-12-01', 0.039776433],\n",
    "    ['2011-01-01', 0.031101532],\n",
    "    ['2011-02-01', 0.014329031],\n",
    "    ['2011-03-01', -0.002138879],\n",
    "    ['2011-04-01', 0.032418078],\n",
    "    ['2011-05-01', 0.001198984],\n",
    "    ['2011-06-01', -0.002194236],\n",
    "    ['2011-07-01', 0.002626051],\n",
    "    ['2011-08-01', -0.06695646],\n",
    "    ['2011-09-01', -0.03640589],\n",
    "    ['2011-10-01', 0.025681987],\n",
    "    ['2011-11-01', 0.001359161],\n",
    "    ['2011-12-01', 0.045912125],\n",
    "    ['2012-01-01', 0.052597849],\n",
    "    ['2012-02-01', 0.017741846],\n",
    "    ['2012-03-01', 0.025919756],\n",
    "    ['2012-04-01', -0.009181033],\n",
    "    ['2012-05-01', -0.053259198],\n",
    "    ['2012-06-01', 0.034768257],\n",
    "    ['2012-07-01', -0.000140418],\n",
    "    ['2012-08-01', 0.0350163],\n",
    "    ['2012-09-01', 0.024247324],\n",
    "    ['2012-10-01', -0.018273602],\n",
    "    ['2012-11-01', -0.026968932],\n",
    "    ['2012-12-01', 0.011859747],\n",
    "    ['2013-01-01', 0.028023244],\n",
    "    ['2013-02-01', 0.036520978],\n",
    "    ['2013-03-01', 0.023491879],\n",
    "    ['2013-04-01', 0.037377411],\n",
    "    ['2013-05-01', 0.016851552],\n",
    "    ['2013-06-01', -0.000224894],\n",
    "    ['2013-07-01', 0.025628287],\n",
    "    ['2013-08-01', -0.042491668],\n",
    "    ['2013-09-01', 0.028118227],\n",
    "    ['2013-10-01', 0.007576228],\n",
    "    ['2013-11-01', 0.032678999],\n",
    "    ['2013-12-01', 0.018379701],\n",
    "    ['2014-01-01', 0.015901757],\n",
    "    ['2014-02-01', -0.014940513],\n",
    "    ['2014-03-01', 0.014771536],\n",
    "    ['2014-04-01', 0.007107821],\n",
    "    ['2014-05-01', 0.010994522],\n",
    "    ['2014-06-01', 0.006544182],\n",
    "    ['2014-07-01', -0.993017009],\n",
    "    ['2014-08-01', 144.5183012],\n",
    "    ['2014-09-01', -0.003245918],\n",
    "    ['2014-10-01', 0.020395567],\n",
    "    ['2014-11-01', 0.025168869],\n",
    "    ['2014-12-01', -0.000286042],\n",
    "    ['2015-01-01', -0.03692956],\n",
    "    ['2015-02-01', 0.056382432],\n",
    "    ['2015-03-01', -0.019666107],\n",
    "    ['2015-04-01', 0.014750208],\n",
    "    ['2015-05-01', -0.001530164],\n",
    "    ['2015-06-01', -0.021720379],\n",
    "    ['2015-07-01', 0.006379318],\n",
    "    ['2015-08-01', -0.067894606],\n",
    "    ['2015-09-01', -0.025750218],\n",
    "    ['2015-10-01', 0.096948254],\n",
    "    ['2015-11-01', 0.003193047],\n",
    "    ['2015-12-01', -0.016642328],\n",
    "    ['2016-01-01', -0.055018607],\n",
    "    ['2016-02-01', 0.003048603],\n",
    "    ['2016-03-01', 0.070753465],\n",
    "    ['2016-04-01', 0.005004213],\n",
    "    ['2016-05-01', 0.000765158],\n",
    "    ['2016-06-01', 0.008028289],\n",
    "    ['2016-07-01', 0.02800888],\n",
    "    ['2016-08-01', -0.001698052],\n",
    "    ['2016-09-01', -0.005037861],\n",
    "    ['2016-10-01', -0.009055988],\n",
    "    ['2016-11-01', 0.054083208],\n",
    "    ['2016-12-01', 0.033414211],\n",
    "    ['2017-01-01', 0.005135964],\n",
    "    ['2017-02-01', 0.047729302],\n",
    "    ['2017-03-01', -0.007159263],\n",
    "    ['2017-04-01', 0.013420031],\n",
    "    ['2017-05-01', 0.003256809],\n",
    "    ['2017-06-01', 0.01622663],\n",
    "    ['2017-07-01', 0.025363473],\n",
    "    ['2017-08-01', 0.002603798],\n",
    "    ['2017-09-01', 0.020821848],\n",
    "    ['2017-10-01', 0.043387426],\n",
    "    ['2017-11-01', 0.038293774],\n",
    "    ['2017-12-01', 0.01840769],\n",
    "    ['2018-01-01', 0.057857909],\n",
    "    ['2018-02-01', -0.042838503],\n",
    "    ['2018-03-01', -0.034663499],\n",
    "    ['2018-04-01', 0.000062082],\n",
    "    ['2018-05-01', 0.010458144],\n",
    "    ['2018-06-01', -0.005914219],\n",
    "    ['2018-07-01', 0.047125374],\n",
    "    ['2018-08-01', 0.021624917],\n",
    "    ['2018-09-01', 0.019006501],\n",
    "    ['2018-10-01', -0.05074022],\n",
    "    ['2018-11-01', 0.016830012],\n",
    "    ['2018-12-01', -0.086575171],\n",
    "    ['2019-01-01', 0.071683602],\n",
    "    ['2019-02-01', 0.036652472],\n",
    "    ['2019-03-01', 0.000490015],\n",
    "    ['2019-04-01', 0.025616448],\n",
    "    ['2019-05-01', -0.066856205],\n",
    "    ['2019-06-01', 0.078105953],\n",
    "    ['2019-07-01', np.nan],\n",
    "    ['2019-08-01', np.nan],\n",
    "    ['2019-09-01', np.nan],\n",
    "    ['2019-10-01', 0.006778502],\n",
    "    ['2019-11-01', np.nan],\n",
    "    ['2019-12-01', np.nan],\n",
    "    ['2020-01-01', np.nan],\n",
    "    ['2020-02-01', -0.010447311],\n",
    "    ['2020-03-01', -0.216145511],\n",
    "    ['2020-04-01', 0.034803753],\n",
    "]\n",
    "\n",
    "dji = pd.DataFrame(data, columns=['date', 'close'])\n",
    "\n",
    "print(dji.shape)"
   ]
  },
  {
   "cell_type": "code",
   "execution_count": 103,
   "id": "7505f41f-4074-46b7-bb6e-32ec3d9a8bfc",
   "metadata": {},
   "outputs": [
    {
     "name": "stdout",
     "output_type": "stream",
     "text": [
      "         date     close\n",
      "0  2007-02-01  0.005094\n",
      "1  2007-03-01 -0.026139\n",
      "2  2007-04-01  0.048525\n",
      "3  2007-05-01  0.052007\n",
      "4  2007-06-01 -0.016070\n"
     ]
    }
   ],
   "source": [
    "print(dji.head())"
   ]
  },
  {
   "cell_type": "code",
   "execution_count": 122,
   "id": "6724042a-ebd7-4176-b3be-7db01c116fab",
   "metadata": {},
   "outputs": [
    {
     "name": "stdout",
     "output_type": "stream",
     "text": [
      "  metric        date  close\n",
      "0   open  2007-02-01  0.033\n",
      "1   high  2007-02-01 -0.007\n",
      "2    low  2007-02-01 -0.016\n",
      "3  close  2007-02-01 -0.057\n",
      "4   open  2007-03-01 -0.060\n",
      "5   high  2007-03-01 -0.041\n",
      "6    low  2007-03-01 -0.008\n",
      "7  close  2007-03-01  0.022\n",
      "8   open  2007-04-01  0.025\n",
      "9   high  2007-04-01  0.022\n"
     ]
    }
   ],
   "source": [
    "# Use melt on ten_yr, unpivot everything besides the metric column\n",
    "bond_perc = ten_yr.melt(id_vars='metric', var_name='date', value_name='close')\n",
    "\n",
    "print(bond_perc.head(10))"
   ]
  },
  {
   "cell_type": "code",
   "execution_count": 124,
   "id": "0add11a2-68a1-4292-b345-46c51ea0739f",
   "metadata": {},
   "outputs": [
    {
     "name": "stdout",
     "output_type": "stream",
     "text": [
      "   metric        date  close\n",
      "3   close  2007-02-01 -0.057\n",
      "7   close  2007-03-01  0.022\n",
      "11  close  2007-04-01 -0.004\n",
      "15  close  2007-05-01  0.056\n",
      "19  close  2007-06-01  0.029\n"
     ]
    }
   ],
   "source": [
    "# Use query on bond_perc to select only the rows where metric=close\n",
    "bond_perc_close = bond_perc.query('metric == \"close\"')\n",
    "\n",
    "print(bond_perc_close.head())"
   ]
  },
  {
   "cell_type": "code",
   "execution_count": 126,
   "id": "14a37327-8e1b-4f46-8273-9ee82942aae7",
   "metadata": {},
   "outputs": [
    {
     "name": "stdout",
     "output_type": "stream",
     "text": [
      "         date  close_dow metric  close_bond\n",
      "0  2007-02-01   0.005094  close      -0.057\n",
      "1  2007-03-01  -0.026139  close       0.022\n",
      "2  2007-04-01   0.048525  close      -0.004\n",
      "3  2007-05-01   0.052007  close       0.056\n",
      "4  2007-06-01  -0.016070  close       0.029\n"
     ]
    }
   ],
   "source": [
    "# Merge (ordered) dji and bond_perc_close on date with an inner join\n",
    "dow_bond = pd.merge_ordered(dji, bond_perc_close, \n",
    "                         on='date', \n",
    "                         how='inner',\n",
    "                         suffixes=('_dow', '_bond'))\n",
    "\n",
    "print(dow_bond.head())"
   ]
  },
  {
   "cell_type": "code",
   "execution_count": 128,
   "id": "ffeeacb8-7e48-46be-ac1b-54e41d6c28a8",
   "metadata": {},
   "outputs": [
    {
     "data": {
      "image/png": "[encoded data removed]",
      "text/plain": [
       "<Figure size 640x480 with 1 Axes>"
      ]
     },
     "metadata": {},
     "output_type": "display_data"
    }
   ],
   "source": [
    "# Plot only the close_dow and close_bond columns\n",
    "dow_bond.plot(y=['close_dow', 'close_bond'], x='date', rot=90)\n",
    "plt.show()"
   ]
  },
  {
   "cell_type": "markdown",
   "id": "58543aef-1891-4b5e-be13-b22f188cf757",
   "metadata": {},
   "source": [
    "The plot confirms that the bond and stock prices are inversely correlated. Often as the price of stocks increases, the price for bonds decreases."
   ]
  },
  {
   "cell_type": "code",
   "execution_count": null,
   "id": "ee4a7fa6-c99c-49fd-810f-8a180d42802b",
   "metadata": {},
   "outputs": [],
   "source": []
  }
 ],
 "metadata": {
  "kernelspec": {
   "display_name": "Python 3 (ipykernel)",
   "language": "python",
   "name": "python3"
  },
  "language_info": {
   "codemirror_mode": {
    "name": "ipython",
    "version": 3
   },
   "file_extension": ".py",
   "mimetype": "text/x-python",
   "name": "python",
   "nbconvert_exporter": "python",
   "pygments_lexer": "ipython3",
   "version": "3.12.4"
  }
 },
 "nbformat": 4,
 "nbformat_minor": 5
}
