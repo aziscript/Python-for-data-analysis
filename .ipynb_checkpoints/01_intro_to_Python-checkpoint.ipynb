{
 "cells": [
  {
   "cell_type": "markdown",
   "id": "c2d0ab75-e955-4c34-ad39-fd676b79c3ed",
   "metadata": {},
   "source": [
    "## Python Basics"
   ]
  },
  {
   "cell_type": "markdown",
   "id": "607531ca-d74a-4d18-9940-5df4098a6255",
   "metadata": {},
   "source": [
    "### Your first Python code"
   ]
  },
  {
   "cell_type": "code",
   "execution_count": 5,
   "id": "5cfa6ecb-836e-4cbd-9551-b871b94edc0d",
   "metadata": {},
   "outputs": [
    {
     "name": "stdout",
     "output_type": "stream",
     "text": [
      "0.625\n"
     ]
    }
   ],
   "source": [
    "# Hit run code to see the output!\n",
    "print(5 / 8)"
   ]
  },
  {
   "cell_type": "markdown",
   "id": "5a2ed4ce-ed10-4b77-a09e-ea3ae3891fad",
   "metadata": {},
   "source": [
    "### Python as a calculator"
   ]
  },
  {
   "cell_type": "code",
   "execution_count": 19,
   "id": "c6c47930-7482-4eac-8737-ae27903c5834",
   "metadata": {},
   "outputs": [
    {
     "name": "stdout",
     "output_type": "stream",
     "text": [
      "9\n",
      "5.0\n",
      "0\n",
      "15\n"
     ]
    }
   ],
   "source": [
    "# Addition and division\n",
    "print(4 + 5)\n",
    "print(10 / 2)\n",
    "\n",
    "# Subtraction\n",
    "print(5 - 5)\n",
    "\n",
    "# Multiplication\n",
    "print(3 * 5)"
   ]
  },
  {
   "cell_type": "markdown",
   "id": "0180d163-d74f-43ad-9757-2c03b14fb927",
   "metadata": {},
   "source": [
    "### Variable Assignment"
   ]
  },
  {
   "cell_type": "code",
   "execution_count": 22,
   "id": "8547410c-22ae-4c58-b1e1-155693c52406",
   "metadata": {},
   "outputs": [
    {
     "name": "stdout",
     "output_type": "stream",
     "text": [
      "100\n"
     ]
    }
   ],
   "source": [
    "# Create a variable savings\n",
    "savings = 100\n",
    "\n",
    "# Print out savings\n",
    "print(savings)"
   ]
  },
  {
   "cell_type": "markdown",
   "id": "833125b6-9858-4238-b116-9907e1257f50",
   "metadata": {},
   "source": [
    "### Calculations with variables"
   ]
  },
  {
   "cell_type": "code",
   "execution_count": 25,
   "id": "a0a8c078-127b-4a7f-9eba-425bdbecbe9e",
   "metadata": {},
   "outputs": [
    {
     "name": "stdout",
     "output_type": "stream",
     "text": [
      "40\n"
     ]
    }
   ],
   "source": [
    "# Create the variables monthly_savings and num_months\n",
    "monthly_savings = 10\n",
    "num_months = 4\n",
    "\n",
    "\n",
    "# Multiply monthly_savings and num_months\n",
    "new_savings = monthly_savings * num_months\n",
    "\n",
    "# Print new_savings\n",
    "print(new_savings)"
   ]
  },
  {
   "cell_type": "markdown",
   "id": "9385daeb-741b-41e9-ba17-71c2c9c80ea1",
   "metadata": {},
   "source": [
    "### Other variable types"
   ]
  },
  {
   "cell_type": "code",
   "execution_count": 28,
   "id": "a8a38e20-3238-40df-80a5-a8d9c35f86b6",
   "metadata": {},
   "outputs": [],
   "source": [
    "# Create a variable half(float)\n",
    "half = 0.5\n",
    "\n",
    "# Create a variable intro(spring)\n",
    "intro = \"Hello! How are you?\"\n",
    "\n",
    "# Create a variable is_good(bool)\n",
    "is_good = True"
   ]
  },
  {
   "cell_type": "markdown",
   "id": "924f7e11-b2fa-4061-9932-ed26adb52318",
   "metadata": {},
   "source": [
    "### Operations with other types"
   ]
  },
  {
   "cell_type": "code",
   "execution_count": 31,
   "id": "69dca495-4ce8-4509-a5fa-d15fd3ebc650",
   "metadata": {},
   "outputs": [
    {
     "name": "stdout",
     "output_type": "stream",
     "text": [
      "140\n",
      "<class 'int'>\n"
     ]
    }
   ],
   "source": [
    "savings = 100\n",
    "new_savings = 40\n",
    "\n",
    "# Calculate total_savings using savings and new_savings\n",
    "total_savings = savings + new_savings\n",
    "print(total_savings)\n",
    "\n",
    "# Print the type of total_savings\n",
    "print(type(total_savings))"
   ]
  },
  {
   "cell_type": "code",
   "execution_count": 34,
   "id": "ee5addb3-3f92-4683-8c14-8f0fe3109f05",
   "metadata": {},
   "outputs": [
    {
     "name": "stdout",
     "output_type": "stream",
     "text": [
      "Hello! How are you?Hello! How are you?\n"
     ]
    }
   ],
   "source": [
    "intro = \"Hello! How are you?\"\n",
    "\n",
    "# Assign sum of intro and intro to doubleintro\n",
    "doubleintro = intro + intro\n",
    "\n",
    "# Print out doubleintro\n",
    "print(doubleintro)"
   ]
  },
  {
   "cell_type": "markdown",
   "id": "62cdc685-33e2-40aa-9cfc-f6e6a3821815",
   "metadata": {},
   "source": [
    "## Python Lists"
   ]
  },
  {
   "cell_type": "markdown",
   "id": "32d10d5a-38ec-4f6f-bb07-686cceca7cdd",
   "metadata": {},
   "source": [
    "### Create a list"
   ]
  },
  {
   "cell_type": "code",
   "execution_count": 37,
   "id": "1346b24d-932a-4ff3-ae0e-658ca2850c91",
   "metadata": {},
   "outputs": [
    {
     "name": "stdout",
     "output_type": "stream",
     "text": [
      "[11.25, 18.0, 20.0, 10.75, 9.5]\n"
     ]
    }
   ],
   "source": [
    "hall = 11.25\n",
    "kit = 18.0\n",
    "liv = 20.0\n",
    "bed = 10.75\n",
    "bath = 9.50\n",
    "\n",
    "# Create list areas\n",
    "areas = [hall, kit, liv, bed, bath]\n",
    "\n",
    "# Print areas\n",
    "print(areas)"
   ]
  },
  {
   "cell_type": "markdown",
   "id": "b7061a53-7bdf-404c-9360-221b7f52a045",
   "metadata": {},
   "source": [
    "### Create lists with different types"
   ]
  },
  {
   "cell_type": "code",
   "execution_count": 40,
   "id": "45463e3e-096d-4596-96a4-b69e95c26d43",
   "metadata": {},
   "outputs": [
    {
     "name": "stdout",
     "output_type": "stream",
     "text": [
      "['hallway', 11.25, 'kitchen', 18.0, 'living room', 20.0, 'bedroom', 10.75, 'bathroom', 9.5]\n"
     ]
    }
   ],
   "source": [
    "hall = 11.25\n",
    "kit = 18.0\n",
    "liv = 20.0\n",
    "bed = 10.75\n",
    "bath = 9.50\n",
    "\n",
    "# Adapt list areas\n",
    "areas = [\"hallway\", hall, \"kitchen\", kit, \"living room\", liv, \"bedroom\", bed, \"bathroom\", bath]\n",
    "\n",
    "# Print areas\n",
    "print(areas)"
   ]
  },
  {
   "cell_type": "markdown",
   "id": "2bdf3db1-b9c4-4823-baf9-5259be02113a",
   "metadata": {},
   "source": [
    "### List of lists"
   ]
  },
  {
   "cell_type": "code",
   "execution_count": 43,
   "id": "14888615-4b75-4b65-b7d2-321b41e05766",
   "metadata": {},
   "outputs": [
    {
     "name": "stdout",
     "output_type": "stream",
     "text": [
      "[['hallway', 11.25], ['kitchen', 18.0], ['living room', 20.0], ['bedroom', 10.75], ['bathroom', 9.5]]\n"
     ]
    }
   ],
   "source": [
    "hall = 11.25\n",
    "kit = 18.0\n",
    "liv = 20.0\n",
    "bed = 10.75\n",
    "bath = 9.50\n",
    "\n",
    "# House information as list of lists\n",
    "house = [[\"hallway\", hall],\n",
    "         [\"kitchen\", kit],\n",
    "         [\"living room\", liv],\n",
    "        [\"bedroom\", bed],\n",
    "        [\"bathroom\", bath]]\n",
    "\n",
    "# Print out house\n",
    "print(house)"
   ]
  },
  {
   "cell_type": "markdown",
   "id": "f51891a0-7ac5-4613-a66e-b1ae0bcbd06c",
   "metadata": {},
   "source": [
    "### Subset and conquer"
   ]
  },
  {
   "cell_type": "code",
   "execution_count": 46,
   "id": "bb721e55-abb7-44ac-9924-7cb8e91bbb7a",
   "metadata": {},
   "outputs": [
    {
     "name": "stdout",
     "output_type": "stream",
     "text": [
      "11.25\n",
      "9.5\n",
      "20.0\n"
     ]
    }
   ],
   "source": [
    "# Create the areas list\n",
    "areas = [\"hallway\", 11.25, \"kitchen\", 18.0, \"living room\", 20.0, \"bedroom\", 10.75, \"bathroom\", 9.50]\n",
    "\n",
    "# Print out second element from areas\n",
    "print(areas[1])\n",
    "\n",
    "# Print out last element from areas\n",
    "print(areas[-1])\n",
    "\n",
    "# Print out the area of the living room\n",
    "print(areas[5])"
   ]
  },
  {
   "cell_type": "markdown",
   "id": "92251441-85be-4f17-b1ba-5c447d67d83b",
   "metadata": {},
   "source": [
    "### Slicing and dicing"
   ]
  },
  {
   "cell_type": "code",
   "execution_count": 49,
   "id": "f6484d9d-ef2b-43ce-a9a2-fd396b49a6ab",
   "metadata": {},
   "outputs": [
    {
     "name": "stdout",
     "output_type": "stream",
     "text": [
      "['hallway', 11.25, 'kitchen', 18.0, 'living room', 20.0]\n",
      "['bedroom', 10.75, 'bathroom', 9.5]\n"
     ]
    }
   ],
   "source": [
    "# Create the areas list\n",
    "areas = [\"hallway\", 11.25, \"kitchen\", 18.0, \"living room\", 20.0, \"bedroom\", 10.75, \"bathroom\", 9.50]\n",
    "\n",
    "# Use slicing to create downstairs\n",
    "downstairs = areas[:6]\n",
    "\n",
    "# Use slicing to create upstairs\n",
    "upstairs = areas[6:]\n",
    "\n",
    "# Print out downstairs and upstairs\n",
    "print(downstairs)\n",
    "print(upstairs)"
   ]
  },
  {
   "cell_type": "markdown",
   "id": "cc1de511-98b6-4634-983a-7c5431cc64ee",
   "metadata": {},
   "source": [
    "### Subsetting lists of lists"
   ]
  },
  {
   "cell_type": "code",
   "execution_count": 52,
   "id": "e8f51a64-4360-4d75-a8b6-26199111875d",
   "metadata": {},
   "outputs": [
    {
     "data": {
      "text/plain": [
       "9.5"
      ]
     },
     "execution_count": 52,
     "metadata": {},
     "output_type": "execute_result"
    }
   ],
   "source": [
    "house = [[\"hallway\", 11.25],\n",
    "         [\"kitchen\", 18.0],\n",
    "         [\"living room\", 20.0],\n",
    "         [\"bedroom\", 10.75],\n",
    "         [\"bathroom\", 9.50]]\n",
    "\n",
    "# Subset the house list\n",
    "house[4][1]"
   ]
  },
  {
   "cell_type": "markdown",
   "id": "54c2a1de-6d48-4ec2-b71c-fe5c70d166ac",
   "metadata": {},
   "source": [
    "### Replace list elements"
   ]
  },
  {
   "cell_type": "code",
   "execution_count": 59,
   "id": "e2d3d43c-c730-497c-b308-41c52baae199",
   "metadata": {},
   "outputs": [
    {
     "name": "stdout",
     "output_type": "stream",
     "text": [
      "['hallway', 11.25, 'kitchen', 18.0, 'chill zone', 20.0, 'bedroom', 10.75, 'bathroom', 10.5]\n"
     ]
    }
   ],
   "source": [
    "# Create the areas list\n",
    "areas = [\"hallway\", 11.25, \"kitchen\", 18.0, \"living room\", 20.0, \"bedroom\", 10.75, \"bathroom\", 9.50]\n",
    "\n",
    "# Correct the bathroom area\n",
    "areas[-1] = 10.50\n",
    "\n",
    "# Change \"living room\" to \"chill zone\"\n",
    "areas[4] = \"chill zone\"\n",
    "\n",
    "print(areas)"
   ]
  },
  {
   "cell_type": "markdown",
   "id": "7d19b927-3df1-4171-aa1f-5e864ea39e5a",
   "metadata": {},
   "source": [
    "### Extend a list"
   ]
  },
  {
   "cell_type": "code",
   "execution_count": 66,
   "id": "d06349f5-7cbb-484f-af8c-1eac55bdd135",
   "metadata": {},
   "outputs": [
    {
     "name": "stdout",
     "output_type": "stream",
     "text": [
      "['hallway', 11.25, 'kitchen', 18.0, 'chill zone', 20.0, 'bedroom', 10.75, 'bathroom', 10.5, 'poolhouse', 24.5, 'garage', 15.45]\n"
     ]
    }
   ],
   "source": [
    "# Create the areas list and make some changes\n",
    "areas = [\"hallway\", 11.25, \"kitchen\", 18.0, \"chill zone\", 20.0,\n",
    "         \"bedroom\", 10.75, \"bathroom\", 10.50]\n",
    "\n",
    "# Add poolhouse data to areas, new list is areas_1\n",
    "areas_1 = areas + [\"poolhouse\", 24.5]\n",
    "\n",
    "# Add garage data to areas_1, new list is areas_2\n",
    "areas_2 = areas_1 + [\"garage\", 15.45]\n",
    "\n",
    "print(areas_2)"
   ]
  },
  {
   "cell_type": "markdown",
   "id": "f308eeb9-1cd8-4aa9-a7dd-fdcabdb9e13f",
   "metadata": {},
   "source": [
    "### Delete list elements"
   ]
  },
  {
   "cell_type": "code",
   "execution_count": 69,
   "id": "efebba5d-4cab-44e4-90d3-19fac65d1c38",
   "metadata": {},
   "outputs": [
    {
     "name": "stdout",
     "output_type": "stream",
     "text": [
      "['hallway', 11.25, 'kitchen', 18.0, 'chill zone', 20.0, 'bedroom', 10.75, 'bathroom', 10.5, 'garage', 15.45]\n"
     ]
    }
   ],
   "source": [
    "areas = [\"hallway\", 11.25, \"kitchen\", 18.0,\n",
    "        \"chill zone\", 20.0, \"bedroom\", 10.75,\n",
    "         \"bathroom\", 10.50, \"poolhouse\", 24.5,\n",
    "         \"garage\", 15.45]\n",
    "\n",
    "# Delete the poolhouse items from the list\n",
    "del areas[10:12]\n",
    "\n",
    "# Print the updated list\n",
    "print(areas)"
   ]
  },
  {
   "cell_type": "markdown",
   "id": "ee96a2fe-57d3-451f-8cbe-676b718ca9c7",
   "metadata": {},
   "source": [
    "### Inner workings of lists"
   ]
  },
  {
   "cell_type": "code",
   "execution_count": 72,
   "id": "8f3b187b-36cf-4ed3-8742-55efb910113b",
   "metadata": {},
   "outputs": [
    {
     "name": "stdout",
     "output_type": "stream",
     "text": [
      "[11.25, 18.0, 20.0, 10.75, 9.5]\n"
     ]
    }
   ],
   "source": [
    "# Create list areas\n",
    "areas = [11.25, 18.0, 20.0, 10.75, 9.50]\n",
    "\n",
    "# Change this command\n",
    "areas_copy = list(areas)\n",
    "\n",
    "# Change areas_copy\n",
    "areas_copy[0] = 5.0\n",
    "\n",
    "# Print areas\n",
    "print(areas)"
   ]
  },
  {
   "cell_type": "code",
   "execution_count": 74,
   "id": "6ad6aa14-824a-4e00-9c79-10bc146d2662",
   "metadata": {},
   "outputs": [
    {
     "name": "stdout",
     "output_type": "stream",
     "text": [
      "[5.0, 18.0, 20.0, 10.75, 9.5]\n"
     ]
    }
   ],
   "source": [
    "print(areas_copy)"
   ]
  },
  {
   "cell_type": "markdown",
   "id": "86e7ad33-7cd7-4569-a796-abe3b1af0b0e",
   "metadata": {},
   "source": [
    "## Fuctions and Packages"
   ]
  },
  {
   "cell_type": "markdown",
   "id": "d7995b0b-acbf-44a3-8de1-e49d036f243a",
   "metadata": {},
   "source": [
    "### Familiar functions"
   ]
  },
  {
   "cell_type": "code",
   "execution_count": 78,
   "id": "817999e2-d31e-4dad-8467-36efa3a9e4b6",
   "metadata": {},
   "outputs": [
    {
     "name": "stdout",
     "output_type": "stream",
     "text": [
      "<class 'list'>\n",
      "4\n"
     ]
    }
   ],
   "source": [
    "# Create variables var1 and var2\n",
    "var1 = [1, 2, 3, 4]\n",
    "var2 = True\n",
    "\n",
    "# Print out type of var1\n",
    "print(type(var1))\n",
    "\n",
    "# Print out length of var1\n",
    "print(len(var1))\n",
    "\n",
    "# Convert var2 to an integer: out2\n",
    "out2 = int(var2)"
   ]
  },
  {
   "cell_type": "markdown",
   "id": "ab007545-ac06-47f8-aa2a-b23afb26a9bb",
   "metadata": {},
   "source": [
    "### Help!"
   ]
  },
  {
   "cell_type": "code",
   "execution_count": 81,
   "id": "7e313083-70bd-4443-8e0a-0147b353e96a",
   "metadata": {},
   "outputs": [
    {
     "name": "stdout",
     "output_type": "stream",
     "text": [
      "Help on built-in function max in module builtins:\n",
      "\n",
      "max(...)\n",
      "    max(iterable, *[, default=obj, key=func]) -> value\n",
      "    max(arg1, arg2, *args, *[, key=func]) -> value\n",
      "\n",
      "    With a single iterable argument, return its biggest item. The\n",
      "    default keyword-only argument specifies an object to return if\n",
      "    the provided iterable is empty.\n",
      "    With two or more arguments, return the largest argument.\n",
      "\n"
     ]
    }
   ],
   "source": [
    "help(max)"
   ]
  },
  {
   "cell_type": "code",
   "execution_count": 83,
   "id": "57639218-c89e-4526-9944-caf93a3a4175",
   "metadata": {},
   "outputs": [
    {
     "data": {
      "text/plain": [
       "\u001b[1;31mDocstring:\u001b[0m\n",
       "max(iterable, *[, default=obj, key=func]) -> value\n",
       "max(arg1, arg2, *args, *[, key=func]) -> value\n",
       "\n",
       "With a single iterable argument, return its biggest item. The\n",
       "default keyword-only argument specifies an object to return if\n",
       "the provided iterable is empty.\n",
       "With two or more arguments, return the largest argument.\n",
       "\u001b[1;31mType:\u001b[0m      builtin_function_or_method"
      ]
     },
     "metadata": {},
     "output_type": "display_data"
    }
   ],
   "source": [
    "?max"
   ]
  },
  {
   "cell_type": "markdown",
   "id": "fcb0d00e-9bd2-4b59-baf3-416c4c253a7e",
   "metadata": {},
   "source": [
    "### Multiple arguments"
   ]
  },
  {
   "cell_type": "code",
   "execution_count": 86,
   "id": "a8bff95d-d494-4962-94f8-27a2fbfcb67f",
   "metadata": {},
   "outputs": [
    {
     "name": "stdout",
     "output_type": "stream",
     "text": [
      "[20.0, 18.0, 11.25, 10.75, 9.5]\n"
     ]
    }
   ],
   "source": [
    "# Create lists first and second\n",
    "first = [11.25, 18.0, 20.0]\n",
    "second = [10.75, 9.50]\n",
    "\n",
    "# Paste together first and second: full\n",
    "full = first + second\n",
    "\n",
    "# Sort full in descending order: full_sorted\n",
    "full_sorted = sorted(full, reverse = True)\n",
    "\n",
    "# Print out full_sorted\n",
    "print(full_sorted)"
   ]
  },
  {
   "cell_type": "markdown",
   "id": "5ad87687-216b-4fd2-b93d-6b5c920be3e5",
   "metadata": {},
   "source": [
    "### String Methods"
   ]
  },
  {
   "cell_type": "code",
   "execution_count": 89,
   "id": "0233d23e-9bdd-4d14-8eed-b5d627b84796",
   "metadata": {},
   "outputs": [
    {
     "name": "stdout",
     "output_type": "stream",
     "text": [
      "poolhouse\n",
      "POOLHOUSE\n",
      "3\n"
     ]
    }
   ],
   "source": [
    "# string to experiment with: place\n",
    "place = \"poolhouse\"\n",
    "\n",
    "# Use upper() on place\n",
    "place_up = place.upper()\n",
    "\n",
    "# Print out place and place_up\n",
    "print(place)\n",
    "print(place_up)\n",
    "\n",
    "# Print out the number of o's in place\n",
    "print(place.count('o'))"
   ]
  },
  {
   "cell_type": "markdown",
   "id": "6870e4fb-64f5-4160-9989-023e4a1c7d73",
   "metadata": {},
   "source": [
    "### List Methods"
   ]
  },
  {
   "cell_type": "code",
   "execution_count": 92,
   "id": "e435f192-5ed7-4b67-a5dc-7bec7a6ee6bb",
   "metadata": {},
   "outputs": [
    {
     "name": "stdout",
     "output_type": "stream",
     "text": [
      "2\n",
      "1\n"
     ]
    }
   ],
   "source": [
    "# Create list areas\n",
    "areas = [11.25, 18.0, 20.0, 10.75, 9.50]\n",
    "\n",
    "# Print out the index of the element 20.0\n",
    "print(areas.index(20.0))\n",
    "\n",
    "# Print out how often 9.50 appears in areas\n",
    "print(areas.count(9.50))"
   ]
  },
  {
   "cell_type": "code",
   "execution_count": 94,
   "id": "9b810549-7280-4a12-960f-64db4aed66dd",
   "metadata": {},
   "outputs": [
    {
     "name": "stdout",
     "output_type": "stream",
     "text": [
      "[11.25, 18.0, 20.0, 10.75, 9.5, 24.5, 15.45]\n",
      "[15.45, 24.5, 9.5, 10.75, 20.0, 18.0, 11.25]\n"
     ]
    }
   ],
   "source": [
    "# Create list areas\n",
    "areas = [11.25, 18.0, 20.0, 10.75, 9.50]\n",
    "\n",
    "# Use append twice to add poolhouse and garage size\n",
    "areas.append(24.5)\n",
    "areas.append(15.45)\n",
    "\n",
    "# Print out areas\n",
    "print(areas)\n",
    "\n",
    "# Reverse the orders of the elements in areas\n",
    "areas.reverse()\n",
    "\n",
    "# Print out areas\n",
    "print(areas)"
   ]
  },
  {
   "cell_type": "markdown",
   "id": "5a8ee54c-525c-4c61-88b9-a39fd477be11",
   "metadata": {},
   "source": [
    "### Import package"
   ]
  },
  {
   "cell_type": "code",
   "execution_count": 97,
   "id": "0b09b36d-b1f7-4e6e-9d55-81bd7342fdfe",
   "metadata": {},
   "outputs": [
    {
     "name": "stdout",
     "output_type": "stream",
     "text": [
      "Circumference: 2.701769682087222\n",
      "Area: 0.5808804816487527\n"
     ]
    }
   ],
   "source": [
    "# Import the math package\n",
    "import math\n",
    "\n",
    "# Calculate C\n",
    "C = 2 * 0.43 * math.pi\n",
    "\n",
    "# Calculate A\n",
    "A = math.pi * 0.43 ** 2\n",
    "\n",
    "print(\"Circumference: \" + str(C))\n",
    "print(\"Area: \" + str(A))"
   ]
  },
  {
   "cell_type": "markdown",
   "id": "84da78bc-0438-49b9-9336-b00180804ce9",
   "metadata": {},
   "source": [
    "### Selective import"
   ]
  },
  {
   "cell_type": "code",
   "execution_count": 100,
   "id": "4e65d853-3648-475f-8b6d-74d3509fce38",
   "metadata": {},
   "outputs": [
    {
     "name": "stdout",
     "output_type": "stream",
     "text": [
      "Circumference: 2.701769682087222\n",
      "Area: 0.5808804816487527\n"
     ]
    }
   ],
   "source": [
    "# Import pi function of math package\n",
    "from math import pi\n",
    "\n",
    "# Calculate C\n",
    "C = 2 * 0.43 * pi\n",
    "\n",
    "# Calculate A\n",
    "A = pi * 0.43 ** 2\n",
    "\n",
    "print(\"Circumference: \" + str(C))\n",
    "print(\"Area: \" + str(A))"
   ]
  },
  {
   "cell_type": "markdown",
   "id": "2277a76e-89d5-4113-806d-b7979ff6441d",
   "metadata": {},
   "source": [
    "## Numpy"
   ]
  },
  {
   "cell_type": "markdown",
   "id": "9e41ad8f-72e6-4493-b0b4-7c2f23224360",
   "metadata": {},
   "source": [
    "### Your First NumPy Array"
   ]
  },
  {
   "cell_type": "code",
   "execution_count": 104,
   "id": "d27e79e8-eb28-4987-b202-534b8384ff31",
   "metadata": {},
   "outputs": [
    {
     "name": "stdout",
     "output_type": "stream",
     "text": [
      "<class 'numpy.ndarray'>\n"
     ]
    }
   ],
   "source": [
    "# Import the numpy package as np\n",
    "import numpy as np\n",
    "\n",
    "baseball = [180, 215, 210, 210, 188, 176, 209, 200]\n",
    "\n",
    "# Create a numpy array from baseball: np_baseball\n",
    "np_baseball = np.array(baseball)\n",
    "\n",
    "# Print out type of np_baseball\n",
    "print(type(np_baseball))"
   ]
  },
  {
   "cell_type": "code",
   "execution_count": 112,
   "id": "45b845d7-ef9c-4820-bbc1-f27d62f4b06f",
   "metadata": {},
   "outputs": [
    {
     "data": {
      "text/html": [
       "<div>\n",
       "<style scoped>\n",
       "    .dataframe tbody tr th:only-of-type {\n",
       "        vertical-align: middle;\n",
       "    }\n",
       "\n",
       "    .dataframe tbody tr th {\n",
       "        vertical-align: top;\n",
       "    }\n",
       "\n",
       "    .dataframe thead th {\n",
       "        text-align: right;\n",
       "    }\n",
       "</style>\n",
       "<table border=\"1\" class=\"dataframe\">\n",
       "  <thead>\n",
       "    <tr style=\"text-align: right;\">\n",
       "      <th></th>\n",
       "      <th>Name</th>\n",
       "      <th>Team</th>\n",
       "      <th>Position</th>\n",
       "      <th>Height</th>\n",
       "      <th>Weight</th>\n",
       "      <th>Age</th>\n",
       "      <th>PosCategory</th>\n",
       "    </tr>\n",
       "  </thead>\n",
       "  <tbody>\n",
       "    <tr>\n",
       "      <th>0</th>\n",
       "      <td>Adam_Donachie</td>\n",
       "      <td>BAL</td>\n",
       "      <td>Catcher</td>\n",
       "      <td>74</td>\n",
       "      <td>180</td>\n",
       "      <td>22.99</td>\n",
       "      <td>Catcher</td>\n",
       "    </tr>\n",
       "    <tr>\n",
       "      <th>1</th>\n",
       "      <td>Paul_Bako</td>\n",
       "      <td>BAL</td>\n",
       "      <td>Catcher</td>\n",
       "      <td>74</td>\n",
       "      <td>215</td>\n",
       "      <td>34.69</td>\n",
       "      <td>Catcher</td>\n",
       "    </tr>\n",
       "    <tr>\n",
       "      <th>2</th>\n",
       "      <td>Ramon_Hernandez</td>\n",
       "      <td>BAL</td>\n",
       "      <td>Catcher</td>\n",
       "      <td>72</td>\n",
       "      <td>210</td>\n",
       "      <td>30.78</td>\n",
       "      <td>Catcher</td>\n",
       "    </tr>\n",
       "    <tr>\n",
       "      <th>3</th>\n",
       "      <td>Kevin_Millar</td>\n",
       "      <td>BAL</td>\n",
       "      <td>First_Baseman</td>\n",
       "      <td>72</td>\n",
       "      <td>210</td>\n",
       "      <td>35.43</td>\n",
       "      <td>Infielder</td>\n",
       "    </tr>\n",
       "    <tr>\n",
       "      <th>4</th>\n",
       "      <td>Chris_Gomez</td>\n",
       "      <td>BAL</td>\n",
       "      <td>First_Baseman</td>\n",
       "      <td>73</td>\n",
       "      <td>188</td>\n",
       "      <td>35.71</td>\n",
       "      <td>Infielder</td>\n",
       "    </tr>\n",
       "  </tbody>\n",
       "</table>\n",
       "</div>"
      ],
      "text/plain": [
       "              Name Team       Position  Height  Weight    Age PosCategory\n",
       "0    Adam_Donachie  BAL        Catcher      74     180  22.99     Catcher\n",
       "1        Paul_Bako  BAL        Catcher      74     215  34.69     Catcher\n",
       "2  Ramon_Hernandez  BAL        Catcher      72     210  30.78     Catcher\n",
       "3     Kevin_Millar  BAL  First_Baseman      72     210  35.43   Infielder\n",
       "4      Chris_Gomez  BAL  First_Baseman      73     188  35.71   Infielder"
      ]
     },
     "execution_count": 112,
     "metadata": {},
     "output_type": "execute_result"
    }
   ],
   "source": [
    "import pandas as pd \n",
    "baseball = pd.read_csv('baseball.csv')\n",
    "baseball.head()"
   ]
  },
  {
   "cell_type": "code",
   "execution_count": 128,
   "id": "47b7a729-5d77-4a7e-bb82-f76e38ad9501",
   "metadata": {},
   "outputs": [
    {
     "name": "stdout",
     "output_type": "stream",
     "text": [
      "[74, 74, 72, 72, 73, 69, 69, 71, 76, 71]\n"
     ]
    }
   ],
   "source": [
    "height_in = baseball['Height'].to_list()\n",
    "print(height_in[0:10])"
   ]
  },
  {
   "cell_type": "code",
   "execution_count": 130,
   "id": "6138d0d4-f638-413b-97ef-74dc7a842d22",
   "metadata": {},
   "outputs": [
    {
     "data": {
      "text/plain": [
       "1015"
      ]
     },
     "execution_count": 130,
     "metadata": {},
     "output_type": "execute_result"
    }
   ],
   "source": [
    "len(height_in)"
   ]
  },
  {
   "cell_type": "code",
   "execution_count": 136,
   "id": "209a3b66-b09e-4b45-ab60-b321ffed812a",
   "metadata": {},
   "outputs": [
    {
     "name": "stdout",
     "output_type": "stream",
     "text": [
      "[74 74 72 ... 75 75 73]\n"
     ]
    }
   ],
   "source": [
    "# Import numpy\n",
    "import numpy as np\n",
    "\n",
    "# Create a numpy array from height_in: np_height_in\n",
    "np_height_in = np.array(height_in)\n",
    "\n",
    "# Print out np_height_in\n",
    "print(np_height_in)"
   ]
  },
  {
   "cell_type": "code",
   "execution_count": 138,
   "id": "7bcfe5b7-f48e-4a15-96b1-644340e6840b",
   "metadata": {},
   "outputs": [
    {
     "name": "stdout",
     "output_type": "stream",
     "text": [
      "[1.8796 1.8796 1.8288 1.8288 1.8542 1.7526 1.7526 1.8034 1.9304 1.8034\n",
      " 1.8542 1.8542 1.8796 1.8796 1.7526 1.778  1.8542 1.905  1.9812 2.0066]\n"
     ]
    }
   ],
   "source": [
    "# Convert np_height_in to m: np_height_m\n",
    "np_height_m = np_height_in * 0.0254\n",
    "\n",
    "# Print np_height_m\n",
    "print(np_height_m[0:20])"
   ]
  },
  {
   "cell_type": "code",
   "execution_count": 146,
   "id": "081d2dec-0807-44cf-b596-a4a586e81d11",
   "metadata": {},
   "outputs": [
    {
     "data": {
      "text/plain": [
       "array([4, 5, 2])"
      ]
     },
     "execution_count": 146,
     "metadata": {},
     "output_type": "execute_result"
    }
   ],
   "source": [
    "# numpy array\n",
    "np.array([True, 1, 2]) + np.array([3, 4, False])"
   ]
  },
  {
   "cell_type": "code",
   "execution_count": 148,
   "id": "4bcb4091-168f-45e9-9f15-44ce5296863e",
   "metadata": {},
   "outputs": [
    {
     "data": {
      "text/plain": [
       "[True, 1, 2, 3, 4, False]"
      ]
     },
     "execution_count": 148,
     "metadata": {},
     "output_type": "execute_result"
    }
   ],
   "source": [
    "# Lists\n",
    "[True, 1, 2] + [3, 4, False]"
   ]
  },
  {
   "cell_type": "markdown",
   "id": "aab1fd27-4d16-4fb1-8f48-2857d924c0ec",
   "metadata": {},
   "source": [
    "### Subsetting NumPy Arrays"
   ]
  },
  {
   "cell_type": "code",
   "execution_count": 161,
   "id": "499aded6-1c35-41f2-9162-391ddba51c59",
   "metadata": {},
   "outputs": [
    {
     "name": "stdout",
     "output_type": "stream",
     "text": [
      "[180, 215, 210, 210, 188, 176, 209, 200, 231, 180]\n"
     ]
    }
   ],
   "source": [
    "weight_lb = baseball['Weight'].to_list()\n",
    "print(weight_lb[0:10])"
   ]
  },
  {
   "cell_type": "code",
   "execution_count": 163,
   "id": "7f5096a9-209c-492e-828e-0a432d98d394",
   "metadata": {},
   "outputs": [
    {
     "name": "stdout",
     "output_type": "stream",
     "text": [
      "200\n",
      "[73 74 72 73 69 72 73 75 75 73 72]\n"
     ]
    }
   ],
   "source": [
    "import numpy as np\n",
    "\n",
    "np_weight_lb = np.array(weight_lb)\n",
    "np_height_in = np.array(height_in)\n",
    "\n",
    "# Print out the weight at index 50\n",
    "print(np_weight_lb[50])\n",
    "\n",
    "# Print out sub-array of np_height_in: index 100 up to and including index 110\n",
    "print(np_height_in[100:111])"
   ]
  },
  {
   "cell_type": "markdown",
   "id": "6f82d2c9-175f-414d-8edb-be3c239648ba",
   "metadata": {},
   "source": [
    "### Your First 2D NumPy Array"
   ]
  },
  {
   "cell_type": "code",
   "execution_count": 166,
   "id": "556fb312-0964-4216-8ef3-d973ed663696",
   "metadata": {},
   "outputs": [
    {
     "name": "stdout",
     "output_type": "stream",
     "text": [
      "<class 'numpy.ndarray'>\n",
      "(4, 2)\n"
     ]
    }
   ],
   "source": [
    "import numpy as np\n",
    "\n",
    "baseball = [[180, 78.4],\n",
    "            [215, 102.7],\n",
    "            [210, 98.5],\n",
    "            [188, 75.2]]\n",
    "\n",
    "# Create a 2D numpy array from baseball: np_baseball\n",
    "np_baseball = np.array(baseball)\n",
    "\n",
    "# Print out the type of np_baseball\n",
    "print(type(np_baseball))\n",
    "\n",
    "# Print out the shape of np_baseball\n",
    "print(np_baseball.shape)"
   ]
  },
  {
   "cell_type": "markdown",
   "id": "df4827ba-df8e-4fdd-92a0-34f58d743b75",
   "metadata": {},
   "source": [
    "### Baseball data in 2D form"
   ]
  },
  {
   "cell_type": "code",
   "execution_count": 193,
   "id": "b670a001-05f2-4480-9088-37d2fd22d02c",
   "metadata": {},
   "outputs": [
    {
     "data": {
      "text/plain": [
       "[[74, 180],\n",
       " [74, 215],\n",
       " [72, 210],\n",
       " [72, 210],\n",
       " [73, 188],\n",
       " [69, 176],\n",
       " [69, 209],\n",
       " [71, 200],\n",
       " [76, 231],\n",
       " [71, 180]]"
      ]
     },
     "execution_count": 193,
     "metadata": {},
     "output_type": "execute_result"
    }
   ],
   "source": [
    "# Step 1: Zip the two lists\n",
    "zipped = zip(height_in, weight_lb)\n",
    "\n",
    "# Step 2: Initialize an empty list\n",
    "baseball = []\n",
    "\n",
    "# Step 3: Loop through the zipped pairs and append each as a list\n",
    "for h, w in zipped:\n",
    "    baseball.append([h, w])\n",
    "\n",
    "baseball[0:10]"
   ]
  },
  {
   "cell_type": "code",
   "execution_count": 195,
   "id": "5bb9542e-70ef-4f49-b771-950faea2cff7",
   "metadata": {},
   "outputs": [],
   "source": [
    "# Combine 2 lists into a list of lists\n",
    "# baseball = [[h, w] for h, w in zip(height_in, weight_lb)]\n",
    "# baseball[0:10]"
   ]
  },
  {
   "cell_type": "code",
   "execution_count": 197,
   "id": "5fc0e67c-062e-468a-936d-364db81f5b85",
   "metadata": {},
   "outputs": [
    {
     "name": "stdout",
     "output_type": "stream",
     "text": [
      "(1015, 2)\n"
     ]
    }
   ],
   "source": [
    "import numpy as np\n",
    "\n",
    "# Create a 2D numpy array from baseball: np_baseball\n",
    "np_baseball = np.array(baseball)\n",
    "\n",
    "# Print out the shape of np_baseball\n",
    "print(np_baseball.shape)"
   ]
  },
  {
   "cell_type": "markdown",
   "id": "6bac3da3-4f0d-4082-8725-5990aafc5e5a",
   "metadata": {},
   "source": [
    "### Subsetting 2D NumPy Arrays"
   ]
  },
  {
   "cell_type": "code",
   "execution_count": 200,
   "id": "cbebcd5e-87ce-4b87-82a4-5efbba0a1ca7",
   "metadata": {},
   "outputs": [
    {
     "name": "stdout",
     "output_type": "stream",
     "text": [
      "[ 70 195]\n",
      "75\n"
     ]
    }
   ],
   "source": [
    "import numpy as np\n",
    "\n",
    "np_baseball = np.array(baseball)\n",
    "\n",
    "# Print out the 50th row of np_baseball\n",
    "print(np_baseball[49, :])\n",
    "\n",
    "# Select the entire second column of np_baseball: np_weight_lb\n",
    "np_weight_lb = np_baseball[:,1]\n",
    "\n",
    "# Print out height of 124th player\n",
    "print(np_baseball[123,0])"
   ]
  },
  {
   "cell_type": "code",
   "execution_count": 202,
   "id": "2ffbabe9-db7a-4871-afe7-ca9ffb148814",
   "metadata": {},
   "outputs": [
    {
     "data": {
      "text/html": [
       "<div>\n",
       "<style scoped>\n",
       "    .dataframe tbody tr th:only-of-type {\n",
       "        vertical-align: middle;\n",
       "    }\n",
       "\n",
       "    .dataframe tbody tr th {\n",
       "        vertical-align: top;\n",
       "    }\n",
       "\n",
       "    .dataframe thead th {\n",
       "        text-align: right;\n",
       "    }\n",
       "</style>\n",
       "<table border=\"1\" class=\"dataframe\">\n",
       "  <thead>\n",
       "    <tr style=\"text-align: right;\">\n",
       "      <th></th>\n",
       "      <th>Name</th>\n",
       "      <th>Team</th>\n",
       "      <th>Position</th>\n",
       "      <th>Height</th>\n",
       "      <th>Weight</th>\n",
       "      <th>Age</th>\n",
       "      <th>PosCategory</th>\n",
       "    </tr>\n",
       "  </thead>\n",
       "  <tbody>\n",
       "    <tr>\n",
       "      <th>0</th>\n",
       "      <td>Adam_Donachie</td>\n",
       "      <td>BAL</td>\n",
       "      <td>Catcher</td>\n",
       "      <td>74</td>\n",
       "      <td>180</td>\n",
       "      <td>22.99</td>\n",
       "      <td>Catcher</td>\n",
       "    </tr>\n",
       "    <tr>\n",
       "      <th>1</th>\n",
       "      <td>Paul_Bako</td>\n",
       "      <td>BAL</td>\n",
       "      <td>Catcher</td>\n",
       "      <td>74</td>\n",
       "      <td>215</td>\n",
       "      <td>34.69</td>\n",
       "      <td>Catcher</td>\n",
       "    </tr>\n",
       "    <tr>\n",
       "      <th>2</th>\n",
       "      <td>Ramon_Hernandez</td>\n",
       "      <td>BAL</td>\n",
       "      <td>Catcher</td>\n",
       "      <td>72</td>\n",
       "      <td>210</td>\n",
       "      <td>30.78</td>\n",
       "      <td>Catcher</td>\n",
       "    </tr>\n",
       "    <tr>\n",
       "      <th>3</th>\n",
       "      <td>Kevin_Millar</td>\n",
       "      <td>BAL</td>\n",
       "      <td>First_Baseman</td>\n",
       "      <td>72</td>\n",
       "      <td>210</td>\n",
       "      <td>35.43</td>\n",
       "      <td>Infielder</td>\n",
       "    </tr>\n",
       "    <tr>\n",
       "      <th>4</th>\n",
       "      <td>Chris_Gomez</td>\n",
       "      <td>BAL</td>\n",
       "      <td>First_Baseman</td>\n",
       "      <td>73</td>\n",
       "      <td>188</td>\n",
       "      <td>35.71</td>\n",
       "      <td>Infielder</td>\n",
       "    </tr>\n",
       "  </tbody>\n",
       "</table>\n",
       "</div>"
      ],
      "text/plain": [
       "              Name Team       Position  Height  Weight    Age PosCategory\n",
       "0    Adam_Donachie  BAL        Catcher      74     180  22.99     Catcher\n",
       "1        Paul_Bako  BAL        Catcher      74     215  34.69     Catcher\n",
       "2  Ramon_Hernandez  BAL        Catcher      72     210  30.78     Catcher\n",
       "3     Kevin_Millar  BAL  First_Baseman      72     210  35.43   Infielder\n",
       "4      Chris_Gomez  BAL  First_Baseman      73     188  35.71   Infielder"
      ]
     },
     "execution_count": 202,
     "metadata": {},
     "output_type": "execute_result"
    }
   ],
   "source": [
    "import pandas as pd \n",
    "baseball = pd.read_csv('baseball.csv')\n",
    "baseball.head()"
   ]
  },
  {
   "cell_type": "code",
   "execution_count": 204,
   "id": "d5995066-9ce4-4b32-981a-569d2293844e",
   "metadata": {},
   "outputs": [
    {
     "name": "stdout",
     "output_type": "stream",
     "text": [
      "[74, 74, 72, 72, 73, 69, 69, 71, 76, 71]\n"
     ]
    }
   ],
   "source": [
    "height_in = baseball['Height'].to_list()\n",
    "print(height_in[0:10])"
   ]
  },
  {
   "cell_type": "code",
   "execution_count": 206,
   "id": "d42020ce-01c7-4b71-b0da-5419422bbfcc",
   "metadata": {},
   "outputs": [
    {
     "name": "stdout",
     "output_type": "stream",
     "text": [
      "[180, 215, 210, 210, 188, 176, 209, 200, 231, 180]\n"
     ]
    }
   ],
   "source": [
    "weight_lb = baseball['Weight'].to_list()\n",
    "print(weight_lb[0:10])"
   ]
  },
  {
   "cell_type": "code",
   "execution_count": 208,
   "id": "b8fe5a5e-7765-49c7-9fd3-d12d93ae9d25",
   "metadata": {},
   "outputs": [
    {
     "name": "stdout",
     "output_type": "stream",
     "text": [
      "[22.99, 34.69, 30.78, 35.43, 35.71, 29.39, 30.77, 35.07, 30.19, 27.05]\n"
     ]
    }
   ],
   "source": [
    "age = baseball['Age'].to_list()\n",
    "print(age[0:10])"
   ]
  },
  {
   "cell_type": "code",
   "execution_count": 212,
   "id": "27447a65-2785-40c4-8b24-eaac6a03c434",
   "metadata": {},
   "outputs": [
    {
     "name": "stdout",
     "output_type": "stream",
     "text": [
      "[[74.0, 180.0, 22.99], [74.0, 215.0, 34.69], [72.0, 210.0, 30.78], [72.0, 210.0, 35.43], [73.0, 188.0, 35.71], [69.0, 176.0, 29.39], [69.0, 209.0, 30.77], [71.0, 200.0, 35.07], [76.0, 231.0, 30.19], [71.0, 180.0, 27.05]]\n"
     ]
    }
   ],
   "source": [
    "# Step 1: Zip the three lists\n",
    "zipped = zip(height_in, weight_lb, age)\n",
    "\n",
    "# Step 2: Initialize an empty list\n",
    "baseball = []\n",
    "\n",
    "# Step 3: Loop through the zipped triplets and convert the first two values to float\n",
    "for h, w, a in zipped:\n",
    "    baseball.append([float(h), float(w), a])\n",
    "\n",
    "# View the first 10 rows\n",
    "print(baseball[0:10])"
   ]
  },
  {
   "cell_type": "code",
   "execution_count": 214,
   "id": "b7e84e10-8941-40bc-9089-a54872099297",
   "metadata": {},
   "outputs": [
    {
     "name": "stdout",
     "output_type": "stream",
     "text": [
      "[[ 1.8796  81.64656 22.99   ]\n",
      " [ 1.8796  97.52228 34.69   ]\n",
      " [ 1.8288  95.25432 30.78   ]\n",
      " ...\n",
      " [ 1.905   92.98636 25.19   ]\n",
      " [ 1.905   86.18248 31.01   ]\n",
      " [ 1.8542  88.45044 27.92   ]]\n"
     ]
    }
   ],
   "source": [
    "import numpy as np\n",
    "\n",
    "np_baseball = np.array(baseball)\n",
    "\n",
    "# Create numpy array: conversion\n",
    "conversion = np.array([0.0254, 0.453592, 1])\n",
    "\n",
    "# Print out product of np_baseball and conversion\n",
    "print(np_baseball * conversion)"
   ]
  },
  {
   "cell_type": "markdown",
   "id": "9c183935-97a6-4c8a-bacc-124a2dd3c49c",
   "metadata": {},
   "source": [
    "### Average versus median"
   ]
  },
  {
   "cell_type": "code",
   "execution_count": 217,
   "id": "80c840ee-e514-42b3-8066-a5c2b0417a76",
   "metadata": {},
   "outputs": [
    {
     "name": "stdout",
     "output_type": "stream",
     "text": [
      "73.6896551724138\n",
      "74.0\n"
     ]
    }
   ],
   "source": [
    "# Print out the mean of np_height_in\n",
    "print(np.mean(np_height_in))\n",
    "\n",
    "# Print out the median of np_height_in\n",
    "print(np.median(np_height_in))"
   ]
  },
  {
   "cell_type": "markdown",
   "id": "4c4217e9-36f6-41f1-ad9d-f935004e1eed",
   "metadata": {},
   "source": [
    "### Explore the baseball data"
   ]
  },
  {
   "cell_type": "code",
   "execution_count": 228,
   "id": "0ab95cb3-3b70-4390-9b42-e79b154ee320",
   "metadata": {},
   "outputs": [
    {
     "name": "stdout",
     "output_type": "stream",
     "text": [
      "Average: 73.6896551724138\n"
     ]
    }
   ],
   "source": [
    "avg = np.mean(np_baseball[:,0])\n",
    "print(f\"Average: {avg}\")"
   ]
  },
  {
   "cell_type": "code",
   "execution_count": 230,
   "id": "050b5be9-457e-4546-93fb-aad5d6f9f23d",
   "metadata": {},
   "outputs": [
    {
     "name": "stdout",
     "output_type": "stream",
     "text": [
      "Median: 74.0\n"
     ]
    }
   ],
   "source": [
    "# Print median height\n",
    "med = np.median(np_baseball[:,0])\n",
    "print(f\"Median: {med}\")"
   ]
  },
  {
   "cell_type": "code",
   "execution_count": 234,
   "id": "d6855bff-134e-477c-9d81-a2d099d9afb9",
   "metadata": {},
   "outputs": [
    {
     "name": "stdout",
     "output_type": "stream",
     "text": [
      "Standard Deviation: 2.312791881046546\n"
     ]
    }
   ],
   "source": [
    "# Print out the standard deviation on height\n",
    "stddev = np.std(np_baseball[:,0])\n",
    "print(f\"Standard Deviation: {stddev}\")"
   ]
  },
  {
   "cell_type": "code",
   "execution_count": 236,
   "id": "ea613425-c2e6-4afa-bff4-28870f76de73",
   "metadata": {},
   "outputs": [
    {
     "name": "stdout",
     "output_type": "stream",
     "text": [
      "Correlation: [[1.         0.53153932]\n",
      " [0.53153932 1.        ]]\n"
     ]
    }
   ],
   "source": [
    "# Print out correlation between first and second column\n",
    "corr = np.corrcoef(np_baseball[:,0], np_baseball[:,1])\n",
    "print(f\"Correlation: {corr}\")"
   ]
  },
  {
   "cell_type": "markdown",
   "id": "cd8d2f69-4b19-459f-9666-dee8a5c1071c",
   "metadata": {},
   "source": [
    "## Bonus"
   ]
  },
  {
   "cell_type": "code",
   "execution_count": 283,
   "id": "d56376e5-5054-4b2f-93a5-b3a4d008460b",
   "metadata": {},
   "outputs": [
    {
     "data": {
      "text/html": [
       "<div>\n",
       "<style scoped>\n",
       "    .dataframe tbody tr th:only-of-type {\n",
       "        vertical-align: middle;\n",
       "    }\n",
       "\n",
       "    .dataframe tbody tr th {\n",
       "        vertical-align: top;\n",
       "    }\n",
       "\n",
       "    .dataframe thead th {\n",
       "        text-align: right;\n",
       "    }\n",
       "</style>\n",
       "<table border=\"1\" class=\"dataframe\">\n",
       "  <thead>\n",
       "    <tr style=\"text-align: right;\">\n",
       "      <th></th>\n",
       "      <th>Name</th>\n",
       "      <th>Team</th>\n",
       "      <th>Position</th>\n",
       "      <th>Height</th>\n",
       "      <th>Weight</th>\n",
       "      <th>Age</th>\n",
       "      <th>PosCategory</th>\n",
       "    </tr>\n",
       "  </thead>\n",
       "  <tbody>\n",
       "    <tr>\n",
       "      <th>0</th>\n",
       "      <td>Adam_Donachie</td>\n",
       "      <td>BAL</td>\n",
       "      <td>Catcher</td>\n",
       "      <td>74</td>\n",
       "      <td>180</td>\n",
       "      <td>22.99</td>\n",
       "      <td>Catcher</td>\n",
       "    </tr>\n",
       "    <tr>\n",
       "      <th>1</th>\n",
       "      <td>Paul_Bako</td>\n",
       "      <td>BAL</td>\n",
       "      <td>Catcher</td>\n",
       "      <td>74</td>\n",
       "      <td>215</td>\n",
       "      <td>34.69</td>\n",
       "      <td>Catcher</td>\n",
       "    </tr>\n",
       "    <tr>\n",
       "      <th>2</th>\n",
       "      <td>Ramon_Hernandez</td>\n",
       "      <td>BAL</td>\n",
       "      <td>Catcher</td>\n",
       "      <td>72</td>\n",
       "      <td>210</td>\n",
       "      <td>30.78</td>\n",
       "      <td>Catcher</td>\n",
       "    </tr>\n",
       "    <tr>\n",
       "      <th>3</th>\n",
       "      <td>Kevin_Millar</td>\n",
       "      <td>BAL</td>\n",
       "      <td>First_Baseman</td>\n",
       "      <td>72</td>\n",
       "      <td>210</td>\n",
       "      <td>35.43</td>\n",
       "      <td>Infielder</td>\n",
       "    </tr>\n",
       "    <tr>\n",
       "      <th>4</th>\n",
       "      <td>Chris_Gomez</td>\n",
       "      <td>BAL</td>\n",
       "      <td>First_Baseman</td>\n",
       "      <td>73</td>\n",
       "      <td>188</td>\n",
       "      <td>35.71</td>\n",
       "      <td>Infielder</td>\n",
       "    </tr>\n",
       "  </tbody>\n",
       "</table>\n",
       "</div>"
      ],
      "text/plain": [
       "              Name Team       Position  Height  Weight    Age PosCategory\n",
       "0    Adam_Donachie  BAL        Catcher      74     180  22.99     Catcher\n",
       "1        Paul_Bako  BAL        Catcher      74     215  34.69     Catcher\n",
       "2  Ramon_Hernandez  BAL        Catcher      72     210  30.78     Catcher\n",
       "3     Kevin_Millar  BAL  First_Baseman      72     210  35.43   Infielder\n",
       "4      Chris_Gomez  BAL  First_Baseman      73     188  35.71   Infielder"
      ]
     },
     "execution_count": 283,
     "metadata": {},
     "output_type": "execute_result"
    }
   ],
   "source": [
    "import pandas as pd \n",
    "baseball = pd.read_csv('baseball.csv')\n",
    "baseball.head()"
   ]
  },
  {
   "cell_type": "code",
   "execution_count": 263,
   "id": "f28d305d-f1bb-46ae-8068-7f1b52eca065",
   "metadata": {},
   "outputs": [
    {
     "data": {
      "text/plain": [
       "array(['Adam_Donachie', 'Paul_Bako', 'Ramon_Hernandez', ...,\n",
       "       'Chris_Narveson', 'Randy_Keisler', 'Josh_Kinney'], dtype='<U19')"
      ]
     },
     "execution_count": 263,
     "metadata": {},
     "output_type": "execute_result"
    }
   ],
   "source": [
    "# Importing course packages; you can add more too!\n",
    "import numpy as np\n",
    "import math\n",
    "\n",
    "# Import columns as numpy arrays\n",
    "baseball_names = np.genfromtxt(\n",
    "    fname=\"baseball.csv\",  # This is the filename\n",
    "    delimiter=\",\",  # The file is comma-separated\n",
    "    usecols=0,  # Use the first column\n",
    "    skip_header=1,  # Skip the first line\n",
    "    dtype=str,  # This column contains strings\n",
    ")\n",
    "\n",
    "baseball_names"
   ]
  },
  {
   "cell_type": "code",
   "execution_count": 265,
   "id": "67d9b9da-63b8-4536-a873-186d6c321be7",
   "metadata": {},
   "outputs": [
    {
     "data": {
      "text/plain": [
       "array([74., 74., 72., ..., 75., 75., 73.])"
      ]
     },
     "execution_count": 265,
     "metadata": {},
     "output_type": "execute_result"
    }
   ],
   "source": [
    "baseball_heights = np.genfromtxt(\n",
    "    fname=\"baseball.csv\", delimiter=\",\", usecols=3, skip_header=1\n",
    ")\n",
    "\n",
    "baseball_heights"
   ]
  },
  {
   "cell_type": "code",
   "execution_count": 267,
   "id": "71810e5c-bf87-4cac-8d14-fc4a1435ddaa",
   "metadata": {},
   "outputs": [
    {
     "data": {
      "text/plain": [
       "array([180., 215., 210., ..., 205., 190., 195.])"
      ]
     },
     "execution_count": 267,
     "metadata": {},
     "output_type": "execute_result"
    }
   ],
   "source": [
    "baseball_weights = np.genfromtxt(\n",
    "    fname=\"baseball.csv\", delimiter=\",\", usecols=4, skip_header=1\n",
    ")\n",
    "\n",
    "baseball_weights"
   ]
  },
  {
   "cell_type": "code",
   "execution_count": 269,
   "id": "99737c71-06fc-48a8-84df-0d6deee793ae",
   "metadata": {},
   "outputs": [
    {
     "data": {
      "text/plain": [
       "array([22.99, 34.69, 30.78, ..., 25.19, 31.01, 27.92])"
      ]
     },
     "execution_count": 269,
     "metadata": {},
     "output_type": "execute_result"
    }
   ],
   "source": [
    "baseball_ages = np.genfromtxt(\n",
    "    fname=\"baseball.csv\", delimiter=\",\", usecols=5, skip_header=1\n",
    ")\n",
    "\n",
    "baseball_ages"
   ]
  },
  {
   "cell_type": "code",
   "execution_count": 271,
   "id": "1321d96e-d155-40c9-8dc1-c0805f2b2c15",
   "metadata": {},
   "outputs": [
    {
     "data": {
      "text/plain": [
       "array(['Gábor Király', 'Frederik Boi', 'Tomasz Szewczuk', ...,\n",
       "       'Michel Breuer', 'Gill Swerts', 'Mehdi Nafti'], dtype='<U30')"
      ]
     },
     "execution_count": 271,
     "metadata": {},
     "output_type": "execute_result"
    }
   ],
   "source": [
    "soccer_names = np.genfromtxt(\n",
    "    fname=\"soccer.csv\",\n",
    "    delimiter=\",\",\n",
    "    usecols=1,\n",
    "    skip_header=1,\n",
    "    dtype=str,\n",
    "    encoding=\"utf\", \n",
    ")\n",
    "\n",
    "soccer_names"
   ]
  },
  {
   "cell_type": "code",
   "execution_count": 273,
   "id": "09456a12-ebc5-4ac6-a0d5-f5724869d0c1",
   "metadata": {},
   "outputs": [
    {
     "data": {
      "text/plain": [
       "array([69., 65., 57., ..., 68., 65., 69.])"
      ]
     },
     "execution_count": 273,
     "metadata": {},
     "output_type": "execute_result"
    }
   ],
   "source": [
    "soccer_ratings = np.genfromtxt(\n",
    "    fname=\"soccer.csv\",\n",
    "    delimiter=\",\",\n",
    "    usecols=2,\n",
    "    skip_header=1,\n",
    "    encoding=\"utf\", \n",
    ")\n",
    "\n",
    "soccer_ratings"
   ]
  },
  {
   "cell_type": "code",
   "execution_count": 275,
   "id": "df3edae8-e295-4d52-b52b-214338b307fa",
   "metadata": {},
   "outputs": [
    {
     "data": {
      "text/plain": [
       "array(['GK', 'M', 'A', ..., 'D', 'D', 'M'], dtype='<U2')"
      ]
     },
     "execution_count": 275,
     "metadata": {},
     "output_type": "execute_result"
    }
   ],
   "source": [
    "soccer_positions = np.genfromtxt(\n",
    "    fname=\"soccer.csv\",\n",
    "    delimiter=\",\",\n",
    "    usecols=3,\n",
    "    skip_header=1,\n",
    "    encoding=\"utf\", \n",
    "    dtype=str,\n",
    ")\n",
    "\n",
    "soccer_positions"
   ]
  },
  {
   "cell_type": "code",
   "execution_count": 277,
   "id": "f4f08621-8386-4bf8-96ea-44927d0b6b91",
   "metadata": {},
   "outputs": [
    {
     "data": {
      "text/plain": [
       "array([191., 184., 185., ..., 183., 179., 179.])"
      ]
     },
     "execution_count": 277,
     "metadata": {},
     "output_type": "execute_result"
    }
   ],
   "source": [
    "soccer_heights = np.genfromtxt(\n",
    "    fname=\"soccer.csv\",\n",
    "    delimiter=\",\",\n",
    "    usecols=4,\n",
    "    skip_header=1,\n",
    "    encoding=\"utf\", \n",
    ")\n",
    "\n",
    "soccer_heights"
   ]
  },
  {
   "cell_type": "code",
   "execution_count": 279,
   "id": "b4a7c1c6-e2d5-4bdb-830f-da0f71737a35",
   "metadata": {},
   "outputs": [
    {
     "data": {
      "text/plain": [
       "array([ nan, 0.65, 0.54, ..., 0.4 , 0.48, 0.56])"
      ]
     },
     "execution_count": 279,
     "metadata": {},
     "output_type": "execute_result"
    }
   ],
   "source": [
    "soccer_shooting = np.genfromtxt(\n",
    "    fname=\"soccer.csv\",\n",
    "    delimiter=\",\",\n",
    "    usecols=8,\n",
    "    skip_header=1,\n",
    "    encoding=\"utf\", \n",
    ")\n",
    "\n",
    "soccer_shooting"
   ]
  },
  {
   "cell_type": "code",
   "execution_count": null,
   "id": "861cb3fe-094c-40cf-88b7-3ab43f4edcd9",
   "metadata": {},
   "outputs": [],
   "source": []
  }
 ],
 "metadata": {
  "kernelspec": {
   "display_name": "Python [conda env:base] *",
   "language": "python",
   "name": "conda-base-py"
  },
  "language_info": {
   "codemirror_mode": {
    "name": "ipython",
    "version": 3
   },
   "file_extension": ".py",
   "mimetype": "text/x-python",
   "name": "python",
   "nbconvert_exporter": "python",
   "pygments_lexer": "ipython3",
   "version": "3.12.3"
  }
 },
 "nbformat": 4,
 "nbformat_minor": 5
}
