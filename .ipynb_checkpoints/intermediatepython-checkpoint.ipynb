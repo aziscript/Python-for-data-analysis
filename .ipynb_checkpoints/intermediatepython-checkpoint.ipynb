{
 "cells": [
  {
   "cell_type": "markdown",
   "id": "2af67089-18e2-4cde-b15f-d3c9d3700060",
   "metadata": {},
   "source": [
    "## Matplotlib"
   ]
  },
  {
   "cell_type": "code",
   "execution_count": 6,
   "id": "606e8187-a716-4a9d-a933-8d4bfddcbf75",
   "metadata": {},
   "outputs": [
    {
     "data": {
      "text/html": [
       "<div>\n",
       "<style scoped>\n",
       "    .dataframe tbody tr th:only-of-type {\n",
       "        vertical-align: middle;\n",
       "    }\n",
       "\n",
       "    .dataframe tbody tr th {\n",
       "        vertical-align: top;\n",
       "    }\n",
       "\n",
       "    .dataframe thead th {\n",
       "        text-align: right;\n",
       "    }\n",
       "</style>\n",
       "<table border=\"1\" class=\"dataframe\">\n",
       "  <thead>\n",
       "    <tr style=\"text-align: right;\">\n",
       "      <th></th>\n",
       "      <th>country</th>\n",
       "      <th>year</th>\n",
       "      <th>population</th>\n",
       "      <th>cont</th>\n",
       "      <th>life_exp</th>\n",
       "      <th>gdp_cap</th>\n",
       "    </tr>\n",
       "  </thead>\n",
       "  <tbody>\n",
       "    <tr>\n",
       "      <th>0</th>\n",
       "      <td>Afghanistan</td>\n",
       "      <td>2007</td>\n",
       "      <td>31889923.0</td>\n",
       "      <td>Asia</td>\n",
       "      <td>43.828</td>\n",
       "      <td>974.580338</td>\n",
       "    </tr>\n",
       "    <tr>\n",
       "      <th>1</th>\n",
       "      <td>Albania</td>\n",
       "      <td>2007</td>\n",
       "      <td>3600523.0</td>\n",
       "      <td>Europe</td>\n",
       "      <td>76.423</td>\n",
       "      <td>5937.029526</td>\n",
       "    </tr>\n",
       "    <tr>\n",
       "      <th>2</th>\n",
       "      <td>Algeria</td>\n",
       "      <td>2007</td>\n",
       "      <td>33333216.0</td>\n",
       "      <td>Africa</td>\n",
       "      <td>72.301</td>\n",
       "      <td>6223.367465</td>\n",
       "    </tr>\n",
       "    <tr>\n",
       "      <th>3</th>\n",
       "      <td>Angola</td>\n",
       "      <td>2007</td>\n",
       "      <td>12420476.0</td>\n",
       "      <td>Africa</td>\n",
       "      <td>42.731</td>\n",
       "      <td>4797.231267</td>\n",
       "    </tr>\n",
       "    <tr>\n",
       "      <th>4</th>\n",
       "      <td>Argentina</td>\n",
       "      <td>2007</td>\n",
       "      <td>40301927.0</td>\n",
       "      <td>Americas</td>\n",
       "      <td>75.320</td>\n",
       "      <td>12779.379640</td>\n",
       "    </tr>\n",
       "  </tbody>\n",
       "</table>\n",
       "</div>"
      ],
      "text/plain": [
       "       country  year  population      cont  life_exp       gdp_cap\n",
       "0  Afghanistan  2007  31889923.0      Asia    43.828    974.580338\n",
       "1      Albania  2007   3600523.0    Europe    76.423   5937.029526\n",
       "2      Algeria  2007  33333216.0    Africa    72.301   6223.367465\n",
       "3       Angola  2007  12420476.0    Africa    42.731   4797.231267\n",
       "4    Argentina  2007  40301927.0  Americas    75.320  12779.379640"
      ]
     },
     "execution_count": 6,
     "metadata": {},
     "output_type": "execute_result"
    }
   ],
   "source": [
    "import pandas as pd\n",
    "import numpy as np\n",
    "import matplotlib.pyplot as plt\n",
    "gapminder = pd.read_csv('gapminder.csv')\n",
    "gapminder.head()"
   ]
  },
  {
   "cell_type": "code",
   "execution_count": 7,
   "id": "05b9aad9-ce8a-4fcd-99d5-0ecd972de234",
   "metadata": {},
   "outputs": [
    {
     "data": {
      "text/plain": [
       "country        object\n",
       "year            int64\n",
       "population    float64\n",
       "cont           object\n",
       "life_exp      float64\n",
       "gdp_cap       float64\n",
       "dtype: object"
      ]
     },
     "execution_count": 7,
     "metadata": {},
     "output_type": "execute_result"
    }
   ],
   "source": [
    "gapminder.dtypes"
   ]
  },
  {
   "cell_type": "code",
   "execution_count": 8,
   "id": "6dbc9f26-84b5-47b3-bb4f-6836265417f8",
   "metadata": {},
   "outputs": [
    {
     "data": {
      "text/plain": [
       "[43.828, 76.423, 72.301, 42.731, 75.32, 81.235, 79.829, 75.635, 64.062, 79.441]"
      ]
     },
     "execution_count": 8,
     "metadata": {},
     "output_type": "execute_result"
    }
   ],
   "source": [
    "# life_exp as list\n",
    "life_exp = np.genfromtxt(\n",
    "    fname=\"gapminder.csv\", \n",
    "    delimiter=\",\", \n",
    "    usecols=4, \n",
    "    skip_header=1\n",
    ")\n",
    "\n",
    "life_exp = list(life_exp)\n",
    "life_exp[0:10]"
   ]
  },
  {
   "cell_type": "code",
   "execution_count": 9,
   "id": "0736210b-82a4-4c11-b7bf-fcd4e8f0b48e",
   "metadata": {},
   "outputs": [
    {
     "data": {
      "text/plain": [
       "[974.5803384, 5937.029526, 6223.367465, 4797.231267, 12779.37964]"
      ]
     },
     "execution_count": 9,
     "metadata": {},
     "output_type": "execute_result"
    }
   ],
   "source": [
    "# gdp_cap as list\n",
    "gdp_cap = np.genfromtxt(\n",
    "    fname=\"gapminder.csv\", \n",
    "    delimiter=\",\", \n",
    "    usecols=5, \n",
    "    skip_header=1\n",
    ")\n",
    "\n",
    "gdp_cap = list(gdp_cap)\n",
    "gdp_cap[0:5]"
   ]
  },
  {
   "cell_type": "code",
   "execution_count": 10,
   "id": "0ef1bb51-43ba-4bd4-95f0-5ead8386e5e0",
   "metadata": {},
   "outputs": [
    {
     "data": {
      "text/plain": [
       "[31889923.0, 3600523.0, 33333216.0, 12420476.0, 40301927.0]"
      ]
     },
     "execution_count": 10,
     "metadata": {},
     "output_type": "execute_result"
    }
   ],
   "source": [
    "# population as list\n",
    "pop = np.genfromtxt(\n",
    "    fname=\"gapminder.csv\", \n",
    "    delimiter=\",\", \n",
    "    usecols=2, \n",
    "    skip_header=1\n",
    ")\n",
    "\n",
    "pop = list(pop)\n",
    "pop[0:5]"
   ]
  },
  {
   "cell_type": "code",
   "execution_count": 11,
   "id": "5f7c7524-5b47-45e1-961a-b352f1676459",
   "metadata": {},
   "outputs": [
    {
     "data": {
      "text/plain": [
       "[2007.0, 2007.0, 2007.0, 2007.0, 2007.0]"
      ]
     },
     "execution_count": 11,
     "metadata": {},
     "output_type": "execute_result"
    }
   ],
   "source": [
    "# year as list\n",
    "year = np.genfromtxt(\n",
    "    fname=\"gapminder.csv\", \n",
    "    delimiter=\",\", \n",
    "    usecols=1, \n",
    "    skip_header=1\n",
    ")\n",
    "\n",
    "year = list(year)\n",
    "year[0:5]"
   ]
  },
  {
   "cell_type": "code",
   "execution_count": 12,
   "id": "cfa1503e-3938-4ed8-b01b-0d1397ee4c56",
   "metadata": {},
   "outputs": [
    {
     "data": {
      "text/plain": [
       "[2007, 2007, 2007, 2007, 2007]"
      ]
     },
     "execution_count": 12,
     "metadata": {},
     "output_type": "execute_result"
    }
   ],
   "source": [
    "import math\n",
    "\n",
    "year = [int(y) for y in year if not math.isnan(y)]\n",
    "\n",
    "year[0:5]"
   ]
  },
  {
   "cell_type": "markdown",
   "id": "f3f33e72-9f68-4cdf-90eb-75a78479b70a",
   "metadata": {},
   "source": [
    "### Line plot"
   ]
  },
  {
   "cell_type": "code",
   "execution_count": 14,
   "id": "bab24c6d-5a2c-44f1-a880-3c0d2ce5fda0",
   "metadata": {},
   "outputs": [
    {
     "name": "stdout",
     "output_type": "stream",
     "text": [
      "469.7092981\n",
      "43.487\n"
     ]
    },
    {
     "data": {
      "image/png": "[encoded data removed]",
      "text/plain": [
       "<Figure size 640x480 with 1 Axes>"
      ]
     },
     "metadata": {},
     "output_type": "display_data"
    }
   ],
   "source": [
    "# Print the last item of gdp_cap and life_exp\n",
    "print(gdp_cap[-1])\n",
    "print(life_exp[-1])\n",
    "\n",
    "\n",
    "# Make a line plot, gdp_cap on the x-axis, life_exp on the y-axis\n",
    "plt.plot(gdp_cap, life_exp)\n",
    "\n",
    "# Display the plot\n",
    "plt.show()"
   ]
  },
  {
   "cell_type": "markdown",
   "id": "d6e000c0-8f3a-45ae-9752-23ebe790ec95",
   "metadata": {},
   "source": [
    ">This doesn't look right. Let's build a plot that makes more sense."
   ]
  },
  {
   "cell_type": "markdown",
   "id": "3e45b2f4-9b5e-4eb6-a076-b756553160ec",
   "metadata": {},
   "source": [
    "### Scatter plot"
   ]
  },
  {
   "cell_type": "code",
   "execution_count": 17,
   "id": "0ba30648-84dc-425c-918a-8a3ee835b2f3",
   "metadata": {},
   "outputs": [
    {
     "data": {
      "image/png": "[encoded data removed]",
      "text/plain": [
       "<Figure size 640x480 with 1 Axes>"
      ]
     },
     "metadata": {},
     "output_type": "display_data"
    }
   ],
   "source": [
    "# Change the line plot below to a scatter plot\n",
    "plt.scatter(gdp_cap, life_exp)\n",
    "\n",
    "# Put the x-axis on a logarithmic scale\n",
    "plt.xscale('log')\n",
    "\n",
    "# Show plot\n",
    "plt.show()"
   ]
  },
  {
   "cell_type": "code",
   "execution_count": 18,
   "id": "ce851e1a-4667-4a00-a1cd-acdd48a74b7b",
   "metadata": {},
   "outputs": [
    {
     "data": {
      "image/png": "[encoded data removed]",
      "text/plain": [
       "<Figure size 640x480 with 1 Axes>"
      ]
     },
     "metadata": {},
     "output_type": "display_data"
    }
   ],
   "source": [
    "# Import package\n",
    "import matplotlib.pyplot as plt\n",
    "\n",
    "# Build Scatter plot\n",
    "plt.scatter(pop, life_exp)\n",
    "\n",
    "# Show plot\n",
    "plt.show()"
   ]
  },
  {
   "cell_type": "markdown",
   "id": "fa4a018a-fb8d-44e2-8edd-a9c786c872be",
   "metadata": {},
   "source": [
    ">There's no clear relationship between population and life expectancy, which makes perfect sense."
   ]
  },
  {
   "cell_type": "markdown",
   "id": "d3cc5964-43a6-456f-9f6d-d24e8de13a39",
   "metadata": {},
   "source": [
    "### Build a histogram (1)"
   ]
  },
  {
   "cell_type": "code",
   "execution_count": 21,
   "id": "81bd54f3-1a01-49ad-a2f0-383c00dac6da",
   "metadata": {},
   "outputs": [
    {
     "data": {
      "image/png": "[encoded data removed]",
      "text/plain": [
       "<Figure size 640x480 with 1 Axes>"
      ]
     },
     "metadata": {},
     "output_type": "display_data"
    }
   ],
   "source": [
    "# Create histogram of life_exp data\n",
    "plt.hist(life_exp)\n",
    "\n",
    "# Display histogram\n",
    "plt.show()"
   ]
  },
  {
   "cell_type": "markdown",
   "id": "7edd0ade-167b-43aa-a643-e6904f453d9f",
   "metadata": {},
   "source": [
    "### Build a histogram (2): bins"
   ]
  },
  {
   "cell_type": "code",
   "execution_count": 23,
   "id": "edc98d3a-15dd-429b-9149-19eeed9f5502",
   "metadata": {},
   "outputs": [
    {
     "data": {
      "image/png": "[encoded data removed]",
      "text/plain": [
       "<Figure size 640x480 with 1 Axes>"
      ]
     },
     "metadata": {},
     "output_type": "display_data"
    },
    {
     "data": {
      "image/png": "[encoded data removed]",
      "text/plain": [
       "<Figure size 640x480 with 1 Axes>"
      ]
     },
     "metadata": {},
     "output_type": "display_data"
    },
    {
     "data": {
      "text/plain": [
       "<Figure size 640x480 with 0 Axes>"
      ]
     },
     "metadata": {},
     "output_type": "display_data"
    }
   ],
   "source": [
    "# Build histogram with 5 bins\n",
    "plt.hist(life_exp, bins = 5)\n",
    "\n",
    "# Show and clean up plot\n",
    "plt.show()\n",
    "plt.clf()\n",
    "\n",
    "# Build histogram with 20 bins\n",
    "plt.hist(life_exp, bins = 20)\n",
    "\n",
    "# Show and clean up again\n",
    "plt.show()\n",
    "plt.clf()"
   ]
  },
  {
   "cell_type": "markdown",
   "id": "35945af7-e25c-42a8-a437-0e425755cf41",
   "metadata": {},
   "source": [
    "### Customization\n",
    "#### labels"
   ]
  },
  {
   "cell_type": "code",
   "execution_count": 25,
   "id": "38b1bcef-e08e-467d-bd68-c6f67363153c",
   "metadata": {},
   "outputs": [
    {
     "data": {
      "image/png": "[encoded data removed]",
      "text/plain": [
       "<Figure size 640x480 with 1 Axes>"
      ]
     },
     "metadata": {},
     "output_type": "display_data"
    }
   ],
   "source": [
    "# Basic scatter plot, log scale\n",
    "plt.scatter(gdp_cap, life_exp)\n",
    "plt.xscale('log') \n",
    "\n",
    "# Strings\n",
    "xlab = 'GDP per Capita [in USD]'\n",
    "ylab = 'Life Expectancy [in years]'\n",
    "title = 'World Development in 2007'\n",
    "\n",
    "# Add axis labels\n",
    "plt.xlabel(xlab)\n",
    "plt.ylabel(ylab)\n",
    "\n",
    "\n",
    "# Add title\n",
    "plt.title(title)\n",
    "\n",
    "# After customizing, display the plot\n",
    "plt.show()"
   ]
  },
  {
   "cell_type": "markdown",
   "id": "afd5deaa-ac96-444e-8167-19e1804070f4",
   "metadata": {},
   "source": [
    "#### Ticks"
   ]
  },
  {
   "cell_type": "code",
   "execution_count": 27,
   "id": "890b4ff2-8024-4e88-a032-e30307d37d84",
   "metadata": {},
   "outputs": [
    {
     "data": {
      "image/png": "[encoded data removed]",
      "text/plain": [
       "<Figure size 640x480 with 1 Axes>"
      ]
     },
     "metadata": {},
     "output_type": "display_data"
    }
   ],
   "source": [
    "# Scatter plot\n",
    "plt.scatter(gdp_cap, life_exp)\n",
    "\n",
    "# Previous customizations\n",
    "plt.xscale('log') \n",
    "plt.xlabel('GDP per Capita [in USD]')\n",
    "plt.ylabel('Life Expectancy [in years]')\n",
    "plt.title('World Development in 2007')\n",
    "\n",
    "# Definition of tick_val and tick_lab\n",
    "tick_val = [1000, 10000, 100000]\n",
    "tick_lab = ['1k', '10k', '100k']\n",
    "\n",
    "# Adapt the ticks on the x-axis\n",
    "plt.xticks(tick_val, tick_lab)\n",
    "\n",
    "# After customizing, display the plot\n",
    "plt.show()"
   ]
  },
  {
   "cell_type": "markdown",
   "id": "0117f15d-a46c-49dc-8f21-5fb47ce8aab9",
   "metadata": {},
   "source": [
    "#### Sizes"
   ]
  },
  {
   "cell_type": "code",
   "execution_count": 29,
   "id": "5a7d381f-dda6-465f-b1aa-9daf10ab94dc",
   "metadata": {},
   "outputs": [
    {
     "data": {
      "image/png": "[encoded data removed]",
      "text/plain": [
       "<Figure size 640x480 with 1 Axes>"
      ]
     },
     "metadata": {},
     "output_type": "display_data"
    }
   ],
   "source": [
    "# Import numpy as np\n",
    "import numpy as np\n",
    "\n",
    "# Store pop as a numpy array: np_pop\n",
    "np_pop = np.array(pop)\n",
    "\n",
    "# Double np_pop\n",
    "np_pop = np_pop / 1000000\n",
    "\n",
    "# Update: set s argument to np_pop\n",
    "plt.scatter(gdp_cap, life_exp, s=np_pop)\n",
    "\n",
    "# Previous customizations\n",
    "plt.xscale('log') \n",
    "plt.xlabel('GDP per Capita [in USD]')\n",
    "plt.ylabel('Life Expectancy [in years]')\n",
    "plt.title('World Development in 2007')\n",
    "plt.xticks([1000, 10000, 100000],['1k', '10k', '100k'])\n",
    "\n",
    "# Display the plot\n",
    "plt.show()"
   ]
  },
  {
   "cell_type": "code",
   "execution_count": 30,
   "id": "c8b5fcaa-03ee-4c4b-91bf-a32d9f68d7fb",
   "metadata": {},
   "outputs": [
    {
     "data": {
      "text/html": [
       "<div>\n",
       "<style scoped>\n",
       "    .dataframe tbody tr th:only-of-type {\n",
       "        vertical-align: middle;\n",
       "    }\n",
       "\n",
       "    .dataframe tbody tr th {\n",
       "        vertical-align: top;\n",
       "    }\n",
       "\n",
       "    .dataframe thead th {\n",
       "        text-align: right;\n",
       "    }\n",
       "</style>\n",
       "<table border=\"1\" class=\"dataframe\">\n",
       "  <thead>\n",
       "    <tr style=\"text-align: right;\">\n",
       "      <th></th>\n",
       "      <th>country</th>\n",
       "      <th>year</th>\n",
       "      <th>population</th>\n",
       "      <th>cont</th>\n",
       "      <th>life_exp</th>\n",
       "      <th>gdp_cap</th>\n",
       "    </tr>\n",
       "  </thead>\n",
       "  <tbody>\n",
       "    <tr>\n",
       "      <th>0</th>\n",
       "      <td>Afghanistan</td>\n",
       "      <td>2007</td>\n",
       "      <td>31889923.0</td>\n",
       "      <td>Asia</td>\n",
       "      <td>43.828</td>\n",
       "      <td>974.580338</td>\n",
       "    </tr>\n",
       "    <tr>\n",
       "      <th>1</th>\n",
       "      <td>Albania</td>\n",
       "      <td>2007</td>\n",
       "      <td>3600523.0</td>\n",
       "      <td>Europe</td>\n",
       "      <td>76.423</td>\n",
       "      <td>5937.029526</td>\n",
       "    </tr>\n",
       "    <tr>\n",
       "      <th>2</th>\n",
       "      <td>Algeria</td>\n",
       "      <td>2007</td>\n",
       "      <td>33333216.0</td>\n",
       "      <td>Africa</td>\n",
       "      <td>72.301</td>\n",
       "      <td>6223.367465</td>\n",
       "    </tr>\n",
       "    <tr>\n",
       "      <th>3</th>\n",
       "      <td>Angola</td>\n",
       "      <td>2007</td>\n",
       "      <td>12420476.0</td>\n",
       "      <td>Africa</td>\n",
       "      <td>42.731</td>\n",
       "      <td>4797.231267</td>\n",
       "    </tr>\n",
       "    <tr>\n",
       "      <th>4</th>\n",
       "      <td>Argentina</td>\n",
       "      <td>2007</td>\n",
       "      <td>40301927.0</td>\n",
       "      <td>Americas</td>\n",
       "      <td>75.320</td>\n",
       "      <td>12779.379640</td>\n",
       "    </tr>\n",
       "  </tbody>\n",
       "</table>\n",
       "</div>"
      ],
      "text/plain": [
       "       country  year  population      cont  life_exp       gdp_cap\n",
       "0  Afghanistan  2007  31889923.0      Asia    43.828    974.580338\n",
       "1      Albania  2007   3600523.0    Europe    76.423   5937.029526\n",
       "2      Algeria  2007  33333216.0    Africa    72.301   6223.367465\n",
       "3       Angola  2007  12420476.0    Africa    42.731   4797.231267\n",
       "4    Argentina  2007  40301927.0  Americas    75.320  12779.379640"
      ]
     },
     "execution_count": 30,
     "metadata": {},
     "output_type": "execute_result"
    }
   ],
   "source": [
    "gapminder.head()"
   ]
  },
  {
   "cell_type": "code",
   "execution_count": 31,
   "id": "03156611-1dd0-4bce-8c63-1c3abda1d892",
   "metadata": {},
   "outputs": [
    {
     "data": {
      "text/plain": [
       "array(['Asia', 'Europe', 'Africa', 'Americas', 'Oceania'], dtype=object)"
      ]
     },
     "execution_count": 31,
     "metadata": {},
     "output_type": "execute_result"
    }
   ],
   "source": [
    "gapminder['cont'].unique()"
   ]
  },
  {
   "cell_type": "code",
   "execution_count": 32,
   "id": "7b40b1b3-816f-41b8-938b-b3962263fb6d",
   "metadata": {},
   "outputs": [
    {
     "name": "stdout",
     "output_type": "stream",
     "text": [
      "['Asia' 'Europe' 'Africa' 'Africa' 'Americas']\n"
     ]
    }
   ],
   "source": [
    "# # Extract the data\n",
    "cont = gapminder['cont']\n",
    "\n",
    "# Create numpy arrays\n",
    "np_cont = cont.values\n",
    "\n",
    "print(np_cont[0:5])"
   ]
  },
  {
   "cell_type": "code",
   "execution_count": 33,
   "id": "0d81e620-73a3-4beb-9c21-2a3dedf25420",
   "metadata": {},
   "outputs": [],
   "source": [
    "# Color mapping\n",
    "col_dict = {\n",
    "    'Asia':'red',\n",
    "    'Europe':'green',\n",
    "    'Africa':'blue',\n",
    "    'Americas':'yellow',\n",
    "    'Oceania':'black'\n",
    "}"
   ]
  },
  {
   "cell_type": "code",
   "execution_count": 64,
   "id": "94a00aef-ccc2-4772-90fa-eb0c93b21141",
   "metadata": {},
   "outputs": [
    {
     "data": {
      "text/plain": [
       "['red', 'green', 'blue', 'blue', 'yellow']"
      ]
     },
     "execution_count": 64,
     "metadata": {},
     "output_type": "execute_result"
    }
   ],
   "source": [
    "# Create a color list based on continent\n",
    "\n",
    "# Initialize an empty list to store the colors\n",
    "col = []\n",
    "\n",
    "# Iterate through each continent in the np_cont array\n",
    "for continent in np_cont:\n",
    "    # Look up the corresponding color from the col_dict dictionary\n",
    "    color = col_dict[continent]\n",
    "\n",
    "    # Append the color to the col list\n",
    "    col.append(color)\n",
    "\n",
    "col[0:5]"
   ]
  },
  {
   "cell_type": "code",
   "execution_count": 35,
   "id": "f63fe841-597b-41ba-b3fd-6b6953082355",
   "metadata": {},
   "outputs": [
    {
     "data": {
      "image/png": "[encoded data removed]",
      "text/plain": [
       "<Figure size 640x480 with 1 Axes>"
      ]
     },
     "metadata": {},
     "output_type": "display_data"
    }
   ],
   "source": [
    "# Import numpy as np\n",
    "import numpy as np\n",
    "\n",
    "# Store pop as a numpy array: np_pop\n",
    "np_pop = np.array(pop)\n",
    "\n",
    "# Double np_pop\n",
    "np_pop = np_pop / 1000000\n",
    "\n",
    "# Update: set s argument to np_pop\n",
    "plt.scatter(gdp_cap, life_exp, s=np_pop, c=col, alpha = 0.8)\n",
    "\n",
    "# Previous customizations\n",
    "plt.xscale('log') \n",
    "plt.xlabel('GDP per Capita [in USD]')\n",
    "plt.ylabel('Life Expectancy [in years]')\n",
    "plt.title('World Development in 2007')\n",
    "plt.xticks([1000, 10000, 100000],['1k', '10k', '100k'])\n",
    "\n",
    "# Display the plot\n",
    "plt.show()"
   ]
  },
  {
   "cell_type": "markdown",
   "id": "45ca0373-e580-46ef-a8c8-1f700008b815",
   "metadata": {},
   "source": [
    "#### Additional Customizations"
   ]
  },
  {
   "cell_type": "code",
   "execution_count": 37,
   "id": "8c02a2f5-27d3-470b-8de9-087e1cdaa4ff",
   "metadata": {},
   "outputs": [
    {
     "data": {
      "image/png": "[encoded data removed]",
      "text/plain": [
       "<Figure size 640x480 with 1 Axes>"
      ]
     },
     "metadata": {},
     "output_type": "display_data"
    }
   ],
   "source": [
    "# Import numpy as np\n",
    "import numpy as np\n",
    "\n",
    "# Store pop as a numpy array: np_pop\n",
    "np_pop = np.array(pop)\n",
    "\n",
    "# Double np_pop\n",
    "np_pop = np_pop / 1000000\n",
    "\n",
    "# Update: set s argument to np_pop\n",
    "plt.scatter(gdp_cap, life_exp, s=np_pop, c=col, alpha = 0.8)\n",
    "\n",
    "# Previous customizations\n",
    "plt.xscale('log') \n",
    "plt.xlabel('GDP per Capita [in USD]')\n",
    "plt.ylabel('Life Expectancy [in years]')\n",
    "plt.title('World Development in 2007')\n",
    "plt.xticks([1000, 10000, 100000],['1k', '10k', '100k'])\n",
    "\n",
    "# Additional customizations\n",
    "plt.text(1550, 71, 'India')\n",
    "plt.text(5700, 80, 'China')\n",
    "\n",
    "# Add grid() call\n",
    "plt.grid(True)\n",
    "\n",
    "# Display the plot\n",
    "plt.show()"
   ]
  },
  {
   "cell_type": "markdown",
   "id": "4cabffea-cb1b-4802-9bb9-65989af2f51e",
   "metadata": {},
   "source": [
    ">If you have a look at your colorful plot, it's clear that people live longer in countries with a higher GDP per capita. No high income countries have really short life expectancy, and no low income countries have very long life expectancy. Still, there is a huge difference in life expectancy between countries on the same income level. Most people live in middle income countries where difference in lifespan is huge between countries; depending on how income is distributed and how it is used.\n",
    "\n",
    ">The countries in blue, corresponding to Africa, have both low life expectancy and a low GDP per capita."
   ]
  },
  {
   "cell_type": "markdown",
   "id": "432242b5-e12a-4254-b88f-fea7a381e03d",
   "metadata": {},
   "source": [
    "## Dictionaries & Pandas"
   ]
  },
  {
   "cell_type": "markdown",
   "id": "f0392a7f-b9c9-46ca-820e-f365e5bbac5e",
   "metadata": {},
   "source": [
    "### Motivation for dictionaries"
   ]
  },
  {
   "cell_type": "code",
   "execution_count": 70,
   "id": "5fc03cae-26d3-43d4-a577-11b7456e9ba6",
   "metadata": {},
   "outputs": [
    {
     "name": "stdout",
     "output_type": "stream",
     "text": [
      "berlin\n"
     ]
    }
   ],
   "source": [
    "# Definition of countries and capital\n",
    "countries = ['spain', 'france', 'germany', 'norway']\n",
    "capitals = ['madrid', 'paris', 'berlin', 'oslo']\n",
    "\n",
    "# Get index of 'germany': ind_ger\n",
    "ind_ger = countries.index('germany')\n",
    "\n",
    "# Use ind_ger to print out capital of Germany\n",
    "print(capitals[ind_ger])"
   ]
  },
  {
   "cell_type": "markdown",
   "id": "635f410a-78af-4bbb-825b-c851b86424a3",
   "metadata": {},
   "source": [
    "### Create dictionary"
   ]
  },
  {
   "cell_type": "code",
   "execution_count": 75,
   "id": "94935c85-53bc-4c34-b7d5-03ed27a3bc56",
   "metadata": {},
   "outputs": [
    {
     "name": "stdout",
     "output_type": "stream",
     "text": [
      "{'spain': 'madrid', 'france': 'paris', 'germany': 'berlin', 'norway': 'oslo'}\n"
     ]
    }
   ],
   "source": [
    "# Definition of countries and capital\n",
    "countries = ['spain', 'france', 'germany', 'norway']\n",
    "capitals = ['madrid', 'paris', 'berlin', 'oslo']\n",
    "\n",
    "# From string in countries and capitals, create dictionary europe\n",
    "europe = {'spain':'madrid', 'france':'paris', 'germany':'berlin', 'norway':'oslo'}\n",
    "\n",
    "# Print europe\n",
    "print(europe)"
   ]
  },
  {
   "cell_type": "markdown",
   "id": "b2fbf1f7-afa6-47e5-8836-61161078a6cf",
   "metadata": {},
   "source": [
    "### Access dictionary"
   ]
  },
  {
   "cell_type": "code",
   "execution_count": 78,
   "id": "785fccbd-f14b-4422-8eba-d56a40a5f7f6",
   "metadata": {},
   "outputs": [
    {
     "name": "stdout",
     "output_type": "stream",
     "text": [
      "dict_keys(['spain', 'france', 'germany', 'norway'])\n",
      "oslo\n"
     ]
    }
   ],
   "source": [
    "# Definition of dictionary\n",
    "europe = {'spain':'madrid', 'france':'paris', 'germany':'berlin', 'norway':'oslo' }\n",
    "\n",
    "# Print out the keys in europe\n",
    "print(europe.keys())\n",
    "\n",
    "# Print out value that belongs to key 'norway'\n",
    "print(europe['norway'])"
   ]
  },
  {
   "cell_type": "markdown",
   "id": "f7b331dc-4711-4d6d-9f4b-e61d6410d378",
   "metadata": {},
   "source": [
    "### Dictionary Manipulation (1)"
   ]
  },
  {
   "cell_type": "code",
   "execution_count": 83,
   "id": "a66f6f26-3be6-47c4-a84d-f7bad6aa32a1",
   "metadata": {},
   "outputs": [
    {
     "name": "stdout",
     "output_type": "stream",
     "text": [
      "True\n",
      "{'spain': 'madrid', 'france': 'paris', 'germany': 'berlin', 'norway': 'oslo', 'italy': 'rome', 'poland': 'warsaw'}\n"
     ]
    }
   ],
   "source": [
    "# Definition of dictionary\n",
    "europe = {'spain':'madrid', 'france':'paris', 'germany':'berlin', 'norway':'oslo' }\n",
    "\n",
    "# Add italy to europe\n",
    "europe['italy'] = 'rome'\n",
    "\n",
    "# Print out italy in europe\n",
    "print('italy' in europe)\n",
    "\n",
    "# Add poland to europe\n",
    "europe['poland'] = 'warsaw'\n",
    "\n",
    "# Print europe\n",
    "print(europe)"
   ]
  },
  {
   "cell_type": "markdown",
   "id": "9e69abd3-0b9f-46db-989c-0ef9be2d5a19",
   "metadata": {},
   "source": [
    "### Dictionary Manipulation (2)"
   ]
  },
  {
   "cell_type": "code",
   "execution_count": 86,
   "id": "ba50d636-55c0-4410-90d9-9c7d17c546d0",
   "metadata": {},
   "outputs": [
    {
     "name": "stdout",
     "output_type": "stream",
     "text": [
      "{'spain': 'madrid', 'france': 'paris', 'germany': 'berlin', 'norway': 'oslo', 'italy': 'rome', 'poland': 'warsaw'}\n"
     ]
    }
   ],
   "source": [
    "# Definition of dictionary\n",
    "europe = {'spain':'madrid', 'france':'paris', 'germany':'bonn',\n",
    "          'norway':'oslo', 'italy':'rome', 'poland':'warsaw',\n",
    "          'australia':'vienna' }\n",
    "\n",
    "# Update capital of germany\n",
    "europe['germany'] = 'berlin'\n",
    "\n",
    "# Remove australia\n",
    "del(europe['australia'])\n",
    "\n",
    "# Print europe\n",
    "print(europe)"
   ]
  },
  {
   "cell_type": "markdown",
   "id": "05af62b4-12c3-4c49-b5d7-043a29b8bdcb",
   "metadata": {},
   "source": [
    "### Dictionariception"
   ]
  },
  {
   "cell_type": "code",
   "execution_count": 89,
   "id": "47e90d86-9d0b-4259-a7b5-458ef0346bcd",
   "metadata": {},
   "outputs": [
    {
     "name": "stdout",
     "output_type": "stream",
     "text": [
      "paris\n",
      "{'spain': {'capital': 'madrid', 'population': 46.77}, 'france': {'capital': 'paris', 'population': 66.03}, 'germany': {'capital': 'berlin', 'population': 80.62}, 'norway': {'capital': 'oslo', 'population': 5.084}, 'italy': {'capital': 'rome', 'population': 59.83}}\n"
     ]
    }
   ],
   "source": [
    "# Dictionary of dictionaries\n",
    "europe = { 'spain': { 'capital':'madrid', 'population':46.77 },\n",
    "           'france': { 'capital':'paris', 'population':66.03 },\n",
    "           'germany': { 'capital':'berlin', 'population':80.62 },\n",
    "           'norway': { 'capital':'oslo', 'population':5.084 } }\n",
    "\n",
    "\n",
    "# Print out the capital of France\n",
    "print(europe['france']['capital'])\n",
    "\n",
    "# Create sub-dictionary data\n",
    "data = {'capital':'rome',\n",
    "        'population':59.83}\n",
    "\n",
    "# Add data to europe under key 'italy'\n",
    "europe['italy'] = data\n",
    "\n",
    "# Print europe\n",
    "print(europe)"
   ]
  },
  {
   "cell_type": "markdown",
   "id": "f214d42a-21ab-4f23-9a04-06ac41f47080",
   "metadata": {},
   "source": [
    "### Dictionary to DataFrame (1)"
   ]
  },
  {
   "cell_type": "code",
   "execution_count": 92,
   "id": "57df88c6-41b9-4008-8d48-656c0599b451",
   "metadata": {},
   "outputs": [
    {
     "name": "stdout",
     "output_type": "stream",
     "text": [
      "         country  drives_right  cars_per_cap\n",
      "0  United States          True           809\n",
      "1      Australia         False           731\n",
      "2          Japan         False           588\n",
      "3          India         False            18\n",
      "4         Russia          True           200\n",
      "5        Morocco          True            70\n",
      "6          Egypt          True            45\n"
     ]
    }
   ],
   "source": [
    "# Pre-defined lists\n",
    "names = ['United States', 'Australia', 'Japan', 'India', 'Russia', 'Morocco', 'Egypt']\n",
    "dr =  [True, False, False, False, True, True, True]\n",
    "cpc = [809, 731, 588, 18, 200, 70, 45]\n",
    "\n",
    "# Import pandas as pd\n",
    "import pandas as pd\n",
    "\n",
    "# Create dictionary my_dict with three key:value pairs: my_dict\n",
    "my_dict = {'country': names,\n",
    "           'drives_right': dr,\n",
    "           'cars_per_cap': cpc}\n",
    "\n",
    "# Build a DataFrame cars from my_dict: cars\n",
    "cars = pd.DataFrame(my_dict)\n",
    "\n",
    "# Print cars\n",
    "print(cars)"
   ]
  },
  {
   "cell_type": "markdown",
   "id": "ef48a4f1-2ece-44de-908e-58421e0babec",
   "metadata": {},
   "source": [
    "### Dictionary to DataFrame (2)"
   ]
  },
  {
   "cell_type": "code",
   "execution_count": 101,
   "id": "1dbe90e6-0551-49fd-9197-74aaaf901222",
   "metadata": {},
   "outputs": [
    {
     "name": "stdout",
     "output_type": "stream",
     "text": [
      "         country  drives_right  cars_per_cap\n",
      "0  United States          True           809\n",
      "1      Australia         False           731\n",
      "2          Japan         False           588\n",
      "3          India         False            18\n",
      "4         Russia          True           200\n",
      "5        Morocco          True            70\n",
      "6          Egypt          True            45\n"
     ]
    },
    {
     "data": {
      "text/html": [
       "<div>\n",
       "<style scoped>\n",
       "    .dataframe tbody tr th:only-of-type {\n",
       "        vertical-align: middle;\n",
       "    }\n",
       "\n",
       "    .dataframe tbody tr th {\n",
       "        vertical-align: top;\n",
       "    }\n",
       "\n",
       "    .dataframe thead th {\n",
       "        text-align: right;\n",
       "    }\n",
       "</style>\n",
       "<table border=\"1\" class=\"dataframe\">\n",
       "  <thead>\n",
       "    <tr style=\"text-align: right;\">\n",
       "      <th></th>\n",
       "      <th>country</th>\n",
       "      <th>drives_right</th>\n",
       "      <th>cars_per_cap</th>\n",
       "    </tr>\n",
       "  </thead>\n",
       "  <tbody>\n",
       "    <tr>\n",
       "      <th>US</th>\n",
       "      <td>United States</td>\n",
       "      <td>True</td>\n",
       "      <td>809</td>\n",
       "    </tr>\n",
       "    <tr>\n",
       "      <th>AUS</th>\n",
       "      <td>Australia</td>\n",
       "      <td>False</td>\n",
       "      <td>731</td>\n",
       "    </tr>\n",
       "    <tr>\n",
       "      <th>JPN</th>\n",
       "      <td>Japan</td>\n",
       "      <td>False</td>\n",
       "      <td>588</td>\n",
       "    </tr>\n",
       "    <tr>\n",
       "      <th>IN</th>\n",
       "      <td>India</td>\n",
       "      <td>False</td>\n",
       "      <td>18</td>\n",
       "    </tr>\n",
       "    <tr>\n",
       "      <th>RU</th>\n",
       "      <td>Russia</td>\n",
       "      <td>True</td>\n",
       "      <td>200</td>\n",
       "    </tr>\n",
       "    <tr>\n",
       "      <th>MOR</th>\n",
       "      <td>Morocco</td>\n",
       "      <td>True</td>\n",
       "      <td>70</td>\n",
       "    </tr>\n",
       "    <tr>\n",
       "      <th>EG</th>\n",
       "      <td>Egypt</td>\n",
       "      <td>True</td>\n",
       "      <td>45</td>\n",
       "    </tr>\n",
       "  </tbody>\n",
       "</table>\n",
       "</div>"
      ],
      "text/plain": [
       "           country  drives_right  cars_per_cap\n",
       "US   United States          True           809\n",
       "AUS      Australia         False           731\n",
       "JPN          Japan         False           588\n",
       "IN           India         False            18\n",
       "RU          Russia          True           200\n",
       "MOR        Morocco          True            70\n",
       "EG           Egypt          True            45"
      ]
     },
     "execution_count": 101,
     "metadata": {},
     "output_type": "execute_result"
    }
   ],
   "source": [
    "import pandas as pd\n",
    "\n",
    "# Build cars DataFrame\n",
    "names = ['United States', 'Australia', 'Japan', 'India', 'Russia', 'Morocco', 'Egypt']\n",
    "dr =  [True, False, False, False, True, True, True]\n",
    "cpc = [809, 731, 588, 18, 200, 70, 45]\n",
    "cars_dict = { 'country':names, 'drives_right':dr, 'cars_per_cap':cpc }\n",
    "cars = pd.DataFrame(cars_dict)\n",
    "print(cars)\n",
    "\n",
    "# Definition of row_labels\n",
    "row_labels = ['US', 'AUS', 'JPN', 'IN', 'RU', 'MOR', 'EG']\n",
    "\n",
    "# Specify row labels of cars\n",
    "cars.index = row_labels\n",
    "\n",
    "# Print cars again\n",
    "cars"
   ]
  },
  {
   "cell_type": "markdown",
   "id": "352d0efa-7756-43ea-8bca-5d311f47ff76",
   "metadata": {},
   "source": [
    "### CSV to DataFrame (1)"
   ]
  },
  {
   "cell_type": "code",
   "execution_count": 106,
   "id": "5a17da08-d883-4ce2-9f58-69996bb12a7d",
   "metadata": {},
   "outputs": [
    {
     "data": {
      "text/html": [
       "<div>\n",
       "<style scoped>\n",
       "    .dataframe tbody tr th:only-of-type {\n",
       "        vertical-align: middle;\n",
       "    }\n",
       "\n",
       "    .dataframe tbody tr th {\n",
       "        vertical-align: top;\n",
       "    }\n",
       "\n",
       "    .dataframe thead th {\n",
       "        text-align: right;\n",
       "    }\n",
       "</style>\n",
       "<table border=\"1\" class=\"dataframe\">\n",
       "  <thead>\n",
       "    <tr style=\"text-align: right;\">\n",
       "      <th></th>\n",
       "      <th>Unnamed: 0</th>\n",
       "      <th>cars_per_cap</th>\n",
       "      <th>country</th>\n",
       "      <th>drives_right</th>\n",
       "    </tr>\n",
       "  </thead>\n",
       "  <tbody>\n",
       "    <tr>\n",
       "      <th>0</th>\n",
       "      <td>US</td>\n",
       "      <td>809</td>\n",
       "      <td>United States</td>\n",
       "      <td>True</td>\n",
       "    </tr>\n",
       "    <tr>\n",
       "      <th>1</th>\n",
       "      <td>AUS</td>\n",
       "      <td>731</td>\n",
       "      <td>Australia</td>\n",
       "      <td>False</td>\n",
       "    </tr>\n",
       "    <tr>\n",
       "      <th>2</th>\n",
       "      <td>JPN</td>\n",
       "      <td>588</td>\n",
       "      <td>Japan</td>\n",
       "      <td>False</td>\n",
       "    </tr>\n",
       "    <tr>\n",
       "      <th>3</th>\n",
       "      <td>IN</td>\n",
       "      <td>18</td>\n",
       "      <td>India</td>\n",
       "      <td>False</td>\n",
       "    </tr>\n",
       "    <tr>\n",
       "      <th>4</th>\n",
       "      <td>RU</td>\n",
       "      <td>200</td>\n",
       "      <td>Russia</td>\n",
       "      <td>True</td>\n",
       "    </tr>\n",
       "    <tr>\n",
       "      <th>5</th>\n",
       "      <td>MOR</td>\n",
       "      <td>70</td>\n",
       "      <td>Morocco</td>\n",
       "      <td>True</td>\n",
       "    </tr>\n",
       "    <tr>\n",
       "      <th>6</th>\n",
       "      <td>EG</td>\n",
       "      <td>45</td>\n",
       "      <td>Egypt</td>\n",
       "      <td>True</td>\n",
       "    </tr>\n",
       "  </tbody>\n",
       "</table>\n",
       "</div>"
      ],
      "text/plain": [
       "  Unnamed: 0  cars_per_cap        country  drives_right\n",
       "0         US           809  United States          True\n",
       "1        AUS           731      Australia         False\n",
       "2        JPN           588          Japan         False\n",
       "3         IN            18          India         False\n",
       "4         RU           200         Russia          True\n",
       "5        MOR            70        Morocco          True\n",
       "6         EG            45          Egypt          True"
      ]
     },
     "execution_count": 106,
     "metadata": {},
     "output_type": "execute_result"
    }
   ],
   "source": [
    "# Import pandas as pd\n",
    "import pandas as pd\n",
    "\n",
    "# Import the cars.csv data: cars\n",
    "cars = pd.read_csv('cars.csv')\n",
    "\n",
    "# Print out cars\n",
    "cars"
   ]
  },
  {
   "cell_type": "markdown",
   "id": "9cc9c20b-a981-4443-a3e2-d798d7c6d7c2",
   "metadata": {},
   "source": [
    "### CSV to DataFrame (2)"
   ]
  },
  {
   "cell_type": "code",
   "execution_count": 111,
   "id": "2b89fa1a-1559-4b8e-a008-483df36c39fb",
   "metadata": {},
   "outputs": [
    {
     "data": {
      "text/html": [
       "<div>\n",
       "<style scoped>\n",
       "    .dataframe tbody tr th:only-of-type {\n",
       "        vertical-align: middle;\n",
       "    }\n",
       "\n",
       "    .dataframe tbody tr th {\n",
       "        vertical-align: top;\n",
       "    }\n",
       "\n",
       "    .dataframe thead th {\n",
       "        text-align: right;\n",
       "    }\n",
       "</style>\n",
       "<table border=\"1\" class=\"dataframe\">\n",
       "  <thead>\n",
       "    <tr style=\"text-align: right;\">\n",
       "      <th></th>\n",
       "      <th>cars_per_cap</th>\n",
       "      <th>country</th>\n",
       "      <th>drives_right</th>\n",
       "    </tr>\n",
       "    <tr>\n",
       "      <th>Unnamed: 0</th>\n",
       "      <th></th>\n",
       "      <th></th>\n",
       "      <th></th>\n",
       "    </tr>\n",
       "  </thead>\n",
       "  <tbody>\n",
       "    <tr>\n",
       "      <th>US</th>\n",
       "      <td>809</td>\n",
       "      <td>United States</td>\n",
       "      <td>True</td>\n",
       "    </tr>\n",
       "    <tr>\n",
       "      <th>AUS</th>\n",
       "      <td>731</td>\n",
       "      <td>Australia</td>\n",
       "      <td>False</td>\n",
       "    </tr>\n",
       "    <tr>\n",
       "      <th>JPN</th>\n",
       "      <td>588</td>\n",
       "      <td>Japan</td>\n",
       "      <td>False</td>\n",
       "    </tr>\n",
       "    <tr>\n",
       "      <th>IN</th>\n",
       "      <td>18</td>\n",
       "      <td>India</td>\n",
       "      <td>False</td>\n",
       "    </tr>\n",
       "    <tr>\n",
       "      <th>RU</th>\n",
       "      <td>200</td>\n",
       "      <td>Russia</td>\n",
       "      <td>True</td>\n",
       "    </tr>\n",
       "    <tr>\n",
       "      <th>MOR</th>\n",
       "      <td>70</td>\n",
       "      <td>Morocco</td>\n",
       "      <td>True</td>\n",
       "    </tr>\n",
       "    <tr>\n",
       "      <th>EG</th>\n",
       "      <td>45</td>\n",
       "      <td>Egypt</td>\n",
       "      <td>True</td>\n",
       "    </tr>\n",
       "  </tbody>\n",
       "</table>\n",
       "</div>"
      ],
      "text/plain": [
       "            cars_per_cap        country  drives_right\n",
       "Unnamed: 0                                           \n",
       "US                   809  United States          True\n",
       "AUS                  731      Australia         False\n",
       "JPN                  588          Japan         False\n",
       "IN                    18          India         False\n",
       "RU                   200         Russia          True\n",
       "MOR                   70        Morocco          True\n",
       "EG                    45          Egypt          True"
      ]
     },
     "execution_count": 111,
     "metadata": {},
     "output_type": "execute_result"
    }
   ],
   "source": [
    "# Import pandas as pd\n",
    "import pandas as pd\n",
    "\n",
    "# Fix import by including index_col\n",
    "cars = pd.read_csv('cars.csv', index_col = 0)\n",
    "\n",
    "# Print out cars\n",
    "cars"
   ]
  },
  {
   "cell_type": "markdown",
   "id": "bf0e4510-e3a6-44ce-941c-5bbb5b9846cf",
   "metadata": {},
   "source": [
    "### Square Brackets (1)"
   ]
  },
  {
   "cell_type": "code",
   "execution_count": 114,
   "id": "8f493233-3745-45c4-98b3-fe84b1251f12",
   "metadata": {},
   "outputs": [
    {
     "name": "stdout",
     "output_type": "stream",
     "text": [
      "Unnamed: 0\n",
      "US     United States\n",
      "AUS        Australia\n",
      "JPN            Japan\n",
      "IN             India\n",
      "RU            Russia\n",
      "MOR          Morocco\n",
      "EG             Egypt\n",
      "Name: country, dtype: object\n",
      "                  country\n",
      "Unnamed: 0               \n",
      "US          United States\n",
      "AUS             Australia\n",
      "JPN                 Japan\n",
      "IN                  India\n",
      "RU                 Russia\n",
      "MOR               Morocco\n",
      "EG                  Egypt\n",
      "                  country  drives_right\n",
      "Unnamed: 0                             \n",
      "US          United States          True\n",
      "AUS             Australia         False\n",
      "JPN                 Japan         False\n",
      "IN                  India         False\n",
      "RU                 Russia          True\n",
      "MOR               Morocco          True\n",
      "EG                  Egypt          True\n"
     ]
    }
   ],
   "source": [
    "# Import cars data\n",
    "import pandas as pd\n",
    "cars = pd.read_csv('cars.csv', index_col = 0)\n",
    "\n",
    "# Print out country column as Pandas Series\n",
    "print(cars['country'])\n",
    "\n",
    "# Print out country column as Pandas DataFrame\n",
    "print(cars[['country']])\n",
    "\n",
    "# Print out DataFrame with country and drives_right columns\n",
    "print(cars[['country', 'drives_right']])"
   ]
  },
  {
   "cell_type": "markdown",
   "id": "2704ecc7-62b7-4f7e-8363-bc9a136048b8",
   "metadata": {},
   "source": [
    "### Square Brackets (2)"
   ]
  },
  {
   "cell_type": "code",
   "execution_count": 117,
   "id": "1f7ea572-97bc-4959-a8ae-fc72157f774f",
   "metadata": {},
   "outputs": [
    {
     "name": "stdout",
     "output_type": "stream",
     "text": [
      "            cars_per_cap        country  drives_right\n",
      "Unnamed: 0                                           \n",
      "US                   809  United States          True\n",
      "AUS                  731      Australia         False\n",
      "JPN                  588          Japan         False\n",
      "            cars_per_cap  country  drives_right\n",
      "Unnamed: 0                                     \n",
      "IN                    18    India         False\n",
      "RU                   200   Russia          True\n",
      "MOR                   70  Morocco          True\n"
     ]
    }
   ],
   "source": [
    "# Import cars data\n",
    "import pandas as pd\n",
    "cars = pd.read_csv('cars.csv', index_col = 0)\n",
    "\n",
    "# Print out first 3 observations\n",
    "print(cars[0:3])\n",
    "\n",
    "# Print out fourth, fifth and sixth observation\n",
    "print(cars[3:6])"
   ]
  },
  {
   "cell_type": "markdown",
   "id": "16b80480-47cb-4df5-8ea0-9bd4ad19d72f",
   "metadata": {},
   "source": [
    "### loc and iloc (1)"
   ]
  },
  {
   "cell_type": "code",
   "execution_count": 120,
   "id": "ab1bfe96-c7c6-421b-b8e6-d15f85da1ac3",
   "metadata": {},
   "outputs": [
    {
     "name": "stdout",
     "output_type": "stream",
     "text": [
      "cars_per_cap      588\n",
      "country         Japan\n",
      "drives_right    False\n",
      "Name: JPN, dtype: object\n",
      "            cars_per_cap    country  drives_right\n",
      "Unnamed: 0                                       \n",
      "AUS                  731  Australia         False\n",
      "EG                    45      Egypt          True\n"
     ]
    }
   ],
   "source": [
    "# Import cars data\n",
    "import pandas as pd\n",
    "cars = pd.read_csv('cars.csv', index_col = 0)\n",
    "\n",
    "# Print out observation for Japan\n",
    "print(cars.loc['JPN'])\n",
    "\n",
    "# Print out observations for Australia and Egypt\n",
    "print(cars.loc[['AUS', 'EG']])"
   ]
  },
  {
   "cell_type": "markdown",
   "id": "5cad6de1-05da-4199-beb6-341ce00030e0",
   "metadata": {},
   "source": [
    "### loc and iloc (2)"
   ]
  },
  {
   "cell_type": "code",
   "execution_count": 127,
   "id": "d7e5b7c6-22a7-420c-babf-584318c198e0",
   "metadata": {},
   "outputs": [
    {
     "data": {
      "text/html": [
       "<div>\n",
       "<style scoped>\n",
       "    .dataframe tbody tr th:only-of-type {\n",
       "        vertical-align: middle;\n",
       "    }\n",
       "\n",
       "    .dataframe tbody tr th {\n",
       "        vertical-align: top;\n",
       "    }\n",
       "\n",
       "    .dataframe thead th {\n",
       "        text-align: right;\n",
       "    }\n",
       "</style>\n",
       "<table border=\"1\" class=\"dataframe\">\n",
       "  <thead>\n",
       "    <tr style=\"text-align: right;\">\n",
       "      <th></th>\n",
       "      <th>cars_per_cap</th>\n",
       "      <th>country</th>\n",
       "      <th>drives_right</th>\n",
       "    </tr>\n",
       "    <tr>\n",
       "      <th>Unnamed: 0</th>\n",
       "      <th></th>\n",
       "      <th></th>\n",
       "      <th></th>\n",
       "    </tr>\n",
       "  </thead>\n",
       "  <tbody>\n",
       "    <tr>\n",
       "      <th>US</th>\n",
       "      <td>809</td>\n",
       "      <td>United States</td>\n",
       "      <td>True</td>\n",
       "    </tr>\n",
       "    <tr>\n",
       "      <th>AUS</th>\n",
       "      <td>731</td>\n",
       "      <td>Australia</td>\n",
       "      <td>False</td>\n",
       "    </tr>\n",
       "    <tr>\n",
       "      <th>JPN</th>\n",
       "      <td>588</td>\n",
       "      <td>Japan</td>\n",
       "      <td>False</td>\n",
       "    </tr>\n",
       "    <tr>\n",
       "      <th>IN</th>\n",
       "      <td>18</td>\n",
       "      <td>India</td>\n",
       "      <td>False</td>\n",
       "    </tr>\n",
       "    <tr>\n",
       "      <th>RU</th>\n",
       "      <td>200</td>\n",
       "      <td>Russia</td>\n",
       "      <td>True</td>\n",
       "    </tr>\n",
       "    <tr>\n",
       "      <th>MOR</th>\n",
       "      <td>70</td>\n",
       "      <td>Morocco</td>\n",
       "      <td>True</td>\n",
       "    </tr>\n",
       "    <tr>\n",
       "      <th>EG</th>\n",
       "      <td>45</td>\n",
       "      <td>Egypt</td>\n",
       "      <td>True</td>\n",
       "    </tr>\n",
       "  </tbody>\n",
       "</table>\n",
       "</div>"
      ],
      "text/plain": [
       "            cars_per_cap        country  drives_right\n",
       "Unnamed: 0                                           \n",
       "US                   809  United States          True\n",
       "AUS                  731      Australia         False\n",
       "JPN                  588          Japan         False\n",
       "IN                    18          India         False\n",
       "RU                   200         Russia          True\n",
       "MOR                   70        Morocco          True\n",
       "EG                    45          Egypt          True"
      ]
     },
     "execution_count": 127,
     "metadata": {},
     "output_type": "execute_result"
    }
   ],
   "source": [
    "# Import cars data\n",
    "import pandas as pd\n",
    "cars = pd.read_csv('cars.csv', index_col = 0)\n",
    "\n",
    "cars"
   ]
  },
  {
   "cell_type": "code",
   "execution_count": 129,
   "id": "f34a0cd8-1725-47a7-8166-b1dd00e84cb7",
   "metadata": {},
   "outputs": [
    {
     "name": "stdout",
     "output_type": "stream",
     "text": [
      "True\n"
     ]
    }
   ],
   "source": [
    "# Print out drives_right value of Morocco\n",
    "print(cars.loc['MOR', 'drives_right'])"
   ]
  },
  {
   "cell_type": "code",
   "execution_count": 133,
   "id": "fa92e6af-eb55-46ca-a001-619f027269a9",
   "metadata": {},
   "outputs": [
    {
     "data": {
      "text/html": [
       "<div>\n",
       "<style scoped>\n",
       "    .dataframe tbody tr th:only-of-type {\n",
       "        vertical-align: middle;\n",
       "    }\n",
       "\n",
       "    .dataframe tbody tr th {\n",
       "        vertical-align: top;\n",
       "    }\n",
       "\n",
       "    .dataframe thead th {\n",
       "        text-align: right;\n",
       "    }\n",
       "</style>\n",
       "<table border=\"1\" class=\"dataframe\">\n",
       "  <thead>\n",
       "    <tr style=\"text-align: right;\">\n",
       "      <th></th>\n",
       "      <th>country</th>\n",
       "      <th>drives_right</th>\n",
       "    </tr>\n",
       "    <tr>\n",
       "      <th>Unnamed: 0</th>\n",
       "      <th></th>\n",
       "      <th></th>\n",
       "    </tr>\n",
       "  </thead>\n",
       "  <tbody>\n",
       "    <tr>\n",
       "      <th>RU</th>\n",
       "      <td>Russia</td>\n",
       "      <td>True</td>\n",
       "    </tr>\n",
       "    <tr>\n",
       "      <th>MOR</th>\n",
       "      <td>Morocco</td>\n",
       "      <td>True</td>\n",
       "    </tr>\n",
       "  </tbody>\n",
       "</table>\n",
       "</div>"
      ],
      "text/plain": [
       "            country  drives_right\n",
       "Unnamed: 0                       \n",
       "RU           Russia          True\n",
       "MOR         Morocco          True"
      ]
     },
     "execution_count": 133,
     "metadata": {},
     "output_type": "execute_result"
    }
   ],
   "source": [
    "# Print sub-DataFrame\n",
    "cars.loc[['RU', 'MOR'], ['country', 'drives_right']]"
   ]
  },
  {
   "cell_type": "markdown",
   "id": "b806734a-4c5d-4891-b9fa-e5570a25e957",
   "metadata": {},
   "source": [
    "### loc and iloc (3)"
   ]
  },
  {
   "cell_type": "code",
   "execution_count": 140,
   "id": "aca424e7-79ad-4e2e-9f73-7bbf0943b841",
   "metadata": {},
   "outputs": [
    {
     "name": "stdout",
     "output_type": "stream",
     "text": [
      "Unnamed: 0\n",
      "US      True\n",
      "AUS    False\n",
      "JPN    False\n",
      "IN     False\n",
      "RU      True\n",
      "MOR     True\n",
      "EG      True\n",
      "Name: drives_right, dtype: bool\n"
     ]
    }
   ],
   "source": [
    "# Import cars data\n",
    "import pandas as pd\n",
    "cars = pd.read_csv('cars.csv', index_col = 0)\n",
    "\n",
    "# Print out drives_right column as Series\n",
    "print(cars.loc[:, 'drives_right'])"
   ]
  },
  {
   "cell_type": "code",
   "execution_count": 138,
   "id": "550c003b-502a-4cfd-892e-dfc682bba538",
   "metadata": {},
   "outputs": [
    {
     "name": "stdout",
     "output_type": "stream",
     "text": [
      "            drives_right\n",
      "Unnamed: 0              \n",
      "US                  True\n",
      "AUS                False\n",
      "JPN                False\n",
      "IN                 False\n",
      "RU                  True\n",
      "MOR                 True\n",
      "EG                  True\n"
     ]
    }
   ],
   "source": [
    "# Print out drives_right column as DataFrame\n",
    "print(cars.loc[:, ['drives_right']])"
   ]
  },
  {
   "cell_type": "code",
   "execution_count": 142,
   "id": "39e617cc-66a7-4f39-8c92-9f0108d30dfa",
   "metadata": {},
   "outputs": [
    {
     "name": "stdout",
     "output_type": "stream",
     "text": [
      "            cars_per_cap  drives_right\n",
      "Unnamed: 0                            \n",
      "US                   809          True\n",
      "AUS                  731         False\n",
      "JPN                  588         False\n",
      "IN                    18         False\n",
      "RU                   200          True\n",
      "MOR                   70          True\n",
      "EG                    45          True\n"
     ]
    }
   ],
   "source": [
    "# Print out cars_per_cap and drives_right as DataFrame\n",
    "print(cars.loc[:, ['cars_per_cap', 'drives_right']])"
   ]
  },
  {
   "cell_type": "markdown",
   "id": "9651a68b-07cf-4cfd-b702-88c15524366e",
   "metadata": {},
   "source": [
    "## Logic, Control Flow and Filtering"
   ]
  },
  {
   "cell_type": "markdown",
   "id": "400a8b54-62c5-4bca-b603-58867bd48dd2",
   "metadata": {},
   "source": [
    "### Equality"
   ]
  },
  {
   "cell_type": "code",
   "execution_count": 146,
   "id": "e19b9b1d-7660-4733-8942-8bde14f54411",
   "metadata": {},
   "outputs": [
    {
     "data": {
      "text/plain": [
       "True"
      ]
     },
     "execution_count": 146,
     "metadata": {},
     "output_type": "execute_result"
    }
   ],
   "source": [
    "# Comparison of booleans\n",
    "True == False\n",
    "\n",
    "# Comparison of integers\n",
    "-5 * 15 != 75\n",
    "\n",
    "# Comparison of strings\n",
    "\"pyscript\" == \"PyScript\"\n",
    "\n",
    "# Compare a boolean with an integer\n",
    "True == 1"
   ]
  },
  {
   "cell_type": "markdown",
   "id": "7a49a9e4-8edd-4c04-93e0-9c246f271bb9",
   "metadata": {},
   "source": [
    "### Greater and less than"
   ]
  },
  {
   "cell_type": "code",
   "execution_count": 149,
   "id": "f436ad3e-4c71-4c4c-8820-90f0f98ff613",
   "metadata": {},
   "outputs": [
    {
     "name": "stdout",
     "output_type": "stream",
     "text": [
      "False\n",
      "True\n"
     ]
    },
    {
     "data": {
      "text/plain": [
       "True"
      ]
     },
     "execution_count": 149,
     "metadata": {},
     "output_type": "execute_result"
    }
   ],
   "source": [
    "# Comparison of integers\n",
    "x = -3 * 6\n",
    "print(x >= -10)\n",
    "\n",
    "# Comparison of strings\n",
    "y = \"test\"\n",
    "print(\"test\" <= y)\n",
    "\n",
    "# Comparison of booleans\n",
    "True > False"
   ]
  },
  {
   "cell_type": "markdown",
   "id": "9929a9a2-1a52-4568-a27c-472e0b981ebb",
   "metadata": {},
   "source": [
    "### Compare arrays"
   ]
  },
  {
   "cell_type": "code",
   "execution_count": 152,
   "id": "e22dc1b0-fdd4-4b0d-9b4a-03fa2b974be4",
   "metadata": {},
   "outputs": [
    {
     "name": "stdout",
     "output_type": "stream",
     "text": [
      "[ True  True False False]\n",
      "[False  True  True False]\n"
     ]
    }
   ],
   "source": [
    "# Create arrays\n",
    "import numpy as np\n",
    "my_house = np.array([18.0, 20.0, 10.75, 9.50])\n",
    "your_house = np.array([14.0, 24.0, 14.25, 9.0])\n",
    "\n",
    "# my_house greater than or equal to 18\n",
    "print(my_house >= 18)\n",
    "\n",
    "# my_house less than your_house\n",
    "print(my_house < your_house)"
   ]
  },
  {
   "cell_type": "markdown",
   "id": "e913e7b2-298a-4d1b-b6c5-1f8a89d77280",
   "metadata": {},
   "source": [
    "### and, or, not (1)"
   ]
  },
  {
   "cell_type": "code",
   "execution_count": 155,
   "id": "59770d30-8625-4668-8b20-087fd16d3494",
   "metadata": {},
   "outputs": [
    {
     "name": "stdout",
     "output_type": "stream",
     "text": [
      "False\n",
      "True\n",
      "True\n"
     ]
    }
   ],
   "source": [
    "# Define variables\n",
    "my_kitchen = 18.0\n",
    "your_kitchen = 14.0\n",
    "\n",
    "# my_kitchen bigger than 10 and smaller than 18?\n",
    "print(my_kitchen > 10 and my_kitchen < 18)\n",
    "\n",
    "# my_kitchen smaller than 14 or bigger than 17?\n",
    "print(my_kitchen < 14 or my_kitchen > 17)\n",
    "\n",
    "# Double my_kitchen smaller than triple your_kitchen?\n",
    "print(my_kitchen * 2 < your_kitchen * 3)"
   ]
  },
  {
   "cell_type": "markdown",
   "id": "bbb9f75d-c0f5-48ce-9fcf-38fe075ae37b",
   "metadata": {},
   "source": [
    "### Boolean operators with NumPy"
   ]
  },
  {
   "cell_type": "code",
   "execution_count": 158,
   "id": "8c4f6bd8-dc1f-4742-8493-700f08a80a9b",
   "metadata": {},
   "outputs": [
    {
     "name": "stdout",
     "output_type": "stream",
     "text": [
      "[False  True False  True]\n",
      "[False False False  True]\n"
     ]
    }
   ],
   "source": [
    "# Create arrays\n",
    "import numpy as np\n",
    "my_house = np.array([18.0, 20.0, 10.75, 9.50])\n",
    "your_house = np.array([14.0, 24.0, 14.25, 9.0])\n",
    "\n",
    "# my_house greater than 18.5 or smaller than 10\n",
    "print(np.logical_or(my_house > 18.5, my_house < 10))\n",
    "\n",
    "# Both my_house and your_house smaller than 11\n",
    "print(np.logical_and(my_house < 11, your_house < 11))"
   ]
  },
  {
   "cell_type": "markdown",
   "id": "08549744-bf6b-41c2-9bf9-22e2acb3a93e",
   "metadata": {},
   "source": [
    "### if"
   ]
  },
  {
   "cell_type": "code",
   "execution_count": 161,
   "id": "29b8c851-086c-43da-8223-8edb73404f33",
   "metadata": {},
   "outputs": [
    {
     "name": "stdout",
     "output_type": "stream",
     "text": [
      "looking around in the kitchen.\n"
     ]
    }
   ],
   "source": [
    "# Define variables\n",
    "room = \"kit\"\n",
    "area = 14.0\n",
    "\n",
    "# if statement for room\n",
    "if room == \"kit\" :\n",
    "    print(\"looking around in the kitchen.\")\n",
    "\n",
    "# if statement for area\n",
    "if area > 15 :\n",
    "    print(\"big place!\")"
   ]
  },
  {
   "cell_type": "markdown",
   "id": "987dfd7b-345f-4399-841d-db5bbdd7666b",
   "metadata": {},
   "source": [
    "### Add else"
   ]
  },
  {
   "cell_type": "code",
   "execution_count": 166,
   "id": "3ff65c04-8bf5-4ad3-bed6-40ecaab38f63",
   "metadata": {},
   "outputs": [
    {
     "name": "stdout",
     "output_type": "stream",
     "text": [
      "looking around in the kitchen.\n",
      "pretty small.\n"
     ]
    }
   ],
   "source": [
    "# Define variables\n",
    "room = \"kit\"\n",
    "area = 14.0\n",
    "\n",
    "# if-else construct for room\n",
    "if room == \"kit\" :\n",
    "    print(\"looking around in the kitchen.\")\n",
    "else :\n",
    "    print(\"looking around elsewhere.\")\n",
    "\n",
    "# if-else construct for area\n",
    "if area > 15 :\n",
    "    print(\"big place!\")\n",
    "else :\n",
    "    print(\"pretty small.\")"
   ]
  },
  {
   "cell_type": "markdown",
   "id": "4b2907d5-87a5-48ad-8b36-de9deac6a7bd",
   "metadata": {},
   "source": [
    "### Customize further: elif"
   ]
  },
  {
   "cell_type": "code",
   "execution_count": 169,
   "id": "326a2a78-6f66-486a-b4f9-2c3e4bcba41e",
   "metadata": {},
   "outputs": [
    {
     "name": "stdout",
     "output_type": "stream",
     "text": [
      "looking around in the bedroom.\n",
      "medium size, nice!\n"
     ]
    }
   ],
   "source": [
    "# Define variables\n",
    "room = \"bed\"\n",
    "area = 14.0\n",
    "\n",
    "# if-elif-else construct for room\n",
    "if room == \"kit\" :\n",
    "    print(\"looking around in the kitchen.\")\n",
    "elif room == \"bed\":\n",
    "    print(\"looking around in the bedroom.\")\n",
    "else :\n",
    "    print(\"looking around elsewhere.\")\n",
    "\n",
    "# if-elif-else construct for area\n",
    "if area > 15 :\n",
    "    print(\"big place!\")\n",
    "elif area > 10 :\n",
    "    print(\"medium size, nice!\")\n",
    "else :\n",
    "    print(\"pretty small.\")"
   ]
  },
  {
   "cell_type": "markdown",
   "id": "e4c8af02-f88e-4098-bdcf-df3176cb01cf",
   "metadata": {},
   "source": [
    "### Filtering Pandas DataFrame\n",
    "#### Driving right (1)"
   ]
  },
  {
   "cell_type": "code",
   "execution_count": 175,
   "id": "4fcc1cfa-5964-4184-8337-0009e76225f5",
   "metadata": {},
   "outputs": [
    {
     "data": {
      "text/html": [
       "<div>\n",
       "<style scoped>\n",
       "    .dataframe tbody tr th:only-of-type {\n",
       "        vertical-align: middle;\n",
       "    }\n",
       "\n",
       "    .dataframe tbody tr th {\n",
       "        vertical-align: top;\n",
       "    }\n",
       "\n",
       "    .dataframe thead th {\n",
       "        text-align: right;\n",
       "    }\n",
       "</style>\n",
       "<table border=\"1\" class=\"dataframe\">\n",
       "  <thead>\n",
       "    <tr style=\"text-align: right;\">\n",
       "      <th></th>\n",
       "      <th>cars_per_cap</th>\n",
       "      <th>country</th>\n",
       "      <th>drives_right</th>\n",
       "    </tr>\n",
       "    <tr>\n",
       "      <th>Unnamed: 0</th>\n",
       "      <th></th>\n",
       "      <th></th>\n",
       "      <th></th>\n",
       "    </tr>\n",
       "  </thead>\n",
       "  <tbody>\n",
       "    <tr>\n",
       "      <th>US</th>\n",
       "      <td>809</td>\n",
       "      <td>United States</td>\n",
       "      <td>True</td>\n",
       "    </tr>\n",
       "    <tr>\n",
       "      <th>RU</th>\n",
       "      <td>200</td>\n",
       "      <td>Russia</td>\n",
       "      <td>True</td>\n",
       "    </tr>\n",
       "    <tr>\n",
       "      <th>MOR</th>\n",
       "      <td>70</td>\n",
       "      <td>Morocco</td>\n",
       "      <td>True</td>\n",
       "    </tr>\n",
       "    <tr>\n",
       "      <th>EG</th>\n",
       "      <td>45</td>\n",
       "      <td>Egypt</td>\n",
       "      <td>True</td>\n",
       "    </tr>\n",
       "  </tbody>\n",
       "</table>\n",
       "</div>"
      ],
      "text/plain": [
       "            cars_per_cap        country  drives_right\n",
       "Unnamed: 0                                           \n",
       "US                   809  United States          True\n",
       "RU                   200         Russia          True\n",
       "MOR                   70        Morocco          True\n",
       "EG                    45          Egypt          True"
      ]
     },
     "execution_count": 175,
     "metadata": {},
     "output_type": "execute_result"
    }
   ],
   "source": [
    "# Import cars data\n",
    "import pandas as pd\n",
    "cars = pd.read_csv('cars.csv', index_col = 0)\n",
    "\n",
    "# Extract drives_right column as Series: dr\n",
    "dr = cars['drives_right']\n",
    "\n",
    "# Use dr to subset cars: sel\n",
    "sel =  cars[dr]\n",
    "\n",
    "# Print sel\n",
    "sel"
   ]
  },
  {
   "cell_type": "markdown",
   "id": "09691f88-31be-4baf-a90b-0998a7c2ce20",
   "metadata": {},
   "source": [
    "#### Driving right (2)"
   ]
  },
  {
   "cell_type": "code",
   "execution_count": 180,
   "id": "44b70516-eb40-47b5-804b-777e90c94bda",
   "metadata": {},
   "outputs": [
    {
     "data": {
      "text/html": [
       "<div>\n",
       "<style scoped>\n",
       "    .dataframe tbody tr th:only-of-type {\n",
       "        vertical-align: middle;\n",
       "    }\n",
       "\n",
       "    .dataframe tbody tr th {\n",
       "        vertical-align: top;\n",
       "    }\n",
       "\n",
       "    .dataframe thead th {\n",
       "        text-align: right;\n",
       "    }\n",
       "</style>\n",
       "<table border=\"1\" class=\"dataframe\">\n",
       "  <thead>\n",
       "    <tr style=\"text-align: right;\">\n",
       "      <th></th>\n",
       "      <th>cars_per_cap</th>\n",
       "      <th>country</th>\n",
       "      <th>drives_right</th>\n",
       "    </tr>\n",
       "    <tr>\n",
       "      <th>Unnamed: 0</th>\n",
       "      <th></th>\n",
       "      <th></th>\n",
       "      <th></th>\n",
       "    </tr>\n",
       "  </thead>\n",
       "  <tbody>\n",
       "    <tr>\n",
       "      <th>US</th>\n",
       "      <td>809</td>\n",
       "      <td>United States</td>\n",
       "      <td>True</td>\n",
       "    </tr>\n",
       "    <tr>\n",
       "      <th>RU</th>\n",
       "      <td>200</td>\n",
       "      <td>Russia</td>\n",
       "      <td>True</td>\n",
       "    </tr>\n",
       "    <tr>\n",
       "      <th>MOR</th>\n",
       "      <td>70</td>\n",
       "      <td>Morocco</td>\n",
       "      <td>True</td>\n",
       "    </tr>\n",
       "    <tr>\n",
       "      <th>EG</th>\n",
       "      <td>45</td>\n",
       "      <td>Egypt</td>\n",
       "      <td>True</td>\n",
       "    </tr>\n",
       "  </tbody>\n",
       "</table>\n",
       "</div>"
      ],
      "text/plain": [
       "            cars_per_cap        country  drives_right\n",
       "Unnamed: 0                                           \n",
       "US                   809  United States          True\n",
       "RU                   200         Russia          True\n",
       "MOR                   70        Morocco          True\n",
       "EG                    45          Egypt          True"
      ]
     },
     "execution_count": 180,
     "metadata": {},
     "output_type": "execute_result"
    }
   ],
   "source": [
    "# Import cars data\n",
    "import pandas as pd\n",
    "cars = pd.read_csv('cars.csv', index_col = 0)\n",
    "\n",
    "# Convert code to a one-liner\n",
    "sel = cars[cars['drives_right']]\n",
    "\n",
    "# Print sel\n",
    "sel"
   ]
  },
  {
   "cell_type": "markdown",
   "id": "6e0acbd6-5439-439a-94eb-fea57fa0bf0e",
   "metadata": {},
   "source": [
    "#### Cars per capita (1)"
   ]
  },
  {
   "cell_type": "code",
   "execution_count": 187,
   "id": "1bbcfb98-2b5a-4fcf-800a-0c2d2328fab1",
   "metadata": {},
   "outputs": [
    {
     "data": {
      "text/html": [
       "<div>\n",
       "<style scoped>\n",
       "    .dataframe tbody tr th:only-of-type {\n",
       "        vertical-align: middle;\n",
       "    }\n",
       "\n",
       "    .dataframe tbody tr th {\n",
       "        vertical-align: top;\n",
       "    }\n",
       "\n",
       "    .dataframe thead th {\n",
       "        text-align: right;\n",
       "    }\n",
       "</style>\n",
       "<table border=\"1\" class=\"dataframe\">\n",
       "  <thead>\n",
       "    <tr style=\"text-align: right;\">\n",
       "      <th></th>\n",
       "      <th>cars_per_cap</th>\n",
       "      <th>country</th>\n",
       "      <th>drives_right</th>\n",
       "    </tr>\n",
       "    <tr>\n",
       "      <th>Unnamed: 0</th>\n",
       "      <th></th>\n",
       "      <th></th>\n",
       "      <th></th>\n",
       "    </tr>\n",
       "  </thead>\n",
       "  <tbody>\n",
       "    <tr>\n",
       "      <th>US</th>\n",
       "      <td>809</td>\n",
       "      <td>United States</td>\n",
       "      <td>True</td>\n",
       "    </tr>\n",
       "    <tr>\n",
       "      <th>AUS</th>\n",
       "      <td>731</td>\n",
       "      <td>Australia</td>\n",
       "      <td>False</td>\n",
       "    </tr>\n",
       "    <tr>\n",
       "      <th>JPN</th>\n",
       "      <td>588</td>\n",
       "      <td>Japan</td>\n",
       "      <td>False</td>\n",
       "    </tr>\n",
       "  </tbody>\n",
       "</table>\n",
       "</div>"
      ],
      "text/plain": [
       "            cars_per_cap        country  drives_right\n",
       "Unnamed: 0                                           \n",
       "US                   809  United States          True\n",
       "AUS                  731      Australia         False\n",
       "JPN                  588          Japan         False"
      ]
     },
     "execution_count": 187,
     "metadata": {},
     "output_type": "execute_result"
    }
   ],
   "source": [
    "# Import cars data\n",
    "import pandas as pd\n",
    "cars = pd.read_csv('cars.csv', index_col = 0)\n",
    "\n",
    "# Create car_maniac: observations that have a cars_per_cap over 500\n",
    "many_cars = cars['cars_per_cap'] > 500\n",
    "car_maniac = cars[many_cars]\n",
    "\n",
    "\n",
    "# Print car_maniac\n",
    "car_maniac"
   ]
  },
  {
   "cell_type": "markdown",
   "id": "ce0a0f88-39ba-4283-843e-1e2dda7626c1",
   "metadata": {},
   "source": [
    "#### Cars per capita (2)"
   ]
  },
  {
   "cell_type": "code",
   "execution_count": 192,
   "id": "8583263c-a813-4efe-9f43-a0508f0ad37e",
   "metadata": {},
   "outputs": [
    {
     "data": {
      "text/html": [
       "<div>\n",
       "<style scoped>\n",
       "    .dataframe tbody tr th:only-of-type {\n",
       "        vertical-align: middle;\n",
       "    }\n",
       "\n",
       "    .dataframe tbody tr th {\n",
       "        vertical-align: top;\n",
       "    }\n",
       "\n",
       "    .dataframe thead th {\n",
       "        text-align: right;\n",
       "    }\n",
       "</style>\n",
       "<table border=\"1\" class=\"dataframe\">\n",
       "  <thead>\n",
       "    <tr style=\"text-align: right;\">\n",
       "      <th></th>\n",
       "      <th>cars_per_cap</th>\n",
       "      <th>country</th>\n",
       "      <th>drives_right</th>\n",
       "    </tr>\n",
       "    <tr>\n",
       "      <th>Unnamed: 0</th>\n",
       "      <th></th>\n",
       "      <th></th>\n",
       "      <th></th>\n",
       "    </tr>\n",
       "  </thead>\n",
       "  <tbody>\n",
       "    <tr>\n",
       "      <th>RU</th>\n",
       "      <td>200</td>\n",
       "      <td>Russia</td>\n",
       "      <td>True</td>\n",
       "    </tr>\n",
       "  </tbody>\n",
       "</table>\n",
       "</div>"
      ],
      "text/plain": [
       "            cars_per_cap country  drives_right\n",
       "Unnamed: 0                                    \n",
       "RU                   200  Russia          True"
      ]
     },
     "execution_count": 192,
     "metadata": {},
     "output_type": "execute_result"
    }
   ],
   "source": [
    "# Import cars data\n",
    "import pandas as pd\n",
    "cars = pd.read_csv('cars.csv', index_col = 0)\n",
    "\n",
    "# Import numpy, you'll need this\n",
    "import numpy as np\n",
    "\n",
    "# Create medium: observations with cars_per_cap between 100 and 500\n",
    "cpc = cars['cars_per_cap']\n",
    "between = np.logical_and(cpc > 100, cpc < 500)\n",
    "medium = cars[between]\n",
    "\n",
    "# Print medium\n",
    "medium"
   ]
  },
  {
   "cell_type": "markdown",
   "id": "f4c003a2-5074-4fb7-8f17-492931066c10",
   "metadata": {},
   "source": [
    "## Loops"
   ]
  },
  {
   "cell_type": "code",
   "execution_count": null,
   "id": "e5685f30-9e2a-456a-a6de-02269e9971ae",
   "metadata": {},
   "outputs": [],
   "source": []
  },
  {
   "cell_type": "code",
   "execution_count": null,
   "id": "c4ffad73-eda3-4a7d-bcff-d7a6f51c9604",
   "metadata": {},
   "outputs": [],
   "source": []
  },
  {
   "cell_type": "code",
   "execution_count": null,
   "id": "3312d760-294e-4c20-ad00-cd4684492ca9",
   "metadata": {},
   "outputs": [],
   "source": []
  },
  {
   "cell_type": "code",
   "execution_count": null,
   "id": "7e6be102-ca63-4a04-8ca3-ea3e098310ba",
   "metadata": {},
   "outputs": [],
   "source": []
  },
  {
   "cell_type": "code",
   "execution_count": null,
   "id": "8bab77aa-5e10-4931-9706-42b667ac70bd",
   "metadata": {},
   "outputs": [],
   "source": []
  },
  {
   "cell_type": "code",
   "execution_count": null,
   "id": "218da9a6-ad37-49cd-bc2b-3c9f7c6f73a7",
   "metadata": {},
   "outputs": [],
   "source": []
  },
  {
   "cell_type": "code",
   "execution_count": null,
   "id": "83bb0082-0b28-44f1-acb8-4fa5ac97465f",
   "metadata": {},
   "outputs": [],
   "source": []
  },
  {
   "cell_type": "code",
   "execution_count": null,
   "id": "e268d6ee-7885-43f0-8eb1-c3b7be058a3d",
   "metadata": {},
   "outputs": [],
   "source": []
  },
  {
   "cell_type": "code",
   "execution_count": null,
   "id": "b31f6345-b325-4748-8210-3ae0a711ec0f",
   "metadata": {},
   "outputs": [],
   "source": []
  },
  {
   "cell_type": "code",
   "execution_count": null,
   "id": "f269ea64-1f6a-4454-9d56-a39115b351a1",
   "metadata": {},
   "outputs": [],
   "source": []
  },
  {
   "cell_type": "code",
   "execution_count": null,
   "id": "1bc6769d-c393-4b14-9499-b996c31ad51d",
   "metadata": {},
   "outputs": [],
   "source": []
  },
  {
   "cell_type": "code",
   "execution_count": null,
   "id": "49ca10f1-8dd3-44ff-8e9e-f2ace2df32f6",
   "metadata": {},
   "outputs": [],
   "source": []
  },
  {
   "cell_type": "markdown",
   "id": "6a760bb8-7b6d-490b-9c3e-6cab363d692d",
   "metadata": {},
   "source": [
    "## Dice simulation"
   ]
  },
  {
   "cell_type": "code",
   "execution_count": 194,
   "id": "ed0f87c4-6a6f-42a1-9a07-8f91e0e99f38",
   "metadata": {},
   "outputs": [
    {
     "name": "stdout",
     "output_type": "stream",
     "text": [
      "2\n",
      "49\n"
     ]
    }
   ],
   "source": [
    "# NumPy is imported, seed is set\n",
    "import numpy as np\n",
    "np.random.seed()\n",
    "# Starting step\n",
    "step = 50\n",
    "\n",
    "# Roll the dice\n",
    "dice = np.random.randint(1, 7)\n",
    "\n",
    "# Finish the control construct\n",
    "if dice <= 2 :\n",
    "    step = step - 1\n",
    "elif dice in (3, 4, 5) :\n",
    "    step = step + 1\n",
    "else :\n",
    "    step = step + np.random.randint(1,7)\n",
    "\n",
    "# Print out dice and step\n",
    "print(dice)\n",
    "print(step)"
   ]
  },
  {
   "cell_type": "markdown",
   "id": "2ff30efc-bce4-4a7d-af60-53dc4df7bab1",
   "metadata": {},
   "source": [
    "## Random walk simulation"
   ]
  },
  {
   "cell_type": "code",
   "execution_count": null,
   "id": "762a99d8-2d68-49c9-8504-f158a6413161",
   "metadata": {},
   "outputs": [],
   "source": [
    "# NumPy is imported, seed is set\n",
    "import numpy as np\n",
    "np.random.seed(123)\n",
    "\n",
    "# Initialize random_walk\n",
    "random_walk = [0]\n",
    "\n",
    "# Complete the for loop\n",
    "for x in range(100):\n",
    "    # Set step: last element in random_walk\n",
    "    step = random_walk[-1]\n",
    "\n",
    "    # Roll the dice\n",
    "    dice = np.random.randint(1, 7)\n",
    "\n",
    "    # Determine next step\n",
    "    if dice <= 2:\n",
    "        step = step - 1\n",
    "    elif dice <= 5:\n",
    "        step = step + 1\n",
    "    else:\n",
    "        step = step + np.random.randint(1, 7)\n",
    "\n",
    "    # append next_step to random_walk\n",
    "    random_walk.append(step)\n",
    "\n",
    "# Print random_walk\n",
    "print(random_walk)"
   ]
  },
  {
   "cell_type": "code",
   "execution_count": null,
   "id": "7002c8e3-dea2-4ff3-83a7-b7e9d4e8c6f1",
   "metadata": {},
   "outputs": [],
   "source": [
    "# NumPy is imported, seed is set\n",
    "import numpy as np\n",
    "np.random.seed(123)\n",
    "\n",
    "# Initialize random_walk\n",
    "random_walk = [0]\n",
    "\n",
    "for x in range(100):\n",
    "    step = random_walk[-1]\n",
    "    dice = np.random.randint(1, 7)\n",
    "\n",
    "    if dice <= 2:\n",
    "        # Make sure step doesn't go below 0\n",
    "        step = max(0, step - 1)\n",
    "    elif dice <= 5:\n",
    "        step = step + 1\n",
    "    else:\n",
    "        step = step + np.random.randint(1, 7)\n",
    "\n",
    "    random_walk.append(step)\n",
    "\n",
    "print(random_walk)\n"
   ]
  },
  {
   "cell_type": "code",
   "execution_count": null,
   "id": "45fb2413-85b7-4af4-94e9-9aea19a152da",
   "metadata": {},
   "outputs": [],
   "source": [
    "# NumPy is imported, seed is set\n",
    "import numpy as np\n",
    "np.random.seed(123)\n",
    "\n",
    "# Initialization\n",
    "random_walk = [0]\n",
    "\n",
    "for x in range(100):\n",
    "    step = random_walk[-1]\n",
    "    dice = np.random.randint(1, 7)\n",
    "\n",
    "    if dice <= 2:\n",
    "        step = max(0, step - 1)\n",
    "    elif dice <= 5:\n",
    "        step = step + 1\n",
    "    else:\n",
    "        step = step + np.random.randint(1, 7)\n",
    "\n",
    "    random_walk.append(step)\n",
    "\n",
    "# Import matplotlib.pyplot as plt\n",
    "import matplotlib.pyplot as plt\n",
    "\n",
    "# Plot random_walk\n",
    "plt.plot(random_walk)\n",
    "\n",
    "# Show the plot\n",
    "plt.show()"
   ]
  },
  {
   "cell_type": "code",
   "execution_count": null,
   "id": "7c631e6d-3278-4e87-a724-ce333e245b31",
   "metadata": {},
   "outputs": [],
   "source": [
    "# NumPy is imported, seed is set\n",
    "import numpy as np\n",
    "np.random.seed(123)\n",
    "\n",
    "# Initialization\n",
    "random_walk = [0]\n",
    "\n",
    "for x in range(100):\n",
    "    step = random_walk[-1]\n",
    "    dice = np.random.randint(1, 7)\n",
    "\n",
    "    if dice <= 2:\n",
    "        step = max(0, step - 1)\n",
    "    elif dice <= 5:\n",
    "        step = step + 1\n",
    "    else:\n",
    "        step = step + np.random.randint(1, 7)\n",
    "\n",
    "    random_walk.append(step)\n",
    "\n",
    "# Import matplotlib.pyplot as plt\n",
    "import matplotlib.pyplot as plt\n",
    "\n",
    "# Plot random_walk\n",
    "plt.plot(random_walk)\n",
    "\n",
    "# Add labels and title\n",
    "plt.xlabel('Step Number')\n",
    "plt.ylabel('Position')\n",
    "plt.title('Random Walk Simulation')\n",
    "\n",
    "# Show the plot\n",
    "plt.show()"
   ]
  },
  {
   "cell_type": "code",
   "execution_count": null,
   "id": "785dcd91-0f85-48d5-921b-772c87f91f1a",
   "metadata": {},
   "outputs": [],
   "source": [
    "# Import the numpy library for random number generation\n",
    "import numpy as np\n",
    "\n",
    "# Set a seed so the random numbers are the same each time (makes results repeatable)\n",
    "np.random.seed(123)\n",
    "\n",
    "# Create an empty list to store all the random walks\n",
    "all_walks = []\n",
    "\n",
    "# Repeat the random walk 5 times\n",
    "for i in range(5):\n",
    "\n",
    "    # Start a new walk with position 0\n",
    "    random_walk = [0]\n",
    "\n",
    "    # Simulate 100 steps for this walk\n",
    "    for x in range(100):\n",
    "        # Get the last position in the walk\n",
    "        step = random_walk[-1]\n",
    "\n",
    "        # Roll a dice (number between 1 and 6)\n",
    "        dice = np.random.randint(1, 7)\n",
    "\n",
    "        # If dice is 1 or 2, take one step down (but not below 0)\n",
    "        if dice <= 2:\n",
    "            step = max(0, step - 1)\n",
    "\n",
    "        # If dice is 3, 4, or 5, take one step up\n",
    "        elif dice <= 5:\n",
    "            step = step + 1\n",
    "\n",
    "        # If dice is 6, roll again and add the result to step (jump ahead)\n",
    "        else:\n",
    "            step = step + np.random.randint(1, 7)\n",
    "\n",
    "        # Add the new step to the walk\n",
    "        random_walk.append(step)\n",
    "\n",
    "    # After the walk is done, add it to the list of all walks\n",
    "    all_walks.append(random_walk)\n",
    "\n",
    "# Print all the walks (each is a list of 101 steps)\n",
    "print(all_walks)"
   ]
  },
  {
   "cell_type": "code",
   "execution_count": null,
   "id": "c62ca99f-8f63-40c2-b53b-37b04017a461",
   "metadata": {},
   "outputs": [],
   "source": [
    "# NumPy and Matplotlib are imported for number generation and plotting\n",
    "import numpy as np\n",
    "import matplotlib.pyplot as plt\n",
    "\n",
    "# Set a random seed for reproducibility\n",
    "np.random.seed(123)\n",
    "\n",
    "# Initialize an empty list to store all random walks\n",
    "all_walks = []\n",
    "\n",
    "# Simulate 5 random walks\n",
    "for i in range(5):\n",
    "    # Start each walk at position 0\n",
    "    random_walk = [0]\n",
    "    \n",
    "    # Simulate 100 steps for this walk\n",
    "    for x in range(100):\n",
    "        # Get the last position in the walk\n",
    "        step = random_walk[-1]\n",
    "        \n",
    "        # Roll a dice (number between 1 and 6)\n",
    "        dice = np.random.randint(1, 7)\n",
    "        \n",
    "        # Decide the next step based on the dice roll\n",
    "        if dice <= 2:\n",
    "            # If dice is 1 or 2, step back one position (but not below 0)\n",
    "            step = max(0, step - 1)\n",
    "        elif dice <= 5:\n",
    "            # If dice is 3, 4, or 5, step forward by 1 position\n",
    "            step = step + 1\n",
    "        else:\n",
    "            # If dice is 6, jump forward by a random number between 1 and 6\n",
    "            step = step + np.random.randint(1, 7)\n",
    "        \n",
    "        # Add the new step to the random walk\n",
    "        random_walk.append(step)\n",
    "    \n",
    "    # After finishing one random walk, add it to the list of all walks\n",
    "    all_walks.append(random_walk)\n",
    "\n",
    "# Convert the list of all random walks into a NumPy array\n",
    "np_aw = np.array(all_walks)\n",
    "\n",
    "# Plot all the random walks on the same graph\n",
    "plt.plot(np_aw)\n",
    "# Show the plot to visualize the walks\n",
    "plt.show()\n",
    "\n",
    "# Clear the current figure to prepare for the next plot\n",
    "plt.clf()\n",
    "\n",
    "# Transpose the NumPy array to flip it: now each row is a time step across all walks\n",
    "np_aw_t = np.transpose(np_aw)\n",
    "\n",
    "# Plot the transposed data (each line now shows a comparison across all walks at each step)\n",
    "plt.plot(np_aw_t)\n",
    "# Show the plot to visualize the comparison across all walks at each time step\n",
    "plt.show()"
   ]
  },
  {
   "cell_type": "code",
   "execution_count": null,
   "id": "497e2c83-1388-4b73-99db-47426d0c3751",
   "metadata": {},
   "outputs": [],
   "source": [
    "# numpy and matplotlib imported, seed set\n",
    "\n",
    "# clear the plot so it doesn't get cluttered if you run this many times\n",
    "plt.clf()\n",
    "\n",
    "# Simulate random walk 20 times\n",
    "all_walks = []\n",
    "for i in range(20):  # Change the range to 20 for 20 simulations\n",
    "    random_walk = [0]\n",
    "    for x in range(100):\n",
    "        step = random_walk[-1]\n",
    "        dice = np.random.randint(1, 7)\n",
    "        if dice <= 2:\n",
    "            step = max(0, step - 1)\n",
    "        elif dice <= 5:\n",
    "            step = step + 1\n",
    "        else:\n",
    "            step = step + np.random.randint(1, 7)\n",
    "\n",
    "        # Implement clumsiness\n",
    "        if np.random.rand() <= 0.005:  # Check if a random float is <= 0.005\n",
    "            step = 0  # Set step to 0 if clumsiness condition is met\n",
    "\n",
    "        random_walk.append(step)\n",
    "    all_walks.append(random_walk)\n",
    "\n",
    "# Create and plot np_aw_t\n",
    "np_aw_t = np.transpose(np.array(all_walks))\n",
    "plt.plot(np_aw_t)\n",
    "plt.show()"
   ]
  },
  {
   "cell_type": "code",
   "execution_count": null,
   "id": "ac62e46f-7a10-40f2-841a-b0aa9429a8f8",
   "metadata": {},
   "outputs": [],
   "source": [
    "# numpy and matplotlib imported, seed set\n",
    "\n",
    "# Simulate random walk 500 times\n",
    "all_walks = []\n",
    "for i in range(500):\n",
    "    random_walk = [0]\n",
    "    for x in range(100):\n",
    "        step = random_walk[-1]\n",
    "        dice = np.random.randint(1, 7)\n",
    "        if dice <= 2:\n",
    "            step = max(0, step - 1)\n",
    "        elif dice <= 5:\n",
    "            step = step + 1\n",
    "        else:\n",
    "            step = step + np.random.randint(1, 7)\n",
    "        if np.random.rand() <= 0.001:\n",
    "            step = 0\n",
    "        random_walk.append(step)\n",
    "    all_walks.append(random_walk)\n",
    "\n",
    "# Create and plot np_aw_t\n",
    "np_aw_t = np.transpose(np.array(all_walks))\n",
    "\n",
    "# Select last row from np_aw_t: ends\n",
    "ends = np_aw_t[-1, :]  # Select the last row which contains the final positions\n",
    "\n",
    "# Plot histogram of ends, display plot\n",
    "plt.hist(ends, bins=30)  # Create a histogram with 30 bins\n",
    "plt.show()"
   ]
  },
  {
   "cell_type": "code",
   "execution_count": null,
   "id": "0d29f5c2-4790-44db-a266-a7d2c5a5b6ae",
   "metadata": {},
   "outputs": [],
   "source": [
    "# Count how many walks end at or above 60\n",
    "count_above_60 = np.sum(ends >= 60)\n",
    "\n",
    "# Total number of simulations\n",
    "total_simulations = len(ends)\n",
    "\n",
    "# Calculate the probability\n",
    "probability = count_above_60 / total_simulations\n",
    "\n",
    "# Convert probability to percentage\n",
    "probability_percentage = probability * 100\n",
    "\n",
    "# Print the result as percentage\n",
    "print(f\"The estimated chance of reaching at least 60 steps is: {probability_percentage:.2f}%\")"
   ]
  },
  {
   "cell_type": "code",
   "execution_count": null,
   "id": "d99c977f-8d41-44ef-bbf7-30fbaa05345e",
   "metadata": {},
   "outputs": [],
   "source": [
    "import numpy as np\n",
    "import matplotlib.pyplot as plt\n",
    "\n",
    "# Simulate random walk 3 times (small number for illustration)\n",
    "all_walks = []\n",
    "for i in range(3):  # 3 random walks\n",
    "    random_walk = [0]  # Starting point for each walk\n",
    "    for x in range(5):  # Each walk has 5 steps\n",
    "        step = random_walk[-1]  # Last position in the random walk\n",
    "        dice = np.random.randint(1, 7)  # Roll a dice (1 to 6)\n",
    "        if dice <= 2:\n",
    "            step = max(0, step - 1)  # Step back, but not below 0\n",
    "        elif dice <= 5:\n",
    "            step = step + 1  # Step forward by 1\n",
    "        else:\n",
    "            step = step + np.random.randint(1, 7)  # Step forward by a random number between 1 and 6\n",
    "        random_walk.append(step)  # Append the new step to the random walk\n",
    "    all_walks.append(random_walk)  # Add this walk to the list of all walks\n",
    "\n",
    "# Convert all_walks to NumPy array: np_aw\n",
    "np_aw = np.array(all_walks)\n",
    "\n",
    "# Transpose np_aw: np_aw_t (so each column represents a walk)\n",
    "np_aw_t = np.transpose(np_aw)\n",
    "\n",
    "# Select last row from np_aw_t: ends (the final positions of all walks)\n",
    "end = np_aw_t[-1, :]  # Get the last row, which contains the final positions\n",
    "\n",
    "# Plot the final positions of the random walks (histogram)\n",
    "plt.hist(end, bins=3)  # Create histogram of final positions with 3 bins\n",
    "plt.show()"
   ]
  },
  {
   "cell_type": "code",
   "execution_count": null,
   "id": "dd8586b0-2fc9-4583-9541-21594cced80a",
   "metadata": {},
   "outputs": [],
   "source": [
    "print(np_aw)"
   ]
  },
  {
   "cell_type": "code",
   "execution_count": null,
   "id": "cc60115f-8b55-4b8d-9c02-660325b9ae77",
   "metadata": {},
   "outputs": [],
   "source": [
    "print(np_aw_t)"
   ]
  },
  {
   "cell_type": "code",
   "execution_count": null,
   "id": "8c437ede-cc91-4305-82ab-4089ab46c5e1",
   "metadata": {},
   "outputs": [],
   "source": [
    "print(np_aw_t[-1,:])"
   ]
  }
 ],
 "metadata": {
  "kernelspec": {
   "display_name": "Python [conda env:base] *",
   "language": "python",
   "name": "conda-base-py"
  },
  "language_info": {
   "codemirror_mode": {
    "name": "ipython",
    "version": 3
   },
   "file_extension": ".py",
   "mimetype": "text/x-python",
   "name": "python",
   "nbconvert_exporter": "python",
   "pygments_lexer": "ipython3",
   "version": "3.12.3"
  }
 },
 "nbformat": 4,
 "nbformat_minor": 5
}
