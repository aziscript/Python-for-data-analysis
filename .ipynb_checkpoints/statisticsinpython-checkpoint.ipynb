{
 "cells": [
  {
   "cell_type": "markdown",
   "id": "156047ec-2337-4c31-a17c-4bc0bc2763cb",
   "metadata": {
    "jp-MarkdownHeadingCollapsed": true
   },
   "source": [
    "# What is statistics\n",
    "\n",
    "Statistics is the practice and study of collecting and analyzing data to answer various questions, such as predicting purchase likelihood or determining optimal clothing sizes . A/B testing is one application of statistics, used to compare the effectiveness of different ads . However, statistics has limitations and cannot address questions relying on subjective reasoning or hidden factors."
   ]
  },
  {
   "cell_type": "markdown",
   "id": "7a4ce688-f035-4166-b64b-1f5b41a8415d",
   "metadata": {},
   "source": [
    "# 📊 Two Main Branches of Statistics\n",
    "\n",
    "---\n",
    "\n",
    "## 🔹 Descriptive Statistics\n",
    "\n",
    "Descriptive statistics is all about **describing or summarizing** data you already have.  \n",
    "It does **not** make guesses or predictions — it just tells you **what's going on in your data**.\n",
    "\n",
    "### 🧠 Example:\n",
    "\n",
    "Imagine you ask 5 people how many hours they slept last night:\n",
    "\n",
    "`6, 7, 8, 5, 4`\n",
    "\n",
    "Descriptive statistics helps you answer questions like:\n",
    "\n",
    "- **What’s the average?**  \n",
    "  Add them up: `6 + 7 + 8 + 5 + 4 = 30`  \n",
    "  Divide by 5: `30 ÷ 5 = 6 hours` → This is called the **mean (average)**.\n",
    "\n",
    "- **What’s the most common value?**  \n",
    "  No number repeats here, but if it did, that would be the **mode**.\n",
    "\n",
    "- **What’s the middle number?**  \n",
    "  Put them in order: `4, 5, 6, 7, 8` → Middle is **6** → That’s the **median**.\n",
    "\n",
    "- **What’s the highest and lowest values?**  \n",
    "  Highest = `8`, Lowest = `4` → Range is `8 - 4 = 4`.\n",
    "\n",
    "> So with descriptive stats, you’re saying:  \n",
    "> **“The average person in this small group slept 6 hours, with sleep times ranging from 4 to 8 hours.”**\n",
    "\n",
    "---\n",
    "\n",
    "## 🔹 Inferential Statistics\n",
    "\n",
    "Inferential statistics is about using the data you have to **make guesses (inferences)** about a **bigger group**.  \n",
    "You're using a **small sample** to say something about a **larger population**.\n",
    "\n",
    "### 🧠 Example:\n",
    "\n",
    "Let’s say you surveyed 5 students in your class and found their average sleep was **6 hours**.  \n",
    "Now, you want to estimate how much **all the students in your school** sleep.\n",
    "\n",
    "You can’t ask all 500 students, but with inferential stats, you can:\n",
    "\n",
    "- **Estimate** the average for the whole school  \n",
    "- **Predict** trends  \n",
    "- **Test** if your small group is similar to the larger group\n",
    "\n",
    "> So inferential stats helps you say things like:  \n",
    "> **“Based on this small group, I’m 95% confident that the average sleep for all students is between 5.5 and 6.5 hours.”**\n",
    "\n",
    "It uses **probability** to help you make these guesses.\n"
   ]
  },
  {
   "cell_type": "markdown",
   "id": "9f9e94dc-76f7-400d-92ed-dd057b7e8416",
   "metadata": {},
   "source": [
    "# 🎯 What are Data Types?\n",
    "\n",
    "When you collect data (information), it usually falls into two broad types:\n",
    "\n",
    "- **Numeric (Quantitative)** – Numbers you can **measure or count**\n",
    "- **Categorical (Qualitative)** – Data you can **group or label**\n",
    "\n",
    "---\n",
    "\n",
    "## 🔢 1. Numeric (Quantitative) Data\n",
    "\n",
    "These are numbers that represent **amounts** or **counts**. This type is further divided into:\n",
    "\n",
    "### ✅ a. Continuous Data\n",
    "\n",
    "- This type of data can take **any value** within a range.  \n",
    "- It’s usually **measured**, not counted.\n",
    "\n",
    "**Examples:**\n",
    "\n",
    "- Your weight: `70.5 kg`, `71.2 kg`, etc.  \n",
    "- Speed: `45.6 km/h`, `90.2 km/h`  \n",
    "- Time: `2.3 seconds`, `10.75 hours`\n",
    "\n",
    "> You can have **decimals**, and the values can go on and on.\n",
    "\n",
    "---\n",
    "\n",
    "### ✅ b. Discrete Data\n",
    "\n",
    "- These are **whole numbers**.  \n",
    "- You can **count** them. No decimals allowed.\n",
    "\n",
    "**Examples:**\n",
    "\n",
    "- Number of siblings: `0`, `1`, `2`, `3`…  \n",
    "- Number of packages shipped: `25`, `50`, `100`  \n",
    "- Number of people in a room\n",
    "\n",
    "> You can't have **2.5 people** — it must be **whole numbers only**.\n",
    "\n",
    "---\n",
    "\n",
    "## 🎨 2. Categorical (Qualitative) Data\n",
    "\n",
    "These are **non-numeric**. You’re grouping things by **type** or **category**, not quantity.\n",
    "\n",
    "Categorical data is also split into two:\n",
    "\n",
    "---\n",
    "\n",
    "### ✅ a. Nominal Data\n",
    "\n",
    "- These are just **labels or names**.  \n",
    "- There’s **no order or ranking** between them.\n",
    "\n",
    "**Examples:**\n",
    "\n",
    "- Marital status: Single, Married, Divorced  \n",
    "- Gender: Male, Female, Other  \n",
    "- Country of residence: Nigeria, Ghana, Kenya\n",
    "\n",
    "> You can't say **\"Single is better than Married\"** — there's no ranking.\n",
    "\n",
    "---\n",
    "\n",
    "### ✅ b. Ordinal Data\n",
    "\n",
    "- These are also categories, **but they have an order or ranking**.  \n",
    "- You still can’t do math with them, but you **can compare**.\n",
    "\n",
    "**Examples:**\n",
    "\n",
    "- Survey answers: Strongly Disagree, Disagree, Neutral, Agree, Strongly Agree  \n",
    "- Education level: High School, Bachelor’s, Master’s, PhD  \n",
    "- T-shirt sizes: Small, Medium, Large, XL\n",
    "\n",
    "> There's a **clear order**, but you can't say **\"XL is 3 times bigger than Small\"** numerically.\n"
   ]
  },
  {
   "cell_type": "markdown",
   "id": "4a290c90-ebb2-492c-9bc6-93f6945142b7",
   "metadata": {},
   "source": [
    "> Note that numbers can represent categorical variables, but this does not make them numeric variables. The type of data dictates appropriate summary statistics and visualizations; for example, means and scatter plots are suitable for numerical data, while counts and bar plots are better for categorical data ."
   ]
  },
  {
   "cell_type": "markdown",
   "id": "5a2663c8-e431-415c-97dd-0fab34c18a97",
   "metadata": {},
   "source": [
    "# 📏 Choosing the Best Measure: Mean or Median?\n",
    "\n",
    "When you're trying to describe the \"typical\" value in a dataset, you often use:\n",
    "\n",
    "- **Mean** (average)  \n",
    "- **Median** (middle value)\n",
    "\n",
    "But **which one you choose depends on how your data looks** — especially if it has **outliers** or is **skewed**.\n",
    "\n",
    "---\n",
    "\n",
    "## ✅ When to Use the **Mean**\n",
    "\n",
    "- Use the **mean** when your data is **symmetrical** (evenly spread out).  \n",
    "- It works best when there are **no extreme values (outliers)** that could throw it off.\n",
    "\n",
    "### 🔸 Example (Symmetrical Data):\n",
    "Sleep hours: `6, 7, 8, 7, 6`\n",
    "\n",
    "- **Mean** = (6 + 7 + 8 + 7 + 6) ÷ 5 = **6.8**  \n",
    "- **Median** = **7**\n",
    "\n",
    "> Both values are close, so the mean gives a good summary.\n",
    "\n",
    "---\n",
    "\n",
    "## ⚠️ When to Use the **Median**\n",
    "\n",
    "- Use the **median** when your data is **skewed** or has **outliers** (really high or low numbers).\n",
    "- The **median is more stable** because it's just the middle number — it doesn't care how big or small the extremes are.\n",
    "\n",
    "---\n",
    "\n",
    "## 📉 Left-Skewed Data (Negative Skew)\n",
    "\n",
    "- A few **very low values** pull the **mean down**.  \n",
    "- In this case: **Mean < Median**\n",
    "\n",
    "### 🔸 Example:\n",
    "Incomes: `20k, 25k, 30k, 35k, 100k`\n",
    "\n",
    "- **Mean** = (20 + 25 + 30 + 35 + 100) ÷ 5 = **42k**  \n",
    "- **Median** = **30k**\n",
    "\n",
    "> That **100k outlier** pulls the mean higher, but the **median stays realistic**.\n",
    "\n",
    "---\n",
    "\n",
    "## 📈 Right-Skewed Data (Positive Skew)\n",
    "\n",
    "- A few **very high values** pull the **mean up**.  \n",
    "- In this case: **Mean > Median**\n",
    "\n",
    "### 🔸 Example:\n",
    "Home prices: `100k, 120k, 130k, 150k, 1,000k`\n",
    "\n",
    "- **Mean** = **300k**  \n",
    "- **Median** = **130k**\n",
    "\n",
    "> That **$1 million house** inflates the average, but the **median tells a truer story**.\n",
    "\n",
    "---\n",
    "\n",
    "## ✅ Summary Table\n",
    "\n",
    "| Data Shape      | Best Measure | Why                      |\n",
    "|-----------------|--------------|--------------------------|\n",
    "| Symmetrical     | **Mean**     | No extreme values        |\n",
    "| Skewed/Outliers | **Median**   | Not affected by extremes |\n",
    "| Left-skewed     | **Median**   | Mean is too low          |\n",
    "| Right-skewed    | **Median**   | Mean is too high         |\n"
   ]
  },
  {
   "cell_type": "markdown",
   "id": "7831c7c9-3405-4616-a1bb-58652f2a1209",
   "metadata": {},
   "source": [
    "## Mean and Median\n",
    "In this chapter, you'll be working with the food_consumption dataset from 2018 Food Carbon Footprint Index by nu3"
   ]
  },
  {
   "cell_type": "code",
   "execution_count": 135,
   "id": "3d7d3b4e-30f5-402f-a686-b140a1adef38",
   "metadata": {},
   "outputs": [
    {
     "data": {
      "text/plain": [
       "['.dataframe.ipynb.layout',\n",
       " '.ipynb_checkpoints',\n",
       " 'cars.csv',\n",
       " 'dataframe.ipynb',\n",
       " 'data_manipulation_with_pd.ipynb',\n",
       " 'food_consumption.csv',\n",
       " 'joining_data_with_pd.ipynb',\n",
       " 'netflixproject.ipynb',\n",
       " 'netflix_data.csv',\n",
       " 'schools.csv',\n",
       " 'schoolsproject.ipynb',\n",
       " 'statisticsinpython.ipynb']"
      ]
     },
     "execution_count": 135,
     "metadata": {},
     "output_type": "execute_result"
    }
   ],
   "source": [
    "# Import the os module which provides functions for interacting with the operating system\n",
    "import os\n",
    "# List all files and directories in the current working directory and return them as a list\n",
    "os.listdir()"
   ]
  },
  {
   "cell_type": "code",
   "execution_count": 7,
   "id": "5a5d45c4-2761-41f3-9157-0f1d201de94d",
   "metadata": {},
   "outputs": [
    {
     "name": "stdout",
     "output_type": "stream",
     "text": [
      "(1430, 4)\n"
     ]
    }
   ],
   "source": [
    "import pandas as pd\n",
    "\n",
    "food_consumption = pd.read_csv('food_consumption.csv')\n",
    "print(food_consumption.shape)"
   ]
  },
  {
   "cell_type": "code",
   "execution_count": 9,
   "id": "ec83214f-fed5-42a9-95d9-7db15dff0703",
   "metadata": {},
   "outputs": [
    {
     "name": "stdout",
     "output_type": "stream",
     "text": [
      "     country food_category  consumption  co2_emmission\n",
      "0  Argentina          Pork        10.51          37.20\n",
      "1  Argentina       Poultry        38.66          41.53\n",
      "2  Argentina          Beef        55.48        1712.00\n",
      "3  Argentina   Lamb & Goat         1.56          54.63\n",
      "4  Argentina          Fish         4.36           6.96\n"
     ]
    }
   ],
   "source": [
    "print(food_consumption.head())"
   ]
  },
  {
   "cell_type": "code",
   "execution_count": 11,
   "id": "553cb2c7-cae5-4f23-8cad-4ec6199d6359",
   "metadata": {},
   "outputs": [
    {
     "name": "stdout",
     "output_type": "stream",
     "text": [
      "44.650000000000006\n",
      "14.58\n"
     ]
    }
   ],
   "source": [
    "import numpy as np\n",
    "# Subset country for USA: usa_consumption\n",
    "usa_consumption = food_consumption[food_consumption['country'] == 'USA']\n",
    "\n",
    "# Calculate mean consumption in USA\n",
    "print(usa_consumption['consumption'].agg(\"mean\"))\n",
    "\n",
    "# Calculate median consumption in USA\n",
    "print(usa_consumption['consumption'].agg(\"median\"))"
   ]
  },
  {
   "cell_type": "code",
   "execution_count": 13,
   "id": "e6256093-5f55-43a6-8c6f-9e579a37da5d",
   "metadata": {},
   "outputs": [
    {
     "name": "stdout",
     "output_type": "stream",
     "text": [
      "Index(['country', 'food_category', 'consumption', 'co2_emmission'], dtype='object')\n"
     ]
    }
   ],
   "source": [
    "print(food_consumption.columns)"
   ]
  },
  {
   "cell_type": "code",
   "execution_count": 17,
   "id": "2a1809db-3d97-4d05-b59e-542b5508f6cc",
   "metadata": {},
   "outputs": [
    {
     "name": "stdout",
     "output_type": "stream",
     "text": [
      "        country food_category  consumption  co2_emmission\n",
      "8     Argentina          Rice         8.77          11.22\n",
      "19    Australia          Rice        11.03          14.12\n",
      "30      Albania          Rice         7.78           9.96\n",
      "41      Iceland          Rice         3.89           4.98\n",
      "52  New Zealand          Rice         9.16          11.72\n"
     ]
    }
   ],
   "source": [
    "# Import matplotlib.pyplot with alias plt\n",
    "import matplotlib.pyplot as plt\n",
    "\n",
    "# Subset for food_category equals rice\n",
    "rice_consumption = food_consumption.query('food_category==\"Rice\"')\n",
    "print(rice_consumption.head())"
   ]
  },
  {
   "cell_type": "code",
   "execution_count": 21,
   "id": "0ceef202-9de8-4b84-b6d1-4ffe8871dbbd",
   "metadata": {},
   "outputs": [
    {
     "data": {
      "image/png": "[encoded data removed]",
      "text/plain": [
       "<Figure size 640x480 with 1 Axes>"
      ]
     },
     "metadata": {},
     "output_type": "display_data"
    }
   ],
   "source": [
    "# Histogram of co2_emission for rice and show plot\n",
    "plt.hist(rice_consumption['co2_emmission'])\n",
    "plt.show()"
   ]
  },
  {
   "cell_type": "markdown",
   "id": "8ef134ce-7d6a-4f53-a599-9b4a1b5ea6a5",
   "metadata": {},
   "source": [
    "The chart is `Right-Skewed`"
   ]
  },
  {
   "cell_type": "code",
   "execution_count": 24,
   "id": "0e1e839f-8439-455f-86de-2bc3a98a6aad",
   "metadata": {},
   "outputs": [
    {
     "name": "stdout",
     "output_type": "stream",
     "text": [
      "mean      37.591615\n",
      "median    15.200000\n",
      "Name: co2_emmission, dtype: float64\n"
     ]
    }
   ],
   "source": [
    "# Calculate mean and median of co2_emission with .agg()\n",
    "print(rice_consumption['co2_emmission'].agg([\"mean\", \"median\"]))"
   ]
  },
  {
   "cell_type": "markdown",
   "id": "b278ea94-be63-43ed-8eae-8a64e815e619",
   "metadata": {},
   "source": [
    "The `mean` is substantially higher than the `median` since it's being pulled up by the high values over 100 kg/person/year. So measure of central tendency that best summarizes the kilograms of CO2 emissions per person per year for `Rice` is `median`."
   ]
  },
  {
   "cell_type": "markdown",
   "id": "aa81553d-1ec9-4aac-9a74-a69fc49f8a63",
   "metadata": {},
   "source": [
    "## 📊 Variance and standard deviation(2 ways to measure the spread of a variable)\n",
    "* Variance and Standard Deviation tell you how spread out your data is.\n",
    "\n",
    "* Are the numbers close together or far apart?"
   ]
  },
  {
   "cell_type": "code",
   "execution_count": 87,
   "id": "e92bf564-3da5-419f-8e20-60f4b9b1212c",
   "metadata": {
    "scrolled": true
   },
   "outputs": [
    {
     "name": "stdout",
     "output_type": "stream",
     "text": [
      "                                   var         std\n",
      "food_category                                     \n",
      "Beef                      88748.408132  297.906710\n",
      "Eggs                         21.371819    4.622966\n",
      "Fish                        921.637349   30.358481\n",
      "Lamb & Goat               16475.518363  128.356996\n",
      "Milk - inc. cheese        17671.891985  132.935669\n",
      "Nuts inc. Peanut Butter      35.639652    5.969895\n",
      "Pork                       3094.963537   55.632396\n",
      "Poultry                     245.026801   15.653332\n",
      "Rice                       2281.376243   47.763754\n",
      "Soybeans                      0.879882    0.938020\n",
      "Wheat and Wheat Products     71.023937    8.427570\n"
     ]
    }
   ],
   "source": [
    "# Print variance and sd of co2_emission for each food_category\n",
    "print(food_consumption.groupby('food_category')['co2_emmission'].agg([\"var\", \"std\"]))"
   ]
  },
  {
   "cell_type": "code",
   "execution_count": 89,
   "id": "feb6f694-521c-4a43-b2c9-973e712c2313",
   "metadata": {
    "scrolled": true
   },
   "outputs": [
    {
     "data": {
      "image/png": "[encoded data removed]",
      "text/plain": [
       "<Figure size 640x480 with 1 Axes>"
      ]
     },
     "metadata": {},
     "output_type": "display_data"
    }
   ],
   "source": [
    "# Create histogram of co2_emission for food_category 'beef'\n",
    "food_consumption[food_consumption['food_category'] == 'Beef']['co2_emmission'].hist()\n",
    "plt.show()"
   ]
  },
  {
   "cell_type": "code",
   "execution_count": 91,
   "id": "b0b035ec-1081-4f00-923e-dd9b424a8f53",
   "metadata": {},
   "outputs": [
    {
     "data": {
      "image/png": "[encoded data removed]",
      "text/plain": [
       "<Figure size 640x480 with 1 Axes>"
      ]
     },
     "metadata": {},
     "output_type": "display_data"
    }
   ],
   "source": [
    "# Create histogram of co2_emission for food_category 'eggs'\n",
    "food_consumption[food_consumption['food_category'] == 'Eggs']['co2_emmission'].hist()\n",
    "plt.show()"
   ]
  },
  {
   "cell_type": "markdown",
   "id": "056b6860-f4ad-49bb-a19d-90e1653f9c57",
   "metadata": {},
   "source": [
    "`Beef` has the largest amount of **variation** in its `CO2 emission`, while `eggs` have a relatively small amount of **variation**."
   ]
  },
  {
   "cell_type": "markdown",
   "id": "ecada7da-cc42-4262-a46a-55fdda30120b",
   "metadata": {},
   "source": [
    "## 📊 Quartiles, quantiles, and quintiles(measuring the spread of a variable))\n",
    "### What this code does overall:\n",
    "#### It tells you:\n",
    "* What are the CO₂ emission values at different percent levels (like the middle value, bottom 25%, top 25%, etc.).\n",
    "\n",
    "* This is very helpful when you're trying to understand how spread out or concentrated your data is."
   ]
  },
  {
   "cell_type": "code",
   "execution_count": 97,
   "id": "edff8b63-a0e4-48fd-9902-abe7a3b45759",
   "metadata": {},
   "outputs": [
    {
     "name": "stdout",
     "output_type": "stream",
     "text": [
      "[ 5.21   16.53   62.5975]\n"
     ]
    }
   ],
   "source": [
    "# Import numpy, a library that helps with math and data calculations\n",
    "import numpy as np\n",
    "\n",
    "# 📊 Quartiles: Divide the 'co2_emmission' column into 4 parts (25%, 50%, 75%)\n",
    "quartiles = np.quantile(food_consumption['co2_emmission'], [0.25, 0.5, 0.75])\n",
    "\n",
    "# Show the result of the quartiles\n",
    "print(quartiles)"
   ]
  },
  {
   "cell_type": "code",
   "execution_count": 99,
   "id": "989c4e7a-03a5-4cf9-8d39-50269ef9eaae",
   "metadata": {},
   "outputs": [
    {
     "name": "stdout",
     "output_type": "stream",
     "text": [
      "[   0.       3.54    11.026   25.59    99.978 1712.   ]\n"
     ]
    }
   ],
   "source": [
    "# 📊 Quintiles: Divide the data into 5 parts (0%, 20%, 40%, 60%, 80%, 100%)\n",
    "quintiles = np.quantile(food_consumption['co2_emmission'], [0, 0.2, 0.4, 0.6, 0.8, 1.0])\n",
    "\n",
    "# Show the result of the quintiles\n",
    "print(quintiles)"
   ]
  },
  {
   "cell_type": "code",
   "execution_count": 101,
   "id": "f711ee16-acf8-4285-9ce7-d540f25757f6",
   "metadata": {
    "jupyter": {
     "source_hidden": true
    }
   },
   "outputs": [
    {
     "name": "stdout",
     "output_type": "stream",
     "text": [
      "[0.00000e+00 6.68000e-01 3.54000e+00 7.04000e+00 1.10260e+01 1.65300e+01\n",
      " 2.55900e+01 4.42710e+01 9.99780e+01 2.03629e+02 1.71200e+03]\n"
     ]
    }
   ],
   "source": [
    "# 📊 Deciles: Divide the data into 10 parts (0%, 10%, 20%, ..., 100%)\n",
    "decile = np.quantile(food_consumption['co2_emmission'], np.linspace(0, 1, 11))\n",
    "\n",
    "# Show the result of the deciles\n",
    "print(decile)"
   ]
  },
  {
   "cell_type": "markdown",
   "id": "d5a81ae8-a5ac-48e2-bed5-5fcf50181287",
   "metadata": {},
   "source": [
    "While calculating more `quantiles` gives you a more detailed look at the data, it also produces more numbers, making the summary more difficult to quickly understand."
   ]
  },
  {
   "cell_type": "markdown",
   "id": "b83bc905-ade4-4497-9f09-70e791d9a844",
   "metadata": {},
   "source": [
    "## 📊 Outliers using IQR(Interquartile range)\n",
    "**Outliers** are data points that are **very different** from the rest of your data.\n",
    "They **stand out** because they’re either much **higher** or **lower** than most of the other values.\n",
    "\n",
    "**Outliers** can have big effects on statistics like **mean**, as well as statistics that rely on the mean, such as **variance** and **standard deviation**.\n",
    "\n",
    "**Interquartile range**, or **IQR**, is another way of measuring **spread** that's less influenced by **outliers**. IQR is also often used to find outliers.\n",
    "\n",
    "**1. Find Quartiles:**\n",
    "\n",
    "* **Q1 (Lower Quartile):** 25th percentile of the data.\n",
    "* **Q3 (Upper Quartile):** 75th percentile of the data.\n",
    "\n",
    "**2. Calculate the Interquartile Range (IQR):**\n",
    "\n",
    "* **IQR = Q3 - Q1**  This represents the spread of the middle 50% of the data.\n",
    "\n",
    "**3. Define Outlier Fences:**\n",
    "\n",
    "* **Lower Fence = Q1 - 1.5 × IQR**\n",
    "* **Upper Fence = Q3 + 1.5 × IQR**\n",
    "\n",
    "**4. Identify Outliers:**\n",
    "\n",
    "Any data point falling below the lower fence or above the upper fence is considered an outlier."
   ]
  },
  {
   "cell_type": "code",
   "execution_count": 113,
   "id": "a4d97646-dccb-4b1f-81b4-72c8cccc352e",
   "metadata": {
    "scrolled": true
   },
   "outputs": [
    {
     "name": "stdout",
     "output_type": "stream",
     "text": [
      "country\n",
      "Albania      1777.85\n",
      "Algeria       707.88\n",
      "Angola        412.99\n",
      "Argentina    2172.40\n",
      "Armenia      1109.93\n",
      "              ...   \n",
      "Uruguay      1634.91\n",
      "Venezuela    1104.10\n",
      "Vietnam       641.51\n",
      "Zambia        225.30\n",
      "Zimbabwe      350.33\n",
      "Name: co2_emmission, Length: 130, dtype: float64\n"
     ]
    }
   ],
   "source": [
    "# Calculate total co2_emission per country: emissions_by_country\n",
    "emissions_by_country = food_consumption.groupby('country')['co2_emmission'].sum()\n",
    "\n",
    "print(emissions_by_country)"
   ]
  },
  {
   "cell_type": "code",
   "execution_count": 120,
   "id": "ea516375-357e-4e21-a504-148b852ae2ad",
   "metadata": {},
   "outputs": [
    {
     "name": "stdout",
     "output_type": "stream",
     "text": [
      "25.948349999999976\n"
     ]
    }
   ],
   "source": [
    "# Compute the first and third quartiles and IQR of emissions_by_country\n",
    "q1 = np.percentile(emissions_by_country, 0.25) \n",
    "q3 = np.percentile(emissions_by_country, 0.75) \n",
    "iqr = q3 - q1\n",
    "print(iqr)"
   ]
  },
  {
   "cell_type": "markdown",
   "id": "7312902e-53d7-42dd-8163-c3f02bc2e8a3",
   "metadata": {},
   "source": [
    "> If a value is more than 1.5 times the typical spread (IQR) below Q1 or above Q3, it’s unusually far away — and likely an outlier."
   ]
  },
  {
   "cell_type": "code",
   "execution_count": 130,
   "id": "1be25af4-551f-4b73-b3b5-100bc1e986b0",
   "metadata": {},
   "outputs": [
    {
     "name": "stdout",
     "output_type": "stream",
     "text": [
      "115.45165000000004\n"
     ]
    }
   ],
   "source": [
    "# Calculate the lower and upper cutoffs for outliers\n",
    "lower = q1 - 1.5 * iqr\n",
    "upper = q3 + 1.5 * iqr\n",
    "print(lower)"
   ]
  },
  {
   "cell_type": "code",
   "execution_count": 132,
   "id": "7eacf1d2-5d75-4fd1-9e58-b926c9c93610",
   "metadata": {},
   "outputs": [
    {
     "name": "stdout",
     "output_type": "stream",
     "text": [
      "219.24504999999994\n"
     ]
    }
   ],
   "source": [
    "print(upper)"
   ]
  },
  {
   "cell_type": "code",
   "execution_count": 127,
   "id": "892dc5f2-8607-473e-a5b8-8dbf1a7b1d3d",
   "metadata": {},
   "outputs": [
    {
     "name": "stdout",
     "output_type": "stream",
     "text": [
      "country\n",
      "Albania      1777.85\n",
      "Algeria       707.88\n",
      "Angola        412.99\n",
      "Argentina    2172.40\n",
      "Armenia      1109.93\n",
      "              ...   \n",
      "Uruguay      1634.91\n",
      "Venezuela    1104.10\n",
      "Vietnam       641.51\n",
      "Zambia        225.30\n",
      "Zimbabwe      350.33\n",
      "Name: co2_emmission, Length: 124, dtype: float64\n"
     ]
    }
   ],
   "source": [
    "# Subset emissions_by_country to find outliers\n",
    "outliers = emissions_by_country[(emissions_by_country < lower) | (emissions_by_country > upper)]\n",
    "print(outliers)"
   ]
  },
  {
   "cell_type": "markdown",
   "id": "ddebd7b0-2aec-4eef-a5d6-9f6624aac3e5",
   "metadata": {},
   "source": [
    "It looks like Argentina has a substantially higher amount of CO2 emissions per person than other countries in the world."
   ]
  },
  {
   "attachments": {},
   "cell_type": "markdown",
   "id": "d64342e3-0f13-4f97-a0ee-a97c0586224b",
   "metadata": {},
   "source": [
    "## 📊 Probability Basics and Random Sampling in Python\n",
    "\n",
    "Probability measures the chances of an event happening. It's calculated by dividing the number of ways an event can occur by the total number of possible outcomes.\n",
    "\n",
    "**Example:** The probability of a fair coin landing on heads is 50% (or 0.5) because there is 1 favorable outcome (heads) out of 2 possible outcomes (heads or tails).\n",
    "\n",
    "\n",
    "### Random Sampling in Python\n",
    "\n",
    "Python's `random.sample()` method (or `numpy.random.choice` with `replace=False` for sampling without replacement) allows you to randomly select items from a dataset.\n",
    "\n",
    "To ensure reproducibility, set the random seed before generating random numbers using `np.random.seed(seed_value)`.  This ensures you get the same sequence of random numbers each time you run your code.  Replace `seed_value` with an integer.\n",
    "\n",
    "\n",
    "### Sampling With and Without Replacement\n",
    "\n",
    "* **With Replacement:**  An item is selected, its value is recorded, and then it's put back into the dataset before the next selection. This means the same item can be chosen multiple times.  The probability of selecting a specific item remains constant across all selections.\n",
    "\n",
    "* **Without Replacement:** An item is selected, its value is recorded, and then it's removed from the dataset.  This means an item cannot be chosen more than once. The probability of selecting a specific item changes with each selection.\n",
    "\n",
    "\n",
    "### Independence in Probability\n",
    "\n",
    "Two events are independent if the outcome of one event does not affect the outcome of the other.\n",
    "\n",
    "* **Example of Independent Events:** Sampling *with* replacement is an example of independent events.  The selection of one item does not influence the probability of selecting any other item.\n",
    "\n",
    "* **Example of Dependent Events:** Sampling *without* replacement is an example of dependent events. The selection of one item directly affects the probability of selecting other items."
   ]
  },
  {
   "cell_type": "code",
   "execution_count": 15,
   "id": "814ed391-1e3f-42e9-abaf-0304000ce56b",
   "metadata": {},
   "outputs": [
    {
     "data": {
      "text/plain": [
       "['.dataframe.ipynb.layout',\n",
       " '.ipynb_checkpoints',\n",
       " 'amir_deals.csv',\n",
       " 'cars.csv',\n",
       " 'dataframe.ipynb',\n",
       " 'data_manipulation_with_pd.ipynb',\n",
       " 'food_consumption.csv',\n",
       " 'joining_data_with_pd.ipynb',\n",
       " 'netflixproject.ipynb',\n",
       " 'netflix_data.csv',\n",
       " 'schools.csv',\n",
       " 'schoolsproject.ipynb',\n",
       " 'statisticsinpython.ipynb']"
      ]
     },
     "execution_count": 15,
     "metadata": {},
     "output_type": "execute_result"
    }
   ],
   "source": [
    "# Import the os module which provides functions for interacting with the operating system\n",
    "import os\n",
    "# List all files and directories in the current working directory and return them as a list\n",
    "os.listdir()"
   ]
  },
  {
   "cell_type": "code",
   "execution_count": 17,
   "id": "b5d20180-31bf-4a5b-a6d8-84f8dbf7ff4d",
   "metadata": {},
   "outputs": [
    {
     "data": {
      "text/html": [
       "<div>\n",
       "<style scoped>\n",
       "    .dataframe tbody tr th:only-of-type {\n",
       "        vertical-align: middle;\n",
       "    }\n",
       "\n",
       "    .dataframe tbody tr th {\n",
       "        vertical-align: top;\n",
       "    }\n",
       "\n",
       "    .dataframe thead th {\n",
       "        text-align: right;\n",
       "    }\n",
       "</style>\n",
       "<table border=\"1\" class=\"dataframe\">\n",
       "  <thead>\n",
       "    <tr style=\"text-align: right;\">\n",
       "      <th></th>\n",
       "      <th>Unnamed: 0</th>\n",
       "      <th>product</th>\n",
       "      <th>client</th>\n",
       "      <th>status</th>\n",
       "      <th>amount</th>\n",
       "      <th>num_users</th>\n",
       "    </tr>\n",
       "  </thead>\n",
       "  <tbody>\n",
       "    <tr>\n",
       "      <th>0</th>\n",
       "      <td>1</td>\n",
       "      <td>Product F</td>\n",
       "      <td>Current</td>\n",
       "      <td>Won</td>\n",
       "      <td>7389.52</td>\n",
       "      <td>19</td>\n",
       "    </tr>\n",
       "    <tr>\n",
       "      <th>1</th>\n",
       "      <td>2</td>\n",
       "      <td>Product C</td>\n",
       "      <td>New</td>\n",
       "      <td>Won</td>\n",
       "      <td>4493.01</td>\n",
       "      <td>43</td>\n",
       "    </tr>\n",
       "    <tr>\n",
       "      <th>2</th>\n",
       "      <td>3</td>\n",
       "      <td>Product B</td>\n",
       "      <td>New</td>\n",
       "      <td>Won</td>\n",
       "      <td>5738.09</td>\n",
       "      <td>87</td>\n",
       "    </tr>\n",
       "    <tr>\n",
       "      <th>3</th>\n",
       "      <td>4</td>\n",
       "      <td>Product I</td>\n",
       "      <td>Current</td>\n",
       "      <td>Won</td>\n",
       "      <td>2591.24</td>\n",
       "      <td>83</td>\n",
       "    </tr>\n",
       "    <tr>\n",
       "      <th>4</th>\n",
       "      <td>5</td>\n",
       "      <td>Product E</td>\n",
       "      <td>Current</td>\n",
       "      <td>Won</td>\n",
       "      <td>6622.97</td>\n",
       "      <td>17</td>\n",
       "    </tr>\n",
       "    <tr>\n",
       "      <th>5</th>\n",
       "      <td>6</td>\n",
       "      <td>Product B</td>\n",
       "      <td>New</td>\n",
       "      <td>Won</td>\n",
       "      <td>5496.27</td>\n",
       "      <td>2</td>\n",
       "    </tr>\n",
       "    <tr>\n",
       "      <th>6</th>\n",
       "      <td>7</td>\n",
       "      <td>Product C</td>\n",
       "      <td>Current</td>\n",
       "      <td>Won</td>\n",
       "      <td>3043.13</td>\n",
       "      <td>29</td>\n",
       "    </tr>\n",
       "    <tr>\n",
       "      <th>7</th>\n",
       "      <td>8</td>\n",
       "      <td>Product N</td>\n",
       "      <td>Current</td>\n",
       "      <td>Won</td>\n",
       "      <td>7340.64</td>\n",
       "      <td>13</td>\n",
       "    </tr>\n",
       "    <tr>\n",
       "      <th>8</th>\n",
       "      <td>9</td>\n",
       "      <td>Product F</td>\n",
       "      <td>Current</td>\n",
       "      <td>Won</td>\n",
       "      <td>6780.85</td>\n",
       "      <td>80</td>\n",
       "    </tr>\n",
       "    <tr>\n",
       "      <th>9</th>\n",
       "      <td>10</td>\n",
       "      <td>Product B</td>\n",
       "      <td>Current</td>\n",
       "      <td>Won</td>\n",
       "      <td>5237.24</td>\n",
       "      <td>23</td>\n",
       "    </tr>\n",
       "  </tbody>\n",
       "</table>\n",
       "</div>"
      ],
      "text/plain": [
       "   Unnamed: 0    product   client status   amount  num_users\n",
       "0           1  Product F  Current    Won  7389.52         19\n",
       "1           2  Product C      New    Won  4493.01         43\n",
       "2           3  Product B      New    Won  5738.09         87\n",
       "3           4  Product I  Current    Won  2591.24         83\n",
       "4           5  Product E  Current    Won  6622.97         17\n",
       "5           6  Product B      New    Won  5496.27          2\n",
       "6           7  Product C  Current    Won  3043.13         29\n",
       "7           8  Product N  Current    Won  7340.64         13\n",
       "8           9  Product F  Current    Won  6780.85         80\n",
       "9          10  Product B  Current    Won  5237.24         23"
      ]
     },
     "execution_count": 17,
     "metadata": {},
     "output_type": "execute_result"
    }
   ],
   "source": [
    "import pandas as pd\n",
    "import numpy as np\n",
    "import matplotlib.pyplot as plt\n",
    "\n",
    "amir_deals = pd.read_csv('amir_deals.csv')\n",
    "amir_deals.head(10)"
   ]
  },
  {
   "cell_type": "code",
   "execution_count": 19,
   "id": "af136143-7779-4c51-be47-004206fcdbca",
   "metadata": {},
   "outputs": [
    {
     "name": "stdout",
     "output_type": "stream",
     "text": [
      "product\n",
      "Product B    62\n",
      "Product D    40\n",
      "Product A    23\n",
      "Product C    15\n",
      "Product F    11\n",
      "Product H     8\n",
      "Product I     7\n",
      "Product E     5\n",
      "Product N     3\n",
      "Product G     2\n",
      "Product J     2\n",
      "Name: count, dtype: int64\n"
     ]
    }
   ],
   "source": [
    "# Count the deals for each product\n",
    "counts = amir_deals['product'].value_counts()\n",
    "print(counts)"
   ]
  },
  {
   "cell_type": "raw",
   "id": "bab339d2-daca-4501-afc8-6a0a74f89d6f",
   "metadata": {},
   "source": [
    "# Count the deals for each product\n",
    "prob = amir_deals['product'].value_counts() / amir_deals.shape[0]\n",
    "print(prob)"
   ]
  },
  {
   "cell_type": "code",
   "execution_count": 24,
   "id": "1e7c54cd-0c24-4a97-a816-fe05a9ad6904",
   "metadata": {
    "scrolled": true
   },
   "outputs": [
    {
     "name": "stdout",
     "output_type": "stream",
     "text": [
      "product\n",
      "Product B    0.348315\n",
      "Product D    0.224719\n",
      "Product A    0.129213\n",
      "Product C    0.084270\n",
      "Product F    0.061798\n",
      "Product H    0.044944\n",
      "Product I    0.039326\n",
      "Product E    0.028090\n",
      "Product N    0.016854\n",
      "Product G    0.011236\n",
      "Product J    0.011236\n",
      "Name: count, dtype: float64\n"
     ]
    }
   ],
   "source": [
    "# Calculate probability of picking a deal with each product\n",
    "probs = counts / counts.sum()\n",
    "print(probs)"
   ]
  },
  {
   "cell_type": "markdown",
   "id": "3c868b92-f7bf-44be-a3ac-b8eaed3a702c",
   "metadata": {},
   "source": [
    "**Question**  \n",
    "If you randomly select one of Amir's deals, what's the probability that the deal will involve Product C?\n",
    "\n",
    "**Possible answers**  \n",
    "- [ ] 15%  \n",
    "- [ ] 80.43%  \n",
    "- [ ] 8.43%  \n",
    "- [ ] 22.5%  \n",
    "- [ ] 124.3%"
   ]
  },
  {
   "cell_type": "code",
   "execution_count": 27,
   "id": "b2e3f932-c70d-4d7b-a5ef-7d8912f45b1e",
   "metadata": {},
   "outputs": [
    {
     "name": "stdout",
     "output_type": "stream",
     "text": [
      "product\n",
      "Product B    34.831461\n",
      "Product D    22.471910\n",
      "Product A    12.921348\n",
      "Product C     8.426966\n",
      "Product F     6.179775\n",
      "Product H     4.494382\n",
      "Product I     3.932584\n",
      "Product E     2.808989\n",
      "Product N     1.685393\n",
      "Product G     1.123596\n",
      "Product J     1.123596\n",
      "Name: count, dtype: float64\n"
     ]
    }
   ],
   "source": [
    "print(probs * 100)"
   ]
  },
  {
   "cell_type": "markdown",
   "id": "9c8e9db1-5ebb-43c7-bbb5-24bfad5de86c",
   "metadata": {},
   "source": [
    "## Sampling"
   ]
  },
  {
   "cell_type": "code",
   "execution_count": 30,
   "id": "2f01353d-c0d6-417a-9a22-8dfc1cf593bd",
   "metadata": {
    "scrolled": true
   },
   "outputs": [
    {
     "name": "stdout",
     "output_type": "stream",
     "text": [
      "     Unnamed: 0    product   client status   amount  num_users\n",
      "127         128  Product B  Current    Won  2070.25          7\n",
      "148         149  Product D  Current    Won  3485.48         52\n",
      "77           78  Product B  Current    Won  6252.30         27\n",
      "104         105  Product D  Current    Won  4110.98         39\n",
      "166         167  Product C      New   Lost  3779.86         11\n"
     ]
    }
   ],
   "source": [
    "# Set random seed\n",
    "np.random.seed(24)\n",
    "\n",
    "# Sample 5 deals without replacement\n",
    "sample_without_replacement = amir_deals.sample(5)\n",
    "print(sample_without_replacement)"
   ]
  },
  {
   "cell_type": "code",
   "execution_count": 32,
   "id": "f1e610f3-45ed-4f9c-96ae-340d7f5e547c",
   "metadata": {},
   "outputs": [
    {
     "name": "stdout",
     "output_type": "stream",
     "text": [
      "     Unnamed: 0    product   client status   amount  num_users\n",
      "162         163  Product D  Current    Won  6755.66         59\n",
      "131         132  Product B  Current    Won  6872.29         25\n",
      "87           88  Product C  Current    Won  3579.63          3\n",
      "145         146  Product A  Current    Won  4682.94         63\n",
      "145         146  Product A  Current    Won  4682.94         63\n"
     ]
    }
   ],
   "source": [
    "# Set random seed\n",
    "np.random.seed(24)\n",
    "# Sample 5 deals with replacement\n",
    "sample_with_replacement = amir_deals.sample(5, replace=True)\n",
    "print(sample_with_replacement)"
   ]
  },
  {
   "cell_type": "markdown",
   "id": "613f8d6e-1cf2-4aa2-b83d-821e68373e0a",
   "metadata": {},
   "source": [
    "## Case 2: Observing a Random Group Size (and Selecting a Group)\n",
    "\n",
    "### 1. Possible Outcomes (Group Sizes)\n",
    "The distinct group sizes in the dataset are:  \n",
    "**Possible Outcomes (Group Sizes)**: `[2, 3, 4, 6]`\n",
    "\n",
    "### 2. Total Number of Possible Outcomes\n",
    "Since we are observing **group sizes**, the **total distinct outcomes** are the unique values in `group_size`:  \n",
    "**Total Possible Outcomes (Unique Sizes)**: `4` (i.e., 2, 3, 4, 6)\n",
    "\n",
    "### 3. Favorable Outcomes (Example: Selecting a Group of Size 2)\n",
    "- **Favorable Groups**: Groups where `group_size == 2`  \n",
    "- **List of Favorable Groups**: `['A', 'D', 'E', 'F', 'H', 'J']` (6 groups)  \n",
    "- **Favorable Outcomes (Count)**: `6`\n",
    "\n",
    "### 4. Probability Calculation\n",
    "- **Probability of Selecting a Group of Size 2**:  \n",
    "  \\[\n",
    "  P(\\text{Size} = 2) = \\frac{\\text{Number of groups with size 2}}{\\text{Total number of groups}} = \\frac{6}{10} = 0.6 \\ (60\\%)\n",
    "  \\]\n",
    "\n",
    "### 5. Probability Distribution for All Group Sizes\n",
    "\n",
    "| Group Size | Number of Groups | Probability |\n",
    "|------------|------------------|-------------|\n",
    "| 2          | 6                | 6/10 = 0.6  |\n",
    "| 3          | 1                | 1/10 = 0.1  |\n",
    "| 4          | 2                | 2/10 = 0.2  |\n",
    "| 6          | 1                | 1/10 = 0.1  |\n",
    "\n",
    "### 6. Key Takeaways\n",
    "- **Possible Outcomes (Sizes)**: `2, 3, 4, 6`  \n",
    "- **Total Possible Outcomes**: `4` (unique sizes)  \n",
    "- **Favorable Outcomes (for size=2)**: `6` groups  \n",
    "- **Probability (size=2)**: `0.6` (60%)  "
   ]
  },
  {
   "cell_type": "code",
   "execution_count": 11,
   "id": "52358e81-14e7-444a-9562-f06b0aea7967",
   "metadata": {},
   "outputs": [
    {
     "name": "stdout",
     "output_type": "stream",
     "text": [
      "  group_id  group_size\n",
      "0        A           2\n",
      "1        B           4\n",
      "2        C           6\n",
      "3        D           2\n",
      "4        E           2\n",
      "5        F           2\n",
      "6        G           3\n",
      "7        H           2\n",
      "8        I           4\n",
      "9        J           2\n"
     ]
    }
   ],
   "source": [
    "import pandas as pd\n",
    "import matplotlib.pyplot as plt\n",
    "\n",
    "data = {'group_id': ['A', 'B', 'C', 'D', 'E', 'F', 'G', 'H', 'I', 'J'],\n",
    "        'group_size': [2, 4, 6, 2, 2, 2, 3, 2, 4, 2]}\n",
    "\n",
    "restaurant_groups = pd.DataFrame(data)\n",
    "print(restaurant_groups)"
   ]
  },
  {
   "cell_type": "code",
   "execution_count": 19,
   "id": "1cee3241-c526-45e0-83cb-80bd58cfd266",
   "metadata": {
    "scrolled": true
   },
   "outputs": [
    {
     "data": {
      "image/png": "[encoded data removed]",
      "text/plain": [
       "<Figure size 640x480 with 1 Axes>"
      ]
     },
     "metadata": {},
     "output_type": "display_data"
    }
   ],
   "source": [
    "# Create a histogram of restaurant_groups and show plot\n",
    "restaurant_groups['group_size'].hist(bins=[2, 3, 4, 5, 6], edgecolor='black', color='skyblue')\n",
    "plt.savefig(r'C:\\Users\\NAS\\Pictures\\Datacam projects\\plot3.png')\n",
    "plt.show()"
   ]
  },
  {
   "cell_type": "code",
   "execution_count": 75,
   "id": "7c648f1f-3c63-4fee-b1b1-a717ef3af31c",
   "metadata": {},
   "outputs": [
    {
     "name": "stdout",
     "output_type": "stream",
     "text": [
      "group_size\n",
      "2    0.6\n",
      "4    0.2\n",
      "6    0.1\n",
      "3    0.1\n",
      "Name: count, dtype: float64\n"
     ]
    }
   ],
   "source": [
    "# Create probability distribution\n",
    "size_dist = restaurant_groups['group_size'].value_counts() / restaurant_groups.shape[0]\n",
    "print(size_dist)"
   ]
  },
  {
   "cell_type": "code",
   "execution_count": 77,
   "id": "6499db98-5d2e-4d3b-b9b2-7e5937c7f1e8",
   "metadata": {
    "scrolled": true
   },
   "outputs": [
    {
     "name": "stdout",
     "output_type": "stream",
     "text": [
      "   group_size  prob\n",
      "0           2   0.6\n",
      "1           4   0.2\n",
      "2           6   0.1\n",
      "3           3   0.1\n"
     ]
    }
   ],
   "source": [
    "# Reset index and rename columns\n",
    "size_dist = size_dist.reset_index()\n",
    "size_dist.columns = ['group_size', 'prob']\n",
    "\n",
    "print(size_dist)"
   ]
  },
  {
   "cell_type": "code",
   "execution_count": 79,
   "id": "3f9d5c85-7fd6-4a6f-9761-15b8e6147ce1",
   "metadata": {},
   "outputs": [
    {
     "name": "stdout",
     "output_type": "stream",
     "text": [
      "2.9000000000000004\n"
     ]
    }
   ],
   "source": [
    "# Calculate expected value\n",
    "expected_value = np.sum(size_dist['group_size']*size_dist['prob'])\n",
    "print(expected_value)"
   ]
  },
  {
   "cell_type": "code",
   "execution_count": 85,
   "id": "f1f7ca18-9900-4cd5-8c66-d8b883786f02",
   "metadata": {},
   "outputs": [
    {
     "name": "stdout",
     "output_type": "stream",
     "text": [
      "   group_size  prob\n",
      "1           4   0.2\n",
      "2           6   0.1\n"
     ]
    }
   ],
   "source": [
    "# Subset groups of size 4 or more\n",
    "groups_4_or_more = size_dist[size_dist['group_size'] >= 4]\n",
    "print(groups_4_or_more)"
   ]
  },
  {
   "cell_type": "code",
   "execution_count": 87,
   "id": "e9fe3b66-26d7-4199-b301-c21a6e1f1479",
   "metadata": {},
   "outputs": [
    {
     "name": "stdout",
     "output_type": "stream",
     "text": [
      "0.30000000000000004\n"
     ]
    }
   ],
   "source": [
    "prob_4_or_more = np.sum(groups_4_or_more['prob'])\n",
    "print(prob_4_or_more)"
   ]
  },
  {
   "cell_type": "markdown",
   "id": "a65e8a46-96ed-4ac3-b71c-cac6b36e4ed7",
   "metadata": {},
   "source": [
    "## Let's treat this like a probability problem involving a **random selection** from the DataFrame.\n",
    "\n",
    "### ✅ Step 1: Define the experiment\n",
    "\n",
    "Suppose you are randomly selecting **one row (group)** from the `restaurant_groups` DataFrame. Then:\n",
    "\n",
    "- **Total number of outcomes** = total number of rows = **10**"
   ]
  },
  {
   "cell_type": "code",
   "execution_count": 2,
   "id": "dda21f92-9938-414c-9ea3-380a5f77268f",
   "metadata": {},
   "outputs": [
    {
     "name": "stdout",
     "output_type": "stream",
     "text": [
      "  group_id  group_size\n",
      "0        A           2\n",
      "1        B           4\n",
      "2        C           6\n",
      "3        D           2\n",
      "4        E           2\n",
      "5        F           2\n",
      "6        G           3\n",
      "7        H           2\n",
      "8        I           4\n",
      "9        J           2\n"
     ]
    }
   ],
   "source": [
    "import pandas as pd\n",
    "import matplotlib.pyplot as plt\n",
    "\n",
    "data = {'group_id': ['A', 'B', 'C', 'D', 'E', 'F', 'G', 'H', 'I', 'J'],\n",
    "        'group_size': [2, 4, 6, 2, 2, 2, 3, 2, 4, 2]}\n",
    "\n",
    "restaurant_groups = pd.DataFrame(data)\n",
    "print(restaurant_groups)"
   ]
  },
  {
   "cell_type": "code",
   "execution_count": 5,
   "id": "37057e06-dbd4-4deb-bdcd-1c3177702eef",
   "metadata": {},
   "outputs": [
    {
     "name": "stdout",
     "output_type": "stream",
     "text": [
      "10\n"
     ]
    }
   ],
   "source": [
    "#Total number of outcomes\n",
    "tn_outcome = restaurant_groups.shape[0]\n",
    "print(tn_outcome)"
   ]
  },
  {
   "cell_type": "markdown",
   "id": "7b2e7145-e79d-420f-b787-2cb663f46426",
   "metadata": {},
   "source": [
    "### ✅ Step 2: Identify the favorable outcomes\n",
    "\n",
    "Now we need to know: **favorable for *what*?**\n",
    "\n",
    "Let’s pick a condition to explain it with an example.  \n",
    "Say the question is:\n",
    "\n",
    "> **What’s the probability of selecting a group whose size is 2?**\n",
    "\n",
    "Then:\n",
    "\n",
    "- **Favorable outcomes** = rows where `group_size == 2`\n",
    "\n",
    "Let’s count them:\n",
    "\n",
    "So there are **6 favorable outcomes**."
   ]
  },
  {
   "cell_type": "code",
   "execution_count": 60,
   "id": "7584a4e6-1eb9-42c8-8a3f-d0c70d60e6d0",
   "metadata": {},
   "outputs": [
    {
     "name": "stdout",
     "output_type": "stream",
     "text": [
      "  group_id  group_size\n",
      "0        A           2\n",
      "3        D           2\n",
      "4        E           2\n",
      "5        F           2\n",
      "7        H           2\n",
      "9        J           2\n"
     ]
    }
   ],
   "source": [
    "# substet restaurant_groups where group whose size is 2?\n",
    "rest_group_size_two = restaurant_groups.query('group_size == 2')\n",
    "print(rest_group_size_two)"
   ]
  },
  {
   "cell_type": "code",
   "execution_count": 65,
   "id": "3962c3c3-7b32-4b0c-8e36-48c92b89208f",
   "metadata": {},
   "outputs": [
    {
     "name": "stdout",
     "output_type": "stream",
     "text": [
      "6\n"
     ]
    }
   ],
   "source": [
    "#favorable outcomes\n",
    "#counts how many times a group_id had a group_size of 2\n",
    "fav_outcome_group_size_two = rest_group_size_two.shape[0]\n",
    "print(fav_outcome_group_size_two)"
   ]
  },
  {
   "cell_type": "markdown",
   "id": "9c2210aa-a9ce-4c67-86b6-c1e70f9bafb8",
   "metadata": {},
   "source": [
    "### ✅ Step 3: Use the probability formula\n",
    "\n",
    "\\[\n",
    "\\text{Probability} = \\frac{\\text{Favorable outcomes}}{\\text{Total outcomes}} = \\frac{6}{10} = 0.6 = 60\\%\n",
    "\\]\n",
    "\n",
    "---\n",
    "\n",
    "### 📌 Summary:\n",
    "\n",
    "- **Total outcomes:** 10  \n",
    "- **Favorable outcomes (group size = 2):** 6  \n",
    "- **Probability of randomly selecting a group of size 2:** **0.6** or **60%**"
   ]
  },
  {
   "cell_type": "code",
   "execution_count": 12,
   "id": "05ca922d-182b-4930-9548-3cf6a8562656",
   "metadata": {},
   "outputs": [
    {
     "name": "stdout",
     "output_type": "stream",
     "text": [
      "0.6\n"
     ]
    }
   ],
   "source": [
    "# What’s the probability of selecting a group whose size is 2?\n",
    "prob_size_two =  fav_outcome_group_size_two / tn_outcome\n",
    "print(prob_size_two)"
   ]
  },
  {
   "cell_type": "code",
   "execution_count": 68,
   "id": "2bab0f75-2cab-4fb7-9059-a90886fc0ac6",
   "metadata": {},
   "outputs": [
    {
     "name": "stdout",
     "output_type": "stream",
     "text": [
      "  group_id  group_size\n",
      "0        A           2\n",
      "1        B           4\n",
      "2        C           6\n",
      "3        D           2\n",
      "4        E           2\n",
      "5        F           2\n",
      "6        G           3\n",
      "7        H           2\n",
      "8        I           4\n",
      "9        J           2\n"
     ]
    }
   ],
   "source": [
    "print(restaurant_groups)"
   ]
  },
  {
   "cell_type": "code",
   "execution_count": 78,
   "id": "cce671a8-8c39-4dec-816d-2bf01b0e39aa",
   "metadata": {},
   "outputs": [
    {
     "name": "stdout",
     "output_type": "stream",
     "text": [
      "group_size\n",
      "2    0.6\n",
      "4    0.2\n",
      "6    0.1\n",
      "3    0.1\n",
      "Name: count, dtype: float64\n"
     ]
    }
   ],
   "source": [
    "# favorable outcomes for all groups size\n",
    "# Counts how many times a `group_id` had a `group_size` of 2\n",
    "# Counts how many times a `group_id` had a `group_size` of 4\n",
    "# Counts how many times a `group_id` had a `group_size` of 6\n",
    "# Counts how many times a `group_id` had a `group_size` of 3\n",
    "all_group_size = restaurant_groups['group_size'].value_counts()/tn_outcome\n",
    "print(all_group_size)"
   ]
  },
  {
   "cell_type": "code",
   "execution_count": 97,
   "id": "cd45a227-442c-4ec8-9db6-65b26b3a88ec",
   "metadata": {},
   "outputs": [
    {
     "name": "stdout",
     "output_type": "stream",
     "text": [
      "group_size\n",
      "2    6\n",
      "4    2\n",
      "6    1\n",
      "3    1\n",
      "Name: count, dtype: int64\n"
     ]
    }
   ],
   "source": [
    "# favorable outcomes for all groups size\n",
    "# Counts how many times a `group_id` had a `group_size` of 2\n",
    "# Counts how many times a `group_id` had a `group_size` of 4\n",
    "# Counts how many times a `group_id` had a `group_size` of 6\n",
    "# Counts how many times a `group_id` had a `group_size` of 3\n",
    "all_group_size = restaurant_groups['group_size'].value_counts()\n",
    "print(all_group_size)"
   ]
  },
  {
   "cell_type": "markdown",
   "id": "8a233a19-a828-4cc8-9e02-382a71ec8b9f",
   "metadata": {},
   "source": [
    "# 📊 Continuous Uniform Distribution\n",
    "\n",
    "A **continuous uniform distribution** is a way of describing a situation where:\n",
    "\n",
    "- You're **measuring something** (like time, height, weight…)\n",
    "- **Any value** within a certain range is **equally likely** to happen  \n",
    "- There are **no gaps** between the numbers — you can have decimals, fractions, anything.\n",
    "\n",
    "---\n",
    "\n",
    "## 💡 A Real-Life Example (Super Simple):\n",
    "\n",
    "### 📦 Situation:\n",
    "A delivery truck can arrive **any time between 2:00 PM and 3:00 PM**.\n",
    "\n",
    "Let’s say:\n",
    "- It **never comes early** (before 2:00 PM)\n",
    "- It **never comes late** (after 3:00 PM)\n",
    "- It’s **equally likely** to arrive at any time between those\n",
    "\n",
    "So:\n",
    "- You could get 2:00 PM, 2:14 PM, 2:22:37 PM, 2:59:59 PM — anything!\n",
    "- The time it arrives is **completely random and spread out evenly**\n",
    "\n",
    "This is a **continuous uniform distribution** from 2:00 PM to 3:00 PM  \n",
    "👉 Or numerically: from 0 to 60 minutes past 2:00 PM\n",
    "\n",
    "---\n",
    "\n",
    "## ✍️ In Stats Language:\n",
    "\n",
    "We say:\n",
    "\n",
    "$$\n",
    "X \\sim U(a, b)\n",
    "$$\n",
    "\n",
    "Where:\n",
    "- \\( X \\) is the random variable (like “waiting time”)\n",
    "- \\( a \\) is the **minimum** value (start)\n",
    "- \\( b \\) is the **maximum** value (end)\n",
    "- All values between \\( a \\) and \\( b \\) are **equally likely**\n",
    "\n",
    "---\n",
    "\n",
    "## 🔢 Example with Numbers:\n",
    "\n",
    "Let’s say Amir comes back from a meeting and wants to know how long until the next **automatic backup**, which happens every 30 minutes.\n",
    "\n",
    "He could arrive at **any moment** in that 30-minute window.\n",
    "\n",
    "So we say:\n",
    "\n",
    "$$\n",
    "\\text{Waiting time} \\sim U(0, 30)\n",
    "$$\n",
    "\n",
    "This means:\n",
    "- He could wait **0 minutes** (just before a backup)\n",
    "- Or **30 minutes** (just missed one)\n",
    "- Or **any time in between** — like 3.5 mins, 12 mins, 25.8 mins — all equally likely\n",
    "\n",
    "---\n",
    "\n",
    "## 🎯 How to use it:\n",
    "\n",
    "Want to know the **average** time Amir will wait?\n",
    "\n",
    "$$\n",
    "\\text{Mean} = \\frac{a + b}{2} = \\frac{0 + 30}{2} = 15 \\text{ minutes}\n",
    "$$\n",
    "\n",
    "So on average, **he'll wait 15 minutes**\n",
    "\n",
    "---\n",
    "\n",
    "## ❓ Why do we subtract in the formula?\n",
    "\n",
    "When we calculate:\n",
    "\n",
    "$$\n",
    "P(X < 5) = \\frac{5 - 0}{30 - 0} = \\frac{5}{30} = 0.1667 = 16.67\\%\n",
    "$$\n",
    "\n",
    "We're asking:\n",
    "> \"What percentage of the total time (0 to 30 minutes) is in the first 5 minutes?\"\n",
    "\n",
    "- \\( 30 - 0 \\) = the **total interval length**\n",
    "- \\( 5 - 0 \\) = the **portion of interest** (first 5 minutes)\n",
    "\n",
    "This is like asking:\n",
    "> \"If a cake is 30 cm wide and I eat the first 5 cm, what fraction of the cake did I eat?\"\n",
    "\n",
    "Answer: \\( \\frac{5}{30} \\), or **16.67%** 🍰\n",
    "\n",
    "So the subtraction helps find **how much of the interval** we're talking about.\n",
    "\n",
    "---\n",
    "\n",
    "## 🔁 Summary:\n",
    "\n",
    "| Concept | Continuous Uniform Distribution |\n",
    "|--------|-------------------------------|\n",
    "| Type of data | Measurable (e.g., time, distance) |\n",
    "| Range | From \\( a \\) to \\( b \\) |\n",
    "| All values equally likely? | ✅ Yes |\n",
    "| Examples | Time of day, wait time, temperature between two values |\n",
    "| Can it be decimal? | ✅ Yes — includes all numbers in the range |\n"
   ]
  },
  {
   "cell_type": "markdown",
   "id": "393e1e94-fecf-493b-9698-e6562cbb0dad",
   "metadata": {},
   "source": [
    "## Data back-ups\n",
    "The sales software used at your company is set to automatically back itself up, but no one knows exactly what time the back-ups happen. It is known, however, that back-ups happen exactly every `30 minutes`. Amir comes back from sales meetings at random times to update the data on the client he just met with. He wants to know how long he'll have to wait for his newly-entered data to get backed up. Use your new knowledge of continuous uniform distributions to model this situation and answer Amir's questions."
   ]
  },
  {
   "cell_type": "code",
   "execution_count": 150,
   "id": "f91f3672-76c3-4cdf-8a74-24602df464bb",
   "metadata": {},
   "outputs": [],
   "source": [
    "from scipy.stats import uniform\n",
    "\n",
    "# Step 1: Define the range of Amir's waiting time\n",
    "min_time = 0         # minimum wait (just before a backup)\n",
    "max_time = 30        # maximum wait (just missed a backup)\n",
    "\n",
    "# Step 2: Create the uniform distribution\n",
    "# loc=min_time sets the starting point of the distribution.\n",
    "# scale=max_time - min_time sets the length of the interval.\n",
    "wait_time_dist = uniform(loc=min_time, scale=max_time - min_time)"
   ]
  },
  {
   "cell_type": "code",
   "execution_count": 152,
   "id": "01b8fa6b-8687-4196-ab48-63cb9c0540ef",
   "metadata": {},
   "outputs": [
    {
     "data": {
      "text/plain": [
       "0.16666666666666666"
      ]
     },
     "execution_count": 152,
     "metadata": {},
     "output_type": "execute_result"
    }
   ],
   "source": [
    "# Step 3: calculate the probability that Amir has to wait less than 5 minutes(5/30)\n",
    "# .cdf(5) computes the cumulative probability that the wait time is less than 5 minutes.\n",
    "prob_less_than_5 = wait_time_dist.cdf(5)\n",
    "prob_less_than_5"
   ]
  },
  {
   "cell_type": "code",
   "execution_count": 154,
   "id": "32e3e8e2-f771-4bf8-acff-209ce00fe513",
   "metadata": {},
   "outputs": [
    {
     "data": {
      "text/plain": [
       "0.8333333333333334"
      ]
     },
     "execution_count": 154,
     "metadata": {},
     "output_type": "execute_result"
    }
   ],
   "source": [
    "# Calculate the probability Amir has to wait more than 5 minutes(25/30)\n",
    "#P(wait < 5) = 16.67%\n",
    "#P(wait > 5) = ????\n",
    "#P(wait > 5)=1−P(wait < 5)\n",
    "# = 1 - 0.1667 = 0.8333\n",
    "#The total probability of something happening is always 1 (or 100%)\n",
    "prob_greater_than_5 = 1 - wait_time_dist.cdf(5)\n",
    "prob_greater_than_5"
   ]
  },
  {
   "cell_type": "code",
   "execution_count": 135,
   "id": "349cd743-3f01-4420-b952-c13cf4b53bfa",
   "metadata": {},
   "outputs": [
    {
     "data": {
      "text/plain": [
       "0.3333333333333333"
      ]
     },
     "execution_count": 135,
     "metadata": {},
     "output_type": "execute_result"
    }
   ],
   "source": [
    "# Probability Amir has to wait between 10 and 20 minutes\n",
    "prob_between_10_and_20 = wait_time_dist.cdf(20) - wait_time_dist.cdf(10)\n",
    "prob_between_10_and_20"
   ]
  },
  {
   "cell_type": "markdown",
   "id": "a810efc8-7054-449b-b4c7-65d241f8528a",
   "metadata": {},
   "source": [
    "## Simulating wait times\n",
    "To give Amir a better idea of how long he'll have to wait, you'll simulate Amir waiting `1000 times` and create a histogram to show him what he should expect. Recall from the last exercise that his minimum wait time is 0 minutes and his maximum wait time is `30 minutes`."
   ]
  },
  {
   "cell_type": "code",
   "execution_count": 144,
   "id": "8df11c49-e22f-4628-84d9-6fdbf8dcb2cd",
   "metadata": {},
   "outputs": [],
   "source": [
    "import pandas as pd\n",
    "import numpy as np\n",
    "import matplotlib.pyplot as plt\n",
    "from scipy.stats import uniform\n",
    "# Set random seed to 334\n",
    "np.random.seed(334)"
   ]
  },
  {
   "cell_type": "code",
   "execution_count": 156,
   "id": "2633fd30-ca9a-4681-9574-c7f5b3dd12ef",
   "metadata": {},
   "outputs": [
    {
     "name": "stdout",
     "output_type": "stream",
     "text": [
      "[18.02470643 23.519618    9.88490103  2.4651489  15.5597737   6.49165715\n",
      "  7.56474939 26.04453623 14.11082999  7.75180706 16.47948828 22.9018111\n",
      " 14.78686265  8.93936027 10.30296128  9.27696058 22.19806281 13.28179067\n",
      " 21.86050864  2.55629955 17.06257675  9.48091148 20.85865084  9.72028371\n",
      " 22.63229097 21.57900892 23.935431   17.36008651 26.80050866  9.38708245\n",
      "  2.97794546 27.23209213 23.62487867 10.08493037 17.75084196  4.4576378\n",
      " 26.30385665 13.6938704   1.95697735 26.58726202  5.73267157 21.82148011\n",
      "  9.54225359 10.3007437  20.37353633 13.75034303  4.66529527  4.96403209\n",
      " 22.7626545  16.69820401  4.85157792 12.83944291 25.11482746  3.28931416\n",
      " 12.94581875  4.41119388 11.90428607  3.15563509 13.03751773 19.97053665\n",
      " 19.79847703 23.62192831 13.50572327  9.3761087   3.17705873 18.15924959\n",
      "  1.01499147  9.96929131 27.3871973  24.98045919 26.75357257 28.113278\n",
      " 26.02448382 28.24988311 18.72955363 26.57684498 23.35648609  5.27772201\n",
      " 27.00030546 14.01499899 12.42080186 19.2843056  13.80649272 15.45900978\n",
      " 16.85601583 21.64779867 14.67395749  3.76865177  4.2814796  24.0688628\n",
      "  5.69103786 20.10790121 22.5036527   8.69972464  2.52858965  2.10459066\n",
      " 24.82815777 17.90873787 22.24425341 19.18251751  3.98354285  1.09485321\n",
      " 19.04338219 17.35881751 29.11418    29.11992382 16.21846961  1.13776914\n",
      " 11.7618183  28.09742954 23.63603104  7.09979805 15.28885474 10.34126417\n",
      " 18.2474598  27.49165232  3.90368207 18.48054447  4.86834338 17.74462927\n",
      "  3.59287268 14.61188389  4.02173023  3.0113289   3.19219605 25.06630679\n",
      " 24.51929983 19.03260083 13.92713274 16.07335341  6.9569758  25.46558675\n",
      "  1.44852237  2.35119478 21.59370593 15.34779958 12.65945501 19.22565348\n",
      " 10.59083721 17.60091384  5.89559098  7.6143791  17.12872144 19.75685426\n",
      " 22.29039924  7.88437832  2.92957741 19.95523224 14.13001032 25.87649802\n",
      " 16.45449877  3.57463202  6.07725132 19.15086414 23.86912322  7.67595717\n",
      "  1.47613768 25.87601463  7.29377884 13.66111437 28.20518938 11.85405234\n",
      " 15.88629611  7.98723706  8.58043744  6.37005264 25.68267637 16.49650968\n",
      "  6.20321896  3.95959131 12.18786745 19.66839419 26.07219233 14.14110755\n",
      " 12.66071954 12.47353483  8.4705107   1.6338572  26.93497472 15.72810072\n",
      "  2.60758929  7.06087131 17.36477411 25.52177814  2.43025765 21.88195274\n",
      " 12.24308874  3.99663485  2.23614011 11.75808261  0.52195023 13.0914643\n",
      "  5.98534488  1.6481093  13.62589962 21.86430706  9.05989941 16.15367517\n",
      " 26.25230746 24.39526563 23.9400855  13.61558234  7.46727574 19.22727268\n",
      "  9.59560684 20.02958159 21.2853229  17.13536759 19.21070553 22.7027837\n",
      "  1.88953873 16.68301692 13.16136854 26.05155855  2.83301953 16.32398389\n",
      " 15.56452018 22.20310983  7.12746701 22.82049664 10.61172023  2.551029\n",
      "  0.81874937 27.18888085 26.46775318  1.55214022  8.45645076 16.47148862\n",
      "  3.57986941 26.56046036 15.56567645 11.68818668  5.16405188 15.69009037\n",
      "  5.45220632 25.42662451  6.59720944  0.30346576  5.33529425  1.41615486\n",
      " 12.51928343  2.03379892  3.51084872  5.88883688 24.47634299 23.58101096\n",
      " 28.09289028 22.84973261 20.65161177 17.6832472  25.77977368 15.86622274\n",
      " 11.61853853 12.6543072  14.14397763 17.58077609  7.30971039  5.69424801\n",
      "  3.02014403 24.51021797 22.52473461  4.46175337  8.37507672  8.66098429\n",
      " 13.8710612   5.10480487  4.43902414 14.44976394  1.22603553  5.90170529\n",
      " 23.83584371 20.81184737 11.99351406  6.06462375 23.89593687  5.70811336\n",
      " 26.34931297  5.46231973 27.16661719 21.03418498 16.00574805  0.34862433\n",
      "  5.01606953 16.64012789  8.84167482 15.16223055 27.22228996  3.24192379\n",
      " 16.03530639 14.6786549  17.504225   15.99327749 16.6369211  28.31166058\n",
      "  6.45574549 23.27533769 17.78631025 26.96206386 24.41373909  4.45229704\n",
      "  1.68791538  1.48536947 19.30529579 25.25689578 10.40145067 23.13680986\n",
      "  1.00826471 14.59378637  1.94667257  3.3387339  10.47113914  8.9968148\n",
      " 23.16321069 25.7999443  19.34714305  6.08631803 29.58066208  8.0111719\n",
      "  5.6899531  27.51980802  2.83817583 17.34927478 26.18610423 14.50201675\n",
      " 26.04123778 27.60416939 29.74930547 17.50888301 26.74468179 27.54068699\n",
      "  4.7384039   7.20248897 11.13000615  5.79477715  3.87128748 16.20319316\n",
      "  8.29495261 25.36304812 16.88547205 12.35418489 24.3086538   2.15933524\n",
      " 25.36993708 28.80646443 13.48921315 12.56872943  1.38880341  6.65693078\n",
      "  3.35686264 17.16351367 16.83137639  8.94698401 29.68783153 22.5779501\n",
      " 26.93789663 28.97755122 12.96204271  9.3861772  28.89669307  4.55590745\n",
      " 29.98812433  9.34952505  7.08937752 26.45224273 26.2493757  26.48671817\n",
      " 21.31260853 21.88701095 18.55984267 17.36845611 20.49715615 26.20846456\n",
      "  5.57996497 24.22104809 27.22403998  4.40943013  2.39943861  8.65503997\n",
      "  6.49614877 19.20261294  4.82127268 21.65981351  8.64032572 12.27289164\n",
      " 24.91721735  2.80525207 21.49143843 20.71485858 13.49119732 16.24830502\n",
      " 25.58464557 10.55960868  0.06508846 10.43761757 14.18434352 13.60110593\n",
      "  0.97444463 18.24176256 18.75532888 28.86698473 28.29912204 22.1280001\n",
      " 10.20611263 12.70406072 12.70066302 25.6333069   8.81005803  0.60088014\n",
      " 26.36985113  0.14512856  8.30345965 15.81943408  6.34141076 18.12007528\n",
      "  4.4195448  12.22860395 24.17265753 10.84090317 29.82109013 22.96486795\n",
      " 25.37907502 28.40701636 14.53033571 10.8589888  23.33750159  9.26387199\n",
      "  5.83747378 15.79233846 17.19585277 14.72576413  5.37867774  2.36008289\n",
      " 23.58761244 12.95028909 18.43546023  4.70090847 28.5730837  11.58021291\n",
      " 23.4451341  23.0719639  18.72758136 25.3879162  11.36256426  7.27087402\n",
      "  0.84380271  8.0590942  17.2321541  23.069917   29.10903484 23.77267063\n",
      " 27.5889801  27.75158987  7.8276366   4.93549607  5.7455848  17.28460123\n",
      "  1.80582445  0.31471438 19.7601472   0.16925879  8.97430982 11.77295931\n",
      "  0.98651029  2.56518975 25.55770475 27.11270907 10.39235216  2.34390975\n",
      " 16.63188555 22.12845815 26.46692071 28.71790502  8.94910543  4.68957895\n",
      " 27.57749441 19.43902989 28.54802883 11.41422247 24.46611884 16.68469945\n",
      "  8.98169615 24.68572806  8.18126911 12.453284   28.38773573 11.14568707\n",
      " 16.35155928 17.58690761 18.45662809 25.65408447 26.49724623  1.4750015\n",
      " 15.91857323 23.84776581 20.66671906 25.40891752 29.83377309  6.43866241\n",
      " 14.53173576 17.80253565 28.18607304  4.54324846  1.0438267   3.0377238\n",
      " 26.03083787  7.99403324  8.8277187  27.06258281  8.71063653 26.11714817\n",
      " 12.02870685 17.9058532  16.31830234 24.28473378 19.96535064 16.58902409\n",
      "  3.06121882 22.00154501  8.17025758 15.30151122 17.18509283 20.87424962\n",
      " 20.94188204 20.2135585  15.23221064  2.66528042 13.10085618 29.58713662\n",
      " 15.70551094 19.49008973  8.91364351 16.20232138 20.64078229 21.60911802\n",
      " 12.40993195  6.61501578  8.59927256 22.3332849  18.16581815 29.61273564\n",
      "  2.87863604  1.49500044  4.9326684  26.08906931  6.55421159  5.8747507\n",
      "  3.60355526  1.96484894  3.01647639 28.99868642 25.60403252 11.59598228\n",
      " 20.34425711 22.96114794 11.98038728  4.44791429 15.52701356  7.71158903\n",
      " 17.7799348  25.57249994 16.50466316 23.16462704 11.17003913 22.39253025\n",
      "  4.59710552 25.94406273 23.91808109 25.02168894 14.33192802 18.70590856\n",
      "  9.45593133 18.65111837 18.38983038 29.06256739  5.16050063 26.44004095\n",
      "  1.63416868 16.8976593  24.95999297 12.23472838 13.39724454 22.99312472\n",
      " 27.75956673 15.52197998 12.88930817 10.36534991 20.7848112  18.83443938\n",
      "  9.98290667 21.36362044 25.21011863  1.50982294 19.87028247  9.4131368\n",
      " 20.98928003  3.79959574  2.87339142  8.3909131  19.52235635 29.78634223\n",
      " 20.0982261  14.26844931 29.49485431  0.74347926 21.69330645 11.83852239\n",
      " 27.43763453 24.63559958 12.1257792  16.72249193 22.00461478 16.83200601\n",
      " 15.83116505 28.81080429 19.86346581 11.61839168 16.12526642 26.18176324\n",
      "  1.36005666 29.68029052 29.4658698   0.65326411 20.34029476 29.67277592\n",
      " 22.07653673 20.00649254 12.83627282  6.45372449 21.66679265 13.38449085\n",
      " 18.16922494 27.59416048 24.39572787 26.51161269 17.4057311  27.54299491\n",
      "  7.909161    9.97326958 10.43623064  0.0320477  22.99717771  0.48863696\n",
      " 15.36711931 21.91648537 21.53076888  8.24081922 17.64670386 27.09016389\n",
      "  0.24635688 19.38336367  3.03366914  7.01959931 24.54705997 10.47553899\n",
      " 25.1444855  24.43241378 25.82632264  4.36072854 23.56048976  8.26466975\n",
      " 15.86898427  3.9711548  27.1111845   4.18085904  2.11664585 18.36612919\n",
      " 29.42456952 11.24706146  1.27284497 17.28850743 16.3287872  23.2903493\n",
      " 13.45034862  3.56396803 19.97548952 10.32878173 19.90608749  8.08918015\n",
      " 26.82977158 16.10550655 25.93735099 24.5295573  10.76028945 16.44757308\n",
      "  9.35382453  0.97235597 20.67841569  7.6361524  28.28568411  0.16047465\n",
      "  1.9196901  22.29533977 19.19822901 18.99161994  6.74483595 14.39037808\n",
      "  9.29054322  4.15374266 21.27788451 25.06460164 21.33292252  1.03239272\n",
      "  4.97029574 15.5319854  10.84587937 21.39930405 11.56828316 12.85133087\n",
      " 20.14575014 22.98718952 11.38583764 19.85867398 24.78810358  6.91393113\n",
      " 27.35901141 24.53666019 11.74311354 23.43836844  3.4127455  24.98730747\n",
      " 19.74869104  1.95514805  8.89395258 22.61528672  8.87949115 12.42136536\n",
      " 16.09799    25.10089998 17.08924937  3.37461499  3.09324293 29.51121812\n",
      " 18.76895905 27.71230513  9.63399152  6.73216579 29.83634909  9.3395651\n",
      " 29.74489775  4.9965603  25.28357003 10.89970991 16.77439172 10.55552101\n",
      " 23.05058812  5.91844324 15.25824728 27.94300249 19.10197243 26.74756683\n",
      "  8.24105378  9.28618108 17.70593258 15.00485221 18.35155291 11.86939325\n",
      " 14.4770972  17.266638    6.32713578  3.66602702 17.67075942  5.06870185\n",
      "  4.78330163  5.13654582 17.02293695 12.03549645 28.38588194 22.55573555\n",
      " 13.08293103  2.98503117 17.75748424  1.56745099  3.33595641  6.0054029\n",
      " 14.93883996 14.24086476  3.7477186  24.87691332 19.5489744  25.48477862\n",
      "  0.24963235 20.13657949  2.6690419  15.88226196 10.06192586  2.01701916\n",
      " 28.84824965 26.98592627 21.01793167 27.25720077 29.64427599 12.77151277\n",
      "  4.42491646  8.54672284  2.50034009 23.39187564  2.27813326 17.31504488\n",
      "  6.00883221 19.98270987 11.33323502 25.88328047 10.71520384 18.58227808\n",
      " 22.94019209  1.49856436 19.92565832  9.82319533  1.07777964 28.52336742\n",
      " 16.01906626 16.02300822 13.76624411 28.53245637 13.23220732 17.91930892\n",
      " 12.67989057 29.21131168 23.7679609  19.25889028 20.73653798 28.81610923\n",
      "  4.41596035 25.46509197 22.26389637 10.8245927  17.10064728 28.92624019\n",
      "  0.64495378 14.62034057  0.7601452  20.02903878 23.17723654 27.62972106\n",
      "  7.90489651 14.92468128 15.73552766 29.09531582 10.82891804 19.41867011\n",
      " 13.9192441   2.11330042 22.33767663  6.04119062  5.39290035 18.55332444\n",
      " 17.82373667 24.13319004 27.06792806 21.86831162  8.75298179 13.5590926\n",
      " 20.05577369  3.38388002  1.09783134 24.95353544  4.59604874 21.80739173\n",
      "  8.49592944  9.26345771  2.61775656 17.27974226 21.87328282 19.82920889\n",
      "  3.02263904 27.2065017  13.52852613 10.60920711 23.68612888 28.66221063\n",
      " 16.64326629 15.31469476  7.41416718 11.65412537 22.71050069 27.54986097\n",
      " 29.79763618 25.50198265 21.88834024 23.68196243 15.45927833  1.19289599\n",
      "  1.94609858 21.69626579  4.78549517 15.03846497 29.16141307  3.71020162\n",
      "  0.50555038 15.72435341 20.0695871   3.63117527  0.47738572 17.05510221\n",
      " 27.68851386 13.08451645 29.82736362  5.93328388 12.88697126 23.2272421\n",
      "  0.35299594 11.30396102 16.78633222 17.62256922  5.06112636  8.06363811\n",
      "  2.61795958  5.67620623 15.54972723 26.73061533 19.17678231 13.5402091\n",
      "  0.82728187  0.5662092   6.493998    3.69267038  6.92722191 10.74318836\n",
      "  5.45104671 16.88865002 29.06326134 21.53094081  9.90326889 25.0780935\n",
      " 27.12807538  6.74824411 29.910215   28.23199492 18.39049993 17.54734522\n",
      " 17.94698397 14.30287542  1.80723035 18.27120699 14.7711256   1.2229273\n",
      " 18.56734722 12.7221664   2.84200409  6.32719571 22.54439893 22.53961001\n",
      "  8.48336438  6.51793863 29.98611296 17.48140772 14.70127208 24.13113689\n",
      " 17.20892356 28.00543055  8.27376553  6.25668546  6.14632042 28.57705845\n",
      "  0.50502194  0.74332736  2.5388775   6.09876378  2.89377675 27.01655273\n",
      " 14.46545547 11.42233604 18.34043482 27.97141616 12.36122728 13.77240958\n",
      " 23.16271345 11.58176658 21.85435588 15.49210301  9.33584897 26.36481797\n",
      "  6.75078519 26.93211733  6.42066025 19.95206393  2.60152234 15.86969357\n",
      "  0.99927044  3.78127872 11.2810893  19.2279774   4.53982981 24.05103492\n",
      " 12.8940199   7.72645873 11.0994772   3.88714658 15.63367502 19.5522957\n",
      " 26.52105863 12.70016718  1.46565788 19.39993687 26.99389422 13.93164132\n",
      " 17.08668167 19.12728777 27.98833451 23.39905611]\n"
     ]
    }
   ],
   "source": [
    "# Generate 1000 wait times between 0 and 30 minutes\n",
    "# loc=0 is the minimum value\n",
    "# scale=30 means the range is from 0 to 0 + 30 = 30 minutes\n",
    "# size=1000 means you’re generating 1000 random samples\n",
    "# rvs() stands for random variates — it generates random numbers from the distribution\n",
    "wait_times = uniform.rvs(loc=0, scale=30, size=1000)\n",
    "\n",
    "print(wait_times)"
   ]
  },
  {
   "cell_type": "code",
   "execution_count": 173,
   "id": "fd55faf7-51aa-4ab6-a077-c1f6eb200251",
   "metadata": {},
   "outputs": [
    {
     "data": {
      "image/png": "[encoded data removed]",
      "text/plain": [
       "<Figure size 640x480 with 1 Axes>"
      ]
     },
     "metadata": {},
     "output_type": "display_data"
    }
   ],
   "source": [
    "import matplotlib.pyplot as plt\n",
    "\n",
    "# Create histogram\n",
    "# bins=20 splits the wait times into 20 intervals for smoother visualization.\n",
    "# edgecolor='black' outlines each bar to make the histogram clearer.\n",
    "plt.hist(wait_times, bins=20, edgecolor='black', color='skyblue')\n",
    "\n",
    "# Add labels and title\n",
    "plt.title(\"Simulated Wait Times for Backup\")\n",
    "plt.xlabel(\"Wait Time (minutes)\")\n",
    "plt.ylabel(\"Frequency\")\n",
    "plt.savefig(r'C:\\Users\\NAS\\Pictures\\Datacam projects\\plot1.png')\n",
    "\n",
    "# Show plot\n",
    "plt.show()"
   ]
  },
  {
   "cell_type": "code",
   "execution_count": 175,
   "id": "0e8c0436-39c4-49cd-8126-5f55f69f4c58",
   "metadata": {},
   "outputs": [
    {
     "data": {
      "image/png": "[encoded data removed]",
      "text/plain": [
       "<Figure size 640x480 with 1 Axes>"
      ]
     },
     "metadata": {},
     "output_type": "display_data"
    },
    {
     "name": "stdout",
     "output_type": "stream",
     "text": [
      "Bin Edges:\n",
      "[ 0.06222649  1.5586613   3.05509611  4.55153093  6.04796574  7.54440055\n",
      "  9.04083537 10.53727018 12.03370499 13.53013981 15.02657462 16.52300943\n",
      " 18.01944425 19.51587906 21.01231387 22.50874869 24.0051835  25.50161831\n",
      " 26.99805313 28.49448794 29.99092275]\n",
      "\n",
      "Frequencies (Counts per bin):\n",
      "[53. 44. 49. 69. 51. 60. 45. 46. 40. 43. 53. 53. 42. 64. 51. 50. 38. 47.\n",
      " 49. 53.]\n"
     ]
    }
   ],
   "source": [
    "import numpy as np\n",
    "import matplotlib.pyplot as plt\n",
    "from scipy.stats import uniform\n",
    "\n",
    "# Set seed and generate wait times\n",
    "np.random.seed(334)\n",
    "wait_times = uniform.rvs(loc=0, scale=30, size=1000)\n",
    "\n",
    "# Create histogram and capture bin info\n",
    "counts, bin_edges, _ = plt.hist(wait_times, bins=20, edgecolor='black')\n",
    "\n",
    "# Show the plot\n",
    "plt.title(\"Simulated Wait Times Histogram\")\n",
    "plt.xlabel(\"Wait Time (minutes)\")\n",
    "plt.ylabel(\"Frequency\")\n",
    "plt.grid(True)\n",
    "plt.savefig(r'C:\\Users\\NAS\\Pictures\\Datacam projects\\plot2.png')\n",
    "plt.show()\n",
    "\n",
    "# Print frequency counts and bin edges\n",
    "print(\"Bin Edges:\")\n",
    "print(bin_edges)\n",
    "\n",
    "print(\"\\nFrequencies (Counts per bin):\")\n",
    "print(counts)"
   ]
  },
  {
   "cell_type": "markdown",
   "id": "e5b79dc3-6e5f-4de9-b518-4bcffa81bded",
   "metadata": {},
   "source": [
    "# 📊 Binomial Distribution\n",
    "\n",
    "A **binomial distribution** is used to model situations where:\n",
    "\n",
    "- You repeat the **same experiment** or task **multiple times**\n",
    "- Each task has only **two outcomes** → *success* or *failure*\n",
    "- The **chance of success stays the same** each time\n",
    "- Each trial is **independent** (one doesn’t affect the others)\n",
    "\n",
    "---\n",
    "\n",
    "## 📦 Real-life Examples\n",
    "\n",
    "Situations that can be modeled with a binomial distribution:\n",
    "\n",
    "- Flipping a coin 10 times → How many times will you get heads?  \n",
    "- Taking 5 shots in basketball → How many will you score?  \n",
    "- Sending 100 emails with 20% open rate → How many people open it?  \n",
    "- Amir working on 3 sales deals a week → How many will he close (if he wins 30% of the time)?"
   ]
  },
  {
   "cell_type": "markdown",
   "id": "77b953ef-481e-492a-a1bc-c403eae229e6",
   "metadata": {},
   "source": [
    "If the `frequency` of the first `bin` is **53**, it means that **53** of the **1000** simulated wait times fall within the range defined by the first `bin`."
   ]
  },
  {
   "cell_type": "markdown",
   "id": "65f1720a-a414-4b02-961c-9bcb334e2516",
   "metadata": {},
   "source": [
    "## Simulating sales deals\n",
    "Assume that Amir usually works on `3 deals per week`, and overall, he wins `30%` of deals he works on. Each deal has a binary outcome: it's either lost, or won, so you can model his sales deals with a binomial distribution. In this exercise, you'll help Amir simulate a year's worth of his deals so he can better understand his performance."
   ]
  },
  {
   "cell_type": "code",
   "execution_count": 11,
   "id": "6a44abe0-3592-40f4-922b-8ac401d4809b",
   "metadata": {},
   "outputs": [
    {
     "name": "stdout",
     "output_type": "stream",
     "text": [
      "[1]\n"
     ]
    }
   ],
   "source": [
    "# Import binom from scipy.stats\n",
    "from scipy.stats import binom\n",
    "import numpy as np\n",
    "\n",
    "# Set random seed to 10\n",
    "np.random.seed(10)\n",
    "\n",
    "# Simulate a single deal (n=1 deal, p=0.3 win chance)\n",
    "# Since we're simulating 1 deal, n = 1 (number of trials/deals).\n",
    "# The probability of success (winning a deal) is p = 0.3.\n",
    "# The number of simulations is size = 1 (just one trial this time).\n",
    "print(binom.rvs(n=1, p=0.3, size=1))"
   ]
  },
  {
   "cell_type": "code",
   "execution_count": 13,
   "id": "d8312b6c-ae32-468f-abb5-85636740a64a",
   "metadata": {},
   "outputs": [
    {
     "name": "stdout",
     "output_type": "stream",
     "text": [
      "[0]\n"
     ]
    }
   ],
   "source": [
    "# Simulate 1 week: 3 deals, 30% win rate\n",
    "# This returns a single number: how many deals Amir won this week\n",
    "one_week_wins = binom.rvs(n=3, p=0.3, size=1)\n",
    "\n",
    "print(one_week_wins)"
   ]
  },
  {
   "cell_type": "code",
   "execution_count": 15,
   "id": "587f533f-c01c-4726-a7fb-c12357f111c8",
   "metadata": {},
   "outputs": [
    {
     "name": "stdout",
     "output_type": "stream",
     "text": [
      "[1 1 1 0 0 1 0 0 1 2 0 1 2 1 1 0 2 1 1 0 1 1 1 1 1 1 1 1 2 1 2 0 0 0 0 2 0\n",
      " 1 1 2 0 2 1 1 0 2 0 0 1 0 2 0]\n"
     ]
    }
   ],
   "source": [
    "# Simulate 52 weeks of 3 deals\n",
    "deals = binom.rvs(3, 0.3, size=52)\n",
    "\n",
    "# Print deals won per week\n",
    "print(deals)"
   ]
  },
  {
   "cell_type": "code",
   "execution_count": 17,
   "id": "7e81649a-cec3-4a36-8c4c-424f3a763321",
   "metadata": {},
   "outputs": [
    {
     "name": "stdout",
     "output_type": "stream",
     "text": [
      "0.8461538461538461\n"
     ]
    }
   ],
   "source": [
    "# Print mean deals won per week\n",
    "print(np.mean(deals))"
   ]
  },
  {
   "cell_type": "code",
   "execution_count": 28,
   "id": "960f15af-1f79-44b2-989e-d3a9ffe6f6c6",
   "metadata": {},
   "outputs": [
    {
     "name": "stdout",
     "output_type": "stream",
     "text": [
      "0.026999999999999996\n"
     ]
    }
   ],
   "source": [
    "# Parameters\n",
    "k = 3        # number of successes you’re interested in\n",
    "n = 3        # number of deals\n",
    "p = 0.3      # probability of success\n",
    "\n",
    "# Probability of closing all 3 deals (i.e., exactly 3 successes)\n",
    "# k = number of successes you’re interested in\n",
    "# n = number of trials (deals Amir works on)\n",
    "# p = probability of success per trial (chance Amir wins a deal)\n",
    "prob_3 = binom.pmf(k, n, p)\n",
    "\n",
    "print(prob_3)"
   ]
  },
  {
   "cell_type": "code",
   "execution_count": 32,
   "id": "88c48d1d-10b4-41a6-8707-fc35b4d08e33",
   "metadata": {},
   "outputs": [
    {
     "name": "stdout",
     "output_type": "stream",
     "text": [
      "0.7839999999999997\n"
     ]
    }
   ],
   "source": [
    "# Parameters\n",
    "n = 3        # Number of deals per week\n",
    "p = 0.3      # Probability of winning a deal\n",
    "\n",
    "# Calculate probability of 0 or 1 win\n",
    "prob_less_than_or_equal_1 = binom.pmf(0, n, p) + binom.pmf(1, n, p)\n",
    "print(prob_less_than_or_equal_1)"
   ]
  },
  {
   "cell_type": "code",
   "execution_count": 34,
   "id": "c1f9b216-5c81-49cf-8d8f-53f986d892c5",
   "metadata": {},
   "outputs": [
    {
     "name": "stdout",
     "output_type": "stream",
     "text": [
      "0.784\n"
     ]
    }
   ],
   "source": [
    "prob_less_than_or_equal_1 = binom.cdf(1, n, p)\n",
    "print(prob_less_than_or_equal_1)"
   ]
  },
  {
   "cell_type": "code",
   "execution_count": 36,
   "id": "ae13496a-7b65-4449-98c6-5a46ab17b591",
   "metadata": {},
   "outputs": [
    {
     "name": "stdout",
     "output_type": "stream",
     "text": [
      "0.21599999999999997\n"
     ]
    }
   ],
   "source": [
    "#What's the probability that Amir closes more than 1 deal?\n",
    "\n",
    "# Parameters\n",
    "n = 3        # number of deals\n",
    "p = 0.3      # probability of success\n",
    "\n",
    "# P(X > 1) = 1 - P(X ≤ 1)\n",
    "prob_greater_than_1 = 1 - binom.cdf(1, n=n, p=p)\n",
    "\n",
    "print(prob_greater_than_1)"
   ]
  },
  {
   "cell_type": "markdown",
   "id": "c8a7b81b-66cd-42e4-a4a7-eee8b33b724e",
   "metadata": {},
   "source": [
    "## How many sales will be won?\n",
    "Now Amir wants to know how many deals he can expect to close each week if his win rate changes. Luckily, you can use your binomial distribution knowledge to help him calculate the expected value in different situations. Recall from the video that the expected value of a binomial distribution can be calculated by n x p."
   ]
  },
  {
   "cell_type": "code",
   "execution_count": 41,
   "id": "d46304c0-a8af-4f6c-a971-f8429d52b576",
   "metadata": {},
   "outputs": [
    {
     "name": "stdout",
     "output_type": "stream",
     "text": [
      "Expected sales (30% win rate): 0.8999999999999999\n",
      "Expected sales (25% win rate): 0.75\n",
      "Expected sales (35% win rate): 1.0499999999999998\n"
     ]
    }
   ],
   "source": [
    "# Amir wants to know how many deals he can expect to close each week if his win rate changes\n",
    "\n",
    "# Parameters\n",
    "n = 3  # Number of deals\n",
    "\n",
    "# Win rates\n",
    "p_30 = 0.30\n",
    "p_25 = 0.25\n",
    "p_35 = 0.35\n",
    "\n",
    "# Calculate expected sales for each win rate\n",
    "expected_sales_30 = n * p_30\n",
    "expected_sales_25 = n * p_25\n",
    "expected_sales_35 = n * p_35\n",
    "\n",
    "print(\"Expected sales (30% win rate):\", expected_sales_30)\n",
    "print(\"Expected sales (25% win rate):\", expected_sales_25)\n",
    "print(\"Expected sales (35% win rate):\", expected_sales_35)"
   ]
  },
  {
   "cell_type": "code",
   "execution_count": null,
   "id": "7996c4ce-b942-42d8-9f50-4d3d97d5faef",
   "metadata": {},
   "outputs": [],
   "source": []
  },
  {
   "cell_type": "markdown",
   "id": "f5149f3c-6d84-467f-a754-9b00c2a6a068",
   "metadata": {},
   "source": [
    "`Standard deviation` = \"`On average`, how far is each number from the `mean`?\n",
    "\n",
    "Imagine 5 students took a test. Here are their scores out of 100:\n",
    "\n",
    "Student Scores:  **70, 72, 68, 71, 69**\n",
    "\n",
    "* The average (mean) is about 70.\n",
    "* Everyone scored close to 70.\n",
    "* So the standard deviation is small.\n",
    "\n",
    "Now, imagine this instead:\n",
    "\n",
    "Student Scores:  **30, 50, 70, 90, 100**\n",
    "\n",
    "* The average is still around 70.\n",
    "* But scores are spread out a lot.\n",
    "* So the standard deviation is big."
   ]
  },
  {
   "cell_type": "markdown",
   "id": "3bc2d243-1f04-4c3c-8531-5296df34e807",
   "metadata": {},
   "source": [
    "# 📊 Normal Distribution\n",
    "\n",
    "A **normal distribution** is a way of showing how **data is spread out**, and it looks like a smooth **bell-shaped curve**.\n",
    "\n",
    "It’s super common in the real world because **a lot of things naturally follow this shape**.\n",
    "\n",
    "---\n",
    "\n",
    "## 🧠 Key Characteristics\n",
    "\n",
    "- The **center** of the curve is the **mean** (average)\n",
    "- The distribution is **symmetrical**\n",
    "- Most values cluster **around the mean**\n",
    "- Fewer and fewer values appear as you move away from the center\n",
    "\n",
    "---\n",
    "\n",
    "## 📦 Real-Life Examples\n",
    "\n",
    "- **Heights** of people → Most are average, few are tall/short  \n",
    "- **Exam scores** → Most students score around the average  \n",
    "- **Daily temperatures** → Most days have similar temperatures\n",
    "\n",
    "---\n",
    "\n",
    "## 🔢 Example with Amir\n",
    "\n",
    "Amir tracks his deal sizes in ₦:\n",
    "\n",
    "- Average deal = ₦5,000  \n",
    "- Standard deviation = ₦2,000  \n",
    "\n",
    "If deal sizes follow a **normal distribution**:\n",
    "\n",
    "- Most deals are between ₦3,000 and ₦7,000  \n",
    "- A few are lower (e.g. ₦1,000) or higher (e.g. ₦9,000)  \n",
    "- ₦5,000 is the most common deal size\n",
    "\n",
    "---\n",
    "\n",
    "Since each deal Amir worked on (both won and lost) was different, each was worth a different amount of money. These values are stored in the `amount` column of `amir_deals` As part of Amir's performance review, you want to be able to estimate the probability of him selling different amounts, but before you can do this, you'll need to determine what kind of distribution the `amount` variable follows."
   ]
  },
  {
   "cell_type": "code",
   "execution_count": 8,
   "id": "5c732fad-fff6-4271-8d26-d46882cc04db",
   "metadata": {},
   "outputs": [
    {
     "data": {
      "text/html": [
       "<div>\n",
       "<style scoped>\n",
       "    .dataframe tbody tr th:only-of-type {\n",
       "        vertical-align: middle;\n",
       "    }\n",
       "\n",
       "    .dataframe tbody tr th {\n",
       "        vertical-align: top;\n",
       "    }\n",
       "\n",
       "    .dataframe thead th {\n",
       "        text-align: right;\n",
       "    }\n",
       "</style>\n",
       "<table border=\"1\" class=\"dataframe\">\n",
       "  <thead>\n",
       "    <tr style=\"text-align: right;\">\n",
       "      <th></th>\n",
       "      <th>Unnamed: 0</th>\n",
       "      <th>product</th>\n",
       "      <th>client</th>\n",
       "      <th>status</th>\n",
       "      <th>amount</th>\n",
       "      <th>num_users</th>\n",
       "    </tr>\n",
       "  </thead>\n",
       "  <tbody>\n",
       "    <tr>\n",
       "      <th>0</th>\n",
       "      <td>1</td>\n",
       "      <td>Product F</td>\n",
       "      <td>Current</td>\n",
       "      <td>Won</td>\n",
       "      <td>7389.52</td>\n",
       "      <td>19</td>\n",
       "    </tr>\n",
       "    <tr>\n",
       "      <th>1</th>\n",
       "      <td>2</td>\n",
       "      <td>Product C</td>\n",
       "      <td>New</td>\n",
       "      <td>Won</td>\n",
       "      <td>4493.01</td>\n",
       "      <td>43</td>\n",
       "    </tr>\n",
       "    <tr>\n",
       "      <th>2</th>\n",
       "      <td>3</td>\n",
       "      <td>Product B</td>\n",
       "      <td>New</td>\n",
       "      <td>Won</td>\n",
       "      <td>5738.09</td>\n",
       "      <td>87</td>\n",
       "    </tr>\n",
       "    <tr>\n",
       "      <th>3</th>\n",
       "      <td>4</td>\n",
       "      <td>Product I</td>\n",
       "      <td>Current</td>\n",
       "      <td>Won</td>\n",
       "      <td>2591.24</td>\n",
       "      <td>83</td>\n",
       "    </tr>\n",
       "    <tr>\n",
       "      <th>4</th>\n",
       "      <td>5</td>\n",
       "      <td>Product E</td>\n",
       "      <td>Current</td>\n",
       "      <td>Won</td>\n",
       "      <td>6622.97</td>\n",
       "      <td>17</td>\n",
       "    </tr>\n",
       "    <tr>\n",
       "      <th>5</th>\n",
       "      <td>6</td>\n",
       "      <td>Product B</td>\n",
       "      <td>New</td>\n",
       "      <td>Won</td>\n",
       "      <td>5496.27</td>\n",
       "      <td>2</td>\n",
       "    </tr>\n",
       "    <tr>\n",
       "      <th>6</th>\n",
       "      <td>7</td>\n",
       "      <td>Product C</td>\n",
       "      <td>Current</td>\n",
       "      <td>Won</td>\n",
       "      <td>3043.13</td>\n",
       "      <td>29</td>\n",
       "    </tr>\n",
       "    <tr>\n",
       "      <th>7</th>\n",
       "      <td>8</td>\n",
       "      <td>Product N</td>\n",
       "      <td>Current</td>\n",
       "      <td>Won</td>\n",
       "      <td>7340.64</td>\n",
       "      <td>13</td>\n",
       "    </tr>\n",
       "    <tr>\n",
       "      <th>8</th>\n",
       "      <td>9</td>\n",
       "      <td>Product F</td>\n",
       "      <td>Current</td>\n",
       "      <td>Won</td>\n",
       "      <td>6780.85</td>\n",
       "      <td>80</td>\n",
       "    </tr>\n",
       "    <tr>\n",
       "      <th>9</th>\n",
       "      <td>10</td>\n",
       "      <td>Product B</td>\n",
       "      <td>Current</td>\n",
       "      <td>Won</td>\n",
       "      <td>5237.24</td>\n",
       "      <td>23</td>\n",
       "    </tr>\n",
       "  </tbody>\n",
       "</table>\n",
       "</div>"
      ],
      "text/plain": [
       "   Unnamed: 0    product   client status   amount  num_users\n",
       "0           1  Product F  Current    Won  7389.52         19\n",
       "1           2  Product C      New    Won  4493.01         43\n",
       "2           3  Product B      New    Won  5738.09         87\n",
       "3           4  Product I  Current    Won  2591.24         83\n",
       "4           5  Product E  Current    Won  6622.97         17\n",
       "5           6  Product B      New    Won  5496.27          2\n",
       "6           7  Product C  Current    Won  3043.13         29\n",
       "7           8  Product N  Current    Won  7340.64         13\n",
       "8           9  Product F  Current    Won  6780.85         80\n",
       "9          10  Product B  Current    Won  5237.24         23"
      ]
     },
     "execution_count": 8,
     "metadata": {},
     "output_type": "execute_result"
    }
   ],
   "source": [
    "import pandas as pd\n",
    "import numpy as np\n",
    "import matplotlib.pyplot as plt\n",
    "\n",
    "amir_deals = pd.read_csv('amir_deals.csv')\n",
    "amir_deals.head(10)"
   ]
  },
  {
   "cell_type": "code",
   "execution_count": 10,
   "id": "a77416b1-1d49-4a00-ae88-1abfec996181",
   "metadata": {},
   "outputs": [
    {
     "data": {
      "image/png": "[encoded data removed]",
      "text/plain": [
       "<Figure size 640x480 with 1 Axes>"
      ]
     },
     "metadata": {},
     "output_type": "display_data"
    }
   ],
   "source": [
    "# Histogram of amount with 10 bins and show plot\n",
    "amir_deals['amount'].hist(bins=10, edgecolor='black', color='skyblue')\n",
    "plt.show()"
   ]
  },
  {
   "cell_type": "code",
   "execution_count": 12,
   "id": "96b34971-0eb9-4e4c-a36f-3324bbc76724",
   "metadata": {},
   "outputs": [
    {
     "name": "stdout",
     "output_type": "stream",
     "text": [
      "0.8943502263331446\n"
     ]
    }
   ],
   "source": [
    "from scipy.stats import norm\n",
    "# Probability of deal < 7500\n",
    "# norm.cdf() stands for Cumulative Distribution Function.\n",
    "# It tells you the probability that a value from a normal distribution is less than or equal to a given number.\n",
    "\n",
    "# 7500 is the value you're checking the probability for\n",
    "# 5000 is the mean (average) of the distribution\n",
    "# 2000 is the standard deviation (spread)\n",
    "\n",
    "prob_less_7500 = norm.cdf(7500, 5000, 2000)\n",
    "\n",
    "print(prob_less_7500)"
   ]
  },
  {
   "cell_type": "code",
   "execution_count": 14,
   "id": "471370e7-fdeb-4e3f-86f7-ef801dd35923",
   "metadata": {},
   "outputs": [
    {
     "name": "stdout",
     "output_type": "stream",
     "text": [
      "0.8943502263331446\n"
     ]
    }
   ],
   "source": [
    "# x → The value you're checking the probability up to\n",
    "# (i.e., \"What’s the probability a value is less than or equal to x?\")\n",
    "# loc → The mean (μ) of the normal distribution(default is 0)\n",
    "# scale → The standard deviation (σ) (default is 1)\n",
    "# norm.cdf(x, loc=0, scale=1)\n",
    "x = 7500\n",
    "loc = 5000\n",
    "scale = 2000\n",
    "print(norm.cdf(x,loc,scale))"
   ]
  },
  {
   "cell_type": "code",
   "execution_count": 16,
   "id": "ab289bc6-48d9-43bc-ba4c-abf2e74430b1",
   "metadata": {},
   "outputs": [
    {
     "name": "stdout",
     "output_type": "stream",
     "text": [
      "0.9772498680518208\n"
     ]
    }
   ],
   "source": [
    "# Probability of deal > 1000\n",
    "prob_over_1000 = 1 - norm.cdf(1000, 5000, 2000)\n",
    "\n",
    "print(prob_over_1000)"
   ]
  },
  {
   "cell_type": "code",
   "execution_count": 18,
   "id": "1b1fab33-6cf5-40bb-b4f1-16227291b806",
   "metadata": {},
   "outputs": [
    {
     "name": "stdout",
     "output_type": "stream",
     "text": [
      "0.6826894921370859\n"
     ]
    }
   ],
   "source": [
    "# Probability of deal between 3000 and 7000\n",
    "prob_3000_to_7000 = norm.cdf(7000, 5000, 2000) - norm.cdf(3000, 5000, 2000)\n",
    "\n",
    "print(prob_3000_to_7000)"
   ]
  },
  {
   "cell_type": "code",
   "execution_count": 20,
   "id": "ce5d7b73-438d-44fd-955c-f97a55fa591e",
   "metadata": {},
   "outputs": [
    {
     "name": "stdout",
     "output_type": "stream",
     "text": [
      "3651.0204996078364\n"
     ]
    }
   ],
   "source": [
    "# Calculate amount that 25% of deals will be less than\n",
    "# ppf stands for Percent Point Function\n",
    "# It’s the inverse of cdf\n",
    "# 0.25: The percentile (25%)\n",
    "# 5000: The mean (average deal size)\n",
    "# 2000: The standard deviation (spread/variation)\n",
    "pct_25 = norm.ppf(0.25, 5000, 2000)\n",
    "\n",
    "print(pct_25)"
   ]
  },
  {
   "cell_type": "markdown",
   "id": "f21d615b-4747-447a-a367-8008c18669e2",
   "metadata": {},
   "source": [
    "## Simulating sales under new market conditions\n",
    "The company's financial analyst is predicting that next quarter, the worth of each sale will increase by 20% and the volatility, or standard deviation, of each sale's worth will increase by 30%. To see what Amir's sales might look like next quarter under these new market conditions, you'll simulate new sales amounts using the `normal distribution` and store these in the `new_sales` DataFrame, which has already been created for you."
   ]
  },
  {
   "cell_type": "code",
   "execution_count": 23,
   "id": "36b66c22-4019-4e8b-b3ac-9d599b21cc53",
   "metadata": {},
   "outputs": [
    {
     "data": {
      "image/png": "[encoded data removed]",
      "text/plain": [
       "<Figure size 640x480 with 1 Axes>"
      ]
     },
     "metadata": {},
     "output_type": "display_data"
    }
   ],
   "source": [
    "import numpy as np\n",
    "import matplotlib.pyplot as plt\n",
    "from scipy.stats import norm\n",
    "\n",
    "# Step 1: Current average sale amount\n",
    "current_mean = 5000\n",
    "\n",
    "# Step 2: Increase average by 20%\n",
    "new_mean = current_mean * 1.20\n",
    "\n",
    "# Step 3: Current standard deviation\n",
    "current_sd = 2000\n",
    "\n",
    "# Step 4: Increase standard deviation by 30%\n",
    "new_sd = current_sd * 1.30\n",
    "\n",
    "# Step 5: Simulate 36 new sales amounts using norm (normal distribution)\n",
    "# Used to generate 36 simulated sales amounts with a mean of new_mean and a standard deviation of new_sd.\n",
    "new_sales = norm.rvs(loc=new_mean, scale=new_sd, size=36)\n",
    "\n",
    "# Step 6: Plot the histogram\n",
    "plt.hist(new_sales, bins=10, color='skyblue', edgecolor='black')\n",
    "plt.title(\"Simulated Sales Distribution (36 Deals)\")\n",
    "plt.xlabel(\"Sale Amount ($)\")\n",
    "plt.ylabel(\"Frequency\")\n",
    "plt.grid(True)\n",
    "plt.show()"
   ]
  },
  {
   "cell_type": "code",
   "execution_count": 25,
   "id": "af32092e-8cc1-41d0-95b6-d2613a872924",
   "metadata": {},
   "outputs": [
    {
     "name": "stdout",
     "output_type": "stream",
     "text": [
      "2600.0\n"
     ]
    }
   ],
   "source": [
    "print(new_sd)"
   ]
  },
  {
   "cell_type": "markdown",
   "id": "18fbead9-a275-4703-9248-b2f9d1f081a5",
   "metadata": {},
   "source": [
    "## Which market is better?\n",
    "The key metric that the company uses to evaluate salespeople is the percent of sales they make over $1000 since the time put into each sale is usually worth a bit more than that, so the higher this metric, the better the salesperson is performing.\n",
    "\n",
    "Recall that Amir's current sales amounts have a mean of $5000 and a standard deviation of $2000, and Amir's predicted amounts in next quarter's market have a mean of $6000 and a standard deviation of $2600.\n",
    "\n",
    "Based only on the metric of percent of sales over $1000, does Amir perform better in the current market or the predicted market?"
   ]
  },
  {
   "cell_type": "code",
   "execution_count": 28,
   "id": "7eb0ca2d-7be7-44fd-be06-76330d969365",
   "metadata": {},
   "outputs": [
    {
     "name": "stdout",
     "output_type": "stream",
     "text": [
      "0.9772498680518208\n"
     ]
    }
   ],
   "source": [
    "current_mrkt = 1 - norm.cdf(1000, 5000, 2000)\n",
    "\n",
    "print(current_mrkt)"
   ]
  },
  {
   "cell_type": "code",
   "execution_count": 30,
   "id": "bc91de09-85a3-4bfd-8428-1f76c4b80f49",
   "metadata": {},
   "outputs": [
    {
     "name": "stdout",
     "output_type": "stream",
     "text": [
      "0.9727648049862613\n"
     ]
    }
   ],
   "source": [
    "predicted_mrkt = 1 - norm.cdf(1000, 6000, 2600)\n",
    "\n",
    "print(predicted_mrkt)"
   ]
  },
  {
   "cell_type": "markdown",
   "id": "9e8966d7-13a6-4c3f-a964-cecc012764e5",
   "metadata": {},
   "source": [
    "# 📊 Central limit theorem\n",
    "**Central limit theorem** states that a sampling distribution will approach a normal distribution as the number of trials increases. In our example, the sampling distribution became closer to the normal distribution as we took more and more sample means."
   ]
  },
  {
   "cell_type": "code",
   "execution_count": 35,
   "id": "dfff82a2-a805-4366-9433-6ae82640c0d0",
   "metadata": {},
   "outputs": [
    {
     "data": {
      "image/png": "[encoded data removed]",
      "text/plain": [
       "<Figure size 640x480 with 1 Axes>"
      ]
     },
     "metadata": {},
     "output_type": "display_data"
    }
   ],
   "source": [
    "# Create a histogram of num_users and show\n",
    "# Create a histogram of the num_users column of amir_deals and show the plot.\n",
    "amir_deals['num_users'].hist()\n",
    "plt.show()"
   ]
  },
  {
   "cell_type": "code",
   "execution_count": 44,
   "id": "d664170f-b383-4e37-9f7c-18cd9380f48e",
   "metadata": {},
   "outputs": [
    {
     "name": "stdout",
     "output_type": "stream",
     "text": [
      "32.0\n"
     ]
    }
   ],
   "source": [
    "# Set a random seed so results are reproducible every time you run the code\n",
    "np.random.seed(104)\n",
    "\n",
    "# Take one random sample of 20 values from 'num_users' column in amir_deals, with replacement\n",
    "# 'with replacement' means the same value can appear more than once\n",
    "samp_20 = amir_deals['num_users'].sample(20, replace=True)\n",
    "\n",
    "# Calculate and print the mean of that single sample\n",
    "print(np.mean(samp_20))"
   ]
  },
  {
   "cell_type": "code",
   "execution_count": 46,
   "id": "c33ad3c9-792b-4339-8e68-8524d23fd14f",
   "metadata": {},
   "outputs": [
    {
     "name": "stdout",
     "output_type": "stream",
     "text": [
      "[31.35, 45.05, 33.55, 38.15, 50.85, 31.85, 34.65, 36.25, 38.9, 44.05, 35.45, 37.6, 37.95, 28.85, 33.3, 31.65, 45.5, 43.2, 24.4, 41.05, 37.2, 39.3, 29.45, 33.55, 45.3, 45.1, 30.95, 36.25, 37.65, 42.55, 34.55, 41.1, 36.9, 42.45, 38.45, 45.9, 42.7, 38.4, 32.55, 30.25, 38.0, 38.75, 49.3, 39.55, 49.05, 42.05, 41.0, 40.6, 58.25, 34.55, 51.2, 34.15, 36.95, 42.45, 41.85, 33.2, 36.15, 37.55, 34.2, 29.75, 42.35, 43.75, 29.0, 32.05, 31.65, 44.6, 30.85, 29.6, 37.7, 33.1, 36.35, 40.65, 45.7, 33.8, 40.1, 39.9, 33.5, 32.65, 32.85, 42.85, 35.4, 31.7, 32.0, 33.85, 36.6, 44.35, 39.9, 37.0, 37.3, 42.5, 38.35, 42.8, 44.55, 30.3, 50.45, 42.35, 40.65, 29.85, 39.3, 33.1]\n"
     ]
    }
   ],
   "source": [
    "# Create an empty list to store means from each sample\n",
    "sample_means = []\n",
    "\n",
    "# Repeat the sampling process 100 times\n",
    "for i in range(100):\n",
    "    # Take a new sample of 20 'num_users', with replacement\n",
    "    samp_20 = amir_deals['num_users'].sample(20, replace=True)\n",
    "    \n",
    "    # Calculate the mean of this sample\n",
    "    samp_20_mean = np.mean(samp_20)\n",
    "    \n",
    "    # Add the sample mean to the list\n",
    "    sample_means.append(samp_20_mean)\n",
    "\n",
    "# Print the 100 sample means — this list should start to form a bell shape if plotted\n",
    "print(sample_means)"
   ]
  },
  {
   "cell_type": "markdown",
   "id": "8221586e-650b-4a81-8097-bd50dda6d776",
   "metadata": {},
   "source": [
    "What's happening here:\n",
    "You're simulating what would happen if you randomly took small groups of `20 users` from your dataset.\n",
    "\n",
    "Each time, the `average` might be a little different.\n",
    "\n",
    "When you collect many of these averages `(like 100)`, they form a `distribution of sample means` — and according to the `Central Limit Theorem`, this distribution starts to look `normal (bell-shaped)`, even if the original `num_users` data wasn’t."
   ]
  },
  {
   "cell_type": "code",
   "execution_count": 58,
   "id": "bf1c768c-1061-4a24-acad-6edfa2c4d0be",
   "metadata": {},
   "outputs": [
    {
     "data": {
      "image/png": "[encoded data removed]",
      "text/plain": [
       "<Figure size 640x480 with 1 Axes>"
      ]
     },
     "metadata": {},
     "output_type": "display_data"
    }
   ],
   "source": [
    "# Convert the list of sample means into a pandas Series\n",
    "sample_means_series = pd.Series(sample_means)\n",
    "\n",
    "# Plot a histogram of the sample means\n",
    "# This shows the distribution and lets us visually confirm the bell shape (normal distribution)\n",
    "sample_means_series.hist(edgecolor='black', color='skyblue')\n",
    "\n",
    "# Display the plot\n",
    "plt.show()"
   ]
  },
  {
   "cell_type": "markdown",
   "id": "b7f45d74-52bd-47a4-a02f-ba5a98af9a35",
   "metadata": {},
   "source": [
    "`sample_means_series.hist()` works only if sample_means is a pandas Series or DataFrame. If it’s a plain Python list, you’d need to use matplotlib directly, which is more manual.\n",
    "\n",
    "**Easier integration with pandas tools**\n",
    "Once it's a Series, you can easily:\n",
    "\n",
    "Calculate stats like `.mean()`, `.std()`, `.describe()`\n",
    "\n",
    "Apply filters, transformations, or even group data (if needed)\n",
    "\n",
    "**Without converting:**\n",
    "If you kept sample_means as a list, you'd have to plot like this:\n",
    "`plt.hist(sample_means)`\n",
    "`plt.show()`"
   ]
  },
  {
   "cell_type": "markdown",
   "id": "458fcdfa-02df-44f9-b59c-53630420e7e8",
   "metadata": {},
   "source": [
    "## The mean of means\n",
    "You want to know what the average number of users (num_users) is per deal, but you want to know this number for the entire company so that you can see if Amir's deals have more or fewer users than the company's average deal. The problem is that over the past year, the company has worked on more than ten thousand deals, so it's not realistic to compile all the data. Instead, you'll estimate the mean by taking several random samples of deals, since this is much easier than collecting data from everyone in the company.\n",
    "\n",
    "You're **comparing** Amir's `average number of users per deal` with the `company-wide average` — but instead of using all the company’s data, you're estimating it by `sampling`."
   ]
  },
  {
   "cell_type": "code",
   "execution_count": null,
   "id": "3182e845-ecaa-438e-b40c-20af50ed28ee",
   "metadata": {},
   "outputs": [],
   "source": [
    "# Set random seed for reproducibility (so we get the same results every time)\n",
    "np.random.seed(321)\n",
    "\n",
    "# Create an empty list to hold sample means\n",
    "sample_means = []\n",
    "\n",
    "# Repeat 30 times to simulate 30 random samples\n",
    "for i in range(30):\n",
    "    # Randomly select 20 deals (with replacement) from the company's data\n",
    "    cur_sample = all_deals['num_users'].sample(20, replace=True)\n",
    "    \n",
    "    # Calculate the mean number of users in the current sample\n",
    "    cur_mean = np.mean(cur_sample)\n",
    "    \n",
    "    # Store the result in the sample_means list\n",
    "    sample_means.append(cur_mean)\n",
    "\n",
    "# Calculate and print the average of the 30 sample means (estimate of company-wide average)\n",
    "print(\"Estimated company average (from samples):\", np.mean(sample_means))\n",
    "\n",
    "# Print Amir's actual average number of users per deal\n",
    "print(\"Amir's average:\", np.mean(amir_deals['num_users']))"
   ]
  },
  {
   "cell_type": "markdown",
   "id": "f33ebec2-2a84-474a-97c9-9e749ccae011",
   "metadata": {},
   "source": [
    "# 📊 Poisson Distribution\n",
    "The Poisson distribution is used to model the number of times an event happens in a fixed interval of time or space — like per hour, per day, per page, etc. — when the events are rare and happen independently of each other.\n",
    "\n",
    "## 📌 Conditions:\n",
    "**Use Poisson when:**\n",
    "\n",
    "* Events happen independently of each other.\n",
    "* Events happen at a constant average rate.\n",
    "* You're counting how many times something happens in a fixed window of time, space, or opportunit\n",
    "  \n",
    "## 📦 Real-Life Examples:\n",
    "* Calls at a help desk: How many calls do you get per hour?\n",
    "* Bus arrivals: How many buses arrive in 30 minutes?\n",
    "* Website crashes: How often does a server crash in a day?\n",
    "* Sales leads: How many random walk-in customers does Amir get per day?"
   ]
  },
  {
   "cell_type": "code",
   "execution_count": 71,
   "id": "68e6a1ee-0540-4deb-aaa7-1e55753ddbc3",
   "metadata": {},
   "outputs": [
    {
     "name": "stdout",
     "output_type": "stream",
     "text": [
      "0.18044704431548356\n"
     ]
    }
   ],
   "source": [
    "from scipy.stats import poisson\n",
    "\n",
    "# poisson.pmf(k, mu)\n",
    "# k = number of occurrences we're calculating the probability for (in this case, 3 walk-ins)\n",
    "# mu = average number of occurrences (in this case, 2 walk-ins per hour)\n",
    "\n",
    "# Probability of getting exactly 3 walk-ins in an hour when the average is 2\n",
    "prob_3_walkins = poisson.pmf(3, 2)\n",
    "\n",
    "print(prob_3_walkins)"
   ]
  },
  {
   "cell_type": "markdown",
   "id": "a4309327-0a3d-4b61-92e9-ed179b752513",
   "metadata": {},
   "source": [
    "## 🧠 Tracking lead responses\n",
    "\n",
    "Your company uses a tool to track **sales leads** (potential customers).  \n",
    "These leads are put into a **queue** — like a list — so that salespeople (like Amir) can follow up when they have time.\n",
    "\n",
    "---\n",
    "\n",
    "## 🔢 Why Poisson distribution?\n",
    "\n",
    "- **Poisson distribution** is used when you’re counting how many times something happens **in a certain time period**.\n",
    "- Examples: how many people walk into a store in an hour, or how many emails you get in a day.\n",
    "- In this case, you're **counting the number of sales leads Amir responds to in a day**.\n",
    "- Since this is a **count over time**, it fits the **Poisson** model.\n",
    "\n",
    "---\n",
    "\n",
    "## 💡 Amir’s Example\n",
    "\n",
    "- Amir **responds to 4 leads per day** on average.\n",
    "- Using Poisson distribution, you can calculate things like:\n",
    "  - What's the chance Amir responds to **exactly 2 leads** today?\n",
    "  - What's the chance he responds to **5 or more leads**?\n",
    "  - What's the most likely number of leads he'll respond to?"
   ]
  },
  {
   "cell_type": "code",
   "execution_count": 75,
   "id": "3cfaaa0a-2fde-4970-ac0d-e9b22d688473",
   "metadata": {},
   "outputs": [
    {
     "name": "stdout",
     "output_type": "stream",
     "text": [
      "0.1562934518505317\n"
     ]
    }
   ],
   "source": [
    "# Import poisson from scipy.stats\n",
    "from scipy.stats import poisson\n",
    "\n",
    "# Probability of 5 responses\n",
    "# calculate the probability that Amir responds to 5 leads in a day, given that he responds to an average of 4.\n",
    "prob_5 = poisson.pmf(5, 4)\n",
    "\n",
    "print(prob_5)"
   ]
  },
  {
   "cell_type": "code",
   "execution_count": 79,
   "id": "47c83d2a-eea8-4168-8e1e-a8fe8ebe5c35",
   "metadata": {},
   "outputs": [
    {
     "name": "stdout",
     "output_type": "stream",
     "text": [
      "0.17140068409793663\n"
     ]
    }
   ],
   "source": [
    "# Import poisson from scipy.stats\n",
    "from scipy.stats import poisson\n",
    "\n",
    "# Probability of 5 responses\n",
    "# Amir's coworker responds to an average of 5.5 leads per day. \n",
    "# What is the probability that she answers 5 leads in a day?\n",
    "prob_coworker = poisson.pmf(5, 5.5)\n",
    "\n",
    "print(prob_coworker)"
   ]
  },
  {
   "cell_type": "code",
   "execution_count": 81,
   "id": "da6e5085-0b5f-4395-afd6-1468c7e8ed65",
   "metadata": {},
   "outputs": [
    {
     "name": "stdout",
     "output_type": "stream",
     "text": [
      "0.23810330555354436\n"
     ]
    }
   ],
   "source": [
    "# Import poisson from scipy.stats\n",
    "from scipy.stats import poisson\n",
    "\n",
    "# Probability of 2 or fewer responses\n",
    "# What's the probability that Amir responds to 2 or fewer leads in a day?\n",
    "prob_2_or_less = poisson.cdf(2, 4)\n",
    "\n",
    "print(prob_2_or_less)"
   ]
  },
  {
   "cell_type": "code",
   "execution_count": 83,
   "id": "14b2ba24-00e1-4aa0-9cbc-c99f9b40e198",
   "metadata": {},
   "outputs": [
    {
     "name": "stdout",
     "output_type": "stream",
     "text": [
      "0.0028397661205137315\n"
     ]
    }
   ],
   "source": [
    "# Import poisson from scipy.stats\n",
    "from scipy.stats import poisson\n",
    "\n",
    "# Probability of > 10 responses\n",
    "# What's the probability that Amir responds to more than 10 leads in a day?\n",
    "prob_over_10 = 1 - poisson.cdf(10, 4)\n",
    "\n",
    "print(prob_over_10)"
   ]
  },
  {
   "cell_type": "markdown",
   "id": "cec452d2-894c-472c-b688-6c0cea483faf",
   "metadata": {},
   "source": [
    "# 📊 Exponential Distribution\n",
    "\n",
    "The **Exponential Distribution** models the **time between events** in a process where the events occur **continuously and independently**.\n",
    "\n",
    "---\n",
    "\n",
    "#### 🔁 Real-life Example:\n",
    "\n",
    "Imagine Amir receives a new sales lead **every 15 minutes on average**.\n",
    "\n",
    "We can use exponential distribution to answer:\n",
    "\n",
    "- ⏱️ What's the probability he gets the next lead **in less than 10 minutes**?\n",
    "- 🕒 What’s the chance it takes **more than 20 minutes**?\n",
    "\n",
    "---\n",
    "\n",
    "#### 💡 Why use it?\n",
    "\n",
    "Use exponential distribution when:\n",
    "- You're measuring **how long** until something happens.\n",
    "- Events happen **randomly** but at a **constant rate**.\n",
    "\n",
    "It’s commonly used in:\n",
    "- Waiting times\n",
    "- Queueing systems\n",
    "- Time until machine failure\n"
   ]
  },
  {
   "cell_type": "markdown",
   "id": "d64d59bb-0cfe-4cd0-a226-d40e351d1e5f",
   "metadata": {},
   "source": [
    "## Modeling time between leads\n",
    "To further evaluate Amir's performance, you want to know how much time it takes him to respond to a lead after he opens it. On average, he responds to 1 request every 2.5 hours. In this exercise, you'll calculate probabilities of different amounts of time passing between Amir receiving a lead and sending a response."
   ]
  },
  {
   "cell_type": "code",
   "execution_count": 89,
   "id": "019c4a43-91a7-46e8-b38e-8b2b6941f5ab",
   "metadata": {},
   "outputs": [
    {
     "name": "stdout",
     "output_type": "stream",
     "text": [
      "0.3296799539643607\n"
     ]
    }
   ],
   "source": [
    "# Import expon from scipy.stats\n",
    "from scipy.stats import expon\n",
    "\n",
    "# Print probability response takes < 1 hour\n",
    "# What's the probability it takes Amir less than an hour to respond to a lead?\n",
    "print(expon.cdf(1, scale=2.5))"
   ]
  },
  {
   "cell_type": "code",
   "execution_count": 91,
   "id": "f1b174a4-44a3-4a8c-833f-9c7037094e26",
   "metadata": {},
   "outputs": [
    {
     "name": "stdout",
     "output_type": "stream",
     "text": [
      "0.20189651799465536\n"
     ]
    }
   ],
   "source": [
    "# Import expon from scipy.stats\n",
    "from scipy.stats import expon\n",
    "\n",
    "# Print probability response takes > 4 hours\n",
    "# What's the probability it takes Amir more than 4 hours to respond to a lead?\n",
    "print(1 - expon.cdf(4, scale=2.5))"
   ]
  },
  {
   "cell_type": "code",
   "execution_count": 93,
   "id": "1b7896d2-f1cd-443e-b97e-42fdd9245817",
   "metadata": {},
   "outputs": [
    {
     "name": "stdout",
     "output_type": "stream",
     "text": [
      "0.09929769391754684\n"
     ]
    }
   ],
   "source": [
    "# Import expon from scipy.stats\n",
    "from scipy.stats import expon\n",
    "\n",
    "# Print probability response takes 3-4 hours\n",
    "# What's the probability it takes Amir 3-4 hours to respond to a lead?\n",
    "print(expon.cdf(4, scale=2.5) - expon.cdf(3, scale=2.5))"
   ]
  },
  {
   "cell_type": "markdown",
   "id": "855c3e3d-8887-4bc9-a1c2-55ba15955363",
   "metadata": {},
   "source": [
    "# 📊 What is the t-distribution?\n",
    "\n",
    "The **t-distribution** is a probability distribution used in statistics, especially when dealing with **small samples** and **unknown population standard deviation**.\n",
    "\n",
    "---\n",
    "\n",
    "#### 🧪 When do we use it?\n",
    "\n",
    "- Sample size is small (e.g., less than 30)\n",
    "- Population standard deviation is unknown\n",
    "- You are estimating the mean or doing hypothesis tests (like a t-test)\n",
    "\n",
    "---\n",
    "\n",
    "#### 🧠 Key facts:\n",
    "\n",
    "- Looks like a normal distribution but with **fatter tails**\n",
    "- Accounts for **extra uncertainty** in small samples\n",
    "- As sample size increases, it gets **closer to the normal distribution**\n",
    "\n",
    "---\n",
    "\n",
    "#### 📈 Example:\n",
    "\n",
    "You test a new product with **10 users** and want to know if their average rating is significantly different from 5.\n",
    "\n",
    "✅ Use the **t-distribution** to:\n",
    "\n",
    "- Build a confidence interval around the average\n",
    "- Do a t-test to compare it to the expected value\n"
   ]
  },
  {
   "cell_type": "code",
   "execution_count": null,
   "id": "e79e3bef-c657-4130-b847-307f67141d7e",
   "metadata": {},
   "outputs": [],
   "source": []
  },
  {
   "cell_type": "markdown",
   "id": "c15333f8-a02c-412d-9a3e-527eb356f218",
   "metadata": {},
   "source": [
    "# 📊 Log-normal Distribution?\n",
    "\n",
    "A **log-normal distribution** is a probability distribution of a random variable whose **logarithm** is normally distributed.\n",
    "\n",
    "---\n",
    "\n",
    "#### 🔍 Why is it called \"log-normal\"?\n",
    "\n",
    "- If you **take the logarithm** of a log-normally distributed variable, the resulting values follow a **normal distribution**.\n",
    "- It’s commonly used when modeling variables resulting from the **product of many independent factors**.\n",
    "\n",
    "---\n",
    "\n",
    "#### ⚖️ Key Characteristics:\n",
    "\n",
    "- **Positively skewed** with a **long right tail**.\n",
    "- Only defined for **positive values** (it cannot take negative values).\n",
    "- Often used to model variables like **stock prices**, **income distributions**, and **sizes of particles**.\n",
    "\n",
    "---\n",
    "\n",
    "#### 📈 Example:\n",
    "\n",
    "- **Stock Prices**: Stock prices can’t go below zero, and they typically follow a **log-normal distribution**.\n",
    "- **Income Distributions**: People’s incomes often follow a **log-normal distribution**, as income tends to be the result of various factors multiplied together.\n"
   ]
  },
  {
   "cell_type": "markdown",
   "id": "6859bf7c-4f60-44b8-bf2d-c71d369f6b4a",
   "metadata": {},
   "source": [
    "# 📊 Correlation: Relationships between variables\n",
    "## Context:\n",
    "You’re working with data from the `2019 World Happiness Report`.\n",
    "Each country in the dataset has a `happiness score` based on factors like:\n",
    "\n",
    "* Social support\n",
    "* Freedom\n",
    "* Corruption\n",
    "* GDP per capita\n",
    "* Life expectancy\n",
    "* Others.\n",
    "\n",
    "## Goal of the Exercise\n",
    "You're being asked to analyze the **relationship** between two specific variables:\n",
    "\n",
    "* Life expectancy (life_exp)\n",
    "* Happiness score (happiness_score)"
   ]
  },
  {
   "cell_type": "code",
   "execution_count": 9,
   "id": "760c64ad-582e-4cba-a7ea-f39bd9ffd731",
   "metadata": {},
   "outputs": [
    {
     "data": {
      "text/plain": [
       "['.dataframe.ipynb.layout',\n",
       " '.ipynb_checkpoints',\n",
       " 'amir_deals.csv',\n",
       " 'cars.csv',\n",
       " 'dataframe.ipynb',\n",
       " 'data_manipulation_with_pd.ipynb',\n",
       " 'distributionmethods.ipynb',\n",
       " 'food_consumption.csv',\n",
       " 'joining_data_with_pd.ipynb',\n",
       " 'netflixproject.ipynb',\n",
       " 'netflix_data.csv',\n",
       " 'probability.ipynb',\n",
       " 'schools.csv',\n",
       " 'schoolsproject.ipynb',\n",
       " 'statisticsinpython.ipynb',\n",
       " 'world_happiness.csv']"
      ]
     },
     "execution_count": 9,
     "metadata": {},
     "output_type": "execute_result"
    }
   ],
   "source": [
    "# Import the os module which provides functions for interacting with the operating system\n",
    "import os\n",
    "# List all files and directories in the current working directory and return them as a list\n",
    "os.listdir()"
   ]
  },
  {
   "cell_type": "code",
   "execution_count": 15,
   "id": "b8b489eb-cc25-4f51-935a-ff87099fa5b0",
   "metadata": {},
   "outputs": [],
   "source": [
    "import pandas as pd\n",
    "world_happiness = pd.read_csv('world_happiness.csv')"
   ]
  },
  {
   "cell_type": "code",
   "execution_count": 17,
   "id": "8762198f-e7fb-477f-9325-7b539f73c2d0",
   "metadata": {},
   "outputs": [
    {
     "name": "stdout",
     "output_type": "stream",
     "text": [
      "(143, 9)\n"
     ]
    }
   ],
   "source": [
    "print(world_happiness.shape)"
   ]
  },
  {
   "cell_type": "code",
   "execution_count": 25,
   "id": "1e5bd1ba-6fb1-4142-98ce-76cc4d0fa1b8",
   "metadata": {},
   "outputs": [
    {
     "name": "stdout",
     "output_type": "stream",
     "text": [
      "Index(['Unnamed: 0', 'country', 'social_support', 'freedom', 'corruption',\n",
      "       'generosity', 'gdp_per_cap', 'life_exp', 'happiness_score'],\n",
      "      dtype='object')\n"
     ]
    }
   ],
   "source": [
    "# print(world_happiness.info())\n",
    "print(world_happiness.columns)"
   ]
  },
  {
   "cell_type": "code",
   "execution_count": 23,
   "id": "2c15f617-3656-41c7-a9ef-d3b99af50d9f",
   "metadata": {},
   "outputs": [
    {
     "data": {
      "text/html": [
       "<div>\n",
       "<style scoped>\n",
       "    .dataframe tbody tr th:only-of-type {\n",
       "        vertical-align: middle;\n",
       "    }\n",
       "\n",
       "    .dataframe tbody tr th {\n",
       "        vertical-align: top;\n",
       "    }\n",
       "\n",
       "    .dataframe thead th {\n",
       "        text-align: right;\n",
       "    }\n",
       "</style>\n",
       "<table border=\"1\" class=\"dataframe\">\n",
       "  <thead>\n",
       "    <tr style=\"text-align: right;\">\n",
       "      <th></th>\n",
       "      <th>Unnamed: 0</th>\n",
       "      <th>country</th>\n",
       "      <th>social_support</th>\n",
       "      <th>freedom</th>\n",
       "      <th>corruption</th>\n",
       "      <th>generosity</th>\n",
       "      <th>gdp_per_cap</th>\n",
       "      <th>life_exp</th>\n",
       "      <th>happiness_score</th>\n",
       "    </tr>\n",
       "  </thead>\n",
       "  <tbody>\n",
       "    <tr>\n",
       "      <th>0</th>\n",
       "      <td>1</td>\n",
       "      <td>Finland</td>\n",
       "      <td>2.0</td>\n",
       "      <td>5.0</td>\n",
       "      <td>4.0</td>\n",
       "      <td>47.0</td>\n",
       "      <td>42400</td>\n",
       "      <td>81.8</td>\n",
       "      <td>155</td>\n",
       "    </tr>\n",
       "    <tr>\n",
       "      <th>1</th>\n",
       "      <td>2</td>\n",
       "      <td>Denmark</td>\n",
       "      <td>4.0</td>\n",
       "      <td>6.0</td>\n",
       "      <td>3.0</td>\n",
       "      <td>22.0</td>\n",
       "      <td>48300</td>\n",
       "      <td>81.0</td>\n",
       "      <td>154</td>\n",
       "    </tr>\n",
       "    <tr>\n",
       "      <th>2</th>\n",
       "      <td>3</td>\n",
       "      <td>Norway</td>\n",
       "      <td>3.0</td>\n",
       "      <td>3.0</td>\n",
       "      <td>8.0</td>\n",
       "      <td>11.0</td>\n",
       "      <td>66300</td>\n",
       "      <td>82.6</td>\n",
       "      <td>153</td>\n",
       "    </tr>\n",
       "    <tr>\n",
       "      <th>3</th>\n",
       "      <td>4</td>\n",
       "      <td>Iceland</td>\n",
       "      <td>1.0</td>\n",
       "      <td>7.0</td>\n",
       "      <td>45.0</td>\n",
       "      <td>3.0</td>\n",
       "      <td>47900</td>\n",
       "      <td>83.0</td>\n",
       "      <td>152</td>\n",
       "    </tr>\n",
       "    <tr>\n",
       "      <th>4</th>\n",
       "      <td>5</td>\n",
       "      <td>Netherlands</td>\n",
       "      <td>15.0</td>\n",
       "      <td>19.0</td>\n",
       "      <td>12.0</td>\n",
       "      <td>7.0</td>\n",
       "      <td>50500</td>\n",
       "      <td>81.8</td>\n",
       "      <td>151</td>\n",
       "    </tr>\n",
       "  </tbody>\n",
       "</table>\n",
       "</div>"
      ],
      "text/plain": [
       "   Unnamed: 0      country  social_support  freedom  corruption  generosity  \\\n",
       "0           1      Finland             2.0      5.0         4.0        47.0   \n",
       "1           2      Denmark             4.0      6.0         3.0        22.0   \n",
       "2           3       Norway             3.0      3.0         8.0        11.0   \n",
       "3           4      Iceland             1.0      7.0        45.0         3.0   \n",
       "4           5  Netherlands            15.0     19.0        12.0         7.0   \n",
       "\n",
       "   gdp_per_cap  life_exp  happiness_score  \n",
       "0        42400      81.8              155  \n",
       "1        48300      81.0              154  \n",
       "2        66300      82.6              153  \n",
       "3        47900      83.0              152  \n",
       "4        50500      81.8              151  "
      ]
     },
     "execution_count": 23,
     "metadata": {},
     "output_type": "execute_result"
    }
   ],
   "source": [
    "world_happiness.head()"
   ]
  },
  {
   "cell_type": "code",
   "execution_count": 27,
   "id": "5668c459-9bb2-4b77-922a-e139e403341e",
   "metadata": {},
   "outputs": [
    {
     "data": {
      "image/png": "[encoded data removed]",
      "text/plain": [
       "<Figure size 640x480 with 1 Axes>"
      ]
     },
     "metadata": {},
     "output_type": "display_data"
    }
   ],
   "source": [
    "import matplotlib.pyplot as plt\n",
    "import seaborn as sns\n",
    "sns.scatterplot(data=world_happiness, x='life_exp', y='happiness_score')\n",
    "plt.title('Life Expectancy vs Happiness Score')\n",
    "plt.xlabel('Life Expectancy')\n",
    "plt.ylabel('Happiness Score')\n",
    "plt.show()"
   ]
  },
  {
   "cell_type": "raw",
   "id": "be450be6-98a5-4a08-9543-bd0f7008a299",
   "metadata": {},
   "source": [
    "sns.regplot(data=world_happiness, x='life_exp', y='happiness_score')\n",
    "plt.title('Regression: Life Expectancy vs Happiness Score')\n",
    "plt.show()"
   ]
  },
  {
   "cell_type": "code",
   "execution_count": 33,
   "id": "b12aa356-02cb-44f7-a81d-52400c161af2",
   "metadata": {},
   "outputs": [
    {
     "data": {
      "image/png": "[encoded data removed]",
      "text/plain": [
       "<Figure size 500x500 with 1 Axes>"
      ]
     },
     "metadata": {},
     "output_type": "display_data"
    }
   ],
   "source": [
    "# Create scatterplot of happiness_score vs life_exp with trendline\n",
    "# The lmplot() function in Seaborn stands for \"linear model plot.\n",
    "# It combines a scatterplot with a regression line to show the relationship between two variables.\n",
    "# It combines a scatterplot with a regression line to show the relationship between two variables.\n",
    "\n",
    "# ci stands for confidence interval.\n",
    "# By default, Seaborn adds a shaded band around the regression line to show the 95% confidence interval of the prediction.\n",
    "# ci=None tells Seaborn not to draw this shaded area.\n",
    "# This makes the plot cleaner if you only care about the trendline, not the uncertainty.\n",
    "sns.lmplot(data=world_happiness, x='life_exp', y='happiness_score', ci=None)\n",
    "\n",
    "# Add title and axis labels\n",
    "plt.title('Life Expectancy vs Happiness Score')\n",
    "plt.xlabel('Life Expectancy')\n",
    "plt.ylabel('Happiness Score')\n",
    "\n",
    "# Show the plot\n",
    "plt.show()"
   ]
  },
  {
   "cell_type": "code",
   "execution_count": 44,
   "id": "7875b4d6-cdb1-4792-952c-945656e2c8ae",
   "metadata": {},
   "outputs": [
    {
     "name": "stdout",
     "output_type": "stream",
     "text": [
      "Correlation between life expectancy and happiness score: 0.78\n"
     ]
    }
   ],
   "source": [
    "# Calculate the correlation between life_exp and happiness_score. Save this as cor.\n",
    "correlation = world_happiness['life_exp'].corr(world_happiness['happiness_score'])\n",
    "\n",
    "# :.2f formats and rounds to 2 decimal places.\n",
    "print(f\"Correlation between life expectancy and happiness score: {correlation:.2f}\")"
   ]
  },
  {
   "cell_type": "markdown",
   "id": "457cfba6-f4eb-432a-ae39-7f03903dafea",
   "metadata": {},
   "source": [
    "**correlation coefficient**:\n",
    "* A value close to +1 → strong positive correlation.\n",
    "* Close to 0 → no correlation.\n",
    "* Close to -1 → strong negative correlation."
   ]
  },
  {
   "cell_type": "code",
   "execution_count": 47,
   "id": "725e9783-495c-44ec-92f6-96f97f851a6c",
   "metadata": {},
   "outputs": [
    {
     "data": {
      "image/png": "[encoded data removed]",
      "text/plain": [
       "<Figure size 640x480 with 1 Axes>"
      ]
     },
     "metadata": {},
     "output_type": "display_data"
    }
   ],
   "source": [
    "# Scatterplot of gdp_per_cap and life_exp\n",
    "sns.scatterplot(x='gdp_per_cap', y='life_exp', data=world_happiness)\n",
    "plt.title('gdp_per_cap vs. life_exp')\n",
    "plt.xlabel('gdp_per_cap')\n",
    "plt.ylabel('life_exp')\n",
    "# Show plot\n",
    "plt.show()"
   ]
  },
  {
   "cell_type": "code",
   "execution_count": 51,
   "id": "9017ceb6-b00c-4ed5-9c66-fb00b27260be",
   "metadata": {},
   "outputs": [
    {
     "name": "stdout",
     "output_type": "stream",
     "text": [
      "0.7019547642148012\n"
     ]
    }
   ],
   "source": [
    "# Correlation between gdp_per_cap and life_exp\n",
    "cor = world_happiness['gdp_per_cap'].corr(world_happiness['life_exp'])\n",
    "\n",
    "print(cor)"
   ]
  },
  {
   "cell_type": "markdown",
   "id": "babf073d-23b0-4bd0-bfd2-c243beb9c62a",
   "metadata": {},
   "source": [
    "The `correlation coefficient (usually Pearson’s r)` only measures `linear relationships` between two variables.\n",
    "That means it only captures how well the data points fall along a **straight line**.\n",
    "\n",
    "So when we say:\n",
    "\n",
    "> \"The correlation coefficient can't account for any relationships that aren't linear, regardless of strength.\"\n",
    "We mean:\n",
    "\n",
    "If the relationship is curved (like a `U-shape`, `parabola`, or `exponential`), the `correlation coefficient` won’t detect it properly.\n",
    "\n",
    "Even if the variables are strongly related in a `non-linear` way, Pearson’s correlation might be `low` or `close to zero` — misleading you into thinking there’s no relationship."
   ]
  },
  {
   "cell_type": "markdown",
   "id": "8ffb1712-ffb0-45d1-86a6-4b4523e49f60",
   "metadata": {},
   "source": [
    "## Transforming variables\n",
    "When variables have skewed distributions, they often require a transformation in order to form a linear relationship with another variable so that correlation can be computed. In this exercise, you'll perform a transformation yourself."
   ]
  },
  {
   "cell_type": "code",
   "execution_count": 56,
   "id": "4a0ea86a-cbaa-418c-8961-c155e13bf71f",
   "metadata": {},
   "outputs": [
    {
     "data": {
      "image/png": "[encoded data removed]",
      "text/plain": [
       "<Figure size 640x480 with 1 Axes>"
      ]
     },
     "metadata": {},
     "output_type": "display_data"
    },
    {
     "name": "stdout",
     "output_type": "stream",
     "text": [
      "0.727973301222298\n"
     ]
    }
   ],
   "source": [
    "# Scatterplot of happiness_score vs. gdp_per_cap\n",
    "sns.scatterplot(data=world_happiness, x='gdp_per_cap', y='happiness_score')\n",
    "plt.show()\n",
    "\n",
    "# Calculate correlation\n",
    "cor = world_happiness['happiness_score'].corr(world_happiness['gdp_per_cap'])\n",
    "print(cor)"
   ]
  },
  {
   "cell_type": "code",
   "execution_count": 68,
   "id": "4fd18eab-08ed-4b3a-aef9-415b5a6befd5",
   "metadata": {},
   "outputs": [
    {
     "data": {
      "image/png": "[encoded data removed]",
      "text/plain": [
       "<Figure size 640x480 with 1 Axes>"
      ]
     },
     "metadata": {},
     "output_type": "display_data"
    },
    {
     "name": "stdout",
     "output_type": "stream",
     "text": [
      "0.8043146004918289\n"
     ]
    }
   ],
   "source": [
    "# Create a new column 'log_gdp_per_cap' by applying a log transformation\n",
    "# This helps reduce skewness in the 'gdp_per_cap' variable and can reveal a more linear relationship\n",
    "world_happiness['log_gdp_per_cap'] = np.log(world_happiness['gdp_per_cap'])\n",
    "\n",
    "# Create a scatterplot to visualize the relationship between log-transformed GDP per capita\n",
    "# and happiness score. This helps us see if there's a visible pattern or trend.\n",
    "sns.scatterplot(data=world_happiness, x='log_gdp_per_cap', y='happiness_score')\n",
    "\n",
    "# Display the plot\n",
    "plt.show()\n",
    "\n",
    "# Calculate the Pearson correlation coefficient between log-transformed GDP and happiness score\n",
    "# This gives a numerical value indicating the strength and direction of the linear relationship\n",
    "cor = world_happiness['happiness_score'].corr(world_happiness['log_gdp_per_cap'])\n",
    "\n",
    "# Print the correlation value\n",
    "print(cor)\n"
   ]
  },
  {
   "cell_type": "code",
   "execution_count": 72,
   "id": "e6925203-402a-43f0-ad1d-a943eeecfc7a",
   "metadata": {},
   "outputs": [
    {
     "data": {
      "text/plain": [
       "6.907755278982137"
      ]
     },
     "execution_count": 72,
     "metadata": {},
     "output_type": "execute_result"
    }
   ],
   "source": [
    "np.log(1000)"
   ]
  },
  {
   "cell_type": "code",
   "execution_count": 74,
   "id": "722932d2-7856-4dc8-a74d-af1e92a2a290",
   "metadata": {},
   "outputs": [
    {
     "data": {
      "text/plain": [
       "8.517193191416238"
      ]
     },
     "execution_count": 74,
     "metadata": {},
     "output_type": "execute_result"
    }
   ],
   "source": [
    "np.log(5000)"
   ]
  },
  {
   "cell_type": "markdown",
   "id": "e207c93d-090e-41e2-a47b-6d781ba7190e",
   "metadata": {},
   "source": [
    "# ✅ Controlled Experiment\n",
    "\n",
    "This is when **researchers actively manipulate** one or more variables to see the effect on another variable.\n",
    "\n",
    "#### Key Features:\n",
    "- **Treatment group vs. control group**\n",
    "- Participants are usually **randomly assigned** to groups\n",
    "- The researcher **controls** what happens\n",
    "\n",
    "#### Example:\n",
    "A scientist wants to test if a new drug improves memory.\n",
    "- One group gets the **drug** (treatment)\n",
    "- Another group gets a **placebo** (control)\n",
    "- Everything else (like age, diet, sleep) is kept the **same** as much as possible\n",
    "\n",
    "> 🧪 This is the gold standard for **causal conclusions** — if done well, you can say the drug **caused** the effect.\n",
    "\n",
    "---\n",
    "\n",
    "### 👀 **Observational Study**\n",
    "\n",
    "Here, the researcher simply **observes** and records data — no manipulation is involved.\n",
    "\n",
    "#### Key Features:\n",
    "- No random assignment\n",
    "- Just watching what’s already happening\n",
    "- Often used when experiments are **unethical or impractical**\n",
    "\n",
    "#### Example:\n",
    "A researcher studies whether smokers have higher rates of lung disease.\n",
    "- They don't tell people to smoke or not\n",
    "- They just **observe** existing smokers and non-smokers and compare outcomes\n",
    "\n",
    "> 🔍 You can find **associations**, but it’s harder to prove **cause-and-effect** because of **confounding variables** (other factors influencing results).\n",
    "\n",
    "---\n",
    "\n",
    "### 🆚 Summary Table:\n",
    "\n",
    "| Feature                  | Controlled Experiment        | Observational Study           |\n",
    "|--------------------------|------------------------------|-------------------------------|\n",
    "| Manipulates variables?   | ✅ Yes                        | ❌ No                          |\n",
    "| Random assignment?       | ✅ Usually                   | ❌ No                          |\n",
    "| Can show causation?      | ✅ Yes (if well-designed)    | ⚠️ No (only correlation)      |\n",
    "| Example                  | Drug trial                   | Smoking & lung disease study  |\n"
   ]
  },
  {
   "cell_type": "markdown",
   "id": "12d2dc86-5d91-42b2-92ac-47c90ab07246",
   "metadata": {},
   "source": [
    "# 📅 Longitudinal Study\n",
    "\n",
    "A study that **follows the same subjects over time** — collecting data from them at multiple points.\n",
    "\n",
    "#### Key Features:\n",
    "- Tracks changes **over time**\n",
    "- Can span **months, years, or even decades**\n",
    "- Useful for understanding **cause-and-effect** or how something **develops** over time\n",
    "\n",
    "#### Example:\n",
    "Researchers follow a group of 1,000 teenagers from age 13 to 18 to study how social media use affects mental health.\n",
    "\n",
    "> 🔁 Like a movie — it captures **changes** and **trends**.\n",
    "\n",
    "---\n",
    "\n",
    "### 📸 **Cross-sectional Study**\n",
    "\n",
    "A study that collects data from **many subjects at one point in time** — like taking a snapshot.\n",
    "\n",
    "#### Key Features:\n",
    "- **One-time** data collection\n",
    "- Good for measuring **prevalence** or comparing **different groups**\n",
    "- Cheaper and faster than longitudinal studies\n",
    "\n",
    "#### Example:\n",
    "A survey asks 5,000 adults in different age groups how many hours they sleep each night.\n",
    "\n",
    "> 📷 Like a photograph — it captures a **single moment**.\n",
    "\n",
    "---\n",
    "\n",
    "### 🆚 Summary Table:\n",
    "\n",
    "| Feature                      | Longitudinal Study               | Cross-sectional Study            |\n",
    "|------------------------------|----------------------------------|----------------------------------|\n",
    "| Timeframe                    | Over time (repeated measures)    | One-time snapshot                |\n",
    "| Purpose                      | Track changes, observe trends    | Compare groups, describe status  |\n",
    "| Subjects                     | Same individuals over time       | Different individuals            |\n",
    "| Cost & Duration              | Higher cost, time-consuming      | Lower cost, quick to conduct     |\n",
    "| Can detect cause-effect?     | Possibly, with careful design    | No (just association)            |\n",
    "| Example                      | Teen mental health over 5 years  | Sleep habits across age groups   |"
   ]
  },
  {
   "cell_type": "code",
   "execution_count": null,
   "id": "f8a967f1-0484-48d2-ae7e-cf1485aabd71",
   "metadata": {},
   "outputs": [],
   "source": []
  }
 ],
 "metadata": {
  "kernelspec": {
   "display_name": "Python 3 (ipykernel)",
   "language": "python",
   "name": "python3"
  },
  "language_info": {
   "codemirror_mode": {
    "name": "ipython",
    "version": 3
   },
   "file_extension": ".py",
   "mimetype": "text/x-python",
   "name": "python",
   "nbconvert_exporter": "python",
   "pygments_lexer": "ipython3",
   "version": "3.12.4"
  }
 },
 "nbformat": 4,
 "nbformat_minor": 5
}
